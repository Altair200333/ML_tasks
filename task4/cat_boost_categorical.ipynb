{
 "cells": [
  {
   "cell_type": "code",
   "execution_count": 64,
   "metadata": {
    "collapsed": true
   },
   "outputs": [
    {
     "name": "stdout",
     "output_type": "stream",
     "text": [
      "The autoreload extension is already loaded. To reload it, use:\n",
      "  %reload_ext autoreload\n"
     ]
    }
   ],
   "source": [
    "import matplotlib.pyplot as plt\n",
    "import seaborn as sns\n",
    "import pandas as pd\n",
    "import numpy as np\n",
    "import warnings\n",
    "from sklearn.model_selection import train_test_split\n",
    "import xgboost as xgb\n",
    "from sklearn.preprocessing import OneHotEncoder\n",
    "from sklearn.model_selection import GridSearchCV\n",
    "from sklearn.model_selection import cross_val_score\n",
    "from sklearn import metrics\n",
    "from data_processing import *\n",
    "from sklearn.preprocessing import MinMaxScaler\n",
    "from sklearn.impute import SimpleImputer\n",
    "from sklearn.preprocessing import StandardScaler\n",
    "from sklearn.ensemble import RandomForestRegressor\n",
    "from data_transformar import *\n",
    "import lightgbm as lgb\n",
    "from sklearn.decomposition import PCA\n",
    "from catboost import CatBoostRegressor, Pool\n",
    "\n",
    "warnings.simplefilter(\"ignore\")\n",
    "%matplotlib inline\n",
    "%load_ext autoreload\n",
    "%autoreload 2\n",
    "\n",
    "sns.set(style=\"darkgrid\")"
   ]
  },
  {
   "cell_type": "code",
   "execution_count": 16,
   "outputs": [],
   "source": [
    "from sklearn.metrics import mean_squared_error\n",
    "\n",
    "def rmsle(y, y_pred):\n",
    "    return np.sqrt(mean_squared_error(y, y_pred))"
   ],
   "metadata": {
    "collapsed": false,
    "pycharm": {
     "name": "#%%\n"
    }
   }
  },
  {
   "cell_type": "code",
   "execution_count": 2,
   "outputs": [],
   "source": [
    "data = pd.read_csv(\"./train.csv\")\n",
    "data = data.drop(columns=[\"Id\"])"
   ],
   "metadata": {
    "collapsed": false,
    "pycharm": {
     "name": "#%%\n"
    }
   }
  },
  {
   "cell_type": "code",
   "execution_count": 3,
   "outputs": [
    {
     "name": "stdout",
     "output_type": "stream",
     "text": [
      "(1460, 79)\n"
     ]
    },
    {
     "data": {
      "text/plain": "   MSSubClass MSZoning  LotFrontage  LotArea Street Alley LotShape  \\\n0          60       RL         65.0     8450   Pave   NaN      Reg   \n1          20       RL         80.0     9600   Pave   NaN      Reg   \n2          60       RL         68.0    11250   Pave   NaN      IR1   \n3          70       RL         60.0     9550   Pave   NaN      IR1   \n4          60       RL         84.0    14260   Pave   NaN      IR1   \n\n  LandContour Utilities LotConfig  ... ScreenPorch PoolArea PoolQC Fence  \\\n0         Lvl    AllPub    Inside  ...           0        0    NaN   NaN   \n1         Lvl    AllPub       FR2  ...           0        0    NaN   NaN   \n2         Lvl    AllPub    Inside  ...           0        0    NaN   NaN   \n3         Lvl    AllPub    Corner  ...           0        0    NaN   NaN   \n4         Lvl    AllPub       FR2  ...           0        0    NaN   NaN   \n\n  MiscFeature MiscVal  MoSold  YrSold  SaleType  SaleCondition  \n0         NaN       0       2    2008        WD         Normal  \n1         NaN       0       5    2007        WD         Normal  \n2         NaN       0       9    2008        WD         Normal  \n3         NaN       0       2    2006        WD        Abnorml  \n4         NaN       0      12    2008        WD         Normal  \n\n[5 rows x 79 columns]",
      "text/html": "<div>\n<style scoped>\n    .dataframe tbody tr th:only-of-type {\n        vertical-align: middle;\n    }\n\n    .dataframe tbody tr th {\n        vertical-align: top;\n    }\n\n    .dataframe thead th {\n        text-align: right;\n    }\n</style>\n<table border=\"1\" class=\"dataframe\">\n  <thead>\n    <tr style=\"text-align: right;\">\n      <th></th>\n      <th>MSSubClass</th>\n      <th>MSZoning</th>\n      <th>LotFrontage</th>\n      <th>LotArea</th>\n      <th>Street</th>\n      <th>Alley</th>\n      <th>LotShape</th>\n      <th>LandContour</th>\n      <th>Utilities</th>\n      <th>LotConfig</th>\n      <th>...</th>\n      <th>ScreenPorch</th>\n      <th>PoolArea</th>\n      <th>PoolQC</th>\n      <th>Fence</th>\n      <th>MiscFeature</th>\n      <th>MiscVal</th>\n      <th>MoSold</th>\n      <th>YrSold</th>\n      <th>SaleType</th>\n      <th>SaleCondition</th>\n    </tr>\n  </thead>\n  <tbody>\n    <tr>\n      <th>0</th>\n      <td>60</td>\n      <td>RL</td>\n      <td>65.0</td>\n      <td>8450</td>\n      <td>Pave</td>\n      <td>NaN</td>\n      <td>Reg</td>\n      <td>Lvl</td>\n      <td>AllPub</td>\n      <td>Inside</td>\n      <td>...</td>\n      <td>0</td>\n      <td>0</td>\n      <td>NaN</td>\n      <td>NaN</td>\n      <td>NaN</td>\n      <td>0</td>\n      <td>2</td>\n      <td>2008</td>\n      <td>WD</td>\n      <td>Normal</td>\n    </tr>\n    <tr>\n      <th>1</th>\n      <td>20</td>\n      <td>RL</td>\n      <td>80.0</td>\n      <td>9600</td>\n      <td>Pave</td>\n      <td>NaN</td>\n      <td>Reg</td>\n      <td>Lvl</td>\n      <td>AllPub</td>\n      <td>FR2</td>\n      <td>...</td>\n      <td>0</td>\n      <td>0</td>\n      <td>NaN</td>\n      <td>NaN</td>\n      <td>NaN</td>\n      <td>0</td>\n      <td>5</td>\n      <td>2007</td>\n      <td>WD</td>\n      <td>Normal</td>\n    </tr>\n    <tr>\n      <th>2</th>\n      <td>60</td>\n      <td>RL</td>\n      <td>68.0</td>\n      <td>11250</td>\n      <td>Pave</td>\n      <td>NaN</td>\n      <td>IR1</td>\n      <td>Lvl</td>\n      <td>AllPub</td>\n      <td>Inside</td>\n      <td>...</td>\n      <td>0</td>\n      <td>0</td>\n      <td>NaN</td>\n      <td>NaN</td>\n      <td>NaN</td>\n      <td>0</td>\n      <td>9</td>\n      <td>2008</td>\n      <td>WD</td>\n      <td>Normal</td>\n    </tr>\n    <tr>\n      <th>3</th>\n      <td>70</td>\n      <td>RL</td>\n      <td>60.0</td>\n      <td>9550</td>\n      <td>Pave</td>\n      <td>NaN</td>\n      <td>IR1</td>\n      <td>Lvl</td>\n      <td>AllPub</td>\n      <td>Corner</td>\n      <td>...</td>\n      <td>0</td>\n      <td>0</td>\n      <td>NaN</td>\n      <td>NaN</td>\n      <td>NaN</td>\n      <td>0</td>\n      <td>2</td>\n      <td>2006</td>\n      <td>WD</td>\n      <td>Abnorml</td>\n    </tr>\n    <tr>\n      <th>4</th>\n      <td>60</td>\n      <td>RL</td>\n      <td>84.0</td>\n      <td>14260</td>\n      <td>Pave</td>\n      <td>NaN</td>\n      <td>IR1</td>\n      <td>Lvl</td>\n      <td>AllPub</td>\n      <td>FR2</td>\n      <td>...</td>\n      <td>0</td>\n      <td>0</td>\n      <td>NaN</td>\n      <td>NaN</td>\n      <td>NaN</td>\n      <td>0</td>\n      <td>12</td>\n      <td>2008</td>\n      <td>WD</td>\n      <td>Normal</td>\n    </tr>\n  </tbody>\n</table>\n<p>5 rows × 79 columns</p>\n</div>"
     },
     "execution_count": 3,
     "metadata": {},
     "output_type": "execute_result"
    }
   ],
   "source": [
    "y = np.log1p(data[\"SalePrice\"])\n",
    "X = data.drop(columns=[\"SalePrice\"])\n",
    "\n",
    "print(X.shape)\n",
    "X.head()"
   ],
   "metadata": {
    "collapsed": false,
    "pycharm": {
     "name": "#%%\n"
    }
   }
  },
  {
   "cell_type": "code",
   "execution_count": 78,
   "outputs": [],
   "source": [
    "X_train, X_test, y_train, y_test = train_test_split(X, y, test_size=0.2, random_state=98987)"
   ],
   "metadata": {
    "collapsed": false,
    "pycharm": {
     "name": "#%%\n"
    }
   }
  },
  {
   "cell_type": "code",
   "execution_count": 79,
   "outputs": [],
   "source": [
    "transformer = DataTransformer(StandardScaler())"
   ],
   "metadata": {
    "collapsed": false,
    "pycharm": {
     "name": "#%%\n"
    }
   }
  },
  {
   "cell_type": "code",
   "execution_count": 80,
   "outputs": [],
   "source": [
    "transformer.nums_to_cats(X_train)\n",
    "transformer.nums_to_cats(X_test)\n",
    "\n",
    "transformer.fillna(X_train)\n",
    "transformer.fillna(X_test)\n",
    "\n",
    "num_candidates = list(X_train.dtypes[X_train.dtypes!=\"object\"].index.values)\n",
    "cat_candidates = list(X_train.dtypes[X_train.dtypes==\"object\"].index.values)\n",
    "\n",
    "cats_to_drop = [\"Utilities\"]\n",
    "X_train = X_train.drop(cats_to_drop, axis=1)\n",
    "X_test = X_test.drop(cats_to_drop, axis=1)"
   ],
   "metadata": {
    "collapsed": false,
    "pycharm": {
     "name": "#%%\n"
    }
   }
  },
  {
   "cell_type": "code",
   "execution_count": 81,
   "outputs": [],
   "source": [
    "n_cols = X_train.select_dtypes([np.number]).columns\n",
    "\n",
    "transformer.imputer_fit(X_train[n_cols])\n",
    "\n",
    "X_train[n_cols] = transformer.imputer_transform(X_train[n_cols])\n",
    "X_test[n_cols] = transformer.imputer_transform(X_test[n_cols])\n",
    "\n",
    "transformer.scaler_fit(X_train[n_cols])\n",
    "\n",
    "X_train[n_cols] = transformer.scaler_transform(X_train[n_cols])\n",
    "X_test[n_cols] = transformer.scaler_transform(X_test[n_cols])"
   ],
   "metadata": {
    "collapsed": false,
    "pycharm": {
     "name": "#%%\n"
    }
   }
  },
  {
   "cell_type": "code",
   "execution_count": 82,
   "outputs": [
    {
     "data": {
      "text/plain": "     MSSubClass MSZoning  LotFrontage   LotArea Street Alley LotShape  \\\n1079         20       RL    -0.246209 -0.188899   Pave  None      Reg   \n389          60       RL     1.128006  0.222697   Pave  None      Reg   \n1349         70       RM    -0.911152 -0.581133   Pave  Pave      Reg   \n1093         20       RL     0.019768 -0.138270   Pave  None      Reg   \n740          70       RM    -0.467857 -0.097099   Pave  Grvl      Reg   \n\n     LandContour LotConfig LandSlope  ... ScreenPorch  PoolArea PoolQC  Fence  \\\n1079         Lvl    Inside       Gtl  ...     -0.2627 -0.071012   None   None   \n389          Lvl    Inside       Gtl  ...     -0.2627 -0.071012   None   None   \n1349         Lvl    Inside       Gtl  ...     -0.2627 -0.071012   None   None   \n1093         Lvl    Corner       Gtl  ...     -0.2627 -0.071012   None  MnPrv   \n740          Lvl    Inside       Gtl  ...     -0.2627 -0.071012   None  GdPrv   \n\n     MiscFeature   MiscVal MoSold  YrSold SaleType SaleCondition  \n1079        None -0.082033      4    2007       WD        Normal  \n389         None -0.082033      8    2008      New       Partial  \n1349        None -0.082033     12    2008       WD        Normal  \n1093        None -0.082033     10    2006       WD        Normal  \n740         None -0.082033      5    2007       WD       Abnorml  \n\n[5 rows x 78 columns]",
      "text/html": "<div>\n<style scoped>\n    .dataframe tbody tr th:only-of-type {\n        vertical-align: middle;\n    }\n\n    .dataframe tbody tr th {\n        vertical-align: top;\n    }\n\n    .dataframe thead th {\n        text-align: right;\n    }\n</style>\n<table border=\"1\" class=\"dataframe\">\n  <thead>\n    <tr style=\"text-align: right;\">\n      <th></th>\n      <th>MSSubClass</th>\n      <th>MSZoning</th>\n      <th>LotFrontage</th>\n      <th>LotArea</th>\n      <th>Street</th>\n      <th>Alley</th>\n      <th>LotShape</th>\n      <th>LandContour</th>\n      <th>LotConfig</th>\n      <th>LandSlope</th>\n      <th>...</th>\n      <th>ScreenPorch</th>\n      <th>PoolArea</th>\n      <th>PoolQC</th>\n      <th>Fence</th>\n      <th>MiscFeature</th>\n      <th>MiscVal</th>\n      <th>MoSold</th>\n      <th>YrSold</th>\n      <th>SaleType</th>\n      <th>SaleCondition</th>\n    </tr>\n  </thead>\n  <tbody>\n    <tr>\n      <th>1079</th>\n      <td>20</td>\n      <td>RL</td>\n      <td>-0.246209</td>\n      <td>-0.188899</td>\n      <td>Pave</td>\n      <td>None</td>\n      <td>Reg</td>\n      <td>Lvl</td>\n      <td>Inside</td>\n      <td>Gtl</td>\n      <td>...</td>\n      <td>-0.2627</td>\n      <td>-0.071012</td>\n      <td>None</td>\n      <td>None</td>\n      <td>None</td>\n      <td>-0.082033</td>\n      <td>4</td>\n      <td>2007</td>\n      <td>WD</td>\n      <td>Normal</td>\n    </tr>\n    <tr>\n      <th>389</th>\n      <td>60</td>\n      <td>RL</td>\n      <td>1.128006</td>\n      <td>0.222697</td>\n      <td>Pave</td>\n      <td>None</td>\n      <td>Reg</td>\n      <td>Lvl</td>\n      <td>Inside</td>\n      <td>Gtl</td>\n      <td>...</td>\n      <td>-0.2627</td>\n      <td>-0.071012</td>\n      <td>None</td>\n      <td>None</td>\n      <td>None</td>\n      <td>-0.082033</td>\n      <td>8</td>\n      <td>2008</td>\n      <td>New</td>\n      <td>Partial</td>\n    </tr>\n    <tr>\n      <th>1349</th>\n      <td>70</td>\n      <td>RM</td>\n      <td>-0.911152</td>\n      <td>-0.581133</td>\n      <td>Pave</td>\n      <td>Pave</td>\n      <td>Reg</td>\n      <td>Lvl</td>\n      <td>Inside</td>\n      <td>Gtl</td>\n      <td>...</td>\n      <td>-0.2627</td>\n      <td>-0.071012</td>\n      <td>None</td>\n      <td>None</td>\n      <td>None</td>\n      <td>-0.082033</td>\n      <td>12</td>\n      <td>2008</td>\n      <td>WD</td>\n      <td>Normal</td>\n    </tr>\n    <tr>\n      <th>1093</th>\n      <td>20</td>\n      <td>RL</td>\n      <td>0.019768</td>\n      <td>-0.138270</td>\n      <td>Pave</td>\n      <td>None</td>\n      <td>Reg</td>\n      <td>Lvl</td>\n      <td>Corner</td>\n      <td>Gtl</td>\n      <td>...</td>\n      <td>-0.2627</td>\n      <td>-0.071012</td>\n      <td>None</td>\n      <td>MnPrv</td>\n      <td>None</td>\n      <td>-0.082033</td>\n      <td>10</td>\n      <td>2006</td>\n      <td>WD</td>\n      <td>Normal</td>\n    </tr>\n    <tr>\n      <th>740</th>\n      <td>70</td>\n      <td>RM</td>\n      <td>-0.467857</td>\n      <td>-0.097099</td>\n      <td>Pave</td>\n      <td>Grvl</td>\n      <td>Reg</td>\n      <td>Lvl</td>\n      <td>Inside</td>\n      <td>Gtl</td>\n      <td>...</td>\n      <td>-0.2627</td>\n      <td>-0.071012</td>\n      <td>None</td>\n      <td>GdPrv</td>\n      <td>None</td>\n      <td>-0.082033</td>\n      <td>5</td>\n      <td>2007</td>\n      <td>WD</td>\n      <td>Abnorml</td>\n    </tr>\n  </tbody>\n</table>\n<p>5 rows × 78 columns</p>\n</div>"
     },
     "execution_count": 82,
     "metadata": {},
     "output_type": "execute_result"
    }
   ],
   "source": [
    "X_train.head()"
   ],
   "metadata": {
    "collapsed": false,
    "pycharm": {
     "name": "#%%\n"
    }
   }
  },
  {
   "cell_type": "code",
   "execution_count": 83,
   "outputs": [],
   "source": [
    "org_params = {\n",
    "    'iterations': 10000,\n",
    "    'learning_rate': 0.08,\n",
    "    'eval_metric': 'RMSE',\n",
    "    'random_seed': 42,\n",
    "    'logging_level': 'Silent',\n",
    "    'use_best_model': True,\n",
    "    'loss_function': 'RMSE',\n",
    "    'od_type': 'Iter',\n",
    "    'od_wait': 1000,\n",
    "    'one_hot_max_size': 20,\n",
    "    'l2_leaf_reg': 100,\n",
    "    'depth': 3,\n",
    "    'rsm': 0.6,\n",
    "    'random_strength': 2,\n",
    "    'bagging_temperature': 10\n",
    "}"
   ],
   "metadata": {
    "collapsed": false,
    "pycharm": {
     "name": "#%%\n"
    }
   }
  },
  {
   "cell_type": "code",
   "execution_count": 84,
   "outputs": [
    {
     "ename": "CatBoostError",
     "evalue": "Invalid type for cat_feature[non-default value idx=0,feature_idx=57]=1996.0 : cat_features must be integer or string, real number values and NaN values should be converted to string.",
     "output_type": "error",
     "traceback": [
      "\u001B[1;31m---------------------------------------------------------------------------\u001B[0m",
      "\u001B[1;31mCatBoostError\u001B[0m                             Traceback (most recent call last)",
      "\u001B[1;32m_catboost.pyx\u001B[0m in \u001B[0;36m_catboost.get_cat_factor_bytes_representation\u001B[1;34m()\u001B[0m\n",
      "\u001B[1;32m_catboost.pyx\u001B[0m in \u001B[0;36m_catboost.get_id_object_bytes_string_representation\u001B[1;34m()\u001B[0m\n",
      "\u001B[1;31mCatBoostError\u001B[0m: bad object for id: 1996.0",
      "\nDuring handling of the above exception, another exception occurred:\n",
      "\u001B[1;31mCatBoostError\u001B[0m                             Traceback (most recent call last)",
      "\u001B[1;32m~\\AppData\\Local\\Temp/ipykernel_32408/131149695.py\u001B[0m in \u001B[0;36m<module>\u001B[1;34m\u001B[0m\n\u001B[0;32m      1\u001B[0m \u001B[0mcat_features\u001B[0m \u001B[1;33m=\u001B[0m \u001B[0mnp\u001B[0m\u001B[1;33m.\u001B[0m\u001B[0mwhere\u001B[0m\u001B[1;33m(\u001B[0m\u001B[0mX_train\u001B[0m\u001B[1;33m.\u001B[0m\u001B[0mloc\u001B[0m\u001B[1;33m[\u001B[0m\u001B[1;33m:\u001B[0m\u001B[1;33m,\u001B[0m \u001B[0mX_train\u001B[0m\u001B[1;33m.\u001B[0m\u001B[0mcolumns\u001B[0m\u001B[1;33m.\u001B[0m\u001B[0mvalues\u001B[0m\u001B[1;33m]\u001B[0m\u001B[1;33m.\u001B[0m\u001B[0mdtypes\u001B[0m\u001B[1;33m==\u001B[0m\u001B[1;34m\"object\"\u001B[0m\u001B[1;33m)\u001B[0m\u001B[1;33m[\u001B[0m\u001B[1;36m0\u001B[0m\u001B[1;33m]\u001B[0m\u001B[1;33m\u001B[0m\u001B[1;33m\u001B[0m\u001B[0m\n\u001B[0;32m      2\u001B[0m \u001B[1;33m\u001B[0m\u001B[0m\n\u001B[1;32m----> 3\u001B[1;33m \u001B[0mtrain_pool\u001B[0m \u001B[1;33m=\u001B[0m \u001B[0mPool\u001B[0m\u001B[1;33m(\u001B[0m\u001B[0mX_train\u001B[0m\u001B[1;33m,\u001B[0m \u001B[0my_train\u001B[0m\u001B[1;33m,\u001B[0m \u001B[0mcat_features\u001B[0m\u001B[1;33m=\u001B[0m\u001B[0mcat_features\u001B[0m\u001B[1;33m)\u001B[0m\u001B[1;33m\u001B[0m\u001B[1;33m\u001B[0m\u001B[0m\n\u001B[0m\u001B[0;32m      4\u001B[0m \u001B[0mdev_pool\u001B[0m \u001B[1;33m=\u001B[0m \u001B[0mPool\u001B[0m\u001B[1;33m(\u001B[0m\u001B[0mX_test\u001B[0m\u001B[1;33m,\u001B[0m \u001B[0my_test\u001B[0m\u001B[1;33m,\u001B[0m \u001B[0mcat_features\u001B[0m\u001B[1;33m=\u001B[0m\u001B[0mcat_features\u001B[0m\u001B[1;33m)\u001B[0m\u001B[1;33m\u001B[0m\u001B[1;33m\u001B[0m\u001B[0m\n\u001B[0;32m      5\u001B[0m \u001B[1;33m\u001B[0m\u001B[0m\n",
      "\u001B[1;32m~\\AppData\\Roaming\\Python\\Python37\\site-packages\\catboost\\core.py\u001B[0m in \u001B[0;36m__init__\u001B[1;34m(self, data, label, cat_features, text_features, embedding_features, column_description, pairs, delimiter, has_header, ignore_csv_quoting, weight, group_id, group_weight, subgroup_id, pairs_weight, baseline, timestamp, feature_names, thread_count, log_cout, log_cerr)\u001B[0m\n\u001B[0;32m    626\u001B[0m                     )\n\u001B[0;32m    627\u001B[0m \u001B[1;33m\u001B[0m\u001B[0m\n\u001B[1;32m--> 628\u001B[1;33m                 \u001B[0mself\u001B[0m\u001B[1;33m.\u001B[0m\u001B[0m_init\u001B[0m\u001B[1;33m(\u001B[0m\u001B[0mdata\u001B[0m\u001B[1;33m,\u001B[0m \u001B[0mlabel\u001B[0m\u001B[1;33m,\u001B[0m \u001B[0mcat_features\u001B[0m\u001B[1;33m,\u001B[0m \u001B[0mtext_features\u001B[0m\u001B[1;33m,\u001B[0m \u001B[0membedding_features\u001B[0m\u001B[1;33m,\u001B[0m \u001B[0mpairs\u001B[0m\u001B[1;33m,\u001B[0m \u001B[0mweight\u001B[0m\u001B[1;33m,\u001B[0m \u001B[0mgroup_id\u001B[0m\u001B[1;33m,\u001B[0m \u001B[0mgroup_weight\u001B[0m\u001B[1;33m,\u001B[0m \u001B[0msubgroup_id\u001B[0m\u001B[1;33m,\u001B[0m \u001B[0mpairs_weight\u001B[0m\u001B[1;33m,\u001B[0m \u001B[0mbaseline\u001B[0m\u001B[1;33m,\u001B[0m \u001B[0mtimestamp\u001B[0m\u001B[1;33m,\u001B[0m \u001B[0mfeature_names\u001B[0m\u001B[1;33m,\u001B[0m \u001B[0mthread_count\u001B[0m\u001B[1;33m)\u001B[0m\u001B[1;33m\u001B[0m\u001B[1;33m\u001B[0m\u001B[0m\n\u001B[0m\u001B[0;32m    629\u001B[0m         \u001B[0msuper\u001B[0m\u001B[1;33m(\u001B[0m\u001B[0mPool\u001B[0m\u001B[1;33m,\u001B[0m \u001B[0mself\u001B[0m\u001B[1;33m)\u001B[0m\u001B[1;33m.\u001B[0m\u001B[0m__init__\u001B[0m\u001B[1;33m(\u001B[0m\u001B[1;33m)\u001B[0m\u001B[1;33m\u001B[0m\u001B[1;33m\u001B[0m\u001B[0m\n\u001B[0;32m    630\u001B[0m \u001B[1;33m\u001B[0m\u001B[0m\n",
      "\u001B[1;32m~\\AppData\\Roaming\\Python\\Python37\\site-packages\\catboost\\core.py\u001B[0m in \u001B[0;36m_init\u001B[1;34m(self, data, label, cat_features, text_features, embedding_features, pairs, weight, group_id, group_weight, subgroup_id, pairs_weight, baseline, timestamp, feature_names, thread_count)\u001B[0m\n\u001B[0;32m   1169\u001B[0m             \u001B[0mtimestamp\u001B[0m \u001B[1;33m=\u001B[0m \u001B[0mself\u001B[0m\u001B[1;33m.\u001B[0m\u001B[0m_if_pandas_to_numpy\u001B[0m\u001B[1;33m(\u001B[0m\u001B[0mtimestamp\u001B[0m\u001B[1;33m)\u001B[0m\u001B[1;33m\u001B[0m\u001B[1;33m\u001B[0m\u001B[0m\n\u001B[0;32m   1170\u001B[0m             \u001B[0mself\u001B[0m\u001B[1;33m.\u001B[0m\u001B[0m_check_timestamp_shape\u001B[0m\u001B[1;33m(\u001B[0m\u001B[0mtimestamp\u001B[0m\u001B[1;33m,\u001B[0m \u001B[0msamples_count\u001B[0m\u001B[1;33m)\u001B[0m\u001B[1;33m\u001B[0m\u001B[1;33m\u001B[0m\u001B[0m\n\u001B[1;32m-> 1171\u001B[1;33m         \u001B[0mself\u001B[0m\u001B[1;33m.\u001B[0m\u001B[0m_init_pool\u001B[0m\u001B[1;33m(\u001B[0m\u001B[0mdata\u001B[0m\u001B[1;33m,\u001B[0m \u001B[0mlabel\u001B[0m\u001B[1;33m,\u001B[0m \u001B[0mcat_features\u001B[0m\u001B[1;33m,\u001B[0m \u001B[0mtext_features\u001B[0m\u001B[1;33m,\u001B[0m \u001B[0membedding_features\u001B[0m\u001B[1;33m,\u001B[0m \u001B[0mpairs\u001B[0m\u001B[1;33m,\u001B[0m \u001B[0mweight\u001B[0m\u001B[1;33m,\u001B[0m \u001B[0mgroup_id\u001B[0m\u001B[1;33m,\u001B[0m \u001B[0mgroup_weight\u001B[0m\u001B[1;33m,\u001B[0m \u001B[0msubgroup_id\u001B[0m\u001B[1;33m,\u001B[0m \u001B[0mpairs_weight\u001B[0m\u001B[1;33m,\u001B[0m \u001B[0mbaseline\u001B[0m\u001B[1;33m,\u001B[0m \u001B[0mtimestamp\u001B[0m\u001B[1;33m,\u001B[0m \u001B[0mfeature_names\u001B[0m\u001B[1;33m,\u001B[0m \u001B[0mthread_count\u001B[0m\u001B[1;33m)\u001B[0m\u001B[1;33m\u001B[0m\u001B[1;33m\u001B[0m\u001B[0m\n\u001B[0m\u001B[0;32m   1172\u001B[0m \u001B[1;33m\u001B[0m\u001B[0m\n\u001B[0;32m   1173\u001B[0m \u001B[1;33m\u001B[0m\u001B[0m\n",
      "\u001B[1;32m_catboost.pyx\u001B[0m in \u001B[0;36m_catboost._PoolBase._init_pool\u001B[1;34m()\u001B[0m\n",
      "\u001B[1;32m_catboost.pyx\u001B[0m in \u001B[0;36m_catboost._PoolBase._init_pool\u001B[1;34m()\u001B[0m\n",
      "\u001B[1;32m_catboost.pyx\u001B[0m in \u001B[0;36m_catboost._PoolBase._init_features_order_layout_pool\u001B[1;34m()\u001B[0m\n",
      "\u001B[1;32m_catboost.pyx\u001B[0m in \u001B[0;36m_catboost._set_features_order_data_pd_data_frame\u001B[1;34m()\u001B[0m\n",
      "\u001B[1;32m_catboost.pyx\u001B[0m in \u001B[0;36m_catboost.get_cat_factor_bytes_representation\u001B[1;34m()\u001B[0m\n",
      "\u001B[1;31mCatBoostError\u001B[0m: Invalid type for cat_feature[non-default value idx=0,feature_idx=57]=1996.0 : cat_features must be integer or string, real number values and NaN values should be converted to string."
     ]
    }
   ],
   "source": [
    "cat_features = np.where(X_train.loc[:, X_train.columns.values].dtypes==\"object\")[0]\n",
    "\n",
    "train_pool = Pool(X_train, y_train, cat_features=cat_features)\n",
    "dev_pool = Pool(X_test, y_test, cat_features=cat_features)\n",
    "\n",
    "model = CatBoostRegressor(**org_params)\n",
    "model.fit(train_pool, eval_set=dev_pool, plot = False)"
   ],
   "metadata": {
    "collapsed": false,
    "pycharm": {
     "name": "#%%\n"
    }
   }
  },
  {
   "cell_type": "code",
   "execution_count": 90,
   "outputs": [
    {
     "data": {
      "text/plain": "1079    1996.0\n389     2008.0\n1349      None\n1093    1977.0\n740     1910.0\n         ...  \n133     2001.0\n1288    2000.0\n180     2000.0\n1290    1964.0\n981     1998.0\nName: GarageYrBlt, Length: 1168, dtype: object"
     },
     "execution_count": 90,
     "metadata": {},
     "output_type": "execute_result"
    }
   ],
   "source": [
    "X_train.iloc[:, 57]"
   ],
   "metadata": {
    "collapsed": false,
    "pycharm": {
     "name": "#%%\n"
    }
   }
  },
  {
   "cell_type": "code",
   "execution_count": null,
   "outputs": [],
   "source": [],
   "metadata": {
    "collapsed": false,
    "pycharm": {
     "name": "#%%\n"
    }
   }
  }
 ],
 "metadata": {
  "kernelspec": {
   "display_name": "Python 3",
   "language": "python",
   "name": "python3"
  },
  "language_info": {
   "codemirror_mode": {
    "name": "ipython",
    "version": 2
   },
   "file_extension": ".py",
   "mimetype": "text/x-python",
   "name": "python",
   "nbconvert_exporter": "python",
   "pygments_lexer": "ipython2",
   "version": "2.7.6"
  }
 },
 "nbformat": 4,
 "nbformat_minor": 0
}