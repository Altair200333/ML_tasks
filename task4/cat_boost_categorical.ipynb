{
 "cells": [
  {
   "cell_type": "code",
   "execution_count": 875,
   "metadata": {
    "collapsed": true
   },
   "outputs": [
    {
     "name": "stdout",
     "output_type": "stream",
     "text": [
      "The autoreload extension is already loaded. To reload it, use:\n",
      "  %reload_ext autoreload\n"
     ]
    }
   ],
   "source": [
    "import matplotlib.pyplot as plt\n",
    "import seaborn as sns\n",
    "import pandas as pd\n",
    "import numpy as np\n",
    "import warnings\n",
    "from sklearn.model_selection import train_test_split\n",
    "import xgboost as xgb\n",
    "from sklearn.preprocessing import OneHotEncoder\n",
    "from sklearn.model_selection import GridSearchCV\n",
    "from sklearn.model_selection import cross_val_score\n",
    "from sklearn import metrics\n",
    "from data_processing import *\n",
    "from sklearn.preprocessing import MinMaxScaler\n",
    "from sklearn.impute import SimpleImputer\n",
    "from sklearn.preprocessing import StandardScaler\n",
    "from sklearn.ensemble import RandomForestRegressor\n",
    "from data_transformar import *\n",
    "import lightgbm as lgb\n",
    "from sklearn.decomposition import PCA\n",
    "from catboost import CatBoostRegressor, Pool\n",
    "\n",
    "warnings.simplefilter(\"ignore\")\n",
    "%matplotlib inline\n",
    "%load_ext autoreload\n",
    "%autoreload 2\n",
    "\n",
    "sns.set(style=\"darkgrid\")"
   ]
  },
  {
   "cell_type": "code",
   "execution_count": 876,
   "outputs": [],
   "source": [
    "from sklearn.metrics import mean_squared_error\n",
    "\n",
    "def rmsle(y, y_pred):\n",
    "    return np.sqrt(mean_squared_error(y, y_pred))"
   ],
   "metadata": {
    "collapsed": false,
    "pycharm": {
     "name": "#%%\n"
    }
   }
  },
  {
   "cell_type": "code",
   "execution_count": 877,
   "outputs": [],
   "source": [
    "data = pd.read_csv(\"./train.csv\")\n",
    "data = data.drop(columns=[\"Id\"])"
   ],
   "metadata": {
    "collapsed": false,
    "pycharm": {
     "name": "#%%\n"
    }
   }
  },
  {
   "cell_type": "code",
   "execution_count": 878,
   "outputs": [],
   "source": [
    "data = remove_outliers(data)"
   ],
   "metadata": {
    "collapsed": false,
    "pycharm": {
     "name": "#%%\n"
    }
   }
  },
  {
   "cell_type": "code",
   "execution_count": 879,
   "outputs": [
    {
     "name": "stdout",
     "output_type": "stream",
     "text": [
      "(1454, 79)\n"
     ]
    },
    {
     "data": {
      "text/plain": "   MSSubClass MSZoning  LotFrontage  LotArea Street Alley LotShape  \\\n0          60       RL         65.0     8450   Pave   NaN      Reg   \n1          20       RL         80.0     9600   Pave   NaN      Reg   \n2          60       RL         68.0    11250   Pave   NaN      IR1   \n3          70       RL         60.0     9550   Pave   NaN      IR1   \n4          60       RL         84.0    14260   Pave   NaN      IR1   \n\n  LandContour Utilities LotConfig  ... ScreenPorch PoolArea PoolQC Fence  \\\n0         Lvl    AllPub    Inside  ...           0        0    NaN   NaN   \n1         Lvl    AllPub       FR2  ...           0        0    NaN   NaN   \n2         Lvl    AllPub    Inside  ...           0        0    NaN   NaN   \n3         Lvl    AllPub    Corner  ...           0        0    NaN   NaN   \n4         Lvl    AllPub       FR2  ...           0        0    NaN   NaN   \n\n  MiscFeature MiscVal  MoSold  YrSold  SaleType  SaleCondition  \n0         NaN       0       2    2008        WD         Normal  \n1         NaN       0       5    2007        WD         Normal  \n2         NaN       0       9    2008        WD         Normal  \n3         NaN       0       2    2006        WD        Abnorml  \n4         NaN       0      12    2008        WD         Normal  \n\n[5 rows x 79 columns]",
      "text/html": "<div>\n<style scoped>\n    .dataframe tbody tr th:only-of-type {\n        vertical-align: middle;\n    }\n\n    .dataframe tbody tr th {\n        vertical-align: top;\n    }\n\n    .dataframe thead th {\n        text-align: right;\n    }\n</style>\n<table border=\"1\" class=\"dataframe\">\n  <thead>\n    <tr style=\"text-align: right;\">\n      <th></th>\n      <th>MSSubClass</th>\n      <th>MSZoning</th>\n      <th>LotFrontage</th>\n      <th>LotArea</th>\n      <th>Street</th>\n      <th>Alley</th>\n      <th>LotShape</th>\n      <th>LandContour</th>\n      <th>Utilities</th>\n      <th>LotConfig</th>\n      <th>...</th>\n      <th>ScreenPorch</th>\n      <th>PoolArea</th>\n      <th>PoolQC</th>\n      <th>Fence</th>\n      <th>MiscFeature</th>\n      <th>MiscVal</th>\n      <th>MoSold</th>\n      <th>YrSold</th>\n      <th>SaleType</th>\n      <th>SaleCondition</th>\n    </tr>\n  </thead>\n  <tbody>\n    <tr>\n      <th>0</th>\n      <td>60</td>\n      <td>RL</td>\n      <td>65.0</td>\n      <td>8450</td>\n      <td>Pave</td>\n      <td>NaN</td>\n      <td>Reg</td>\n      <td>Lvl</td>\n      <td>AllPub</td>\n      <td>Inside</td>\n      <td>...</td>\n      <td>0</td>\n      <td>0</td>\n      <td>NaN</td>\n      <td>NaN</td>\n      <td>NaN</td>\n      <td>0</td>\n      <td>2</td>\n      <td>2008</td>\n      <td>WD</td>\n      <td>Normal</td>\n    </tr>\n    <tr>\n      <th>1</th>\n      <td>20</td>\n      <td>RL</td>\n      <td>80.0</td>\n      <td>9600</td>\n      <td>Pave</td>\n      <td>NaN</td>\n      <td>Reg</td>\n      <td>Lvl</td>\n      <td>AllPub</td>\n      <td>FR2</td>\n      <td>...</td>\n      <td>0</td>\n      <td>0</td>\n      <td>NaN</td>\n      <td>NaN</td>\n      <td>NaN</td>\n      <td>0</td>\n      <td>5</td>\n      <td>2007</td>\n      <td>WD</td>\n      <td>Normal</td>\n    </tr>\n    <tr>\n      <th>2</th>\n      <td>60</td>\n      <td>RL</td>\n      <td>68.0</td>\n      <td>11250</td>\n      <td>Pave</td>\n      <td>NaN</td>\n      <td>IR1</td>\n      <td>Lvl</td>\n      <td>AllPub</td>\n      <td>Inside</td>\n      <td>...</td>\n      <td>0</td>\n      <td>0</td>\n      <td>NaN</td>\n      <td>NaN</td>\n      <td>NaN</td>\n      <td>0</td>\n      <td>9</td>\n      <td>2008</td>\n      <td>WD</td>\n      <td>Normal</td>\n    </tr>\n    <tr>\n      <th>3</th>\n      <td>70</td>\n      <td>RL</td>\n      <td>60.0</td>\n      <td>9550</td>\n      <td>Pave</td>\n      <td>NaN</td>\n      <td>IR1</td>\n      <td>Lvl</td>\n      <td>AllPub</td>\n      <td>Corner</td>\n      <td>...</td>\n      <td>0</td>\n      <td>0</td>\n      <td>NaN</td>\n      <td>NaN</td>\n      <td>NaN</td>\n      <td>0</td>\n      <td>2</td>\n      <td>2006</td>\n      <td>WD</td>\n      <td>Abnorml</td>\n    </tr>\n    <tr>\n      <th>4</th>\n      <td>60</td>\n      <td>RL</td>\n      <td>84.0</td>\n      <td>14260</td>\n      <td>Pave</td>\n      <td>NaN</td>\n      <td>IR1</td>\n      <td>Lvl</td>\n      <td>AllPub</td>\n      <td>FR2</td>\n      <td>...</td>\n      <td>0</td>\n      <td>0</td>\n      <td>NaN</td>\n      <td>NaN</td>\n      <td>NaN</td>\n      <td>0</td>\n      <td>12</td>\n      <td>2008</td>\n      <td>WD</td>\n      <td>Normal</td>\n    </tr>\n  </tbody>\n</table>\n<p>5 rows × 79 columns</p>\n</div>"
     },
     "execution_count": 879,
     "metadata": {},
     "output_type": "execute_result"
    }
   ],
   "source": [
    "y = np.log1p(data[\"SalePrice\"])\n",
    "X = data.drop(columns=[\"SalePrice\"])\n",
    "\n",
    "print(X.shape)\n",
    "X.head()"
   ],
   "metadata": {
    "collapsed": false,
    "pycharm": {
     "name": "#%%\n"
    }
   }
  },
  {
   "cell_type": "code",
   "execution_count": 880,
   "outputs": [],
   "source": [
    "X_train, X_test, y_train, y_test = train_test_split(X, y, test_size=0.2, random_state=98987)"
   ],
   "metadata": {
    "collapsed": false,
    "pycharm": {
     "name": "#%%\n"
    }
   }
  },
  {
   "cell_type": "code",
   "execution_count": 881,
   "outputs": [],
   "source": [
    "X_train_orig = X_train.copy()\n",
    "\n",
    "cats_to_drop = [\"Utilities\"]\n",
    "X_train = X_train.drop(cats_to_drop, axis=1)\n",
    "X_test = X_test.drop(cats_to_drop, axis=1)\n"
   ],
   "metadata": {
    "collapsed": false,
    "pycharm": {
     "name": "#%%\n"
    }
   }
  },
  {
   "cell_type": "code",
   "execution_count": 882,
   "outputs": [],
   "source": [
    "transformer = DataTransformer(StandardScaler())"
   ],
   "metadata": {
    "collapsed": false,
    "pycharm": {
     "name": "#%%\n"
    }
   }
  },
  {
   "cell_type": "code",
   "execution_count": 883,
   "outputs": [],
   "source": [
    "transformer.nums_to_cats(X_train)\n",
    "transformer.nums_to_cats(X_test)\n",
    "\n",
    "transformer.fillna(X_train)\n",
    "transformer.fillna(X_test)\n",
    "\n",
    "num_candidates = list(X_train.dtypes[X_train.dtypes != \"object\"].index.values)\n",
    "cat_candidates = list(X_train.dtypes[X_train.dtypes == \"object\"].index.values)"
   ],
   "metadata": {
    "collapsed": false,
    "pycharm": {
     "name": "#%%\n"
    }
   }
  },
  {
   "cell_type": "code",
   "execution_count": 884,
   "outputs": [],
   "source": [
    "#n_cols = X_train.select_dtypes([np.number]).columns\n",
    "\n",
    "transformer.imputer_fit(X_train[num_candidates])\n",
    "\n",
    "X_train[num_candidates] = transformer.imputer_transform(X_train[num_candidates])\n",
    "X_test[num_candidates] = transformer.imputer_transform(X_test[num_candidates])\n",
    "\n",
    "transformer.scaler_fit(X_train[num_candidates])\n",
    "\n",
    "X_train[num_candidates] = transformer.scaler_transform(X_train[num_candidates])\n",
    "X_test[num_candidates] = transformer.scaler_transform(X_test[num_candidates])"
   ],
   "metadata": {
    "collapsed": false,
    "pycharm": {
     "name": "#%%\n"
    }
   }
  },
  {
   "cell_type": "code",
   "execution_count": 885,
   "outputs": [
    {
     "name": "stdout",
     "output_type": "stream",
     "text": [
      "(1163, 27) (1163, 334)\n",
      "(291, 27) (291, 334)\n"
     ]
    }
   ],
   "source": [
    "transformer.fit_encoder(X_train)\n",
    "\n",
    "X_train = transformer.encode(X_train)\n",
    "X_test = transformer.encode(X_test)"
   ],
   "metadata": {
    "collapsed": false,
    "pycharm": {
     "name": "#%%\n"
    }
   }
  },
  {
   "cell_type": "code",
   "execution_count": 886,
   "outputs": [
    {
     "data": {
      "text/plain": "    LotFrontage   LotArea  YearBuilt  YearRemodAdd  MasVnrArea  BsmtFinSF1  \\\n0 -9.698477e-01 -0.736211  -1.489457      0.940092   -0.565665   -1.012857   \n1  4.094759e-01  0.399284   0.996677      0.795708   -0.565665    0.517566   \n2  1.408296e+00 -0.028030  -0.229816     -0.985034    0.398496   -0.562462   \n3 -6.759092e-16 -1.098791  -1.489457      0.940092   -0.565665    0.062576   \n4 -4.942189e-01 -0.352053  -0.561300     -0.600009   -0.565665   -1.012857   \n\n   BsmtFinSF2  BsmtUnfSF  TotalBsmtSF  1stFlrSF  ...  324  325  326  327  328  \\\n0   -0.285104   0.715367    -0.406139 -0.692505  ...  0.0  0.0  0.0  1.0  0.0   \n1   -0.285104  -0.657973    -0.261436 -0.584126  ...  0.0  0.0  0.0  1.0  0.0   \n2    1.986686   0.921595     1.118067  0.965706  ...  0.0  0.0  0.0  1.0  0.0   \n3   -0.285104  -0.494804    -0.565313 -0.925522  ...  0.0  0.0  0.0  1.0  0.0   \n4   -0.285104   0.844543    -0.268671 -0.440522  ...  0.0  0.0  0.0  1.0  0.0   \n\n   329  330  331  332  333  \n0  0.0  0.0  0.0  1.0  0.0  \n1  0.0  0.0  0.0  1.0  0.0  \n2  0.0  0.0  0.0  1.0  0.0  \n3  0.0  0.0  0.0  1.0  0.0  \n4  0.0  0.0  0.0  1.0  0.0  \n\n[5 rows x 361 columns]",
      "text/html": "<div>\n<style scoped>\n    .dataframe tbody tr th:only-of-type {\n        vertical-align: middle;\n    }\n\n    .dataframe tbody tr th {\n        vertical-align: top;\n    }\n\n    .dataframe thead th {\n        text-align: right;\n    }\n</style>\n<table border=\"1\" class=\"dataframe\">\n  <thead>\n    <tr style=\"text-align: right;\">\n      <th></th>\n      <th>LotFrontage</th>\n      <th>LotArea</th>\n      <th>YearBuilt</th>\n      <th>YearRemodAdd</th>\n      <th>MasVnrArea</th>\n      <th>BsmtFinSF1</th>\n      <th>BsmtFinSF2</th>\n      <th>BsmtUnfSF</th>\n      <th>TotalBsmtSF</th>\n      <th>1stFlrSF</th>\n      <th>...</th>\n      <th>324</th>\n      <th>325</th>\n      <th>326</th>\n      <th>327</th>\n      <th>328</th>\n      <th>329</th>\n      <th>330</th>\n      <th>331</th>\n      <th>332</th>\n      <th>333</th>\n    </tr>\n  </thead>\n  <tbody>\n    <tr>\n      <th>0</th>\n      <td>-9.698477e-01</td>\n      <td>-0.736211</td>\n      <td>-1.489457</td>\n      <td>0.940092</td>\n      <td>-0.565665</td>\n      <td>-1.012857</td>\n      <td>-0.285104</td>\n      <td>0.715367</td>\n      <td>-0.406139</td>\n      <td>-0.692505</td>\n      <td>...</td>\n      <td>0.0</td>\n      <td>0.0</td>\n      <td>0.0</td>\n      <td>1.0</td>\n      <td>0.0</td>\n      <td>0.0</td>\n      <td>0.0</td>\n      <td>0.0</td>\n      <td>1.0</td>\n      <td>0.0</td>\n    </tr>\n    <tr>\n      <th>1</th>\n      <td>4.094759e-01</td>\n      <td>0.399284</td>\n      <td>0.996677</td>\n      <td>0.795708</td>\n      <td>-0.565665</td>\n      <td>0.517566</td>\n      <td>-0.285104</td>\n      <td>-0.657973</td>\n      <td>-0.261436</td>\n      <td>-0.584126</td>\n      <td>...</td>\n      <td>0.0</td>\n      <td>0.0</td>\n      <td>0.0</td>\n      <td>1.0</td>\n      <td>0.0</td>\n      <td>0.0</td>\n      <td>0.0</td>\n      <td>0.0</td>\n      <td>1.0</td>\n      <td>0.0</td>\n    </tr>\n    <tr>\n      <th>2</th>\n      <td>1.408296e+00</td>\n      <td>-0.028030</td>\n      <td>-0.229816</td>\n      <td>-0.985034</td>\n      <td>0.398496</td>\n      <td>-0.562462</td>\n      <td>1.986686</td>\n      <td>0.921595</td>\n      <td>1.118067</td>\n      <td>0.965706</td>\n      <td>...</td>\n      <td>0.0</td>\n      <td>0.0</td>\n      <td>0.0</td>\n      <td>1.0</td>\n      <td>0.0</td>\n      <td>0.0</td>\n      <td>0.0</td>\n      <td>0.0</td>\n      <td>1.0</td>\n      <td>0.0</td>\n    </tr>\n    <tr>\n      <th>3</th>\n      <td>-6.759092e-16</td>\n      <td>-1.098791</td>\n      <td>-1.489457</td>\n      <td>0.940092</td>\n      <td>-0.565665</td>\n      <td>0.062576</td>\n      <td>-0.285104</td>\n      <td>-0.494804</td>\n      <td>-0.565313</td>\n      <td>-0.925522</td>\n      <td>...</td>\n      <td>0.0</td>\n      <td>0.0</td>\n      <td>0.0</td>\n      <td>1.0</td>\n      <td>0.0</td>\n      <td>0.0</td>\n      <td>0.0</td>\n      <td>0.0</td>\n      <td>1.0</td>\n      <td>0.0</td>\n    </tr>\n    <tr>\n      <th>4</th>\n      <td>-4.942189e-01</td>\n      <td>-0.352053</td>\n      <td>-0.561300</td>\n      <td>-0.600009</td>\n      <td>-0.565665</td>\n      <td>-1.012857</td>\n      <td>-0.285104</td>\n      <td>0.844543</td>\n      <td>-0.268671</td>\n      <td>-0.440522</td>\n      <td>...</td>\n      <td>0.0</td>\n      <td>0.0</td>\n      <td>0.0</td>\n      <td>1.0</td>\n      <td>0.0</td>\n      <td>0.0</td>\n      <td>0.0</td>\n      <td>0.0</td>\n      <td>1.0</td>\n      <td>0.0</td>\n    </tr>\n  </tbody>\n</table>\n<p>5 rows × 361 columns</p>\n</div>"
     },
     "execution_count": 886,
     "metadata": {},
     "output_type": "execute_result"
    }
   ],
   "source": [
    "X_train.isnull().sum().sum()\n",
    "X_train.head()"
   ],
   "metadata": {
    "collapsed": false,
    "pycharm": {
     "name": "#%%\n"
    }
   }
  },
  {
   "cell_type": "markdown",
   "source": [
    "## Гоняем котов"
   ],
   "metadata": {
    "collapsed": false,
    "pycharm": {
     "name": "#%% md\n"
    }
   }
  },
  {
   "cell_type": "code",
   "execution_count": 895,
   "outputs": [],
   "source": [
    "cat_features = np.where(X_train.loc[:, X_train.columns.values].dtypes == \"object\")[0]"
   ],
   "metadata": {
    "collapsed": false,
    "pycharm": {
     "name": "#%%\n"
    }
   }
  },
  {
   "cell_type": "code",
   "execution_count": 896,
   "outputs": [
    {
     "data": {
      "text/plain": "<catboost.core.CatBoostRegressor at 0x1e782a718c8>"
     },
     "execution_count": 896,
     "metadata": {},
     "output_type": "execute_result"
    }
   ],
   "source": [
    "train_pool = Pool(X_train, y_train, cat_features=cat_features)\n",
    "dev_pool = Pool(X_test, y_test, cat_features=cat_features)\n",
    "\n",
    "cat_model = CatBoostRegressor(iterations=10000, task_type=\"GPU\",  devices='0:1')\n",
    "cat_model.fit(train_pool, eval_set=dev_pool, early_stopping_rounds=10, verbose=0, plot=False)"
   ],
   "metadata": {
    "collapsed": false,
    "pycharm": {
     "name": "#%%\n"
    }
   }
  },
  {
   "cell_type": "code",
   "execution_count": 897,
   "outputs": [
    {
     "name": "stdout",
     "output_type": "stream",
     "text": [
      "RMSLE: 0.12850617767254513\n"
     ]
    }
   ],
   "source": [
    "predictions = cat_model.predict(X_test)\n",
    "print(\"RMSLE: \" + str(rmsle(predictions, y_test)))"
   ],
   "metadata": {
    "collapsed": false,
    "pycharm": {
     "name": "#%%\n"
    }
   }
  },
  {
   "cell_type": "markdown",
   "source": [
    "## Конвертим данные под lgb"
   ],
   "metadata": {
    "collapsed": false,
    "pycharm": {
     "name": "#%% md\n"
    }
   }
  },
  {
   "cell_type": "code",
   "execution_count": 839,
   "outputs": [],
   "source": [
    "def to_categorical(X):\n",
    "    for c in X.columns:\n",
    "        col_type = X[c].dtype\n",
    "        if col_type == 'object' or col_type.name == 'category':\n",
    "            X[c] = X[c].astype('category')\n"
   ],
   "metadata": {
    "collapsed": false,
    "pycharm": {
     "name": "#%%\n"
    }
   }
  },
  {
   "cell_type": "code",
   "execution_count": 840,
   "outputs": [],
   "source": [
    "to_categorical(X_train)\n",
    "to_categorical(X_test)"
   ],
   "metadata": {
    "collapsed": false,
    "pycharm": {
     "name": "#%%\n"
    }
   }
  },
  {
   "cell_type": "code",
   "execution_count": 890,
   "outputs": [
    {
     "name": "stdout",
     "output_type": "stream",
     "text": [
      "[LightGBM] [Warning] feature_fraction is set=0.2, colsample_bytree=1.0 will be ignored. Current value: feature_fraction=0.2\n",
      "[LightGBM] [Warning] bagging_fraction is set=0.75, subsample=1.0 will be ignored. Current value: bagging_fraction=0.75\n",
      "[LightGBM] [Warning] bagging_freq is set=5, subsample_freq=0 will be ignored. Current value: bagging_freq=5\n"
     ]
    },
    {
     "data": {
      "text/plain": "LGBMRegressor(bagging_fraction=0.75, bagging_freq=5, bagging_seed=7,\n              feature_fraction=0.2, feature_fraction_seed=7, learning_rate=0.01,\n              max_bin=200, n_estimators=5000, num_leaves=4,\n              objective='regression', verbose=-1)"
     },
     "execution_count": 890,
     "metadata": {},
     "output_type": "execute_result"
    }
   ],
   "source": [
    "import lightgbm as lgb\n",
    "\n",
    "clf = lgb.LGBMRegressor(objective='regression',\n",
    "                        num_leaves=4,\n",
    "                        learning_rate=0.01,\n",
    "                        n_estimators=5000,\n",
    "                        max_bin=200,\n",
    "                        bagging_fraction=0.75,\n",
    "                        bagging_freq=5,\n",
    "                        bagging_seed=7,\n",
    "                        feature_fraction=0.2,\n",
    "                        feature_fraction_seed=7,\n",
    "                        verbose=-1,)\n",
    "\n",
    "fit_params = {\"early_stopping_rounds\": 20,\n",
    "              \"eval_metric\": 'rmse',\n",
    "              \"eval_set\": [(X_test, y_test)],\n",
    "              'verbose': -1,\n",
    "              #'categorical_feature': cat_features\n",
    "              }\n",
    "clf.fit(X_train, y_train, **fit_params)"
   ],
   "metadata": {
    "collapsed": false,
    "pycharm": {
     "name": "#%%\n"
    }
   }
  },
  {
   "cell_type": "code",
   "execution_count": 891,
   "outputs": [
    {
     "name": "stdout",
     "output_type": "stream",
     "text": [
      "RMSLE: 0.12391607316093879\n"
     ]
    }
   ],
   "source": [
    "predictions = clf.predict(X_test)\n",
    "print(\"RMSLE: \" + str(rmsle(predictions, y_test)))"
   ],
   "metadata": {
    "collapsed": false,
    "pycharm": {
     "name": "#%%\n"
    }
   }
  },
  {
   "cell_type": "code",
   "execution_count": 892,
   "outputs": [],
   "source": [
    "from hyperopt import hp\n",
    "from sklearn.model_selection import cross_val_score\n",
    "from sklearn.model_selection import KFold, StratifiedKFold\n",
    "from sklearn.base import clone\n",
    "from hyperopt import fmin, tpe, hp, anneal, Trials\n",
    "\n",
    "folds = 4\n",
    "shuffle = True\n",
    "\n",
    "random_state = 42\n",
    "\n",
    "def objective(params):\n",
    "    params = {'n_estimators': int(params['n_estimators']),\n",
    "              'max_depth': int(params['max_depth']),\n",
    "              'learning_rate': params['learning_rate'],\n",
    "              'num_leaves': int(params['num_leaves'])}\n",
    "\n",
    "    clf = lgb.LGBMRegressor(random_state=random_state, **params)\n",
    "\n",
    "    kf = KFold(n_splits=folds, shuffle=shuffle)\n",
    "    loss_list = []\n",
    "\n",
    "    for train_index, test_index in kf.split(X_train):\n",
    "        X_train_fold, X_test_fold = X_train.iloc[train_index], X_train.iloc[test_index]\n",
    "        y_train_fold, y_test_fold = y_train.iloc[train_index], y_train.iloc[test_index]\n",
    "\n",
    "        clf_fold = clone(clf)\n",
    "        clf_fold.fit(X_train_fold, y_train_fold, **fit_params)\n",
    "\n",
    "        prediction = clf_fold.predict(X_test_fold)\n",
    "        loss = rmsle(prediction, y_test_fold)\n",
    "        loss_list.append(loss)\n",
    "\n",
    "    score = np.mean(loss_list)\n",
    "\n",
    "    #print(\"{:.3f} params {}\".format(score, params))\n",
    "    return score"
   ],
   "metadata": {
    "collapsed": false,
    "pycharm": {
     "name": "#%%\n"
    }
   }
  },
  {
   "cell_type": "code",
   "execution_count": 893,
   "outputs": [
    {
     "name": "stdout",
     "output_type": "stream",
     "text": [
      "100%|██████████| 100/100 [01:12<00:00,  1.37trial/s, best loss: 0.12834885289110043]\n",
      "best {'learning_rate': 0.010712199441184341, 'max_depth': 11.0, 'n_estimators': 7442.0, 'num_leaves': 5.0}\n"
     ]
    }
   ],
   "source": [
    "space={'n_estimators': hp.quniform('n_estimators', 100, 10000, 1),\n",
    "       'max_depth' : hp.quniform('max_depth', 2, 30, 1),\n",
    "       'num_leaves' : hp.quniform('num_leaves', 2, 40, 1),\n",
    "       'learning_rate': hp.loguniform('learning_rate', -5, 0)\n",
    "       }\n",
    "trials = Trials()\n",
    "\n",
    "best=fmin(fn=objective, # function to optimize\n",
    "          space=space,\n",
    "          algo=tpe.suggest, # optimization algorithm, hyperotp will select its parameters automatically\n",
    "          max_evals=100, # maximum number of iterations\n",
    "          trials=trials, # logging\n",
    "          rstate = np.random.default_rng(random_state) # fixing random state for the reproducibility\n",
    "          )\n",
    "\n",
    "print(\"best {}\".format(best))"
   ],
   "metadata": {
    "collapsed": false,
    "pycharm": {
     "name": "#%%\n"
    }
   }
  },
  {
   "cell_type": "code",
   "execution_count": 894,
   "outputs": [
    {
     "name": "stdout",
     "output_type": "stream",
     "text": [
      "RMSLE: 0.08997449236952136\n",
      "RMSLE: 0.12319223369155909\n"
     ]
    }
   ],
   "source": [
    "lbg_model = lgb.LGBMRegressor(random_state=random_state, n_estimators=int(best['n_estimators']),\n",
    "                      max_depth=int(best['max_depth']), learning_rate=best['learning_rate'], num_leaves = int(best['num_leaves']))\n",
    "lbg_model.fit(X_train, y_train, **fit_params)\n",
    "\n",
    "\n",
    "predictions = lbg_model.predict(X_train)\n",
    "print(\"RMSLE: \" + str(rmsle(predictions, y_train)))\n",
    "\n",
    "predictions = lbg_model.predict(X_test)\n",
    "print(\"RMSLE: \" + str(rmsle(predictions, y_test)))"
   ],
   "metadata": {
    "collapsed": false,
    "pycharm": {
     "name": "#%%\n"
    }
   }
  },
  {
   "cell_type": "code",
   "execution_count": 899,
   "outputs": [
    {
     "name": "stdout",
     "output_type": "stream",
     "text": [
      "RMSLE: 0.113595990989543\n"
     ]
    }
   ],
   "source": [
    "xgb_model = xgb.XGBRegressor(\n",
    "    colsample_bytree=1.,\n",
    "    eta=0.01,\n",
    "    max_depth=4,\n",
    "    min_child_weight=1.5,\n",
    "    n_estimators=14400,\n",
    "    alpha=0.,\n",
    "    reg_lambda=0.4,\n",
    "    subsample=0.2)\n",
    "\n",
    "xgb_model.fit(X_train, y_train,  early_stopping_rounds=25, eval_set=[(X_test, y_test)], verbose=False)\n",
    "\n",
    "predictions = xgb_model.predict(X_test)\n",
    "print(\"RMSLE: \" + str(rmsle(predictions, y_test)))"
   ],
   "metadata": {
    "collapsed": false,
    "pycharm": {
     "name": "#%%\n"
    }
   }
  },
  {
   "cell_type": "code",
   "execution_count": 902,
   "outputs": [
    {
     "name": "stdout",
     "output_type": "stream",
     "text": [
      "RMSLE: 0.11361928989024277\n"
     ]
    }
   ],
   "source": [
    "def predict_blend(X):\n",
    "    return 0.1 * lbg_model.predict(X) + 0.1 * cat_model.predict(X) + 0.8 * xgb_model.predict(X)\n",
    "\n",
    "predictions = predict_blend(X_test)\n",
    "print(\"RMSLE: \" + str(rmsle(predictions, y_test)))"
   ],
   "metadata": {
    "collapsed": false,
    "pycharm": {
     "name": "#%%\n"
    }
   }
  },
  {
   "cell_type": "markdown",
   "source": [
    "### А теперь попытаемся понять где мы косячим, быть может дело в выбросах"
   ],
   "metadata": {
    "collapsed": false,
    "pycharm": {
     "name": "#%% md\n"
    }
   }
  },
  {
   "cell_type": "code",
   "execution_count": 846,
   "outputs": [
    {
     "data": {
      "text/plain": "[<matplotlib.lines.Line2D at 0x1e7a76e0848>]"
     },
     "execution_count": 846,
     "metadata": {},
     "output_type": "execute_result"
    },
    {
     "data": {
      "text/plain": "<Figure size 432x288 with 1 Axes>",
      "image/png": "[encoded data removed]"
     },
     "metadata": {},
     "output_type": "display_data"
    }
   ],
   "source": [
    "differences = np.abs((np.expm1(predictions) - np.expm1(y_test)))\n",
    "\n",
    "outliers_ids = np.where(differences > 60000)[0]\n",
    "plt.plot(differences.values)"
   ],
   "metadata": {
    "collapsed": false,
    "pycharm": {
     "name": "#%%\n"
    }
   }
  },
  {
   "cell_type": "code",
   "execution_count": 847,
   "outputs": [
    {
     "data": {
      "text/plain": "   LotFrontage       LotArea    YearBuilt  YearRemodAdd  MasVnrArea  \\\n0    70.390852  10162.478934  1970.932932   1984.466896  105.968939   \n\n   BsmtFinSF1  BsmtFinSF2   BsmtUnfSF  TotalBsmtSF     1stFlrSF  ...  \\\n0  440.768702   43.296647  568.337059  1052.402408  1159.584695  ...   \n\n   GarageCars  GarageArea  WoodDeckSF  OpenPorchSF  EnclosedPorch  3SsnPorch  \\\n0    1.772141  471.858126   90.650903    46.764402      22.815993   3.251935   \n\n   ScreenPorch  PoolArea    MiscVal       YrSold  \n0    14.585555  3.050731  46.624248  2007.818573  \n\n[1 rows x 27 columns]",
      "text/html": "<div>\n<style scoped>\n    .dataframe tbody tr th:only-of-type {\n        vertical-align: middle;\n    }\n\n    .dataframe tbody tr th {\n        vertical-align: top;\n    }\n\n    .dataframe thead th {\n        text-align: right;\n    }\n</style>\n<table border=\"1\" class=\"dataframe\">\n  <thead>\n    <tr style=\"text-align: right;\">\n      <th></th>\n      <th>LotFrontage</th>\n      <th>LotArea</th>\n      <th>YearBuilt</th>\n      <th>YearRemodAdd</th>\n      <th>MasVnrArea</th>\n      <th>BsmtFinSF1</th>\n      <th>BsmtFinSF2</th>\n      <th>BsmtUnfSF</th>\n      <th>TotalBsmtSF</th>\n      <th>1stFlrSF</th>\n      <th>...</th>\n      <th>GarageCars</th>\n      <th>GarageArea</th>\n      <th>WoodDeckSF</th>\n      <th>OpenPorchSF</th>\n      <th>EnclosedPorch</th>\n      <th>3SsnPorch</th>\n      <th>ScreenPorch</th>\n      <th>PoolArea</th>\n      <th>MiscVal</th>\n      <th>YrSold</th>\n    </tr>\n  </thead>\n  <tbody>\n    <tr>\n      <th>0</th>\n      <td>70.390852</td>\n      <td>10162.478934</td>\n      <td>1970.932932</td>\n      <td>1984.466896</td>\n      <td>105.968939</td>\n      <td>440.768702</td>\n      <td>43.296647</td>\n      <td>568.337059</td>\n      <td>1052.402408</td>\n      <td>1159.584695</td>\n      <td>...</td>\n      <td>1.772141</td>\n      <td>471.858126</td>\n      <td>90.650903</td>\n      <td>46.764402</td>\n      <td>22.815993</td>\n      <td>3.251935</td>\n      <td>14.585555</td>\n      <td>3.050731</td>\n      <td>46.624248</td>\n      <td>2007.818573</td>\n    </tr>\n  </tbody>\n</table>\n<p>1 rows × 27 columns</p>\n</div>"
     },
     "execution_count": 847,
     "metadata": {},
     "output_type": "execute_result"
    }
   ],
   "source": [
    "outliers_data = X_train_orig.iloc[outliers_ids][num_candidates]\n",
    "df = pd.DataFrame(data=X_train_orig[num_candidates].mean())\n",
    "#df.T.head()\n",
    "df.T\n",
    "#sns.displot(outliers_data['LotFrontage'])"
   ],
   "metadata": {
    "collapsed": false,
    "pycharm": {
     "name": "#%%\n"
    }
   }
  },
  {
   "cell_type": "code",
   "execution_count": 848,
   "outputs": [
    {
     "data": {
      "text/plain": "      LotFrontage  LotArea  YearBuilt  YearRemodAdd  MasVnrArea  BsmtFinSF1  \\\n413          56.0     8960       1927          1950         0.0           0   \n1057          NaN    29959       1994          1994         0.0         595   \n171         141.0    31770       1960          1960       112.0         639   \n128          69.0     7590       1966          1966       266.0         512   \n1006          NaN    12155       1970          1970         0.0        1237   \n422         100.0    21750       1954          1954         0.0           0   \n\n      BsmtFinSF2  BsmtUnfSF  TotalBsmtSF  1stFlrSF  ...  GarageCars  \\\n413            0       1008         1008      1028  ...           2   \n1057           0        378          973       979  ...           2   \n171            0        441         1080      1656  ...           2   \n128            0        148          660       660  ...           2   \n1006           0        420         1657      1657  ...           2   \n422            0        988          988       988  ...           2   \n\n      GarageArea  WoodDeckSF  OpenPorchSF  EnclosedPorch  3SsnPorch  \\\n413          360           0            0            130          0   \n1057         467         168           98              0          0   \n171          528         210           62              0          0   \n128          453         188          108              0          0   \n1006         484           0            0              0          0   \n422          520           0            0              0          0   \n\n      ScreenPorch  PoolArea  MiscVal  YrSold  \n413             0         0        0    2010  \n1057            0         0        0    2009  \n171             0         0        0    2010  \n128             0         0        0    2006  \n1006          147         0        0    2007  \n422             0         0        0    2008  \n\n[6 rows x 27 columns]",
      "text/html": "<div>\n<style scoped>\n    .dataframe tbody tr th:only-of-type {\n        vertical-align: middle;\n    }\n\n    .dataframe tbody tr th {\n        vertical-align: top;\n    }\n\n    .dataframe thead th {\n        text-align: right;\n    }\n</style>\n<table border=\"1\" class=\"dataframe\">\n  <thead>\n    <tr style=\"text-align: right;\">\n      <th></th>\n      <th>LotFrontage</th>\n      <th>LotArea</th>\n      <th>YearBuilt</th>\n      <th>YearRemodAdd</th>\n      <th>MasVnrArea</th>\n      <th>BsmtFinSF1</th>\n      <th>BsmtFinSF2</th>\n      <th>BsmtUnfSF</th>\n      <th>TotalBsmtSF</th>\n      <th>1stFlrSF</th>\n      <th>...</th>\n      <th>GarageCars</th>\n      <th>GarageArea</th>\n      <th>WoodDeckSF</th>\n      <th>OpenPorchSF</th>\n      <th>EnclosedPorch</th>\n      <th>3SsnPorch</th>\n      <th>ScreenPorch</th>\n      <th>PoolArea</th>\n      <th>MiscVal</th>\n      <th>YrSold</th>\n    </tr>\n  </thead>\n  <tbody>\n    <tr>\n      <th>413</th>\n      <td>56.0</td>\n      <td>8960</td>\n      <td>1927</td>\n      <td>1950</td>\n      <td>0.0</td>\n      <td>0</td>\n      <td>0</td>\n      <td>1008</td>\n      <td>1008</td>\n      <td>1028</td>\n      <td>...</td>\n      <td>2</td>\n      <td>360</td>\n      <td>0</td>\n      <td>0</td>\n      <td>130</td>\n      <td>0</td>\n      <td>0</td>\n      <td>0</td>\n      <td>0</td>\n      <td>2010</td>\n    </tr>\n    <tr>\n      <th>1057</th>\n      <td>NaN</td>\n      <td>29959</td>\n      <td>1994</td>\n      <td>1994</td>\n      <td>0.0</td>\n      <td>595</td>\n      <td>0</td>\n      <td>378</td>\n      <td>973</td>\n      <td>979</td>\n      <td>...</td>\n      <td>2</td>\n      <td>467</td>\n      <td>168</td>\n      <td>98</td>\n      <td>0</td>\n      <td>0</td>\n      <td>0</td>\n      <td>0</td>\n      <td>0</td>\n      <td>2009</td>\n    </tr>\n    <tr>\n      <th>171</th>\n      <td>141.0</td>\n      <td>31770</td>\n      <td>1960</td>\n      <td>1960</td>\n      <td>112.0</td>\n      <td>639</td>\n      <td>0</td>\n      <td>441</td>\n      <td>1080</td>\n      <td>1656</td>\n      <td>...</td>\n      <td>2</td>\n      <td>528</td>\n      <td>210</td>\n      <td>62</td>\n      <td>0</td>\n      <td>0</td>\n      <td>0</td>\n      <td>0</td>\n      <td>0</td>\n      <td>2010</td>\n    </tr>\n    <tr>\n      <th>128</th>\n      <td>69.0</td>\n      <td>7590</td>\n      <td>1966</td>\n      <td>1966</td>\n      <td>266.0</td>\n      <td>512</td>\n      <td>0</td>\n      <td>148</td>\n      <td>660</td>\n      <td>660</td>\n      <td>...</td>\n      <td>2</td>\n      <td>453</td>\n      <td>188</td>\n      <td>108</td>\n      <td>0</td>\n      <td>0</td>\n      <td>0</td>\n      <td>0</td>\n      <td>0</td>\n      <td>2006</td>\n    </tr>\n    <tr>\n      <th>1006</th>\n      <td>NaN</td>\n      <td>12155</td>\n      <td>1970</td>\n      <td>1970</td>\n      <td>0.0</td>\n      <td>1237</td>\n      <td>0</td>\n      <td>420</td>\n      <td>1657</td>\n      <td>1657</td>\n      <td>...</td>\n      <td>2</td>\n      <td>484</td>\n      <td>0</td>\n      <td>0</td>\n      <td>0</td>\n      <td>0</td>\n      <td>147</td>\n      <td>0</td>\n      <td>0</td>\n      <td>2007</td>\n    </tr>\n    <tr>\n      <th>422</th>\n      <td>100.0</td>\n      <td>21750</td>\n      <td>1954</td>\n      <td>1954</td>\n      <td>0.0</td>\n      <td>0</td>\n      <td>0</td>\n      <td>988</td>\n      <td>988</td>\n      <td>988</td>\n      <td>...</td>\n      <td>2</td>\n      <td>520</td>\n      <td>0</td>\n      <td>0</td>\n      <td>0</td>\n      <td>0</td>\n      <td>0</td>\n      <td>0</td>\n      <td>0</td>\n      <td>2008</td>\n    </tr>\n  </tbody>\n</table>\n<p>6 rows × 27 columns</p>\n</div>"
     },
     "execution_count": 848,
     "metadata": {},
     "output_type": "execute_result"
    }
   ],
   "source": [
    "outliers_data"
   ],
   "metadata": {
    "collapsed": false,
    "pycharm": {
     "name": "#%%\n"
    }
   }
  },
  {
   "cell_type": "markdown",
   "source": [
    "### Full dataset & submit"
   ],
   "metadata": {
    "collapsed": false,
    "pycharm": {
     "name": "#%% md\n"
    }
   }
  },
  {
   "cell_type": "code",
   "execution_count": 908,
   "outputs": [
    {
     "name": "stdout",
     "output_type": "stream",
     "text": [
      "(1454, 27) (1454, 337)\n"
     ]
    }
   ],
   "source": [
    "data = pd.read_csv(\"./train.csv\")\n",
    "data = data.drop(columns=[\"Id\"])\n",
    "\n",
    "data = remove_outliers(data)\n",
    "\n",
    "y = np.log1p(data[\"SalePrice\"])\n",
    "X = data.drop(columns=[\"SalePrice\"])\n",
    "\n",
    "transformer = DataTransformer(StandardScaler())\n",
    "transformer.nums_to_cats(X)\n",
    "\n",
    "transformer.fillna(X)\n",
    "\n",
    "cats_to_drop = [\"Utilities\"]\n",
    "X = X.drop(cats_to_drop, axis=1)\n",
    "\n",
    "num_candidates = list(X.dtypes[X.dtypes != \"object\"].index.values)\n",
    "cat_candidates = list(X.dtypes[X.dtypes == \"object\"].index.values)\n",
    "#n_cols = X_train.select_dtypes([np.number]).columns\n",
    "\n",
    "transformer.imputer_fit(X[num_candidates])\n",
    "\n",
    "X[num_candidates] = transformer.imputer_transform(X[num_candidates])\n",
    "\n",
    "transformer.scaler_fit(X[num_candidates])\n",
    "\n",
    "X[num_candidates] = transformer.scaler_transform(X[num_candidates])\n",
    "\n",
    "transformer.fit_encoder(X)\n",
    "\n",
    "X = transformer.encode(X)"
   ],
   "metadata": {
    "collapsed": false,
    "pycharm": {
     "name": "#%%\n"
    }
   }
  },
  {
   "cell_type": "code",
   "execution_count": 909,
   "outputs": [],
   "source": [
    "validation = pd.read_csv(\"./test.csv\")\n",
    "val_ids = validation[\"Id\"]\n",
    "validation = validation.drop(columns=[\"Id\"])"
   ],
   "metadata": {
    "collapsed": false,
    "pycharm": {
     "name": "#%%\n"
    }
   }
  },
  {
   "cell_type": "code",
   "execution_count": 910,
   "outputs": [
    {
     "name": "stdout",
     "output_type": "stream",
     "text": [
      "(1459, 27) (1459, 337)\n"
     ]
    }
   ],
   "source": [
    "transformer.nums_to_cats(validation)\n",
    "\n",
    "transformer.fillna(validation)\n",
    "\n",
    "cats_to_drop = [\"Utilities\"]\n",
    "validation = validation.drop(cats_to_drop, axis=1)\n",
    "\n",
    "validation[num_candidates] = transformer.imputer_transform(validation[num_candidates])\n",
    "\n",
    "validation[num_candidates] = transformer.scaler_transform(validation[num_candidates])\n",
    "\n",
    "validation = transformer.encode(validation)"
   ],
   "metadata": {
    "collapsed": false,
    "pycharm": {
     "name": "#%%\n"
    }
   }
  },
  {
   "cell_type": "code",
   "execution_count": 911,
   "outputs": [],
   "source": [
    "#to_categorical(X)\n",
    "#to_categorical(validation)"
   ],
   "metadata": {
    "collapsed": false,
    "pycharm": {
     "name": "#%%\n"
    }
   }
  },
  {
   "cell_type": "code",
   "execution_count": 913,
   "outputs": [
    {
     "ename": "ValueError",
     "evalue": "Length of feature_name(361) and num_feature(364) don't match",
     "output_type": "error",
     "traceback": [
      "\u001B[1;31m---------------------------------------------------------------------------\u001B[0m",
      "\u001B[1;31mValueError\u001B[0m                                Traceback (most recent call last)",
      "\u001B[1;32m~\\AppData\\Local\\Temp/ipykernel_32408/215770698.py\u001B[0m in \u001B[0;36m<module>\u001B[1;34m\u001B[0m\n\u001B[0;32m      7\u001B[0m lbg_model = lgb.LGBMRegressor(random_state=random_state, n_estimators=int(best['n_estimators']),\n\u001B[0;32m      8\u001B[0m                               max_depth=int(best['max_depth']), learning_rate=best['learning_rate'], num_leaves = int(best['num_leaves']))\n\u001B[1;32m----> 9\u001B[1;33m \u001B[0mlbg_model\u001B[0m\u001B[1;33m.\u001B[0m\u001B[0mfit\u001B[0m\u001B[1;33m(\u001B[0m\u001B[0mX\u001B[0m\u001B[1;33m,\u001B[0m \u001B[0my\u001B[0m\u001B[1;33m,\u001B[0m \u001B[1;33m**\u001B[0m\u001B[0mfit_params\u001B[0m\u001B[1;33m)\u001B[0m\u001B[1;33m\u001B[0m\u001B[1;33m\u001B[0m\u001B[0m\n\u001B[0m\u001B[0;32m     10\u001B[0m \u001B[1;33m\u001B[0m\u001B[0m\n\u001B[0;32m     11\u001B[0m \u001B[0mpredictions\u001B[0m \u001B[1;33m=\u001B[0m \u001B[0mlbg_model\u001B[0m\u001B[1;33m.\u001B[0m\u001B[0mpredict\u001B[0m\u001B[1;33m(\u001B[0m\u001B[0mX\u001B[0m\u001B[1;33m)\u001B[0m\u001B[1;33m\u001B[0m\u001B[1;33m\u001B[0m\u001B[0m\n",
      "\u001B[1;32m~\\AppData\\Roaming\\Python\\Python37\\site-packages\\lightgbm\\sklearn.py\u001B[0m in \u001B[0;36mfit\u001B[1;34m(self, X, y, sample_weight, init_score, eval_set, eval_names, eval_sample_weight, eval_init_score, eval_metric, early_stopping_rounds, verbose, feature_name, categorical_feature, callbacks, init_model)\u001B[0m\n\u001B[0;32m    897\u001B[0m                     \u001B[0meval_init_score\u001B[0m\u001B[1;33m=\u001B[0m\u001B[0meval_init_score\u001B[0m\u001B[1;33m,\u001B[0m \u001B[0meval_metric\u001B[0m\u001B[1;33m=\u001B[0m\u001B[0meval_metric\u001B[0m\u001B[1;33m,\u001B[0m\u001B[1;33m\u001B[0m\u001B[1;33m\u001B[0m\u001B[0m\n\u001B[0;32m    898\u001B[0m                     \u001B[0mearly_stopping_rounds\u001B[0m\u001B[1;33m=\u001B[0m\u001B[0mearly_stopping_rounds\u001B[0m\u001B[1;33m,\u001B[0m \u001B[0mverbose\u001B[0m\u001B[1;33m=\u001B[0m\u001B[0mverbose\u001B[0m\u001B[1;33m,\u001B[0m \u001B[0mfeature_name\u001B[0m\u001B[1;33m=\u001B[0m\u001B[0mfeature_name\u001B[0m\u001B[1;33m,\u001B[0m\u001B[1;33m\u001B[0m\u001B[1;33m\u001B[0m\u001B[0m\n\u001B[1;32m--> 899\u001B[1;33m                     categorical_feature=categorical_feature, callbacks=callbacks, init_model=init_model)\n\u001B[0m\u001B[0;32m    900\u001B[0m         \u001B[1;32mreturn\u001B[0m \u001B[0mself\u001B[0m\u001B[1;33m\u001B[0m\u001B[1;33m\u001B[0m\u001B[0m\n\u001B[0;32m    901\u001B[0m \u001B[1;33m\u001B[0m\u001B[0m\n",
      "\u001B[1;32m~\\AppData\\Roaming\\Python\\Python37\\site-packages\\lightgbm\\sklearn.py\u001B[0m in \u001B[0;36mfit\u001B[1;34m(self, X, y, sample_weight, init_score, group, eval_set, eval_names, eval_sample_weight, eval_class_weight, eval_init_score, eval_group, eval_metric, early_stopping_rounds, verbose, feature_name, categorical_feature, callbacks, init_model)\u001B[0m\n\u001B[0;32m    756\u001B[0m             \u001B[0minit_model\u001B[0m\u001B[1;33m=\u001B[0m\u001B[0minit_model\u001B[0m\u001B[1;33m,\u001B[0m\u001B[1;33m\u001B[0m\u001B[1;33m\u001B[0m\u001B[0m\n\u001B[0;32m    757\u001B[0m             \u001B[0mfeature_name\u001B[0m\u001B[1;33m=\u001B[0m\u001B[0mfeature_name\u001B[0m\u001B[1;33m,\u001B[0m\u001B[1;33m\u001B[0m\u001B[1;33m\u001B[0m\u001B[0m\n\u001B[1;32m--> 758\u001B[1;33m             \u001B[0mcallbacks\u001B[0m\u001B[1;33m=\u001B[0m\u001B[0mcallbacks\u001B[0m\u001B[1;33m\u001B[0m\u001B[1;33m\u001B[0m\u001B[0m\n\u001B[0m\u001B[0;32m    759\u001B[0m         )\n\u001B[0;32m    760\u001B[0m \u001B[1;33m\u001B[0m\u001B[0m\n",
      "\u001B[1;32m~\\AppData\\Roaming\\Python\\Python37\\site-packages\\lightgbm\\engine.py\u001B[0m in \u001B[0;36mtrain\u001B[1;34m(params, train_set, num_boost_round, valid_sets, valid_names, fobj, feval, init_model, feature_name, categorical_feature, early_stopping_rounds, evals_result, verbose_eval, learning_rates, keep_training_booster, callbacks)\u001B[0m\n\u001B[0;32m    273\u001B[0m             \u001B[0mbooster\u001B[0m\u001B[1;33m.\u001B[0m\u001B[0mset_train_data_name\u001B[0m\u001B[1;33m(\u001B[0m\u001B[0mtrain_data_name\u001B[0m\u001B[1;33m)\u001B[0m\u001B[1;33m\u001B[0m\u001B[1;33m\u001B[0m\u001B[0m\n\u001B[0;32m    274\u001B[0m         \u001B[1;32mfor\u001B[0m \u001B[0mvalid_set\u001B[0m\u001B[1;33m,\u001B[0m \u001B[0mname_valid_set\u001B[0m \u001B[1;32min\u001B[0m \u001B[0mzip\u001B[0m\u001B[1;33m(\u001B[0m\u001B[0mreduced_valid_sets\u001B[0m\u001B[1;33m,\u001B[0m \u001B[0mname_valid_sets\u001B[0m\u001B[1;33m)\u001B[0m\u001B[1;33m:\u001B[0m\u001B[1;33m\u001B[0m\u001B[1;33m\u001B[0m\u001B[0m\n\u001B[1;32m--> 275\u001B[1;33m             \u001B[0mbooster\u001B[0m\u001B[1;33m.\u001B[0m\u001B[0madd_valid\u001B[0m\u001B[1;33m(\u001B[0m\u001B[0mvalid_set\u001B[0m\u001B[1;33m,\u001B[0m \u001B[0mname_valid_set\u001B[0m\u001B[1;33m)\u001B[0m\u001B[1;33m\u001B[0m\u001B[1;33m\u001B[0m\u001B[0m\n\u001B[0m\u001B[0;32m    276\u001B[0m     \u001B[1;32mfinally\u001B[0m\u001B[1;33m:\u001B[0m\u001B[1;33m\u001B[0m\u001B[1;33m\u001B[0m\u001B[0m\n\u001B[0;32m    277\u001B[0m         \u001B[0mtrain_set\u001B[0m\u001B[1;33m.\u001B[0m\u001B[0m_reverse_update_params\u001B[0m\u001B[1;33m(\u001B[0m\u001B[1;33m)\u001B[0m\u001B[1;33m\u001B[0m\u001B[1;33m\u001B[0m\u001B[0m\n",
      "\u001B[1;32m~\\AppData\\Roaming\\Python\\Python37\\site-packages\\lightgbm\\basic.py\u001B[0m in \u001B[0;36madd_valid\u001B[1;34m(self, data, name)\u001B[0m\n\u001B[0;32m   2933\u001B[0m         _safe_call(_LIB.LGBM_BoosterAddValidData(\n\u001B[0;32m   2934\u001B[0m             \u001B[0mself\u001B[0m\u001B[1;33m.\u001B[0m\u001B[0mhandle\u001B[0m\u001B[1;33m,\u001B[0m\u001B[1;33m\u001B[0m\u001B[1;33m\u001B[0m\u001B[0m\n\u001B[1;32m-> 2935\u001B[1;33m             data.construct().handle))\n\u001B[0m\u001B[0;32m   2936\u001B[0m         \u001B[0mself\u001B[0m\u001B[1;33m.\u001B[0m\u001B[0mvalid_sets\u001B[0m\u001B[1;33m.\u001B[0m\u001B[0mappend\u001B[0m\u001B[1;33m(\u001B[0m\u001B[0mdata\u001B[0m\u001B[1;33m)\u001B[0m\u001B[1;33m\u001B[0m\u001B[1;33m\u001B[0m\u001B[0m\n\u001B[0;32m   2937\u001B[0m         \u001B[0mself\u001B[0m\u001B[1;33m.\u001B[0m\u001B[0mname_valid_sets\u001B[0m\u001B[1;33m.\u001B[0m\u001B[0mappend\u001B[0m\u001B[1;33m(\u001B[0m\u001B[0mname\u001B[0m\u001B[1;33m)\u001B[0m\u001B[1;33m\u001B[0m\u001B[1;33m\u001B[0m\u001B[0m\n",
      "\u001B[1;32m~\\AppData\\Roaming\\Python\\Python37\\site-packages\\lightgbm\\basic.py\u001B[0m in \u001B[0;36mconstruct\u001B[1;34m(self)\u001B[0m\n\u001B[0;32m   1785\u001B[0m                                     \u001B[0mweight\u001B[0m\u001B[1;33m=\u001B[0m\u001B[0mself\u001B[0m\u001B[1;33m.\u001B[0m\u001B[0mweight\u001B[0m\u001B[1;33m,\u001B[0m \u001B[0mgroup\u001B[0m\u001B[1;33m=\u001B[0m\u001B[0mself\u001B[0m\u001B[1;33m.\u001B[0m\u001B[0mgroup\u001B[0m\u001B[1;33m,\u001B[0m\u001B[1;33m\u001B[0m\u001B[1;33m\u001B[0m\u001B[0m\n\u001B[0;32m   1786\u001B[0m                                     \u001B[0minit_score\u001B[0m\u001B[1;33m=\u001B[0m\u001B[0mself\u001B[0m\u001B[1;33m.\u001B[0m\u001B[0minit_score\u001B[0m\u001B[1;33m,\u001B[0m \u001B[0mpredictor\u001B[0m\u001B[1;33m=\u001B[0m\u001B[0mself\u001B[0m\u001B[1;33m.\u001B[0m\u001B[0m_predictor\u001B[0m\u001B[1;33m,\u001B[0m\u001B[1;33m\u001B[0m\u001B[1;33m\u001B[0m\u001B[0m\n\u001B[1;32m-> 1787\u001B[1;33m                                     silent=self.silent, feature_name=self.feature_name, params=self.params)\n\u001B[0m\u001B[0;32m   1788\u001B[0m                 \u001B[1;32melse\u001B[0m\u001B[1;33m:\u001B[0m\u001B[1;33m\u001B[0m\u001B[1;33m\u001B[0m\u001B[0m\n\u001B[0;32m   1789\u001B[0m                     \u001B[1;31m# construct subset\u001B[0m\u001B[1;33m\u001B[0m\u001B[1;33m\u001B[0m\u001B[1;33m\u001B[0m\u001B[0m\n",
      "\u001B[1;32m~\\AppData\\Roaming\\Python\\Python37\\site-packages\\lightgbm\\basic.py\u001B[0m in \u001B[0;36m_lazy_init\u001B[1;34m(self, data, label, reference, weight, group, init_score, predictor, silent, feature_name, categorical_feature, params)\u001B[0m\n\u001B[0;32m   1571\u001B[0m             \u001B[1;32mraise\u001B[0m \u001B[0mTypeError\u001B[0m\u001B[1;33m(\u001B[0m\u001B[1;34mf'Wrong predictor type {type(predictor).__name__}'\u001B[0m\u001B[1;33m)\u001B[0m\u001B[1;33m\u001B[0m\u001B[1;33m\u001B[0m\u001B[0m\n\u001B[0;32m   1572\u001B[0m         \u001B[1;31m# set feature names\u001B[0m\u001B[1;33m\u001B[0m\u001B[1;33m\u001B[0m\u001B[1;33m\u001B[0m\u001B[0m\n\u001B[1;32m-> 1573\u001B[1;33m         \u001B[1;32mreturn\u001B[0m \u001B[0mself\u001B[0m\u001B[1;33m.\u001B[0m\u001B[0mset_feature_name\u001B[0m\u001B[1;33m(\u001B[0m\u001B[0mfeature_name\u001B[0m\u001B[1;33m)\u001B[0m\u001B[1;33m\u001B[0m\u001B[1;33m\u001B[0m\u001B[0m\n\u001B[0m\u001B[0;32m   1574\u001B[0m \u001B[1;33m\u001B[0m\u001B[0m\n\u001B[0;32m   1575\u001B[0m     \u001B[1;33m@\u001B[0m\u001B[0mstaticmethod\u001B[0m\u001B[1;33m\u001B[0m\u001B[1;33m\u001B[0m\u001B[0m\n",
      "\u001B[1;32m~\\AppData\\Roaming\\Python\\Python37\\site-packages\\lightgbm\\basic.py\u001B[0m in \u001B[0;36mset_feature_name\u001B[1;34m(self, feature_name)\u001B[0m\n\u001B[0;32m   2138\u001B[0m         \u001B[1;32mif\u001B[0m \u001B[0mself\u001B[0m\u001B[1;33m.\u001B[0m\u001B[0mhandle\u001B[0m \u001B[1;32mis\u001B[0m \u001B[1;32mnot\u001B[0m \u001B[1;32mNone\u001B[0m \u001B[1;32mand\u001B[0m \u001B[0mfeature_name\u001B[0m \u001B[1;32mis\u001B[0m \u001B[1;32mnot\u001B[0m \u001B[1;32mNone\u001B[0m \u001B[1;32mand\u001B[0m \u001B[0mfeature_name\u001B[0m \u001B[1;33m!=\u001B[0m \u001B[1;34m'auto'\u001B[0m\u001B[1;33m:\u001B[0m\u001B[1;33m\u001B[0m\u001B[1;33m\u001B[0m\u001B[0m\n\u001B[0;32m   2139\u001B[0m             \u001B[1;32mif\u001B[0m \u001B[0mlen\u001B[0m\u001B[1;33m(\u001B[0m\u001B[0mfeature_name\u001B[0m\u001B[1;33m)\u001B[0m \u001B[1;33m!=\u001B[0m \u001B[0mself\u001B[0m\u001B[1;33m.\u001B[0m\u001B[0mnum_feature\u001B[0m\u001B[1;33m(\u001B[0m\u001B[1;33m)\u001B[0m\u001B[1;33m:\u001B[0m\u001B[1;33m\u001B[0m\u001B[1;33m\u001B[0m\u001B[0m\n\u001B[1;32m-> 2140\u001B[1;33m                 \u001B[1;32mraise\u001B[0m \u001B[0mValueError\u001B[0m\u001B[1;33m(\u001B[0m\u001B[1;34mf\"Length of feature_name({len(feature_name)}) and num_feature({self.num_feature()}) don't match\"\u001B[0m\u001B[1;33m)\u001B[0m\u001B[1;33m\u001B[0m\u001B[1;33m\u001B[0m\u001B[0m\n\u001B[0m\u001B[0;32m   2141\u001B[0m             \u001B[0mc_feature_name\u001B[0m \u001B[1;33m=\u001B[0m \u001B[1;33m[\u001B[0m\u001B[0mc_str\u001B[0m\u001B[1;33m(\u001B[0m\u001B[0mname\u001B[0m\u001B[1;33m)\u001B[0m \u001B[1;32mfor\u001B[0m \u001B[0mname\u001B[0m \u001B[1;32min\u001B[0m \u001B[0mfeature_name\u001B[0m\u001B[1;33m]\u001B[0m\u001B[1;33m\u001B[0m\u001B[1;33m\u001B[0m\u001B[0m\n\u001B[0;32m   2142\u001B[0m             _safe_call(_LIB.LGBM_DatasetSetFeatureNames(\n",
      "\u001B[1;31mValueError\u001B[0m: Length of feature_name(361) and num_feature(364) don't match"
     ]
    }
   ],
   "source": [
    "fit_params = {\"early_stopping_rounds\": 20,\n",
    "              \"eval_metric\": 'rmse',\n",
    "              \"eval_set\": [(X_test, y_test)],\n",
    "              'verbose': -1,\n",
    "              #'categorical_feature': cat_features\n",
    "              }\n",
    "lbg_model = lgb.LGBMRegressor(random_state=random_state, n_estimators=int(best['n_estimators']),\n",
    "                              max_depth=int(best['max_depth']), learning_rate=best['learning_rate'], num_leaves = int(best['num_leaves']))\n",
    "lbg_model.fit(X, y, **fit_params)\n",
    "\n",
    "predictions = lbg_model.predict(X)\n",
    "print(\"RMSLE: \" + str(rmsle(predictions, y)))"
   ],
   "metadata": {
    "collapsed": false,
    "pycharm": {
     "name": "#%%\n"
    }
   }
  },
  {
   "cell_type": "code",
   "execution_count": 815,
   "outputs": [
    {
     "data": {
      "text/plain": "<catboost.core.CatBoostRegressor at 0x1e7a7294708>"
     },
     "execution_count": 815,
     "metadata": {},
     "output_type": "execute_result"
    }
   ],
   "source": [
    "cat_features = np.where(X.loc[:, X.columns.values].dtypes == \"object\")[0]\n",
    "train_pool = Pool(X, y, cat_features=cat_features)\n",
    "\n",
    "cat_model = CatBoostRegressor(iterations=10000, task_type=\"GPU\", devices='0:1')\n",
    "cat_model.fit(train_pool, verbose=0, plot=False)\n",
    "\n",
    "predictions = cat_model.predict(X)\n",
    "print(\"RMSLE: \" + str(rmsle(predictions, y)))"
   ],
   "metadata": {
    "collapsed": false,
    "pycharm": {
     "name": "#%%\n"
    }
   }
  },
  {
   "cell_type": "code",
   "execution_count": null,
   "outputs": [],
   "source": [
    "xgb_model = xgb.XGBRegressor(\n",
    "    colsample_bytree=1.,\n",
    "    eta=0.01,\n",
    "    max_depth=4,\n",
    "    min_child_weight=1.5,\n",
    "    n_estimators=14400,\n",
    "    alpha=0.,\n",
    "    reg_lambda=0.4,\n",
    "    subsample=0.2)\n",
    "\n",
    "xgb_model.fit(X_train, y_train,  early_stopping_rounds=25, eval_set=[(X_test, y_test)], verbose=False)\n",
    "\n",
    "predictions = xgb_model.predict(X_test)\n",
    "print(\"RMSLE: \" + str(rmsle(predictions, y_test)))"
   ],
   "metadata": {
    "collapsed": false,
    "pycharm": {
     "name": "#%%\n"
    }
   }
  },
  {
   "cell_type": "code",
   "execution_count": 907,
   "outputs": [],
   "source": [
    "def predict_blend(X):\n",
    "    return 0.1 * lbg_model.predict(X) + 0.1 * cat_model.predict(X) + 0.8 * xgb_model.predict(X)"
   ],
   "metadata": {
    "collapsed": false,
    "pycharm": {
     "name": "#%%\n"
    }
   }
  },
  {
   "cell_type": "code",
   "execution_count": 823,
   "outputs": [
    {
     "name": "stdout",
     "output_type": "stream",
     "text": [
      "RMSLE: 0.07404813698600712\n"
     ]
    }
   ],
   "source": [
    "predictions = predict_blend(X)\n",
    "print(\"RMSLE: \" + str(rmsle(predictions, y)))"
   ],
   "metadata": {
    "collapsed": false,
    "pycharm": {
     "name": "#%%\n"
    }
   }
  },
  {
   "cell_type": "code",
   "execution_count": 824,
   "outputs": [
    {
     "data": {
      "text/plain": "<seaborn.axisgrid.FacetGrid at 0x1e7a7580188>"
     },
     "execution_count": 824,
     "metadata": {},
     "output_type": "execute_result"
    },
    {
     "data": {
      "text/plain": "<Figure size 360x360 with 1 Axes>",
      "image/png": "[encoded data removed]"
     },
     "metadata": {},
     "output_type": "display_data"
    }
   ],
   "source": [
    "submission = predict_blend(validation)\n",
    "sns.displot( np.expm1(submission))"
   ],
   "metadata": {
    "collapsed": false,
    "pycharm": {
     "name": "#%%\n"
    }
   }
  },
  {
   "cell_type": "code",
   "execution_count": 825,
   "outputs": [
    {
     "data": {
      "text/plain": "        Id      SalePrice\n0     1461  122331.834431\n1     1462  159367.571283\n2     1463  185341.126841\n3     1464  196204.297147\n4     1465  181403.450365\n...    ...            ...\n1454  2915   79506.617730\n1455  2916   83726.132154\n1456  2917  159262.451901\n1457  2918  116116.454381\n1458  2919  219573.536843\n\n[1459 rows x 2 columns]",
      "text/html": "<div>\n<style scoped>\n    .dataframe tbody tr th:only-of-type {\n        vertical-align: middle;\n    }\n\n    .dataframe tbody tr th {\n        vertical-align: top;\n    }\n\n    .dataframe thead th {\n        text-align: right;\n    }\n</style>\n<table border=\"1\" class=\"dataframe\">\n  <thead>\n    <tr style=\"text-align: right;\">\n      <th></th>\n      <th>Id</th>\n      <th>SalePrice</th>\n    </tr>\n  </thead>\n  <tbody>\n    <tr>\n      <th>0</th>\n      <td>1461</td>\n      <td>122331.834431</td>\n    </tr>\n    <tr>\n      <th>1</th>\n      <td>1462</td>\n      <td>159367.571283</td>\n    </tr>\n    <tr>\n      <th>2</th>\n      <td>1463</td>\n      <td>185341.126841</td>\n    </tr>\n    <tr>\n      <th>3</th>\n      <td>1464</td>\n      <td>196204.297147</td>\n    </tr>\n    <tr>\n      <th>4</th>\n      <td>1465</td>\n      <td>181403.450365</td>\n    </tr>\n    <tr>\n      <th>...</th>\n      <td>...</td>\n      <td>...</td>\n    </tr>\n    <tr>\n      <th>1454</th>\n      <td>2915</td>\n      <td>79506.617730</td>\n    </tr>\n    <tr>\n      <th>1455</th>\n      <td>2916</td>\n      <td>83726.132154</td>\n    </tr>\n    <tr>\n      <th>1456</th>\n      <td>2917</td>\n      <td>159262.451901</td>\n    </tr>\n    <tr>\n      <th>1457</th>\n      <td>2918</td>\n      <td>116116.454381</td>\n    </tr>\n    <tr>\n      <th>1458</th>\n      <td>2919</td>\n      <td>219573.536843</td>\n    </tr>\n  </tbody>\n</table>\n<p>1459 rows × 2 columns</p>\n</div>"
     },
     "execution_count": 825,
     "metadata": {},
     "output_type": "execute_result"
    }
   ],
   "source": [
    "d = {'Id': val_ids.to_numpy(), 'SalePrice':  np.expm1(submission)}\n",
    "df = pd.DataFrame(data=d)\n",
    "df"
   ],
   "metadata": {
    "collapsed": false,
    "pycharm": {
     "name": "#%%\n"
    }
   }
  },
  {
   "cell_type": "code",
   "execution_count": 826,
   "outputs": [],
   "source": [
    "df.to_csv('submission.csv', index=False)"
   ],
   "metadata": {
    "collapsed": false,
    "pycharm": {
     "name": "#%%\n"
    }
   }
  },
  {
   "cell_type": "code",
   "execution_count": null,
   "outputs": [],
   "source": [],
   "metadata": {
    "collapsed": false,
    "pycharm": {
     "name": "#%%\n"
    }
   }
  }
 ],
 "metadata": {
  "kernelspec": {
   "display_name": "Python 3",
   "language": "python",
   "name": "python3"
  },
  "language_info": {
   "codemirror_mode": {
    "name": "ipython",
    "version": 2
   },
   "file_extension": ".py",
   "mimetype": "text/x-python",
   "name": "python",
   "nbconvert_exporter": "python",
   "pygments_lexer": "ipython2",
   "version": "2.7.6"
  }
 },
 "nbformat": 4,
 "nbformat_minor": 0
}