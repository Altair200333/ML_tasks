{
 "cells": [
  {
   "cell_type": "code",
   "execution_count": 64,
   "metadata": {
    "collapsed": true
   },
   "outputs": [
    {
     "name": "stdout",
     "output_type": "stream",
     "text": [
      "The autoreload extension is already loaded. To reload it, use:\n",
      "  %reload_ext autoreload\n"
     ]
    }
   ],
   "source": [
    "import matplotlib.pyplot as plt\n",
    "import seaborn as sns\n",
    "import pandas as pd\n",
    "import numpy as np\n",
    "import warnings\n",
    "from sklearn.model_selection import train_test_split\n",
    "import xgboost as xgb\n",
    "from sklearn.preprocessing import OneHotEncoder\n",
    "from sklearn.model_selection import GridSearchCV\n",
    "from sklearn.model_selection import cross_val_score\n",
    "from sklearn import metrics\n",
    "from data_processing import *\n",
    "from sklearn.preprocessing import MinMaxScaler\n",
    "from sklearn.impute import SimpleImputer\n",
    "from sklearn.preprocessing import StandardScaler\n",
    "from sklearn.ensemble import RandomForestRegressor\n",
    "from data_transformar import *\n",
    "import lightgbm as lgb\n",
    "from sklearn.decomposition import PCA\n",
    "from catboost import CatBoostRegressor, Pool\n",
    "\n",
    "warnings.simplefilter(\"ignore\")\n",
    "% matplotlib inline\n",
    "% load_ext autoreload\n",
    "% autoreload 2\n",
    "\n",
    "sns.set(style=\"darkgrid\")"
   ]
  },
  {
   "cell_type": "code",
   "execution_count": 16,
   "outputs": [],
   "source": [
    "from sklearn.metrics import mean_squared_error\n",
    "\n",
    "\n",
    "def rmsle(y, y_pred):\n",
    "    return np.sqrt(mean_squared_error(y, y_pred))"
   ],
   "metadata": {
    "collapsed": false,
    "pycharm": {
     "name": "#%%\n"
    }
   }
  },
  {
   "cell_type": "code",
   "execution_count": 2,
   "outputs": [],
   "source": [
    "data = pd.read_csv(\"./train.csv\")\n",
    "data = data.drop(columns=[\"Id\"])"
   ],
   "metadata": {
    "collapsed": false,
    "pycharm": {
     "name": "#%%\n"
    }
   }
  },
  {
   "cell_type": "code",
   "execution_count": 3,
   "outputs": [
    {
     "name": "stdout",
     "output_type": "stream",
     "text": [
      "(1460, 79)\n"
     ]
    },
    {
     "data": {
      "text/plain": "   MSSubClass MSZoning  LotFrontage  LotArea Street Alley LotShape  \\\n0          60       RL         65.0     8450   Pave   NaN      Reg   \n1          20       RL         80.0     9600   Pave   NaN      Reg   \n2          60       RL         68.0    11250   Pave   NaN      IR1   \n3          70       RL         60.0     9550   Pave   NaN      IR1   \n4          60       RL         84.0    14260   Pave   NaN      IR1   \n\n  LandContour Utilities LotConfig  ... ScreenPorch PoolArea PoolQC Fence  \\\n0         Lvl    AllPub    Inside  ...           0        0    NaN   NaN   \n1         Lvl    AllPub       FR2  ...           0        0    NaN   NaN   \n2         Lvl    AllPub    Inside  ...           0        0    NaN   NaN   \n3         Lvl    AllPub    Corner  ...           0        0    NaN   NaN   \n4         Lvl    AllPub       FR2  ...           0        0    NaN   NaN   \n\n  MiscFeature MiscVal  MoSold  YrSold  SaleType  SaleCondition  \n0         NaN       0       2    2008        WD         Normal  \n1         NaN       0       5    2007        WD         Normal  \n2         NaN       0       9    2008        WD         Normal  \n3         NaN       0       2    2006        WD        Abnorml  \n4         NaN       0      12    2008        WD         Normal  \n\n[5 rows x 79 columns]",
      "text/html": "<div>\n<style scoped>\n    .dataframe tbody tr th:only-of-type {\n        vertical-align: middle;\n    }\n\n    .dataframe tbody tr th {\n        vertical-align: top;\n    }\n\n    .dataframe thead th {\n        text-align: right;\n    }\n</style>\n<table border=\"1\" class=\"dataframe\">\n  <thead>\n    <tr style=\"text-align: right;\">\n      <th></th>\n      <th>MSSubClass</th>\n      <th>MSZoning</th>\n      <th>LotFrontage</th>\n      <th>LotArea</th>\n      <th>Street</th>\n      <th>Alley</th>\n      <th>LotShape</th>\n      <th>LandContour</th>\n      <th>Utilities</th>\n      <th>LotConfig</th>\n      <th>...</th>\n      <th>ScreenPorch</th>\n      <th>PoolArea</th>\n      <th>PoolQC</th>\n      <th>Fence</th>\n      <th>MiscFeature</th>\n      <th>MiscVal</th>\n      <th>MoSold</th>\n      <th>YrSold</th>\n      <th>SaleType</th>\n      <th>SaleCondition</th>\n    </tr>\n  </thead>\n  <tbody>\n    <tr>\n      <th>0</th>\n      <td>60</td>\n      <td>RL</td>\n      <td>65.0</td>\n      <td>8450</td>\n      <td>Pave</td>\n      <td>NaN</td>\n      <td>Reg</td>\n      <td>Lvl</td>\n      <td>AllPub</td>\n      <td>Inside</td>\n      <td>...</td>\n      <td>0</td>\n      <td>0</td>\n      <td>NaN</td>\n      <td>NaN</td>\n      <td>NaN</td>\n      <td>0</td>\n      <td>2</td>\n      <td>2008</td>\n      <td>WD</td>\n      <td>Normal</td>\n    </tr>\n    <tr>\n      <th>1</th>\n      <td>20</td>\n      <td>RL</td>\n      <td>80.0</td>\n      <td>9600</td>\n      <td>Pave</td>\n      <td>NaN</td>\n      <td>Reg</td>\n      <td>Lvl</td>\n      <td>AllPub</td>\n      <td>FR2</td>\n      <td>...</td>\n      <td>0</td>\n      <td>0</td>\n      <td>NaN</td>\n      <td>NaN</td>\n      <td>NaN</td>\n      <td>0</td>\n      <td>5</td>\n      <td>2007</td>\n      <td>WD</td>\n      <td>Normal</td>\n    </tr>\n    <tr>\n      <th>2</th>\n      <td>60</td>\n      <td>RL</td>\n      <td>68.0</td>\n      <td>11250</td>\n      <td>Pave</td>\n      <td>NaN</td>\n      <td>IR1</td>\n      <td>Lvl</td>\n      <td>AllPub</td>\n      <td>Inside</td>\n      <td>...</td>\n      <td>0</td>\n      <td>0</td>\n      <td>NaN</td>\n      <td>NaN</td>\n      <td>NaN</td>\n      <td>0</td>\n      <td>9</td>\n      <td>2008</td>\n      <td>WD</td>\n      <td>Normal</td>\n    </tr>\n    <tr>\n      <th>3</th>\n      <td>70</td>\n      <td>RL</td>\n      <td>60.0</td>\n      <td>9550</td>\n      <td>Pave</td>\n      <td>NaN</td>\n      <td>IR1</td>\n      <td>Lvl</td>\n      <td>AllPub</td>\n      <td>Corner</td>\n      <td>...</td>\n      <td>0</td>\n      <td>0</td>\n      <td>NaN</td>\n      <td>NaN</td>\n      <td>NaN</td>\n      <td>0</td>\n      <td>2</td>\n      <td>2006</td>\n      <td>WD</td>\n      <td>Abnorml</td>\n    </tr>\n    <tr>\n      <th>4</th>\n      <td>60</td>\n      <td>RL</td>\n      <td>84.0</td>\n      <td>14260</td>\n      <td>Pave</td>\n      <td>NaN</td>\n      <td>IR1</td>\n      <td>Lvl</td>\n      <td>AllPub</td>\n      <td>FR2</td>\n      <td>...</td>\n      <td>0</td>\n      <td>0</td>\n      <td>NaN</td>\n      <td>NaN</td>\n      <td>NaN</td>\n      <td>0</td>\n      <td>12</td>\n      <td>2008</td>\n      <td>WD</td>\n      <td>Normal</td>\n    </tr>\n  </tbody>\n</table>\n<p>5 rows × 79 columns</p>\n</div>"
     },
     "execution_count": 3,
     "metadata": {},
     "output_type": "execute_result"
    }
   ],
   "source": [
    "y = np.log1p(data[\"SalePrice\"])\n",
    "X = data.drop(columns=[\"SalePrice\"])\n",
    "\n",
    "print(X.shape)\n",
    "X.head()"
   ],
   "metadata": {
    "collapsed": false,
    "pycharm": {
     "name": "#%%\n"
    }
   }
  },
  {
   "cell_type": "code",
   "execution_count": 415,
   "outputs": [],
   "source": [
    "X_train, X_test, y_train, y_test = train_test_split(X, y, test_size=0.2, random_state=98987)"
   ],
   "metadata": {
    "collapsed": false,
    "pycharm": {
     "name": "#%%\n"
    }
   }
  },
  {
   "cell_type": "code",
   "execution_count": 416,
   "outputs": [],
   "source": [
    "#Deleting outliers\n",
    "train = X_train.drop(X_train[(y_train>np.log1p(4000)) & (y_train<np.log1p(300000))].index)"
   ],
   "metadata": {
    "collapsed": false,
    "pycharm": {
     "name": "#%%\n"
    }
   }
  },
  {
   "cell_type": "code",
   "execution_count": 417,
   "outputs": [],
   "source": [
    "transformer = DataTransformer(StandardScaler())"
   ],
   "metadata": {
    "collapsed": false,
    "pycharm": {
     "name": "#%%\n"
    }
   }
  },
  {
   "cell_type": "code",
   "execution_count": 418,
   "outputs": [],
   "source": [
    "transformer.nums_to_cats(X_train)\n",
    "transformer.nums_to_cats(X_test)\n",
    "\n",
    "transformer.fillna(X_train)\n",
    "transformer.fillna(X_test)\n",
    "\n",
    "cats_to_drop = [\"Utilities\"]\n",
    "X_train = X_train.drop(cats_to_drop, axis=1)\n",
    "X_test = X_test.drop(cats_to_drop, axis=1)\n",
    "\n",
    "num_candidates = list(X_train.dtypes[X_train.dtypes != \"object\"].index.values)\n",
    "cat_candidates = list(X_train.dtypes[X_train.dtypes == \"object\"].index.values)"
   ],
   "metadata": {
    "collapsed": false,
    "pycharm": {
     "name": "#%%\n"
    }
   }
  },
  {
   "cell_type": "code",
   "execution_count": 419,
   "outputs": [],
   "source": [
    "#n_cols = X_train.select_dtypes([np.number]).columns\n",
    "\n",
    "transformer.imputer_fit(X_train[num_candidates])\n",
    "\n",
    "X_train[num_candidates] = transformer.imputer_transform(X_train[num_candidates])\n",
    "X_test[num_candidates] = transformer.imputer_transform(X_test[num_candidates])\n",
    "\n",
    "transformer.scaler_fit(X_train[num_candidates])\n",
    "\n",
    "X_train[num_candidates] = transformer.scaler_transform(X_train[num_candidates])\n",
    "X_test[num_candidates] = transformer.scaler_transform(X_test[num_candidates])"
   ],
   "metadata": {
    "collapsed": false,
    "pycharm": {
     "name": "#%%\n"
    }
   }
  },
  {
   "cell_type": "code",
   "execution_count": 420,
   "outputs": [
    {
     "data": {
      "text/plain": "     MSSubClass MSZoning  LotFrontage   LotArea Street Alley LotShape  \\\n1079         20       RL    -0.246209 -0.188899   Pave  None      Reg   \n389          60       RL     1.128006  0.222697   Pave  None      Reg   \n1349         70       RM    -0.911152 -0.581133   Pave  Pave      Reg   \n1093         20       RL     0.019768 -0.138270   Pave  None      Reg   \n740          70       RM    -0.467857 -0.097099   Pave  Grvl      Reg   \n\n     LandContour LotConfig LandSlope  ... ScreenPorch  PoolArea PoolQC  Fence  \\\n1079         Lvl    Inside       Gtl  ...     -0.2627 -0.071012   None   None   \n389          Lvl    Inside       Gtl  ...     -0.2627 -0.071012   None   None   \n1349         Lvl    Inside       Gtl  ...     -0.2627 -0.071012   None   None   \n1093         Lvl    Corner       Gtl  ...     -0.2627 -0.071012   None  MnPrv   \n740          Lvl    Inside       Gtl  ...     -0.2627 -0.071012   None  GdPrv   \n\n     MiscFeature   MiscVal MoSold  YrSold SaleType SaleCondition  \n1079        None -0.082033      4    2007       WD        Normal  \n389         None -0.082033      8    2008      New       Partial  \n1349        None -0.082033     12    2008       WD        Normal  \n1093        None -0.082033     10    2006       WD        Normal  \n740         None -0.082033      5    2007       WD       Abnorml  \n\n[5 rows x 78 columns]",
      "text/html": "<div>\n<style scoped>\n    .dataframe tbody tr th:only-of-type {\n        vertical-align: middle;\n    }\n\n    .dataframe tbody tr th {\n        vertical-align: top;\n    }\n\n    .dataframe thead th {\n        text-align: right;\n    }\n</style>\n<table border=\"1\" class=\"dataframe\">\n  <thead>\n    <tr style=\"text-align: right;\">\n      <th></th>\n      <th>MSSubClass</th>\n      <th>MSZoning</th>\n      <th>LotFrontage</th>\n      <th>LotArea</th>\n      <th>Street</th>\n      <th>Alley</th>\n      <th>LotShape</th>\n      <th>LandContour</th>\n      <th>LotConfig</th>\n      <th>LandSlope</th>\n      <th>...</th>\n      <th>ScreenPorch</th>\n      <th>PoolArea</th>\n      <th>PoolQC</th>\n      <th>Fence</th>\n      <th>MiscFeature</th>\n      <th>MiscVal</th>\n      <th>MoSold</th>\n      <th>YrSold</th>\n      <th>SaleType</th>\n      <th>SaleCondition</th>\n    </tr>\n  </thead>\n  <tbody>\n    <tr>\n      <th>1079</th>\n      <td>20</td>\n      <td>RL</td>\n      <td>-0.246209</td>\n      <td>-0.188899</td>\n      <td>Pave</td>\n      <td>None</td>\n      <td>Reg</td>\n      <td>Lvl</td>\n      <td>Inside</td>\n      <td>Gtl</td>\n      <td>...</td>\n      <td>-0.2627</td>\n      <td>-0.071012</td>\n      <td>None</td>\n      <td>None</td>\n      <td>None</td>\n      <td>-0.082033</td>\n      <td>4</td>\n      <td>2007</td>\n      <td>WD</td>\n      <td>Normal</td>\n    </tr>\n    <tr>\n      <th>389</th>\n      <td>60</td>\n      <td>RL</td>\n      <td>1.128006</td>\n      <td>0.222697</td>\n      <td>Pave</td>\n      <td>None</td>\n      <td>Reg</td>\n      <td>Lvl</td>\n      <td>Inside</td>\n      <td>Gtl</td>\n      <td>...</td>\n      <td>-0.2627</td>\n      <td>-0.071012</td>\n      <td>None</td>\n      <td>None</td>\n      <td>None</td>\n      <td>-0.082033</td>\n      <td>8</td>\n      <td>2008</td>\n      <td>New</td>\n      <td>Partial</td>\n    </tr>\n    <tr>\n      <th>1349</th>\n      <td>70</td>\n      <td>RM</td>\n      <td>-0.911152</td>\n      <td>-0.581133</td>\n      <td>Pave</td>\n      <td>Pave</td>\n      <td>Reg</td>\n      <td>Lvl</td>\n      <td>Inside</td>\n      <td>Gtl</td>\n      <td>...</td>\n      <td>-0.2627</td>\n      <td>-0.071012</td>\n      <td>None</td>\n      <td>None</td>\n      <td>None</td>\n      <td>-0.082033</td>\n      <td>12</td>\n      <td>2008</td>\n      <td>WD</td>\n      <td>Normal</td>\n    </tr>\n    <tr>\n      <th>1093</th>\n      <td>20</td>\n      <td>RL</td>\n      <td>0.019768</td>\n      <td>-0.138270</td>\n      <td>Pave</td>\n      <td>None</td>\n      <td>Reg</td>\n      <td>Lvl</td>\n      <td>Corner</td>\n      <td>Gtl</td>\n      <td>...</td>\n      <td>-0.2627</td>\n      <td>-0.071012</td>\n      <td>None</td>\n      <td>MnPrv</td>\n      <td>None</td>\n      <td>-0.082033</td>\n      <td>10</td>\n      <td>2006</td>\n      <td>WD</td>\n      <td>Normal</td>\n    </tr>\n    <tr>\n      <th>740</th>\n      <td>70</td>\n      <td>RM</td>\n      <td>-0.467857</td>\n      <td>-0.097099</td>\n      <td>Pave</td>\n      <td>Grvl</td>\n      <td>Reg</td>\n      <td>Lvl</td>\n      <td>Inside</td>\n      <td>Gtl</td>\n      <td>...</td>\n      <td>-0.2627</td>\n      <td>-0.071012</td>\n      <td>None</td>\n      <td>GdPrv</td>\n      <td>None</td>\n      <td>-0.082033</td>\n      <td>5</td>\n      <td>2007</td>\n      <td>WD</td>\n      <td>Abnorml</td>\n    </tr>\n  </tbody>\n</table>\n<p>5 rows × 78 columns</p>\n</div>"
     },
     "execution_count": 420,
     "metadata": {},
     "output_type": "execute_result"
    }
   ],
   "source": [
    "X_train.isnull().sum().sum()\n",
    "X_train.head()"
   ],
   "metadata": {
    "collapsed": false,
    "pycharm": {
     "name": "#%%\n"
    }
   }
  },
  {
   "cell_type": "code",
   "execution_count": 350,
   "outputs": [],
   "source": [
    "cat_features = np.where(X_train.loc[:, X_train.columns.values].dtypes == \"object\")[0]"
   ],
   "metadata": {
    "collapsed": false,
    "pycharm": {
     "name": "#%%\n"
    }
   }
  },
  {
   "cell_type": "code",
   "execution_count": 222,
   "outputs": [
    {
     "data": {
      "text/plain": "<catboost.core.CatBoostRegressor at 0x1e7fd4017c8>"
     },
     "execution_count": 222,
     "metadata": {},
     "output_type": "execute_result"
    }
   ],
   "source": [
    "\n",
    "train_pool = Pool(X_train, y_train, cat_features=cat_features)\n",
    "dev_pool = Pool(X_test, y_test, cat_features=cat_features)\n",
    "\n",
    "model = CatBoostRegressor(learning_rate=0.01, iterations=4000)\n",
    "model.fit(train_pool, eval_set=dev_pool, early_stopping_rounds=20, verbose=0, plot=False)"
   ],
   "metadata": {
    "collapsed": false,
    "pycharm": {
     "name": "#%%\n"
    }
   }
  },
  {
   "cell_type": "code",
   "execution_count": 224,
   "outputs": [
    {
     "name": "stdout",
     "output_type": "stream",
     "text": [
      "RMSLE: 0.1476365629063838\n"
     ]
    }
   ],
   "source": [
    "predictions = model.predict(X_test)\n",
    "print(\"RMSLE: \" + str(rmsle(predictions, y_test)))"
   ],
   "metadata": {
    "collapsed": false,
    "pycharm": {
     "name": "#%%\n"
    }
   }
  },
  {
   "cell_type": "code",
   "execution_count": 421,
   "outputs": [],
   "source": [
    "def to_categorical(X):\n",
    "    for c in X.columns:\n",
    "        col_type = X[c].dtype\n",
    "        if col_type == 'object' or col_type.name == 'category':\n",
    "            X[c] = X[c].astype('category')"
   ],
   "metadata": {
    "collapsed": false,
    "pycharm": {
     "name": "#%%\n"
    }
   }
  },
  {
   "cell_type": "code",
   "execution_count": 422,
   "outputs": [],
   "source": [
    "to_categorical(X_train)\n",
    "to_categorical(X_test)"
   ],
   "metadata": {
    "collapsed": false,
    "pycharm": {
     "name": "#%%\n"
    }
   }
  },
  {
   "cell_type": "code",
   "execution_count": 423,
   "outputs": [
    {
     "name": "stdout",
     "output_type": "stream",
     "text": [
      "[LightGBM] [Warning] feature_fraction is set=0.2, colsample_bytree=1.0 will be ignored. Current value: feature_fraction=0.2\n",
      "[LightGBM] [Warning] bagging_fraction is set=0.75, subsample=1.0 will be ignored. Current value: bagging_fraction=0.75\n",
      "[LightGBM] [Warning] bagging_freq is set=5, subsample_freq=0 will be ignored. Current value: bagging_freq=5\n"
     ]
    },
    {
     "data": {
      "text/plain": "LGBMRegressor(bagging_fraction=0.75, bagging_freq=5, bagging_seed=7,\n              feature_fraction=0.2, feature_fraction_seed=7, learning_rate=0.01,\n              max_bin=200, n_estimators=5000, num_leaves=4,\n              objective='regression', verbose=-1)"
     },
     "execution_count": 423,
     "metadata": {},
     "output_type": "execute_result"
    }
   ],
   "source": [
    "import lightgbm as lgb\n",
    "\n",
    "clf = lgb.LGBMRegressor(objective='regression',\n",
    "                        num_leaves=4,\n",
    "                        learning_rate=0.01,\n",
    "                        n_estimators=5000,\n",
    "                        max_bin=200,\n",
    "                        bagging_fraction=0.75,\n",
    "                        bagging_freq=5,\n",
    "                        bagging_seed=7,\n",
    "                        feature_fraction=0.2,\n",
    "                        feature_fraction_seed=7,\n",
    "                        verbose=-1,)\n",
    "\n",
    "fit_params = {\"early_stopping_rounds\": 20,\n",
    "              \"eval_metric\": 'rmse',\n",
    "              \"eval_set\": [(X_test, y_test)],\n",
    "              'verbose': -1,\n",
    "              #'categorical_feature': cat_features\n",
    "              }\n",
    "clf.fit(X_train, y_train, **fit_params)"
   ],
   "metadata": {
    "collapsed": false,
    "pycharm": {
     "name": "#%%\n"
    }
   }
  },
  {
   "cell_type": "code",
   "execution_count": 424,
   "outputs": [
    {
     "name": "stdout",
     "output_type": "stream",
     "text": [
      "RMSLE: 0.147859459660903\n"
     ]
    }
   ],
   "source": [
    "predictions = clf.predict(X_test)\n",
    "print(\"RMSLE: \" + str(rmsle(predictions, y_test)))"
   ],
   "metadata": {
    "collapsed": false,
    "pycharm": {
     "name": "#%%\n"
    }
   }
  },
  {
   "cell_type": "code",
   "execution_count": 401,
   "outputs": [],
   "source": [
    "from hyperopt import hp\n",
    "from sklearn.model_selection import cross_val_score\n",
    "from sklearn.model_selection import KFold, StratifiedKFold\n",
    "from sklearn.base import clone\n",
    "from hyperopt import fmin, tpe, hp, anneal, Trials\n",
    "\n",
    "folds = 4\n",
    "shuffle = True\n",
    "\n",
    "random_state = 42\n",
    "\n",
    "def objective(params):\n",
    "    params = {'n_estimators': int(params['n_estimators']),\n",
    "              'max_depth': int(params['max_depth']),\n",
    "              'learning_rate': params['learning_rate'],\n",
    "              'num_leaves': int(params['num_leaves'])}\n",
    "\n",
    "    clf = lgb.LGBMRegressor(random_state=random_state, **params)\n",
    "\n",
    "    kf = KFold(n_splits=folds, shuffle=shuffle)\n",
    "    loss_list = []\n",
    "\n",
    "    for train_index, test_index in kf.split(X_train):\n",
    "        X_train_fold, X_test_fold = X_train.iloc[train_index], X_train.iloc[test_index]\n",
    "        y_train_fold, y_test_fold = y_train.iloc[train_index], y_train.iloc[test_index]\n",
    "\n",
    "        clf_fold = clone(clf)\n",
    "        clf_fold.fit(X_train_fold, y_train_fold, **fit_params)\n",
    "\n",
    "        prediction = clf_fold.predict(X_test_fold)\n",
    "        loss = rmsle(prediction, y_test_fold)\n",
    "        loss_list.append(loss)\n",
    "\n",
    "    score = np.mean(loss_list)\n",
    "\n",
    "    print(\"{:.3f} params {}\".format(score, params))\n",
    "    return score"
   ],
   "metadata": {
    "collapsed": false,
    "pycharm": {
     "name": "#%%\n"
    }
   }
  },
  {
   "cell_type": "code",
   "execution_count": 402,
   "outputs": [
    {
     "name": "stdout",
     "output_type": "stream",
     "text": [
      "0.138 params {'n_estimators': 6239, 'max_depth': 27, 'learning_rate': 0.1752944756476862, 'num_leaves': 33}\n",
      "0.129 params {'n_estimators': 6122, 'max_depth': 26, 'learning_rate': 0.009092375674643365, 'num_leaves': 13}\n",
      "0.126 params {'n_estimators': 829, 'max_depth': 19, 'learning_rate': 0.014785600704385766, 'num_leaves': 8}\n",
      "0.134 params {'n_estimators': 2201, 'max_depth': 19, 'learning_rate': 0.22816187619738335, 'num_leaves': 17}\n",
      "0.131 params {'n_estimators': 1057, 'max_depth': 10, 'learning_rate': 0.038028971120424755, 'num_leaves': 21}\n",
      "0.139 params {'n_estimators': 1694, 'max_depth': 14, 'learning_rate': 0.2505090133220812, 'num_leaves': 31}\n",
      "0.151 params {'n_estimators': 9970, 'max_depth': 4, 'learning_rate': 0.5203672750350584, 'num_leaves': 29}\n",
      "0.125 params {'n_estimators': 8318, 'max_depth': 23, 'learning_rate': 0.03633036798750971, 'num_leaves': 4}\n",
      "0.126 params {'n_estimators': 7737, 'max_depth': 4, 'learning_rate': 0.11851744039435254, 'num_leaves': 29}\n",
      "0.132 params {'n_estimators': 4858, 'max_depth': 14, 'learning_rate': 0.22779032155304135, 'num_leaves': 14}\n",
      "0.159 params {'n_estimators': 508, 'max_depth': 10, 'learning_rate': 0.7976401153276651, 'num_leaves': 3}\n",
      "0.129 params {'n_estimators': 6121, 'max_depth': 5, 'learning_rate': 0.03139906996344002, 'num_leaves': 32}\n",
      "0.127 params {'n_estimators': 7327, 'max_depth': 19, 'learning_rate': 0.01992755920364559, 'num_leaves': 13}\n",
      "0.147 params {'n_estimators': 4725, 'max_depth': 4, 'learning_rate': 0.5546039927411729, 'num_leaves': 5}\n",
      "0.160 params {'n_estimators': 9067, 'max_depth': 2, 'learning_rate': 0.877866921598971, 'num_leaves': 11}\n",
      "0.131 params {'n_estimators': 9879, 'max_depth': 8, 'learning_rate': 0.03594736376652268, 'num_leaves': 35}\n",
      "0.134 params {'n_estimators': 8159, 'max_depth': 25, 'learning_rate': 0.06444961515939816, 'num_leaves': 36}\n",
      "0.186 params {'n_estimators': 1121, 'max_depth': 12, 'learning_rate': 0.8892530136417861, 'num_leaves': 14}\n",
      "0.128 params {'n_estimators': 8514, 'max_depth': 6, 'learning_rate': 0.05424814074810847, 'num_leaves': 11}\n",
      "0.134 params {'n_estimators': 7159, 'max_depth': 29, 'learning_rate': 0.021262272520218124, 'num_leaves': 19}\n",
      "0.128 params {'n_estimators': 3150, 'max_depth': 22, 'learning_rate': 0.008086800527117324, 'num_leaves': 7}\n",
      "0.126 params {'n_estimators': 4008, 'max_depth': 22, 'learning_rate': 0.013389485807345803, 'num_leaves': 7}\n",
      "0.129 params {'n_estimators': 2505, 'max_depth': 23, 'learning_rate': 0.013287795829610054, 'num_leaves': 2}\n",
      "0.133 params {'n_estimators': 3707, 'max_depth': 29, 'learning_rate': 0.011658043725818154, 'num_leaves': 23}\n",
      "0.124 params {'n_estimators': 3841, 'max_depth': 22, 'learning_rate': 0.09683044833383345, 'num_leaves': 8}\n",
      "0.128 params {'n_estimators': 5578, 'max_depth': 17, 'learning_rate': 0.10412484767521218, 'num_leaves': 3}\n",
      "0.131 params {'n_estimators': 4167, 'max_depth': 24, 'learning_rate': 0.07730839528874098, 'num_leaves': 40}\n",
      "0.130 params {'n_estimators': 3132, 'max_depth': 21, 'learning_rate': 0.04890489311975442, 'num_leaves': 26}\n",
      "0.127 params {'n_estimators': 7056, 'max_depth': 27, 'learning_rate': 0.1451431347554421, 'num_leaves': 9}\n",
      "0.142 params {'n_estimators': 8967, 'max_depth': 27, 'learning_rate': 0.34746365843188814, 'num_leaves': 17}\n",
      "0.127 params {'n_estimators': 6385, 'max_depth': 15, 'learning_rate': 0.02459060982770637, 'num_leaves': 5}\n",
      "0.125 params {'n_estimators': 5294, 'max_depth': 30, 'learning_rate': 0.09529005037339396, 'num_leaves': 10}\n",
      "0.133 params {'n_estimators': 5478, 'max_depth': 20, 'learning_rate': 0.09570096193037476, 'num_leaves': 17}\n",
      "0.131 params {'n_estimators': 2474, 'max_depth': 30, 'learning_rate': 0.16136887649304404, 'num_leaves': 10}\n",
      "0.142 params {'n_estimators': 3353, 'max_depth': 17, 'learning_rate': 0.3410561880619138, 'num_leaves': 23}\n",
      "0.126 params {'n_estimators': 4409, 'max_depth': 25, 'learning_rate': 0.07719012421356934, 'num_leaves': 16}\n",
      "0.128 params {'n_estimators': 5367, 'max_depth': 29, 'learning_rate': 0.13026922823127285, 'num_leaves': 7}\n",
      "0.132 params {'n_estimators': 1683, 'max_depth': 26, 'learning_rate': 0.18248968617790592, 'num_leaves': 20}\n",
      "0.133 params {'n_estimators': 6411, 'max_depth': 19, 'learning_rate': 0.28200886493820776, 'num_leaves': 15}\n",
      "0.125 params {'n_estimators': 208, 'max_depth': 12, 'learning_rate': 0.04637721614014092, 'num_leaves': 12}\n",
      "0.128 params {'n_estimators': 438, 'max_depth': 12, 'learning_rate': 0.05163853357978618, 'num_leaves': 22}\n",
      "0.129 params {'n_estimators': 2029, 'max_depth': 12, 'learning_rate': 0.006932637037983162, 'num_leaves': 13}\n",
      "0.132 params {'n_estimators': 1664, 'max_depth': 10, 'learning_rate': 0.017347273949814734, 'num_leaves': 27}\n",
      "0.135 params {'n_estimators': 1011, 'max_depth': 16, 'learning_rate': 0.20629259972102398, 'num_leaves': 19}\n",
      "0.139 params {'n_estimators': 189, 'max_depth': 8, 'learning_rate': 0.02497136463914357, 'num_leaves': 5}\n",
      "0.131 params {'n_estimators': 139, 'max_depth': 14, 'learning_rate': 0.0446903597270217, 'num_leaves': 12}\n",
      "0.154 params {'n_estimators': 1211, 'max_depth': 8, 'learning_rate': 0.5715651555531598, 'num_leaves': 25}\n",
      "0.128 params {'n_estimators': 2733, 'max_depth': 18, 'learning_rate': 0.02952782357805719, 'num_leaves': 8}\n",
      "0.124 params {'n_estimators': 5973, 'max_depth': 2, 'learning_rate': 0.07097717738615829, 'num_leaves': 18}\n",
      "0.142 params {'n_estimators': 6027, 'max_depth': 3, 'learning_rate': 0.4725685399238395, 'num_leaves': 28}\n",
      "0.129 params {'n_estimators': 6874, 'max_depth': 20, 'learning_rate': 0.06362388771947315, 'num_leaves': 40}\n",
      "0.132 params {'n_estimators': 4850, 'max_depth': 7, 'learning_rate': 0.11923870797510938, 'num_leaves': 31}\n",
      "0.130 params {'n_estimators': 7649, 'max_depth': 10, 'learning_rate': 0.03881041187656071, 'num_leaves': 18}\n",
      "0.130 params {'n_estimators': 5925, 'max_depth': 23, 'learning_rate': 0.06130226646425406, 'num_leaves': 35}\n",
      "0.138 params {'n_estimators': 9561, 'max_depth': 21, 'learning_rate': 0.2814255845744975, 'num_leaves': 24}\n",
      "0.129 params {'n_estimators': 4506, 'max_depth': 15, 'learning_rate': 0.010924939888008266, 'num_leaves': 15}\n",
      "0.133 params {'n_estimators': 3785, 'max_depth': 5, 'learning_rate': 0.1833797339361332, 'num_leaves': 21}\n",
      "0.149 params {'n_estimators': 8001, 'max_depth': 25, 'learning_rate': 0.4351592688408357, 'num_leaves': 29}\n",
      "0.128 params {'n_estimators': 5743, 'max_depth': 13, 'learning_rate': 0.08395677145954564, 'num_leaves': 6}\n",
      "0.126 params {'n_estimators': 6667, 'max_depth': 2, 'learning_rate': 0.13746868529231793, 'num_leaves': 38}\n",
      "0.129 params {'n_estimators': 8774, 'max_depth': 28, 'learning_rate': 0.01624858975413039, 'num_leaves': 2}\n",
      "0.131 params {'n_estimators': 5148, 'max_depth': 24, 'learning_rate': 0.03222232425002342, 'num_leaves': 31}\n",
      "0.161 params {'n_estimators': 2920, 'max_depth': 22, 'learning_rate': 0.7219562856084458, 'num_leaves': 9}\n",
      "0.129 params {'n_estimators': 3623, 'max_depth': 18, 'learning_rate': 0.22986534269690495, 'num_leaves': 4}\n",
      "0.130 params {'n_estimators': 4140, 'max_depth': 9, 'learning_rate': 0.10676265241768616, 'num_leaves': 20}\n",
      "0.132 params {'n_estimators': 7296, 'max_depth': 3, 'learning_rate': 0.042650710931310704, 'num_leaves': 12}\n",
      "0.130 params {'n_estimators': 7789, 'max_depth': 11, 'learning_rate': 0.07509276361504699, 'num_leaves': 14}\n",
      "0.127 params {'n_estimators': 4643, 'max_depth': 5, 'learning_rate': 0.05737377477010462, 'num_leaves': 11}\n",
      "0.133 params {'n_estimators': 2142, 'max_depth': 6, 'learning_rate': 0.02136278619872456, 'num_leaves': 16}\n",
      "0.130 params {'n_estimators': 8390, 'max_depth': 16, 'learning_rate': 0.06921945675677768, 'num_leaves': 9}\n",
      "0.133 params {'n_estimators': 1442, 'max_depth': 20, 'learning_rate': 0.1610091211557562, 'num_leaves': 18}\n",
      "0.128 params {'n_estimators': 605, 'max_depth': 13, 'learning_rate': 0.028658663855965386, 'num_leaves': 13}\n",
      "0.129 params {'n_estimators': 6533, 'max_depth': 18, 'learning_rate': 0.0931830776319588, 'num_leaves': 12}\n",
      "0.128 params {'n_estimators': 4982, 'max_depth': 26, 'learning_rate': 0.03572057456756719, 'num_leaves': 15}\n",
      "0.129 params {'n_estimators': 9704, 'max_depth': 17, 'learning_rate': 0.04726481112504934, 'num_leaves': 3}\n",
      "0.131 params {'n_estimators': 7497, 'max_depth': 15, 'learning_rate': 0.08390829970000435, 'num_leaves': 8}\n",
      "0.126 params {'n_estimators': 3386, 'max_depth': 21, 'learning_rate': 0.025287727250475258, 'num_leaves': 6}\n",
      "0.130 params {'n_estimators': 6166, 'max_depth': 11, 'learning_rate': 0.05464790784377847, 'num_leaves': 16}\n",
      "0.129 params {'n_estimators': 6806, 'max_depth': 24, 'learning_rate': 0.03912134072151552, 'num_leaves': 22}\n",
      "0.127 params {'n_estimators': 2362, 'max_depth': 3, 'learning_rate': 0.11590725103947111, 'num_leaves': 10}\n",
      "0.130 params {'n_estimators': 5802, 'max_depth': 7, 'learning_rate': 0.15159752375166505, 'num_leaves': 19}\n",
      "0.131 params {'n_estimators': 1974, 'max_depth': 9, 'learning_rate': 0.009044803828681896, 'num_leaves': 11}\n",
      "0.132 params {'n_estimators': 5519, 'max_depth': 28, 'learning_rate': 0.0189931527890273, 'num_leaves': 18}\n",
      "0.143 params {'n_estimators': 3011, 'max_depth': 14, 'learning_rate': 0.33226828094251254, 'num_leaves': 25}\n",
      "0.128 params {'n_estimators': 883, 'max_depth': 13, 'learning_rate': 0.06722139572915152, 'num_leaves': 14}\n",
      "0.128 params {'n_estimators': 3883, 'max_depth': 23, 'learning_rate': 0.19794329763596322, 'num_leaves': 4}\n",
      "0.129 params {'n_estimators': 9253, 'max_depth': 19, 'learning_rate': 0.12600222580959203, 'num_leaves': 6}\n",
      "0.136 params {'n_estimators': 2625, 'max_depth': 11, 'learning_rate': 0.2664544939093287, 'num_leaves': 20}\n",
      "0.126 params {'n_estimators': 7095, 'max_depth': 4, 'learning_rate': 0.08997466306688466, 'num_leaves': 22}\n",
      "0.131 params {'n_estimators': 4211, 'max_depth': 22, 'learning_rate': 0.10232404994603961, 'num_leaves': 10}\n",
      "0.125 params {'n_estimators': 1358, 'max_depth': 20, 'learning_rate': 0.014481047449092687, 'num_leaves': 8}\n",
      "0.131 params {'n_estimators': 3394, 'max_depth': 26, 'learning_rate': 0.013794732114134033, 'num_leaves': 8}\n",
      "0.124 params {'n_estimators': 1445, 'max_depth': 19, 'learning_rate': 0.006789190659511417, 'num_leaves': 5}\n",
      "0.126 params {'n_estimators': 1868, 'max_depth': 21, 'learning_rate': 0.00803414142195459, 'num_leaves': 5}\n",
      "0.132 params {'n_estimators': 5163, 'max_depth': 22, 'learning_rate': 0.01143335036861521, 'num_leaves': 2}\n",
      "0.125 params {'n_estimators': 3559, 'max_depth': 16, 'learning_rate': 0.006938758480781199, 'num_leaves': 7}\n",
      "0.146 params {'n_estimators': 4374, 'max_depth': 18, 'learning_rate': 0.6670917835646762, 'num_leaves': 3}\n",
      "0.130 params {'n_estimators': 4727, 'max_depth': 25, 'learning_rate': 0.010051416004253378, 'num_leaves': 34}\n",
      "0.149 params {'n_estimators': 2320, 'max_depth': 17, 'learning_rate': 0.37907464583515954, 'num_leaves': 37}\n",
      "0.131 params {'n_estimators': 646, 'max_depth': 19, 'learning_rate': 0.24408293386856375, 'num_leaves': 4}\n",
      "100%|██████████| 100/100 [01:21<00:00,  1.22trial/s, best loss: 0.12358443592461682]\n"
     ]
    }
   ],
   "source": [
    "space={'n_estimators': hp.quniform('n_estimators', 100, 10000, 1),\n",
    "       'max_depth' : hp.quniform('max_depth', 2, 30, 1),\n",
    "       'num_leaves' : hp.quniform('num_leaves', 2, 40, 1),\n",
    "       'learning_rate': hp.loguniform('learning_rate', -5, 0)\n",
    "       }\n",
    "trials = Trials()\n",
    "\n",
    "best=fmin(fn=objective, # function to optimize\n",
    "          space=space,\n",
    "          algo=tpe.suggest, # optimization algorithm, hyperotp will select its parameters automatically\n",
    "          max_evals=100, # maximum number of iterations\n",
    "          trials=trials, # logging\n",
    "          rstate = np.random.default_rng(random_state) # fixing random state for the reproducibility\n",
    "          )"
   ],
   "metadata": {
    "collapsed": false,
    "pycharm": {
     "name": "#%%\n"
    }
   }
  },
  {
   "cell_type": "code",
   "execution_count": 403,
   "outputs": [
    {
     "name": "stdout",
     "output_type": "stream",
     "text": [
      "RMSLE: 0.14839702873804328\n"
     ]
    }
   ],
   "source": [
    "model = lgb.LGBMRegressor(random_state=random_state, n_estimators=int(best['n_estimators']),\n",
    "                      max_depth=int(best['max_depth']), learning_rate=best['learning_rate'], num_leaves = int(best['num_leaves']))\n",
    "model.fit(X_train, y_train, **fit_params)\n",
    "\n",
    "predictions = model.predict(X_test)\n",
    "print(\"RMSLE: \" + str(rmsle(predictions, y_test)))"
   ],
   "metadata": {
    "collapsed": false,
    "pycharm": {
     "name": "#%%\n"
    }
   }
  },
  {
   "cell_type": "code",
   "execution_count": null,
   "outputs": [],
   "source": [],
   "metadata": {
    "collapsed": false,
    "pycharm": {
     "name": "#%%\n"
    }
   }
  }
 ],
 "metadata": {
  "kernelspec": {
   "display_name": "Python 3",
   "language": "python",
   "name": "python3"
  },
  "language_info": {
   "codemirror_mode": {
    "name": "ipython",
    "version": 2
   },
   "file_extension": ".py",
   "mimetype": "text/x-python",
   "name": "python",
   "nbconvert_exporter": "python",
   "pygments_lexer": "ipython2",
   "version": "2.7.6"
  }
 },
 "nbformat": 4,
 "nbformat_minor": 0
}