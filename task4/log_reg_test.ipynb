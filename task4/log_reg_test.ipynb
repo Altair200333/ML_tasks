{
 "cells": [
  {
   "cell_type": "code",
   "execution_count": 26,
   "metadata": {
    "collapsed": true
   },
   "outputs": [
    {
     "name": "stdout",
     "output_type": "stream",
     "text": [
      "The autoreload extension is already loaded. To reload it, use:\n",
      "  %reload_ext autoreload\n"
     ]
    }
   ],
   "source": [
    "import matplotlib.pyplot as plt\n",
    "import seaborn as sns\n",
    "import pandas as pd\n",
    "import numpy as np\n",
    "import warnings\n",
    "from sklearn.model_selection import train_test_split\n",
    "import xgboost as xgb\n",
    "from sklearn.preprocessing import OneHotEncoder\n",
    "from sklearn.model_selection import GridSearchCV\n",
    "from sklearn.model_selection import cross_val_score\n",
    "from sklearn import metrics\n",
    "from data_processing import *\n",
    "from sklearn.preprocessing import MinMaxScaler\n",
    "from sklearn.impute import SimpleImputer\n",
    "from sklearn.preprocessing import StandardScaler\n",
    "from sklearn.ensemble import RandomForestRegressor\n",
    "from data_transformar import *\n",
    "import lightgbm as lgb\n",
    "from sklearn.decomposition import PCA\n",
    "from catboost import CatBoostRegressor, Pool\n",
    "from sklearn import linear_model\n",
    "\n",
    "warnings.simplefilter(\"ignore\")\n",
    "%matplotlib inline\n",
    "%load_ext autoreload\n",
    "%autoreload 2\n",
    "\n",
    "sns.set(style=\"darkgrid\")"
   ]
  },
  {
   "cell_type": "code",
   "execution_count": 57,
   "outputs": [
    {
     "name": "stdout",
     "output_type": "stream",
     "text": [
      "Int64Index([523, 1298], dtype='int64')\n"
     ]
    }
   ],
   "source": [
    "from sklearn.metrics import mean_squared_error\n",
    "\n",
    "cheat = pd.read_csv(\"./result-with-best.csv\")\n",
    "\n",
    "\n",
    "def rmsle(y, y_pred):\n",
    "    return np.sqrt(mean_squared_error(y, y_pred))\n",
    "\n",
    "\n",
    "def cheat_score(model, val):\n",
    "    print(\"RMSLE sub: \" + str(rmsle(model.predict(val), np.log1p(cheat[\"SalePrice\"]))))\n",
    "\n",
    "\n",
    "def to_categorical(X):\n",
    "    for c in X.columns:\n",
    "        col_type = X[c].dtype\n",
    "        if col_type == 'object' or col_type.name == 'category':\n",
    "            X[c] = X[c].astype('category')\n",
    "\n",
    "\n",
    "def evaluate(model, X, y):\n",
    "    preds = model.predict(X)\n",
    "    print(\"RMSLE: \" + str(rmsle(preds, y)))\n",
    "\n",
    "\n",
    "data = pd.read_csv(\"./train.csv\")\n",
    "data = data.drop(columns=[\"Id\"])\n",
    "\n",
    "data = remove_outliers(data, True)\n",
    "\n",
    "y = np.log1p(data[\"SalePrice\"])\n",
    "X = data.drop(columns=[\"SalePrice\"])\n",
    "X_train, X_test, y_train, y_test = train_test_split(X, y, test_size=0.2, random_state=98987)\n",
    "\n",
    "#X_train, y_train = remove_outliers_split(X_train, y_train)\n",
    "X_train_orig = X_train.copy()\n",
    "\n",
    "transformer = DataTransformer(StandardScaler())\n",
    "\n",
    "X_train = transformer.prepare(X_train)\n",
    "X_test = transformer.prepare(X_test)\n",
    "\n",
    "transformer.fit(X_train)\n",
    "\n",
    "X_train = transformer.transform(X_train, False)\n",
    "X_test = transformer.transform(X_test, False)"
   ],
   "metadata": {
    "collapsed": false,
    "pycharm": {
     "name": "#%%\n"
    }
   }
  },
  {
   "cell_type": "code",
   "execution_count": 58,
   "outputs": [],
   "source": [
    "num_features = np.where(X_train.loc[:, X_train.columns.values].dtypes != \"object\")[0]\n",
    "X_train = X_train.iloc[:, num_features]\n",
    "X_test = X_test.iloc[:, num_features]"
   ],
   "metadata": {
    "collapsed": false,
    "pycharm": {
     "name": "#%%\n"
    }
   }
  },
  {
   "cell_type": "code",
   "execution_count": 59,
   "outputs": [
    {
     "data": {
      "text/plain": "      MSSubClass  LotFrontage  LotArea  OverallQual  OverallCond  YearBuilt  \\\n1353        50.0    56.000000  14720.0          8.0          5.0     1995.0   \n737         60.0    72.000000  10463.0          8.0          5.0     2005.0   \n1014        20.0    60.000000  11664.0          6.0          5.0     1948.0   \n903         20.0    50.000000  14859.0          7.0          5.0     2006.0   \n1160       160.0    24.000000   2280.0          6.0          5.0     1978.0   \n...          ...          ...      ...          ...          ...        ...   \n133         20.0   108.315898   6853.0          8.0          5.0     2001.0   \n1289        60.0    86.000000  11065.0          8.0          5.0     2006.0   \n180        160.0    70.999273   2117.0          6.0          5.0     2000.0   \n1291       160.0    21.000000   1680.0          5.0          7.0     1972.0   \n982         20.0    43.000000   3182.0          7.0          5.0     2007.0   \n\n      MasVnrArea  BsmtFinSF1  BsmtFinSF2  BsmtUnfSF  ...  WoodDeckSF  \\\n1353       579.0       816.0         0.0     1217.0  ...       283.0   \n737          0.0         0.0         0.0      893.0  ...         0.0   \n1014       206.0       336.0         0.0      746.0  ...         0.0   \n903         27.0         0.0         0.0     1670.0  ...       144.0   \n1160         0.0       311.0         0.0      544.0  ...        26.0   \n...          ...         ...         ...        ...  ...         ...   \n133        136.0      1005.0         0.0      262.0  ...       192.0   \n1289       788.0         0.0         0.0     1085.0  ...       177.0   \n180        456.0       436.0         0.0      320.0  ...         0.0   \n1291       268.0       231.0         0.0      399.0  ...       185.0   \n982         16.0         0.0         0.0     1266.0  ...       100.0   \n\n      OpenPorchSF  EnclosedPorch  3SsnPorch  ScreenPorch  PoolArea  MiscVal  \\\n1353         86.0            0.0        0.0          0.0       0.0      0.0   \n737         116.0            0.0        0.0          0.0       0.0      0.0   \n1014        130.0            0.0        0.0          0.0       0.0      0.0   \n903          60.0            0.0        0.0          0.0       0.0      0.0   \n1160          0.0            0.0        0.0          0.0       0.0      0.0   \n...           ...            ...        ...          ...       ...      ...   \n133          25.0            0.0        0.0          0.0       0.0      0.0   \n1289         74.0            0.0        0.0          0.0       0.0      0.0   \n180           0.0            0.0        0.0          0.0       0.0      0.0   \n1291          0.0            0.0        0.0          0.0       0.0      0.0   \n982          16.0            0.0        0.0          0.0       0.0      0.0   \n\n      TotalSF  Total_sqr_footage  Total_porch_sf  \n1353   5271.0             4054.0           369.0  \n737    2694.0             1801.0           116.0  \n1014   2164.0             1418.0           130.0  \n903    3340.0             1670.0           204.0  \n1160   2311.0             1767.0            26.0  \n...       ...                ...             ...  \n133    2563.0             2301.0           217.0  \n1289   3055.0             1970.0           251.0  \n180    2281.0             1961.0             0.0  \n1291   1932.0             1533.0           185.0  \n982    2532.0             1266.0           116.0  \n\n[1166 rows x 36 columns]",
      "text/html": "<div>\n<style scoped>\n    .dataframe tbody tr th:only-of-type {\n        vertical-align: middle;\n    }\n\n    .dataframe tbody tr th {\n        vertical-align: top;\n    }\n\n    .dataframe thead th {\n        text-align: right;\n    }\n</style>\n<table border=\"1\" class=\"dataframe\">\n  <thead>\n    <tr style=\"text-align: right;\">\n      <th></th>\n      <th>MSSubClass</th>\n      <th>LotFrontage</th>\n      <th>LotArea</th>\n      <th>OverallQual</th>\n      <th>OverallCond</th>\n      <th>YearBuilt</th>\n      <th>MasVnrArea</th>\n      <th>BsmtFinSF1</th>\n      <th>BsmtFinSF2</th>\n      <th>BsmtUnfSF</th>\n      <th>...</th>\n      <th>WoodDeckSF</th>\n      <th>OpenPorchSF</th>\n      <th>EnclosedPorch</th>\n      <th>3SsnPorch</th>\n      <th>ScreenPorch</th>\n      <th>PoolArea</th>\n      <th>MiscVal</th>\n      <th>TotalSF</th>\n      <th>Total_sqr_footage</th>\n      <th>Total_porch_sf</th>\n    </tr>\n  </thead>\n  <tbody>\n    <tr>\n      <th>1353</th>\n      <td>50.0</td>\n      <td>56.000000</td>\n      <td>14720.0</td>\n      <td>8.0</td>\n      <td>5.0</td>\n      <td>1995.0</td>\n      <td>579.0</td>\n      <td>816.0</td>\n      <td>0.0</td>\n      <td>1217.0</td>\n      <td>...</td>\n      <td>283.0</td>\n      <td>86.0</td>\n      <td>0.0</td>\n      <td>0.0</td>\n      <td>0.0</td>\n      <td>0.0</td>\n      <td>0.0</td>\n      <td>5271.0</td>\n      <td>4054.0</td>\n      <td>369.0</td>\n    </tr>\n    <tr>\n      <th>737</th>\n      <td>60.0</td>\n      <td>72.000000</td>\n      <td>10463.0</td>\n      <td>8.0</td>\n      <td>5.0</td>\n      <td>2005.0</td>\n      <td>0.0</td>\n      <td>0.0</td>\n      <td>0.0</td>\n      <td>893.0</td>\n      <td>...</td>\n      <td>0.0</td>\n      <td>116.0</td>\n      <td>0.0</td>\n      <td>0.0</td>\n      <td>0.0</td>\n      <td>0.0</td>\n      <td>0.0</td>\n      <td>2694.0</td>\n      <td>1801.0</td>\n      <td>116.0</td>\n    </tr>\n    <tr>\n      <th>1014</th>\n      <td>20.0</td>\n      <td>60.000000</td>\n      <td>11664.0</td>\n      <td>6.0</td>\n      <td>5.0</td>\n      <td>1948.0</td>\n      <td>206.0</td>\n      <td>336.0</td>\n      <td>0.0</td>\n      <td>746.0</td>\n      <td>...</td>\n      <td>0.0</td>\n      <td>130.0</td>\n      <td>0.0</td>\n      <td>0.0</td>\n      <td>0.0</td>\n      <td>0.0</td>\n      <td>0.0</td>\n      <td>2164.0</td>\n      <td>1418.0</td>\n      <td>130.0</td>\n    </tr>\n    <tr>\n      <th>903</th>\n      <td>20.0</td>\n      <td>50.000000</td>\n      <td>14859.0</td>\n      <td>7.0</td>\n      <td>5.0</td>\n      <td>2006.0</td>\n      <td>27.0</td>\n      <td>0.0</td>\n      <td>0.0</td>\n      <td>1670.0</td>\n      <td>...</td>\n      <td>144.0</td>\n      <td>60.0</td>\n      <td>0.0</td>\n      <td>0.0</td>\n      <td>0.0</td>\n      <td>0.0</td>\n      <td>0.0</td>\n      <td>3340.0</td>\n      <td>1670.0</td>\n      <td>204.0</td>\n    </tr>\n    <tr>\n      <th>1160</th>\n      <td>160.0</td>\n      <td>24.000000</td>\n      <td>2280.0</td>\n      <td>6.0</td>\n      <td>5.0</td>\n      <td>1978.0</td>\n      <td>0.0</td>\n      <td>311.0</td>\n      <td>0.0</td>\n      <td>544.0</td>\n      <td>...</td>\n      <td>26.0</td>\n      <td>0.0</td>\n      <td>0.0</td>\n      <td>0.0</td>\n      <td>0.0</td>\n      <td>0.0</td>\n      <td>0.0</td>\n      <td>2311.0</td>\n      <td>1767.0</td>\n      <td>26.0</td>\n    </tr>\n    <tr>\n      <th>...</th>\n      <td>...</td>\n      <td>...</td>\n      <td>...</td>\n      <td>...</td>\n      <td>...</td>\n      <td>...</td>\n      <td>...</td>\n      <td>...</td>\n      <td>...</td>\n      <td>...</td>\n      <td>...</td>\n      <td>...</td>\n      <td>...</td>\n      <td>...</td>\n      <td>...</td>\n      <td>...</td>\n      <td>...</td>\n      <td>...</td>\n      <td>...</td>\n      <td>...</td>\n      <td>...</td>\n    </tr>\n    <tr>\n      <th>133</th>\n      <td>20.0</td>\n      <td>108.315898</td>\n      <td>6853.0</td>\n      <td>8.0</td>\n      <td>5.0</td>\n      <td>2001.0</td>\n      <td>136.0</td>\n      <td>1005.0</td>\n      <td>0.0</td>\n      <td>262.0</td>\n      <td>...</td>\n      <td>192.0</td>\n      <td>25.0</td>\n      <td>0.0</td>\n      <td>0.0</td>\n      <td>0.0</td>\n      <td>0.0</td>\n      <td>0.0</td>\n      <td>2563.0</td>\n      <td>2301.0</td>\n      <td>217.0</td>\n    </tr>\n    <tr>\n      <th>1289</th>\n      <td>60.0</td>\n      <td>86.000000</td>\n      <td>11065.0</td>\n      <td>8.0</td>\n      <td>5.0</td>\n      <td>2006.0</td>\n      <td>788.0</td>\n      <td>0.0</td>\n      <td>0.0</td>\n      <td>1085.0</td>\n      <td>...</td>\n      <td>177.0</td>\n      <td>74.0</td>\n      <td>0.0</td>\n      <td>0.0</td>\n      <td>0.0</td>\n      <td>0.0</td>\n      <td>0.0</td>\n      <td>3055.0</td>\n      <td>1970.0</td>\n      <td>251.0</td>\n    </tr>\n    <tr>\n      <th>180</th>\n      <td>160.0</td>\n      <td>70.999273</td>\n      <td>2117.0</td>\n      <td>6.0</td>\n      <td>5.0</td>\n      <td>2000.0</td>\n      <td>456.0</td>\n      <td>436.0</td>\n      <td>0.0</td>\n      <td>320.0</td>\n      <td>...</td>\n      <td>0.0</td>\n      <td>0.0</td>\n      <td>0.0</td>\n      <td>0.0</td>\n      <td>0.0</td>\n      <td>0.0</td>\n      <td>0.0</td>\n      <td>2281.0</td>\n      <td>1961.0</td>\n      <td>0.0</td>\n    </tr>\n    <tr>\n      <th>1291</th>\n      <td>160.0</td>\n      <td>21.000000</td>\n      <td>1680.0</td>\n      <td>5.0</td>\n      <td>7.0</td>\n      <td>1972.0</td>\n      <td>268.0</td>\n      <td>231.0</td>\n      <td>0.0</td>\n      <td>399.0</td>\n      <td>...</td>\n      <td>185.0</td>\n      <td>0.0</td>\n      <td>0.0</td>\n      <td>0.0</td>\n      <td>0.0</td>\n      <td>0.0</td>\n      <td>0.0</td>\n      <td>1932.0</td>\n      <td>1533.0</td>\n      <td>185.0</td>\n    </tr>\n    <tr>\n      <th>982</th>\n      <td>20.0</td>\n      <td>43.000000</td>\n      <td>3182.0</td>\n      <td>7.0</td>\n      <td>5.0</td>\n      <td>2007.0</td>\n      <td>16.0</td>\n      <td>0.0</td>\n      <td>0.0</td>\n      <td>1266.0</td>\n      <td>...</td>\n      <td>100.0</td>\n      <td>16.0</td>\n      <td>0.0</td>\n      <td>0.0</td>\n      <td>0.0</td>\n      <td>0.0</td>\n      <td>0.0</td>\n      <td>2532.0</td>\n      <td>1266.0</td>\n      <td>116.0</td>\n    </tr>\n  </tbody>\n</table>\n<p>1166 rows × 36 columns</p>\n</div>"
     },
     "execution_count": 59,
     "metadata": {},
     "output_type": "execute_result"
    }
   ],
   "source": [
    "X_train"
   ],
   "metadata": {
    "collapsed": false,
    "pycharm": {
     "name": "#%%\n"
    }
   }
  },
  {
   "cell_type": "code",
   "execution_count": 60,
   "outputs": [
    {
     "name": "stdout",
     "output_type": "stream",
     "text": [
      "RMSLE: 0.12549784715362078\n",
      "RMSLE: 0.12763892439720836\n"
     ]
    }
   ],
   "source": [
    "clf = linear_model.BayesianRidge()\n",
    "clf.fit(X_train, y_train)\n",
    "\n",
    "evaluate(clf, X_train, y_train)\n",
    "evaluate(clf, X_test, y_test)"
   ],
   "metadata": {
    "collapsed": false,
    "pycharm": {
     "name": "#%%\n"
    }
   }
  },
  {
   "cell_type": "code",
   "execution_count": 79,
   "outputs": [
    {
     "name": "stdout",
     "output_type": "stream",
     "text": [
      "Int64Index([523, 1298], dtype='int64')\n"
     ]
    }
   ],
   "source": [
    "data = pd.read_csv(\"./train.csv\")\n",
    "data = data.drop(columns=[\"Id\"])\n",
    "\n",
    "data = remove_outliers(data, True)\n",
    "\n",
    "y = np.log1p(data[\"SalePrice\"])\n",
    "X = data.drop(columns=[\"SalePrice\"])\n",
    "\n",
    "transformer = DataTransformer(StandardScaler())\n",
    "X = transformer.prepare(X)\n",
    "\n",
    "transformer.fit(X)\n",
    "\n",
    "X = transformer.transform(X, False)\n",
    "\n",
    "num_features = np.where(X.loc[:, X.columns.values].dtypes != \"object\")[0]\n",
    "\n",
    "validation = pd.read_csv(\"./test.csv\")\n",
    "raw_val = validation.copy()\n",
    "val_ids = validation[\"Id\"]\n",
    "validation = validation.drop(columns=[\"Id\"])\n",
    "\n",
    "validation = transformer.prepare(validation)\n",
    "validation = transformer.transform(validation, False)\n",
    "\n",
    "X = X.iloc[:, num_features]\n",
    "validation = validation.iloc[:, num_features]"
   ],
   "metadata": {
    "collapsed": false,
    "pycharm": {
     "name": "#%%\n"
    }
   }
  },
  {
   "cell_type": "code",
   "execution_count": 80,
   "outputs": [
    {
     "name": "stdout",
     "output_type": "stream",
     "text": [
      "RMSLE: 0.1257516790350755\n",
      "RMSLE submission: 0.1461998310214446\n"
     ]
    }
   ],
   "source": [
    "clf = linear_model.BayesianRidge()\n",
    "clf.fit(X_train, y_train)\n",
    "\n",
    "evaluate(clf, X, y)\n",
    "\n",
    "sub_predictions = clf.predict(validation)\n",
    "print(\"RMSLE submission: \" + str(rmsle(sub_predictions, np.log1p(cheat[\"SalePrice\"]))))"
   ],
   "metadata": {
    "collapsed": false,
    "pycharm": {
     "name": "#%%\n"
    }
   }
  },
  {
   "cell_type": "code",
   "execution_count": 81,
   "outputs": [
    {
     "data": {
      "text/plain": "[<matplotlib.lines.Line2D at 0x1ad8f478fc8>]"
     },
     "execution_count": 81,
     "metadata": {},
     "output_type": "execute_result"
    },
    {
     "data": {
      "text/plain": "<Figure size 936x576 with 1 Axes>",
      "image/png": "[encoded data removed]"
     },
     "metadata": {},
     "output_type": "display_data"
    }
   ],
   "source": [
    "plt.figure(figsize=(13,8))\n",
    "plt.scatter(np.log1p(cheat[\"SalePrice\"]), sub_predictions, color='black')\n",
    "plt.plot(np.linspace(9.5, 13.5, 2), np.linspace(9.5, 13.5, 2), c = 'r')"
   ],
   "metadata": {
    "collapsed": false,
    "pycharm": {
     "name": "#%%\n"
    }
   }
  },
  {
   "cell_type": "code",
   "execution_count": 82,
   "outputs": [
    {
     "data": {
      "text/plain": "     MSSubClass  LotFrontage  LotArea  OverallQual  OverallCond  YearBuilt  \\\n76         30.0         68.0   9656.0          2.0          2.0     1923.0   \n756        20.0         80.0  14584.0          1.0          5.0     1952.0   \n\n     MasVnrArea  BsmtFinSF1  BsmtFinSF2  BsmtUnfSF  ...  WoodDeckSF  \\\n76          0.0         0.0         0.0      678.0  ...         0.0   \n756         0.0         0.0         0.0        0.0  ...         0.0   \n\n     OpenPorchSF  EnclosedPorch  3SsnPorch  ScreenPorch  PoolArea  MiscVal  \\\n76           0.0            0.0        0.0          0.0       0.0      0.0   \n756          0.0            0.0        0.0          0.0       0.0      0.0   \n\n     TotalSF  Total_sqr_footage  Total_porch_sf  \n76    1510.0              832.0             0.0  \n756    733.0              733.0             0.0  \n\n[2 rows x 36 columns]",
      "text/html": "<div>\n<style scoped>\n    .dataframe tbody tr th:only-of-type {\n        vertical-align: middle;\n    }\n\n    .dataframe tbody tr th {\n        vertical-align: top;\n    }\n\n    .dataframe thead th {\n        text-align: right;\n    }\n</style>\n<table border=\"1\" class=\"dataframe\">\n  <thead>\n    <tr style=\"text-align: right;\">\n      <th></th>\n      <th>MSSubClass</th>\n      <th>LotFrontage</th>\n      <th>LotArea</th>\n      <th>OverallQual</th>\n      <th>OverallCond</th>\n      <th>YearBuilt</th>\n      <th>MasVnrArea</th>\n      <th>BsmtFinSF1</th>\n      <th>BsmtFinSF2</th>\n      <th>BsmtUnfSF</th>\n      <th>...</th>\n      <th>WoodDeckSF</th>\n      <th>OpenPorchSF</th>\n      <th>EnclosedPorch</th>\n      <th>3SsnPorch</th>\n      <th>ScreenPorch</th>\n      <th>PoolArea</th>\n      <th>MiscVal</th>\n      <th>TotalSF</th>\n      <th>Total_sqr_footage</th>\n      <th>Total_porch_sf</th>\n    </tr>\n  </thead>\n  <tbody>\n    <tr>\n      <th>76</th>\n      <td>30.0</td>\n      <td>68.0</td>\n      <td>9656.0</td>\n      <td>2.0</td>\n      <td>2.0</td>\n      <td>1923.0</td>\n      <td>0.0</td>\n      <td>0.0</td>\n      <td>0.0</td>\n      <td>678.0</td>\n      <td>...</td>\n      <td>0.0</td>\n      <td>0.0</td>\n      <td>0.0</td>\n      <td>0.0</td>\n      <td>0.0</td>\n      <td>0.0</td>\n      <td>0.0</td>\n      <td>1510.0</td>\n      <td>832.0</td>\n      <td>0.0</td>\n    </tr>\n    <tr>\n      <th>756</th>\n      <td>20.0</td>\n      <td>80.0</td>\n      <td>14584.0</td>\n      <td>1.0</td>\n      <td>5.0</td>\n      <td>1952.0</td>\n      <td>0.0</td>\n      <td>0.0</td>\n      <td>0.0</td>\n      <td>0.0</td>\n      <td>...</td>\n      <td>0.0</td>\n      <td>0.0</td>\n      <td>0.0</td>\n      <td>0.0</td>\n      <td>0.0</td>\n      <td>0.0</td>\n      <td>0.0</td>\n      <td>733.0</td>\n      <td>733.0</td>\n      <td>0.0</td>\n    </tr>\n  </tbody>\n</table>\n<p>2 rows × 36 columns</p>\n</div>"
     },
     "execution_count": 82,
     "metadata": {},
     "output_type": "execute_result"
    }
   ],
   "source": [
    "outlier_id = np.where(np.log1p(cheat[\"SalePrice\"]) < 10)[0]\n",
    "validation.loc[outlier_id]"
   ],
   "metadata": {
    "collapsed": false,
    "pycharm": {
     "name": "#%%\n"
    }
   }
  },
  {
   "cell_type": "code",
   "execution_count": 83,
   "outputs": [
    {
     "data": {
      "text/plain": "        Id  MSSubClass MSZoning  LotFrontage  LotArea Street Alley LotShape  \\\n0     1461          20       RH         80.0    11622   Pave   NaN      Reg   \n1     1462          20       RL         81.0    14267   Pave   NaN      IR1   \n2     1463          60       RL         74.0    13830   Pave   NaN      IR1   \n3     1464          60       RL         78.0     9978   Pave   NaN      IR1   \n4     1465         120       RL         43.0     5005   Pave   NaN      IR1   \n...    ...         ...      ...          ...      ...    ...   ...      ...   \n1454  2915         160       RM         21.0     1936   Pave   NaN      Reg   \n1455  2916         160       RM         21.0     1894   Pave   NaN      Reg   \n1456  2917          20       RL        160.0    20000   Pave   NaN      Reg   \n1457  2918          85       RL         62.0    10441   Pave   NaN      Reg   \n1458  2919          60       RL         74.0     9627   Pave   NaN      Reg   \n\n     LandContour Utilities  ... ScreenPorch PoolArea PoolQC  Fence  \\\n0            Lvl    AllPub  ...         120        0    NaN  MnPrv   \n1            Lvl    AllPub  ...           0        0    NaN    NaN   \n2            Lvl    AllPub  ...           0        0    NaN  MnPrv   \n3            Lvl    AllPub  ...           0        0    NaN    NaN   \n4            HLS    AllPub  ...         144        0    NaN    NaN   \n...          ...       ...  ...         ...      ...    ...    ...   \n1454         Lvl    AllPub  ...           0        0    NaN    NaN   \n1455         Lvl    AllPub  ...           0        0    NaN    NaN   \n1456         Lvl    AllPub  ...           0        0    NaN    NaN   \n1457         Lvl    AllPub  ...           0        0    NaN  MnPrv   \n1458         Lvl    AllPub  ...           0        0    NaN    NaN   \n\n     MiscFeature MiscVal MoSold  YrSold  SaleType  SaleCondition  \n0            NaN       0      6    2010        WD         Normal  \n1           Gar2   12500      6    2010        WD         Normal  \n2            NaN       0      3    2010        WD         Normal  \n3            NaN       0      6    2010        WD         Normal  \n4            NaN       0      1    2010        WD         Normal  \n...          ...     ...    ...     ...       ...            ...  \n1454         NaN       0      6    2006        WD         Normal  \n1455         NaN       0      4    2006        WD        Abnorml  \n1456         NaN       0      9    2006        WD        Abnorml  \n1457        Shed     700      7    2006        WD         Normal  \n1458         NaN       0     11    2006        WD         Normal  \n\n[1459 rows x 80 columns]",
      "text/html": "<div>\n<style scoped>\n    .dataframe tbody tr th:only-of-type {\n        vertical-align: middle;\n    }\n\n    .dataframe tbody tr th {\n        vertical-align: top;\n    }\n\n    .dataframe thead th {\n        text-align: right;\n    }\n</style>\n<table border=\"1\" class=\"dataframe\">\n  <thead>\n    <tr style=\"text-align: right;\">\n      <th></th>\n      <th>Id</th>\n      <th>MSSubClass</th>\n      <th>MSZoning</th>\n      <th>LotFrontage</th>\n      <th>LotArea</th>\n      <th>Street</th>\n      <th>Alley</th>\n      <th>LotShape</th>\n      <th>LandContour</th>\n      <th>Utilities</th>\n      <th>...</th>\n      <th>ScreenPorch</th>\n      <th>PoolArea</th>\n      <th>PoolQC</th>\n      <th>Fence</th>\n      <th>MiscFeature</th>\n      <th>MiscVal</th>\n      <th>MoSold</th>\n      <th>YrSold</th>\n      <th>SaleType</th>\n      <th>SaleCondition</th>\n    </tr>\n  </thead>\n  <tbody>\n    <tr>\n      <th>0</th>\n      <td>1461</td>\n      <td>20</td>\n      <td>RH</td>\n      <td>80.0</td>\n      <td>11622</td>\n      <td>Pave</td>\n      <td>NaN</td>\n      <td>Reg</td>\n      <td>Lvl</td>\n      <td>AllPub</td>\n      <td>...</td>\n      <td>120</td>\n      <td>0</td>\n      <td>NaN</td>\n      <td>MnPrv</td>\n      <td>NaN</td>\n      <td>0</td>\n      <td>6</td>\n      <td>2010</td>\n      <td>WD</td>\n      <td>Normal</td>\n    </tr>\n    <tr>\n      <th>1</th>\n      <td>1462</td>\n      <td>20</td>\n      <td>RL</td>\n      <td>81.0</td>\n      <td>14267</td>\n      <td>Pave</td>\n      <td>NaN</td>\n      <td>IR1</td>\n      <td>Lvl</td>\n      <td>AllPub</td>\n      <td>...</td>\n      <td>0</td>\n      <td>0</td>\n      <td>NaN</td>\n      <td>NaN</td>\n      <td>Gar2</td>\n      <td>12500</td>\n      <td>6</td>\n      <td>2010</td>\n      <td>WD</td>\n      <td>Normal</td>\n    </tr>\n    <tr>\n      <th>2</th>\n      <td>1463</td>\n      <td>60</td>\n      <td>RL</td>\n      <td>74.0</td>\n      <td>13830</td>\n      <td>Pave</td>\n      <td>NaN</td>\n      <td>IR1</td>\n      <td>Lvl</td>\n      <td>AllPub</td>\n      <td>...</td>\n      <td>0</td>\n      <td>0</td>\n      <td>NaN</td>\n      <td>MnPrv</td>\n      <td>NaN</td>\n      <td>0</td>\n      <td>3</td>\n      <td>2010</td>\n      <td>WD</td>\n      <td>Normal</td>\n    </tr>\n    <tr>\n      <th>3</th>\n      <td>1464</td>\n      <td>60</td>\n      <td>RL</td>\n      <td>78.0</td>\n      <td>9978</td>\n      <td>Pave</td>\n      <td>NaN</td>\n      <td>IR1</td>\n      <td>Lvl</td>\n      <td>AllPub</td>\n      <td>...</td>\n      <td>0</td>\n      <td>0</td>\n      <td>NaN</td>\n      <td>NaN</td>\n      <td>NaN</td>\n      <td>0</td>\n      <td>6</td>\n      <td>2010</td>\n      <td>WD</td>\n      <td>Normal</td>\n    </tr>\n    <tr>\n      <th>4</th>\n      <td>1465</td>\n      <td>120</td>\n      <td>RL</td>\n      <td>43.0</td>\n      <td>5005</td>\n      <td>Pave</td>\n      <td>NaN</td>\n      <td>IR1</td>\n      <td>HLS</td>\n      <td>AllPub</td>\n      <td>...</td>\n      <td>144</td>\n      <td>0</td>\n      <td>NaN</td>\n      <td>NaN</td>\n      <td>NaN</td>\n      <td>0</td>\n      <td>1</td>\n      <td>2010</td>\n      <td>WD</td>\n      <td>Normal</td>\n    </tr>\n    <tr>\n      <th>...</th>\n      <td>...</td>\n      <td>...</td>\n      <td>...</td>\n      <td>...</td>\n      <td>...</td>\n      <td>...</td>\n      <td>...</td>\n      <td>...</td>\n      <td>...</td>\n      <td>...</td>\n      <td>...</td>\n      <td>...</td>\n      <td>...</td>\n      <td>...</td>\n      <td>...</td>\n      <td>...</td>\n      <td>...</td>\n      <td>...</td>\n      <td>...</td>\n      <td>...</td>\n      <td>...</td>\n    </tr>\n    <tr>\n      <th>1454</th>\n      <td>2915</td>\n      <td>160</td>\n      <td>RM</td>\n      <td>21.0</td>\n      <td>1936</td>\n      <td>Pave</td>\n      <td>NaN</td>\n      <td>Reg</td>\n      <td>Lvl</td>\n      <td>AllPub</td>\n      <td>...</td>\n      <td>0</td>\n      <td>0</td>\n      <td>NaN</td>\n      <td>NaN</td>\n      <td>NaN</td>\n      <td>0</td>\n      <td>6</td>\n      <td>2006</td>\n      <td>WD</td>\n      <td>Normal</td>\n    </tr>\n    <tr>\n      <th>1455</th>\n      <td>2916</td>\n      <td>160</td>\n      <td>RM</td>\n      <td>21.0</td>\n      <td>1894</td>\n      <td>Pave</td>\n      <td>NaN</td>\n      <td>Reg</td>\n      <td>Lvl</td>\n      <td>AllPub</td>\n      <td>...</td>\n      <td>0</td>\n      <td>0</td>\n      <td>NaN</td>\n      <td>NaN</td>\n      <td>NaN</td>\n      <td>0</td>\n      <td>4</td>\n      <td>2006</td>\n      <td>WD</td>\n      <td>Abnorml</td>\n    </tr>\n    <tr>\n      <th>1456</th>\n      <td>2917</td>\n      <td>20</td>\n      <td>RL</td>\n      <td>160.0</td>\n      <td>20000</td>\n      <td>Pave</td>\n      <td>NaN</td>\n      <td>Reg</td>\n      <td>Lvl</td>\n      <td>AllPub</td>\n      <td>...</td>\n      <td>0</td>\n      <td>0</td>\n      <td>NaN</td>\n      <td>NaN</td>\n      <td>NaN</td>\n      <td>0</td>\n      <td>9</td>\n      <td>2006</td>\n      <td>WD</td>\n      <td>Abnorml</td>\n    </tr>\n    <tr>\n      <th>1457</th>\n      <td>2918</td>\n      <td>85</td>\n      <td>RL</td>\n      <td>62.0</td>\n      <td>10441</td>\n      <td>Pave</td>\n      <td>NaN</td>\n      <td>Reg</td>\n      <td>Lvl</td>\n      <td>AllPub</td>\n      <td>...</td>\n      <td>0</td>\n      <td>0</td>\n      <td>NaN</td>\n      <td>MnPrv</td>\n      <td>Shed</td>\n      <td>700</td>\n      <td>7</td>\n      <td>2006</td>\n      <td>WD</td>\n      <td>Normal</td>\n    </tr>\n    <tr>\n      <th>1458</th>\n      <td>2919</td>\n      <td>60</td>\n      <td>RL</td>\n      <td>74.0</td>\n      <td>9627</td>\n      <td>Pave</td>\n      <td>NaN</td>\n      <td>Reg</td>\n      <td>Lvl</td>\n      <td>AllPub</td>\n      <td>...</td>\n      <td>0</td>\n      <td>0</td>\n      <td>NaN</td>\n      <td>NaN</td>\n      <td>NaN</td>\n      <td>0</td>\n      <td>11</td>\n      <td>2006</td>\n      <td>WD</td>\n      <td>Normal</td>\n    </tr>\n  </tbody>\n</table>\n<p>1459 rows × 80 columns</p>\n</div>"
     },
     "execution_count": 83,
     "metadata": {},
     "output_type": "execute_result"
    }
   ],
   "source": [
    "raw_val"
   ],
   "metadata": {
    "collapsed": false,
    "pycharm": {
     "name": "#%%\n"
    }
   }
  },
  {
   "cell_type": "code",
   "execution_count": null,
   "outputs": [],
   "source": [],
   "metadata": {
    "collapsed": false,
    "pycharm": {
     "name": "#%%\n"
    }
   }
  }
 ],
 "metadata": {
  "kernelspec": {
   "display_name": "Python 3",
   "language": "python",
   "name": "python3"
  },
  "language_info": {
   "codemirror_mode": {
    "name": "ipython",
    "version": 2
   },
   "file_extension": ".py",
   "mimetype": "text/x-python",
   "name": "python",
   "nbconvert_exporter": "python",
   "pygments_lexer": "ipython2",
   "version": "2.7.6"
  }
 },
 "nbformat": 4,
 "nbformat_minor": 0
}