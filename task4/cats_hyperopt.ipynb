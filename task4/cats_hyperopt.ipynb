{
 "cells": [
  {
   "cell_type": "code",
   "execution_count": 50,
   "outputs": [
    {
     "name": "stdout",
     "output_type": "stream",
     "text": [
      "The autoreload extension is already loaded. To reload it, use:\n",
      "  %reload_ext autoreload\n"
     ]
    }
   ],
   "source": [
    "import matplotlib.pyplot as plt\n",
    "import seaborn as sns\n",
    "import pandas as pd\n",
    "import numpy as np\n",
    "import warnings\n",
    "from sklearn.model_selection import train_test_split\n",
    "import xgboost as xgb\n",
    "from sklearn.preprocessing import OneHotEncoder\n",
    "from sklearn.model_selection import GridSearchCV\n",
    "from sklearn.model_selection import cross_val_score\n",
    "from sklearn import metrics\n",
    "from data_processing import *\n",
    "from sklearn.preprocessing import MinMaxScaler\n",
    "from sklearn.impute import SimpleImputer\n",
    "from sklearn.preprocessing import StandardScaler\n",
    "from sklearn.ensemble import RandomForestRegressor\n",
    "from data_transformar import *\n",
    "import lightgbm as lgb\n",
    "from sklearn.decomposition import PCA\n",
    "from catboost import CatBoostRegressor, Pool\n",
    "\n",
    "warnings.simplefilter(\"ignore\")\n",
    "%matplotlib inline\n",
    "%load_ext autoreload\n",
    "%autoreload 2\n",
    "\n",
    "sns.set(style=\"darkgrid\")"
   ],
   "metadata": {
    "collapsed": false,
    "pycharm": {
     "name": "#%%\n"
    }
   }
  },
  {
   "cell_type": "code",
   "execution_count": 51,
   "outputs": [],
   "source": [
    "from sklearn.metrics import mean_squared_error\n",
    "\n",
    "cheat = pd.read_csv(\"./result-with-best.csv\")\n",
    "\n",
    "def rmsle(y, y_pred):\n",
    "    return np.sqrt(mean_squared_error(y, y_pred))\n",
    "\n",
    "def cheat_score(model, val):\n",
    "    print(\"RMSLE sub: \" + str(rmsle(model.predict(val), np.log1p(cheat[\"SalePrice\"]))))\n",
    "\n",
    "def to_categorical(X):\n",
    "    for c in X.columns:\n",
    "        col_type = X[c].dtype\n",
    "        if col_type == 'object' or col_type.name == 'category':\n",
    "            X[c] = X[c].astype('category')\n",
    "\n",
    "def evaluate(model, X, y):\n",
    "    preds = model.predict(X)\n",
    "    print(\"RMSLE: \" + str(rmsle(preds, y)))"
   ],
   "metadata": {
    "collapsed": false,
    "pycharm": {
     "name": "#%%\n"
    }
   }
  },
  {
   "cell_type": "code",
   "execution_count": 52,
   "outputs": [
    {
     "name": "stdout",
     "output_type": "stream",
     "text": [
      "Int64Index([249, 313, 335, 523, 706, 1298], dtype='int64')\n"
     ]
    }
   ],
   "source": [
    "data = pd.read_csv(\"./train.csv\")\n",
    "data = data.drop(columns=[\"Id\"])\n",
    "\n",
    "data = remove_outliers(data)\n",
    "\n",
    "y = np.log1p(data[\"SalePrice\"])\n",
    "X = data.drop(columns=[\"SalePrice\"])\n",
    "\n",
    "X_train, X_test, y_train, y_test = train_test_split(X, y, test_size=0.2, random_state=98987)\n",
    "X_train_orig = X_train.copy()\n",
    "\n",
    "transformer = DataTransformer(StandardScaler())\n",
    "\n",
    "X_train = transformer.prepare(X_train)\n",
    "X_test = transformer.prepare(X_test)\n",
    "\n",
    "transformer.fit(X_train)\n",
    "\n",
    "X_train = transformer.transform(X_train, False)\n",
    "X_test = transformer.transform(X_test, False)"
   ],
   "metadata": {
    "collapsed": false,
    "pycharm": {
     "name": "#%%\n"
    }
   }
  },
  {
   "cell_type": "code",
   "execution_count": 53,
   "outputs": [
    {
     "data": {
      "text/plain": "      MSSubClass MSZoning  LotFrontage  LotArea Street Alley LotShape  \\\n1410        60.0       RL    79.000000  12420.0   Pave  None      Reg   \n723         50.0       RL    60.000000   8172.0   Pave  None      Reg   \n1371        80.0       RL    80.000000   9600.0   Pave  None      Reg   \n1440        70.0       RL    79.000000  11526.0   Pave  None      IR1   \n383         45.0       RH    60.000000   9000.0   Pave  None      Reg   \n360         85.0       RL    50.289446   7540.0   Pave  None      IR1   \n219        120.0       RL    43.000000   3010.0   Pave  None      Reg   \n513         20.0       RL    71.000000   9187.0   Pave  None      Reg   \n1170        80.0       RL    76.000000   9880.0   Pave  None      Reg   \n1227        20.0       RL    72.000000   8872.0   Pave  None      Reg   \n1291       160.0       RM    21.000000   1680.0   Pave  None      Reg   \n734         20.0       RL    89.549166   8978.0   Pave  None      IR1   \n708         60.0       RL    65.000000   9018.0   Pave  None      IR1   \n309         20.0       RL    90.000000  12378.0   Pave  None      IR1   \n1194        60.0       RL    80.000000   9364.0   Pave  None      Reg   \n858         20.0       RL    80.000000  10400.0   Pave  None      Reg   \n124         20.0       RL    48.000000  17043.0   Pave  None      IR1   \n95          60.0       RL   139.205764   9765.0   Pave  None      IR2   \n468         20.0       RL    98.000000  11428.0   Pave  None      IR1   \n179         30.0       RM    60.000000   8520.0   Pave  None      Reg   \n969        190.0       RL    75.000000  10382.0   Pave  None      Reg   \n759         60.0       RL    65.000000  12257.0   Pave  None      IR1   \n231         60.0       RL   174.000000  15138.0   Pave  None      IR1   \n1159        60.0       RL    76.000000   9120.0   Pave  None      Reg   \n783         85.0       RL    43.120234   9101.0   Pave  None      IR1   \n414         60.0       RL    59.000000  11228.0   Pave  None      IR2   \n426         80.0       RL    77.814424  12800.0   Pave  None      Reg   \n1029       160.0       RM    21.000000   1680.0   Pave  None      Reg   \n564         60.0       RL    39.921880  13346.0   Pave  None      IR1   \n1101        20.0       RL    61.000000   9758.0   Pave  None      IR1   \n842         80.0       RL    82.000000   9020.0   Pave  None      Reg   \n1015        60.0       RL    70.000000   8400.0   Pave  None      Reg   \n21          45.0       RM    57.000000   7449.0   Pave  Grvl      Reg   \n88          50.0  C (all)   105.000000   8470.0   Pave  None      IR1   \n649        180.0       RM    21.000000   1936.0   Pave  None      Reg   \n232        160.0       RM    21.000000   1680.0   Pave  None      Reg   \n302         20.0       RL   118.000000  13704.0   Pave  None      IR1   \n735         75.0       RM    60.000000  10800.0   Pave  None      Reg   \n288         20.0       RL    87.535161   9819.0   Pave  None      IR1   \n966         50.0       RL   130.000000   9600.0   Pave  None      IR1   \n319         80.0       RL    99.205624  14115.0   Pave  None      Reg   \n927         60.0       RL    62.107267   9900.0   Pave  None      Reg   \n\n     LandContour LotConfig LandSlope  ... ScreenPorch PoolArea PoolQC  Fence  \\\n1410         Lvl    Inside       Gtl  ...         0.0      0.0   None   None   \n723          Lvl    Inside       Gtl  ...       156.0      0.0   None   None   \n1371         Lvl    Inside       Gtl  ...       178.0      0.0   None  MnPrv   \n1440         Bnk    Inside       Mod  ...         0.0      0.0   None   None   \n383          Lvl    Corner       Gtl  ...         0.0      0.0   None   None   \n360          Lvl   CulDSac       Gtl  ...       192.0      0.0   None  MnPrv   \n219          Lvl    Inside       Gtl  ...         0.0      0.0   None   None   \n513          Bnk    Corner       Gtl  ...         0.0      0.0   None   None   \n1170         Lvl    Inside       Gtl  ...         0.0    576.0     Gd  GdPrv   \n1227         Lvl    Corner       Gtl  ...         0.0      0.0   None   None   \n1291         Lvl    Inside       Gtl  ...         0.0      0.0   None   None   \n734          Lvl    Corner       Gtl  ...         0.0      0.0   None   None   \n708          Lvl    Inside       Gtl  ...         0.0      0.0   None   None   \n309          Lvl    Inside       Gtl  ...         0.0      0.0   None   None   \n1194         Lvl    Corner       Gtl  ...         0.0      0.0   None  MnPrv   \n858          Lvl    Inside       Gtl  ...         0.0      0.0   None  MnPrv   \n124          Lvl   CulDSac       Gtl  ...         0.0      0.0   None   None   \n95           Lvl    Corner       Gtl  ...         0.0      0.0   None   None   \n468          Lvl    Inside       Gtl  ...         0.0      0.0   None   None   \n179          Lvl    Inside       Gtl  ...         0.0      0.0   None   None   \n969          Lvl    Inside       Gtl  ...         0.0      0.0   None   None   \n759          Lvl    Inside       Gtl  ...         0.0      0.0   None   None   \n231          Lvl    Inside       Gtl  ...         0.0      0.0   None   None   \n1159         Lvl    Inside       Gtl  ...         0.0      0.0   None   None   \n783          Lvl    Corner       Gtl  ...         0.0      0.0   None   None   \n414          Lvl   CulDSac       Gtl  ...         0.0      0.0   None   None   \n426          Low    Inside       Mod  ...       396.0      0.0   None   None   \n1029         Lvl    Inside       Gtl  ...         0.0      0.0   None   None   \n564          Lvl   CulDSac       Gtl  ...         0.0      0.0   None   None   \n1101         Lvl    Inside       Gtl  ...         0.0      0.0   None   None   \n842          Lvl    Inside       Gtl  ...         0.0      0.0   None  GdPrv   \n1015         Lvl    Inside       Gtl  ...         0.0      0.0   None   None   \n21           Bnk    Inside       Gtl  ...         0.0      0.0   None  GdPrv   \n88           Lvl    Corner       Gtl  ...         0.0      0.0   None  MnPrv   \n649          Lvl    Inside       Gtl  ...         0.0      0.0   None  MnPrv   \n232          Lvl    Inside       Gtl  ...         0.0      0.0   None   None   \n302          Lvl    Corner       Gtl  ...         0.0      0.0   None   None   \n735          Lvl    Inside       Gtl  ...         0.0      0.0   None   None   \n288          Lvl    Inside       Gtl  ...         0.0      0.0   None  MnPrv   \n966          HLS    Inside       Gtl  ...         0.0      0.0   None   None   \n319          Lvl    Inside       Gtl  ...         0.0      0.0   None   None   \n927          Lvl    Inside       Gtl  ...         0.0      0.0   None  GdPrv   \n\n     MiscFeature  MiscVal  MoSold  YrSold SaleType SaleCondition  \n1410        None      0.0     6.0  2009.0       WD        Normal  \n723         None      0.0     5.0  2008.0       WD        Normal  \n1371        None      0.0    10.0  2008.0       WD        Normal  \n1440        None      0.0     9.0  2008.0       WD        Normal  \n383         None      0.0    10.0  2009.0       WD        Normal  \n360         None      0.0     6.0  2007.0       WD        Normal  \n219         None      0.0     3.0  2006.0      New       Partial  \n513         None      0.0     6.0  2007.0       WD        Normal  \n1170        None      0.0     7.0  2008.0       WD        Normal  \n1227        None      0.0    12.0  2008.0       WD        Normal  \n1291        None      0.0     2.0  2009.0       WD        Normal  \n734         None      0.0     5.0  2007.0       WD        Family  \n708         None      0.0     7.0  2007.0      New       Partial  \n309         None      0.0    11.0  2006.0       WD        Normal  \n1194        None      0.0     3.0  2010.0       WD        Normal  \n858         None      0.0     6.0  2009.0       WD        Family  \n124         None      0.0     1.0  2009.0       WD        Normal  \n95          Shed    480.0     4.0  2009.0       WD        Normal  \n468         None      0.0     5.0  2007.0       WD        Normal  \n179         None      0.0     7.0  2007.0       WD        Normal  \n969         None      0.0     3.0  2006.0    ConLD        Normal  \n759         None      0.0    11.0  2007.0       WD        Normal  \n231         None      0.0     7.0  2009.0       WD        Normal  \n1159        None      0.0     7.0  2008.0       WD        Normal  \n783         None      0.0     7.0  2009.0       WD        Normal  \n414         None      0.0    12.0  2008.0       WD        Normal  \n426         None      0.0     8.0  2009.0       WD        Normal  \n1029        None      0.0     5.0  2006.0       WD        Normal  \n564         None      0.0     7.0  2006.0       WD        Normal  \n1101        None      0.0     7.0  2007.0       WD        Normal  \n842         None      0.0     5.0  2008.0       WD        Normal  \n1015        None      0.0    11.0  2009.0       WD        Normal  \n21          None      0.0     6.0  2007.0       WD        Normal  \n88          None      0.0    10.0  2009.0    ConLD       Abnorml  \n649         None      0.0    12.0  2007.0       WD        Normal  \n232         None      0.0     6.0  2006.0       WD        Normal  \n302         None      0.0     1.0  2006.0       WD        Normal  \n735         None      0.0    10.0  2006.0       WD        Normal  \n288         None      0.0     2.0  2010.0       WD        Normal  \n966         None      0.0     6.0  2009.0       WD        Normal  \n319         None      0.0     6.0  2009.0       WD        Normal  \n927         None      0.0     4.0  2008.0       WD        Normal  \n\n[42 rows x 77 columns]",
      "text/html": "<div>\n<style scoped>\n    .dataframe tbody tr th:only-of-type {\n        vertical-align: middle;\n    }\n\n    .dataframe tbody tr th {\n        vertical-align: top;\n    }\n\n    .dataframe thead th {\n        text-align: right;\n    }\n</style>\n<table border=\"1\" class=\"dataframe\">\n  <thead>\n    <tr style=\"text-align: right;\">\n      <th></th>\n      <th>MSSubClass</th>\n      <th>MSZoning</th>\n      <th>LotFrontage</th>\n      <th>LotArea</th>\n      <th>Street</th>\n      <th>Alley</th>\n      <th>LotShape</th>\n      <th>LandContour</th>\n      <th>LotConfig</th>\n      <th>LandSlope</th>\n      <th>...</th>\n      <th>ScreenPorch</th>\n      <th>PoolArea</th>\n      <th>PoolQC</th>\n      <th>Fence</th>\n      <th>MiscFeature</th>\n      <th>MiscVal</th>\n      <th>MoSold</th>\n      <th>YrSold</th>\n      <th>SaleType</th>\n      <th>SaleCondition</th>\n    </tr>\n  </thead>\n  <tbody>\n    <tr>\n      <th>1410</th>\n      <td>60.0</td>\n      <td>RL</td>\n      <td>79.000000</td>\n      <td>12420.0</td>\n      <td>Pave</td>\n      <td>None</td>\n      <td>Reg</td>\n      <td>Lvl</td>\n      <td>Inside</td>\n      <td>Gtl</td>\n      <td>...</td>\n      <td>0.0</td>\n      <td>0.0</td>\n      <td>None</td>\n      <td>None</td>\n      <td>None</td>\n      <td>0.0</td>\n      <td>6.0</td>\n      <td>2009.0</td>\n      <td>WD</td>\n      <td>Normal</td>\n    </tr>\n    <tr>\n      <th>723</th>\n      <td>50.0</td>\n      <td>RL</td>\n      <td>60.000000</td>\n      <td>8172.0</td>\n      <td>Pave</td>\n      <td>None</td>\n      <td>Reg</td>\n      <td>Lvl</td>\n      <td>Inside</td>\n      <td>Gtl</td>\n      <td>...</td>\n      <td>156.0</td>\n      <td>0.0</td>\n      <td>None</td>\n      <td>None</td>\n      <td>None</td>\n      <td>0.0</td>\n      <td>5.0</td>\n      <td>2008.0</td>\n      <td>WD</td>\n      <td>Normal</td>\n    </tr>\n    <tr>\n      <th>1371</th>\n      <td>80.0</td>\n      <td>RL</td>\n      <td>80.000000</td>\n      <td>9600.0</td>\n      <td>Pave</td>\n      <td>None</td>\n      <td>Reg</td>\n      <td>Lvl</td>\n      <td>Inside</td>\n      <td>Gtl</td>\n      <td>...</td>\n      <td>178.0</td>\n      <td>0.0</td>\n      <td>None</td>\n      <td>MnPrv</td>\n      <td>None</td>\n      <td>0.0</td>\n      <td>10.0</td>\n      <td>2008.0</td>\n      <td>WD</td>\n      <td>Normal</td>\n    </tr>\n    <tr>\n      <th>1440</th>\n      <td>70.0</td>\n      <td>RL</td>\n      <td>79.000000</td>\n      <td>11526.0</td>\n      <td>Pave</td>\n      <td>None</td>\n      <td>IR1</td>\n      <td>Bnk</td>\n      <td>Inside</td>\n      <td>Mod</td>\n      <td>...</td>\n      <td>0.0</td>\n      <td>0.0</td>\n      <td>None</td>\n      <td>None</td>\n      <td>None</td>\n      <td>0.0</td>\n      <td>9.0</td>\n      <td>2008.0</td>\n      <td>WD</td>\n      <td>Normal</td>\n    </tr>\n    <tr>\n      <th>383</th>\n      <td>45.0</td>\n      <td>RH</td>\n      <td>60.000000</td>\n      <td>9000.0</td>\n      <td>Pave</td>\n      <td>None</td>\n      <td>Reg</td>\n      <td>Lvl</td>\n      <td>Corner</td>\n      <td>Gtl</td>\n      <td>...</td>\n      <td>0.0</td>\n      <td>0.0</td>\n      <td>None</td>\n      <td>None</td>\n      <td>None</td>\n      <td>0.0</td>\n      <td>10.0</td>\n      <td>2009.0</td>\n      <td>WD</td>\n      <td>Normal</td>\n    </tr>\n    <tr>\n      <th>360</th>\n      <td>85.0</td>\n      <td>RL</td>\n      <td>50.289446</td>\n      <td>7540.0</td>\n      <td>Pave</td>\n      <td>None</td>\n      <td>IR1</td>\n      <td>Lvl</td>\n      <td>CulDSac</td>\n      <td>Gtl</td>\n      <td>...</td>\n      <td>192.0</td>\n      <td>0.0</td>\n      <td>None</td>\n      <td>MnPrv</td>\n      <td>None</td>\n      <td>0.0</td>\n      <td>6.0</td>\n      <td>2007.0</td>\n      <td>WD</td>\n      <td>Normal</td>\n    </tr>\n    <tr>\n      <th>219</th>\n      <td>120.0</td>\n      <td>RL</td>\n      <td>43.000000</td>\n      <td>3010.0</td>\n      <td>Pave</td>\n      <td>None</td>\n      <td>Reg</td>\n      <td>Lvl</td>\n      <td>Inside</td>\n      <td>Gtl</td>\n      <td>...</td>\n      <td>0.0</td>\n      <td>0.0</td>\n      <td>None</td>\n      <td>None</td>\n      <td>None</td>\n      <td>0.0</td>\n      <td>3.0</td>\n      <td>2006.0</td>\n      <td>New</td>\n      <td>Partial</td>\n    </tr>\n    <tr>\n      <th>513</th>\n      <td>20.0</td>\n      <td>RL</td>\n      <td>71.000000</td>\n      <td>9187.0</td>\n      <td>Pave</td>\n      <td>None</td>\n      <td>Reg</td>\n      <td>Bnk</td>\n      <td>Corner</td>\n      <td>Gtl</td>\n      <td>...</td>\n      <td>0.0</td>\n      <td>0.0</td>\n      <td>None</td>\n      <td>None</td>\n      <td>None</td>\n      <td>0.0</td>\n      <td>6.0</td>\n      <td>2007.0</td>\n      <td>WD</td>\n      <td>Normal</td>\n    </tr>\n    <tr>\n      <th>1170</th>\n      <td>80.0</td>\n      <td>RL</td>\n      <td>76.000000</td>\n      <td>9880.0</td>\n      <td>Pave</td>\n      <td>None</td>\n      <td>Reg</td>\n      <td>Lvl</td>\n      <td>Inside</td>\n      <td>Gtl</td>\n      <td>...</td>\n      <td>0.0</td>\n      <td>576.0</td>\n      <td>Gd</td>\n      <td>GdPrv</td>\n      <td>None</td>\n      <td>0.0</td>\n      <td>7.0</td>\n      <td>2008.0</td>\n      <td>WD</td>\n      <td>Normal</td>\n    </tr>\n    <tr>\n      <th>1227</th>\n      <td>20.0</td>\n      <td>RL</td>\n      <td>72.000000</td>\n      <td>8872.0</td>\n      <td>Pave</td>\n      <td>None</td>\n      <td>Reg</td>\n      <td>Lvl</td>\n      <td>Corner</td>\n      <td>Gtl</td>\n      <td>...</td>\n      <td>0.0</td>\n      <td>0.0</td>\n      <td>None</td>\n      <td>None</td>\n      <td>None</td>\n      <td>0.0</td>\n      <td>12.0</td>\n      <td>2008.0</td>\n      <td>WD</td>\n      <td>Normal</td>\n    </tr>\n    <tr>\n      <th>1291</th>\n      <td>160.0</td>\n      <td>RM</td>\n      <td>21.000000</td>\n      <td>1680.0</td>\n      <td>Pave</td>\n      <td>None</td>\n      <td>Reg</td>\n      <td>Lvl</td>\n      <td>Inside</td>\n      <td>Gtl</td>\n      <td>...</td>\n      <td>0.0</td>\n      <td>0.0</td>\n      <td>None</td>\n      <td>None</td>\n      <td>None</td>\n      <td>0.0</td>\n      <td>2.0</td>\n      <td>2009.0</td>\n      <td>WD</td>\n      <td>Normal</td>\n    </tr>\n    <tr>\n      <th>734</th>\n      <td>20.0</td>\n      <td>RL</td>\n      <td>89.549166</td>\n      <td>8978.0</td>\n      <td>Pave</td>\n      <td>None</td>\n      <td>IR1</td>\n      <td>Lvl</td>\n      <td>Corner</td>\n      <td>Gtl</td>\n      <td>...</td>\n      <td>0.0</td>\n      <td>0.0</td>\n      <td>None</td>\n      <td>None</td>\n      <td>None</td>\n      <td>0.0</td>\n      <td>5.0</td>\n      <td>2007.0</td>\n      <td>WD</td>\n      <td>Family</td>\n    </tr>\n    <tr>\n      <th>708</th>\n      <td>60.0</td>\n      <td>RL</td>\n      <td>65.000000</td>\n      <td>9018.0</td>\n      <td>Pave</td>\n      <td>None</td>\n      <td>IR1</td>\n      <td>Lvl</td>\n      <td>Inside</td>\n      <td>Gtl</td>\n      <td>...</td>\n      <td>0.0</td>\n      <td>0.0</td>\n      <td>None</td>\n      <td>None</td>\n      <td>None</td>\n      <td>0.0</td>\n      <td>7.0</td>\n      <td>2007.0</td>\n      <td>New</td>\n      <td>Partial</td>\n    </tr>\n    <tr>\n      <th>309</th>\n      <td>20.0</td>\n      <td>RL</td>\n      <td>90.000000</td>\n      <td>12378.0</td>\n      <td>Pave</td>\n      <td>None</td>\n      <td>IR1</td>\n      <td>Lvl</td>\n      <td>Inside</td>\n      <td>Gtl</td>\n      <td>...</td>\n      <td>0.0</td>\n      <td>0.0</td>\n      <td>None</td>\n      <td>None</td>\n      <td>None</td>\n      <td>0.0</td>\n      <td>11.0</td>\n      <td>2006.0</td>\n      <td>WD</td>\n      <td>Normal</td>\n    </tr>\n    <tr>\n      <th>1194</th>\n      <td>60.0</td>\n      <td>RL</td>\n      <td>80.000000</td>\n      <td>9364.0</td>\n      <td>Pave</td>\n      <td>None</td>\n      <td>Reg</td>\n      <td>Lvl</td>\n      <td>Corner</td>\n      <td>Gtl</td>\n      <td>...</td>\n      <td>0.0</td>\n      <td>0.0</td>\n      <td>None</td>\n      <td>MnPrv</td>\n      <td>None</td>\n      <td>0.0</td>\n      <td>3.0</td>\n      <td>2010.0</td>\n      <td>WD</td>\n      <td>Normal</td>\n    </tr>\n    <tr>\n      <th>858</th>\n      <td>20.0</td>\n      <td>RL</td>\n      <td>80.000000</td>\n      <td>10400.0</td>\n      <td>Pave</td>\n      <td>None</td>\n      <td>Reg</td>\n      <td>Lvl</td>\n      <td>Inside</td>\n      <td>Gtl</td>\n      <td>...</td>\n      <td>0.0</td>\n      <td>0.0</td>\n      <td>None</td>\n      <td>MnPrv</td>\n      <td>None</td>\n      <td>0.0</td>\n      <td>6.0</td>\n      <td>2009.0</td>\n      <td>WD</td>\n      <td>Family</td>\n    </tr>\n    <tr>\n      <th>124</th>\n      <td>20.0</td>\n      <td>RL</td>\n      <td>48.000000</td>\n      <td>17043.0</td>\n      <td>Pave</td>\n      <td>None</td>\n      <td>IR1</td>\n      <td>Lvl</td>\n      <td>CulDSac</td>\n      <td>Gtl</td>\n      <td>...</td>\n      <td>0.0</td>\n      <td>0.0</td>\n      <td>None</td>\n      <td>None</td>\n      <td>None</td>\n      <td>0.0</td>\n      <td>1.0</td>\n      <td>2009.0</td>\n      <td>WD</td>\n      <td>Normal</td>\n    </tr>\n    <tr>\n      <th>95</th>\n      <td>60.0</td>\n      <td>RL</td>\n      <td>139.205764</td>\n      <td>9765.0</td>\n      <td>Pave</td>\n      <td>None</td>\n      <td>IR2</td>\n      <td>Lvl</td>\n      <td>Corner</td>\n      <td>Gtl</td>\n      <td>...</td>\n      <td>0.0</td>\n      <td>0.0</td>\n      <td>None</td>\n      <td>None</td>\n      <td>Shed</td>\n      <td>480.0</td>\n      <td>4.0</td>\n      <td>2009.0</td>\n      <td>WD</td>\n      <td>Normal</td>\n    </tr>\n    <tr>\n      <th>468</th>\n      <td>20.0</td>\n      <td>RL</td>\n      <td>98.000000</td>\n      <td>11428.0</td>\n      <td>Pave</td>\n      <td>None</td>\n      <td>IR1</td>\n      <td>Lvl</td>\n      <td>Inside</td>\n      <td>Gtl</td>\n      <td>...</td>\n      <td>0.0</td>\n      <td>0.0</td>\n      <td>None</td>\n      <td>None</td>\n      <td>None</td>\n      <td>0.0</td>\n      <td>5.0</td>\n      <td>2007.0</td>\n      <td>WD</td>\n      <td>Normal</td>\n    </tr>\n    <tr>\n      <th>179</th>\n      <td>30.0</td>\n      <td>RM</td>\n      <td>60.000000</td>\n      <td>8520.0</td>\n      <td>Pave</td>\n      <td>None</td>\n      <td>Reg</td>\n      <td>Lvl</td>\n      <td>Inside</td>\n      <td>Gtl</td>\n      <td>...</td>\n      <td>0.0</td>\n      <td>0.0</td>\n      <td>None</td>\n      <td>None</td>\n      <td>None</td>\n      <td>0.0</td>\n      <td>7.0</td>\n      <td>2007.0</td>\n      <td>WD</td>\n      <td>Normal</td>\n    </tr>\n    <tr>\n      <th>969</th>\n      <td>190.0</td>\n      <td>RL</td>\n      <td>75.000000</td>\n      <td>10382.0</td>\n      <td>Pave</td>\n      <td>None</td>\n      <td>Reg</td>\n      <td>Lvl</td>\n      <td>Inside</td>\n      <td>Gtl</td>\n      <td>...</td>\n      <td>0.0</td>\n      <td>0.0</td>\n      <td>None</td>\n      <td>None</td>\n      <td>None</td>\n      <td>0.0</td>\n      <td>3.0</td>\n      <td>2006.0</td>\n      <td>ConLD</td>\n      <td>Normal</td>\n    </tr>\n    <tr>\n      <th>759</th>\n      <td>60.0</td>\n      <td>RL</td>\n      <td>65.000000</td>\n      <td>12257.0</td>\n      <td>Pave</td>\n      <td>None</td>\n      <td>IR1</td>\n      <td>Lvl</td>\n      <td>Inside</td>\n      <td>Gtl</td>\n      <td>...</td>\n      <td>0.0</td>\n      <td>0.0</td>\n      <td>None</td>\n      <td>None</td>\n      <td>None</td>\n      <td>0.0</td>\n      <td>11.0</td>\n      <td>2007.0</td>\n      <td>WD</td>\n      <td>Normal</td>\n    </tr>\n    <tr>\n      <th>231</th>\n      <td>60.0</td>\n      <td>RL</td>\n      <td>174.000000</td>\n      <td>15138.0</td>\n      <td>Pave</td>\n      <td>None</td>\n      <td>IR1</td>\n      <td>Lvl</td>\n      <td>Inside</td>\n      <td>Gtl</td>\n      <td>...</td>\n      <td>0.0</td>\n      <td>0.0</td>\n      <td>None</td>\n      <td>None</td>\n      <td>None</td>\n      <td>0.0</td>\n      <td>7.0</td>\n      <td>2009.0</td>\n      <td>WD</td>\n      <td>Normal</td>\n    </tr>\n    <tr>\n      <th>1159</th>\n      <td>60.0</td>\n      <td>RL</td>\n      <td>76.000000</td>\n      <td>9120.0</td>\n      <td>Pave</td>\n      <td>None</td>\n      <td>Reg</td>\n      <td>Lvl</td>\n      <td>Inside</td>\n      <td>Gtl</td>\n      <td>...</td>\n      <td>0.0</td>\n      <td>0.0</td>\n      <td>None</td>\n      <td>None</td>\n      <td>None</td>\n      <td>0.0</td>\n      <td>7.0</td>\n      <td>2008.0</td>\n      <td>WD</td>\n      <td>Normal</td>\n    </tr>\n    <tr>\n      <th>783</th>\n      <td>85.0</td>\n      <td>RL</td>\n      <td>43.120234</td>\n      <td>9101.0</td>\n      <td>Pave</td>\n      <td>None</td>\n      <td>IR1</td>\n      <td>Lvl</td>\n      <td>Corner</td>\n      <td>Gtl</td>\n      <td>...</td>\n      <td>0.0</td>\n      <td>0.0</td>\n      <td>None</td>\n      <td>None</td>\n      <td>None</td>\n      <td>0.0</td>\n      <td>7.0</td>\n      <td>2009.0</td>\n      <td>WD</td>\n      <td>Normal</td>\n    </tr>\n    <tr>\n      <th>414</th>\n      <td>60.0</td>\n      <td>RL</td>\n      <td>59.000000</td>\n      <td>11228.0</td>\n      <td>Pave</td>\n      <td>None</td>\n      <td>IR2</td>\n      <td>Lvl</td>\n      <td>CulDSac</td>\n      <td>Gtl</td>\n      <td>...</td>\n      <td>0.0</td>\n      <td>0.0</td>\n      <td>None</td>\n      <td>None</td>\n      <td>None</td>\n      <td>0.0</td>\n      <td>12.0</td>\n      <td>2008.0</td>\n      <td>WD</td>\n      <td>Normal</td>\n    </tr>\n    <tr>\n      <th>426</th>\n      <td>80.0</td>\n      <td>RL</td>\n      <td>77.814424</td>\n      <td>12800.0</td>\n      <td>Pave</td>\n      <td>None</td>\n      <td>Reg</td>\n      <td>Low</td>\n      <td>Inside</td>\n      <td>Mod</td>\n      <td>...</td>\n      <td>396.0</td>\n      <td>0.0</td>\n      <td>None</td>\n      <td>None</td>\n      <td>None</td>\n      <td>0.0</td>\n      <td>8.0</td>\n      <td>2009.0</td>\n      <td>WD</td>\n      <td>Normal</td>\n    </tr>\n    <tr>\n      <th>1029</th>\n      <td>160.0</td>\n      <td>RM</td>\n      <td>21.000000</td>\n      <td>1680.0</td>\n      <td>Pave</td>\n      <td>None</td>\n      <td>Reg</td>\n      <td>Lvl</td>\n      <td>Inside</td>\n      <td>Gtl</td>\n      <td>...</td>\n      <td>0.0</td>\n      <td>0.0</td>\n      <td>None</td>\n      <td>None</td>\n      <td>None</td>\n      <td>0.0</td>\n      <td>5.0</td>\n      <td>2006.0</td>\n      <td>WD</td>\n      <td>Normal</td>\n    </tr>\n    <tr>\n      <th>564</th>\n      <td>60.0</td>\n      <td>RL</td>\n      <td>39.921880</td>\n      <td>13346.0</td>\n      <td>Pave</td>\n      <td>None</td>\n      <td>IR1</td>\n      <td>Lvl</td>\n      <td>CulDSac</td>\n      <td>Gtl</td>\n      <td>...</td>\n      <td>0.0</td>\n      <td>0.0</td>\n      <td>None</td>\n      <td>None</td>\n      <td>None</td>\n      <td>0.0</td>\n      <td>7.0</td>\n      <td>2006.0</td>\n      <td>WD</td>\n      <td>Normal</td>\n    </tr>\n    <tr>\n      <th>1101</th>\n      <td>20.0</td>\n      <td>RL</td>\n      <td>61.000000</td>\n      <td>9758.0</td>\n      <td>Pave</td>\n      <td>None</td>\n      <td>IR1</td>\n      <td>Lvl</td>\n      <td>Inside</td>\n      <td>Gtl</td>\n      <td>...</td>\n      <td>0.0</td>\n      <td>0.0</td>\n      <td>None</td>\n      <td>None</td>\n      <td>None</td>\n      <td>0.0</td>\n      <td>7.0</td>\n      <td>2007.0</td>\n      <td>WD</td>\n      <td>Normal</td>\n    </tr>\n    <tr>\n      <th>842</th>\n      <td>80.0</td>\n      <td>RL</td>\n      <td>82.000000</td>\n      <td>9020.0</td>\n      <td>Pave</td>\n      <td>None</td>\n      <td>Reg</td>\n      <td>Lvl</td>\n      <td>Inside</td>\n      <td>Gtl</td>\n      <td>...</td>\n      <td>0.0</td>\n      <td>0.0</td>\n      <td>None</td>\n      <td>GdPrv</td>\n      <td>None</td>\n      <td>0.0</td>\n      <td>5.0</td>\n      <td>2008.0</td>\n      <td>WD</td>\n      <td>Normal</td>\n    </tr>\n    <tr>\n      <th>1015</th>\n      <td>60.0</td>\n      <td>RL</td>\n      <td>70.000000</td>\n      <td>8400.0</td>\n      <td>Pave</td>\n      <td>None</td>\n      <td>Reg</td>\n      <td>Lvl</td>\n      <td>Inside</td>\n      <td>Gtl</td>\n      <td>...</td>\n      <td>0.0</td>\n      <td>0.0</td>\n      <td>None</td>\n      <td>None</td>\n      <td>None</td>\n      <td>0.0</td>\n      <td>11.0</td>\n      <td>2009.0</td>\n      <td>WD</td>\n      <td>Normal</td>\n    </tr>\n    <tr>\n      <th>21</th>\n      <td>45.0</td>\n      <td>RM</td>\n      <td>57.000000</td>\n      <td>7449.0</td>\n      <td>Pave</td>\n      <td>Grvl</td>\n      <td>Reg</td>\n      <td>Bnk</td>\n      <td>Inside</td>\n      <td>Gtl</td>\n      <td>...</td>\n      <td>0.0</td>\n      <td>0.0</td>\n      <td>None</td>\n      <td>GdPrv</td>\n      <td>None</td>\n      <td>0.0</td>\n      <td>6.0</td>\n      <td>2007.0</td>\n      <td>WD</td>\n      <td>Normal</td>\n    </tr>\n    <tr>\n      <th>88</th>\n      <td>50.0</td>\n      <td>C (all)</td>\n      <td>105.000000</td>\n      <td>8470.0</td>\n      <td>Pave</td>\n      <td>None</td>\n      <td>IR1</td>\n      <td>Lvl</td>\n      <td>Corner</td>\n      <td>Gtl</td>\n      <td>...</td>\n      <td>0.0</td>\n      <td>0.0</td>\n      <td>None</td>\n      <td>MnPrv</td>\n      <td>None</td>\n      <td>0.0</td>\n      <td>10.0</td>\n      <td>2009.0</td>\n      <td>ConLD</td>\n      <td>Abnorml</td>\n    </tr>\n    <tr>\n      <th>649</th>\n      <td>180.0</td>\n      <td>RM</td>\n      <td>21.000000</td>\n      <td>1936.0</td>\n      <td>Pave</td>\n      <td>None</td>\n      <td>Reg</td>\n      <td>Lvl</td>\n      <td>Inside</td>\n      <td>Gtl</td>\n      <td>...</td>\n      <td>0.0</td>\n      <td>0.0</td>\n      <td>None</td>\n      <td>MnPrv</td>\n      <td>None</td>\n      <td>0.0</td>\n      <td>12.0</td>\n      <td>2007.0</td>\n      <td>WD</td>\n      <td>Normal</td>\n    </tr>\n    <tr>\n      <th>232</th>\n      <td>160.0</td>\n      <td>RM</td>\n      <td>21.000000</td>\n      <td>1680.0</td>\n      <td>Pave</td>\n      <td>None</td>\n      <td>Reg</td>\n      <td>Lvl</td>\n      <td>Inside</td>\n      <td>Gtl</td>\n      <td>...</td>\n      <td>0.0</td>\n      <td>0.0</td>\n      <td>None</td>\n      <td>None</td>\n      <td>None</td>\n      <td>0.0</td>\n      <td>6.0</td>\n      <td>2006.0</td>\n      <td>WD</td>\n      <td>Normal</td>\n    </tr>\n    <tr>\n      <th>302</th>\n      <td>20.0</td>\n      <td>RL</td>\n      <td>118.000000</td>\n      <td>13704.0</td>\n      <td>Pave</td>\n      <td>None</td>\n      <td>IR1</td>\n      <td>Lvl</td>\n      <td>Corner</td>\n      <td>Gtl</td>\n      <td>...</td>\n      <td>0.0</td>\n      <td>0.0</td>\n      <td>None</td>\n      <td>None</td>\n      <td>None</td>\n      <td>0.0</td>\n      <td>1.0</td>\n      <td>2006.0</td>\n      <td>WD</td>\n      <td>Normal</td>\n    </tr>\n    <tr>\n      <th>735</th>\n      <td>75.0</td>\n      <td>RM</td>\n      <td>60.000000</td>\n      <td>10800.0</td>\n      <td>Pave</td>\n      <td>None</td>\n      <td>Reg</td>\n      <td>Lvl</td>\n      <td>Inside</td>\n      <td>Gtl</td>\n      <td>...</td>\n      <td>0.0</td>\n      <td>0.0</td>\n      <td>None</td>\n      <td>None</td>\n      <td>None</td>\n      <td>0.0</td>\n      <td>10.0</td>\n      <td>2006.0</td>\n      <td>WD</td>\n      <td>Normal</td>\n    </tr>\n    <tr>\n      <th>288</th>\n      <td>20.0</td>\n      <td>RL</td>\n      <td>87.535161</td>\n      <td>9819.0</td>\n      <td>Pave</td>\n      <td>None</td>\n      <td>IR1</td>\n      <td>Lvl</td>\n      <td>Inside</td>\n      <td>Gtl</td>\n      <td>...</td>\n      <td>0.0</td>\n      <td>0.0</td>\n      <td>None</td>\n      <td>MnPrv</td>\n      <td>None</td>\n      <td>0.0</td>\n      <td>2.0</td>\n      <td>2010.0</td>\n      <td>WD</td>\n      <td>Normal</td>\n    </tr>\n    <tr>\n      <th>966</th>\n      <td>50.0</td>\n      <td>RL</td>\n      <td>130.000000</td>\n      <td>9600.0</td>\n      <td>Pave</td>\n      <td>None</td>\n      <td>IR1</td>\n      <td>HLS</td>\n      <td>Inside</td>\n      <td>Gtl</td>\n      <td>...</td>\n      <td>0.0</td>\n      <td>0.0</td>\n      <td>None</td>\n      <td>None</td>\n      <td>None</td>\n      <td>0.0</td>\n      <td>6.0</td>\n      <td>2009.0</td>\n      <td>WD</td>\n      <td>Normal</td>\n    </tr>\n    <tr>\n      <th>319</th>\n      <td>80.0</td>\n      <td>RL</td>\n      <td>99.205624</td>\n      <td>14115.0</td>\n      <td>Pave</td>\n      <td>None</td>\n      <td>Reg</td>\n      <td>Lvl</td>\n      <td>Inside</td>\n      <td>Gtl</td>\n      <td>...</td>\n      <td>0.0</td>\n      <td>0.0</td>\n      <td>None</td>\n      <td>None</td>\n      <td>None</td>\n      <td>0.0</td>\n      <td>6.0</td>\n      <td>2009.0</td>\n      <td>WD</td>\n      <td>Normal</td>\n    </tr>\n    <tr>\n      <th>927</th>\n      <td>60.0</td>\n      <td>RL</td>\n      <td>62.107267</td>\n      <td>9900.0</td>\n      <td>Pave</td>\n      <td>None</td>\n      <td>Reg</td>\n      <td>Lvl</td>\n      <td>Inside</td>\n      <td>Gtl</td>\n      <td>...</td>\n      <td>0.0</td>\n      <td>0.0</td>\n      <td>None</td>\n      <td>GdPrv</td>\n      <td>None</td>\n      <td>0.0</td>\n      <td>4.0</td>\n      <td>2008.0</td>\n      <td>WD</td>\n      <td>Normal</td>\n    </tr>\n  </tbody>\n</table>\n<p>42 rows × 77 columns</p>\n</div>"
     },
     "execution_count": 53,
     "metadata": {},
     "output_type": "execute_result"
    }
   ],
   "source": [
    "cat_features = np.where(X_train.loc[:, X_train.columns.values].dtypes == \"object\")[0]\n",
    "X_train.iloc[cat_features]"
   ],
   "metadata": {
    "collapsed": false,
    "pycharm": {
     "name": "#%%\n"
    }
   }
  },
  {
   "cell_type": "code",
   "execution_count": 54,
   "outputs": [
    {
     "name": "stdout",
     "output_type": "stream",
     "text": [
      "RMSLE: 0.08410949937933657\n",
      "RMSLE: 0.11873846574131477\n"
     ]
    }
   ],
   "source": [
    "train_pool = Pool(X_train, y_train, cat_features=cat_features)\n",
    "dev_pool = Pool(X_test, y_test, cat_features=cat_features)\n",
    "\n",
    "cat_model = CatBoostRegressor(task_type=\"GPU\",  devices='0:1')\n",
    "cat_model.fit(train_pool, eval_set=dev_pool, verbose=0, plot=False)\n",
    "\n",
    "evaluate(cat_model, X_train, y_train)\n",
    "evaluate(cat_model, X_test, y_test)"
   ],
   "metadata": {
    "collapsed": false,
    "pycharm": {
     "name": "#%%\n"
    }
   }
  },
  {
   "cell_type": "code",
   "execution_count": 55,
   "outputs": [],
   "source": [
    "data = pd.read_csv(\"./train.csv\")\n",
    "data = data.drop(columns=[\"Id\"])\n",
    "\n",
    "#data = remove_outliers(data)\n",
    "\n",
    "y = np.log1p(data[\"SalePrice\"])\n",
    "X = data.drop(columns=[\"SalePrice\"])\n",
    "\n",
    "transformer = DataTransformer(StandardScaler())\n",
    "X = transformer.prepare(X)\n",
    "\n",
    "transformer.fit(X)\n",
    "\n",
    "X = transformer.transform(X, False)\n",
    "\n",
    "cat_features = np.where(X.loc[:, X.columns.values].dtypes == \"object\")[0]"
   ],
   "metadata": {
    "collapsed": false,
    "pycharm": {
     "name": "#%%\n"
    }
   }
  },
  {
   "cell_type": "code",
   "execution_count": 58,
   "outputs": [
    {
     "name": "stdout",
     "output_type": "stream",
     "text": [
      "RMSLE: 0.06987810052847322\n"
     ]
    }
   ],
   "source": [
    "train_pool = Pool(X, y, cat_features=cat_features)\n",
    "#400 - 0.12927241949496218\n",
    "cat_model = CatBoostRegressor(iterations=400, task_type=\"GPU\",  devices='0:1')\n",
    "cat_model.fit(train_pool, verbose=0, plot=False)\n",
    "\n",
    "evaluate(cat_model, X, y)"
   ],
   "metadata": {
    "collapsed": false,
    "pycharm": {
     "name": "#%%\n"
    }
   }
  },
  {
   "cell_type": "code",
   "execution_count": 59,
   "outputs": [
    {
     "name": "stdout",
     "output_type": "stream",
     "text": [
      "RMSLE submission: 0.12635591897893886\n"
     ]
    }
   ],
   "source": [
    "validation = pd.read_csv(\"./test.csv\")\n",
    "val_ids = validation[\"Id\"]\n",
    "validation = validation.drop(columns=[\"Id\"])\n",
    "\n",
    "validation = transformer.prepare(validation)\n",
    "validation = transformer.transform(validation, False)\n",
    "#to_categorical(validation)\n",
    "\n",
    "sub_predictions = cat_model.predict(validation)\n",
    "print(\"RMSLE submission: \" + str(rmsle(sub_predictions, np.log1p(cheat[\"SalePrice\"]))))\n",
    "#evaluate(lbg_model, validation,  np.log1p(cheat[\"SalePrice\"]))"
   ],
   "metadata": {
    "collapsed": false,
    "pycharm": {
     "name": "#%%\n"
    }
   }
  },
  {
   "cell_type": "code",
   "execution_count": null,
   "outputs": [],
   "source": [],
   "metadata": {
    "collapsed": false,
    "pycharm": {
     "name": "#%%\n"
    }
   }
  }
 ],
 "metadata": {
  "kernelspec": {
   "display_name": "Python 3",
   "language": "python",
   "name": "python3"
  },
  "language_info": {
   "codemirror_mode": {
    "name": "ipython",
    "version": 2
   },
   "file_extension": ".py",
   "mimetype": "text/x-python",
   "name": "python",
   "nbconvert_exporter": "python",
   "pygments_lexer": "ipython2",
   "version": "2.7.6"
  }
 },
 "nbformat": 4,
 "nbformat_minor": 0
}