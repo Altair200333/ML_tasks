{
 "cells": [
  {
   "cell_type": "code",
   "execution_count": 50,
   "outputs": [
    {
     "name": "stdout",
     "output_type": "stream",
     "text": [
      "The autoreload extension is already loaded. To reload it, use:\n",
      "  %reload_ext autoreload\n"
     ]
    }
   ],
   "source": [
    "import matplotlib.pyplot as plt\n",
    "import seaborn as sns\n",
    "import pandas as pd\n",
    "import numpy as np\n",
    "import warnings\n",
    "from sklearn.model_selection import train_test_split\n",
    "import xgboost as xgb\n",
    "from sklearn.preprocessing import OneHotEncoder\n",
    "from sklearn.model_selection import GridSearchCV\n",
    "from sklearn.model_selection import cross_val_score\n",
    "from sklearn import metrics\n",
    "from data_processing import *\n",
    "from sklearn.preprocessing import MinMaxScaler\n",
    "from sklearn.impute import SimpleImputer\n",
    "from sklearn.preprocessing import StandardScaler\n",
    "from sklearn.ensemble import RandomForestRegressor\n",
    "from data_transformar import *\n",
    "import lightgbm as lgb\n",
    "from sklearn.decomposition import PCA\n",
    "from catboost import CatBoostRegressor, Pool\n",
    "\n",
    "warnings.simplefilter(\"ignore\")\n",
    "%matplotlib inline\n",
    "%load_ext autoreload\n",
    "%autoreload 2\n",
    "\n",
    "sns.set(style=\"darkgrid\")"
   ],
   "metadata": {
    "collapsed": false,
    "pycharm": {
     "name": "#%%\n"
    }
   }
  },
  {
   "cell_type": "code",
   "execution_count": 62,
   "outputs": [],
   "source": [
    "from sklearn.metrics import mean_squared_error\n",
    "\n",
    "cheat = pd.read_csv(\"./result-with-best.csv\")\n",
    "\n",
    "def rmsle(y, y_pred):\n",
    "    return np.sqrt(mean_squared_error(y, y_pred))\n",
    "\n",
    "def cheat_score(model, val):\n",
    "    print(\"RMSLE sub: \" + str(rmsle(model.predict(val), np.log1p(cheat[\"SalePrice\"]))))\n",
    "\n",
    "def to_categorical(X):\n",
    "    for c in X.columns:\n",
    "        col_type = X[c].dtype\n",
    "        if col_type == 'object' or col_type.name == 'category':\n",
    "            X[c] = X[c].astype('category')\n",
    "\n",
    "def evaluate(model, X, y):\n",
    "    preds = model.predict(X)\n",
    "    print(\"RMSLE: \" + str(rmsle(preds, y)))"
   ],
   "metadata": {
    "collapsed": false,
    "pycharm": {
     "name": "#%%\n"
    }
   }
  },
  {
   "cell_type": "code",
   "execution_count": 63,
   "outputs": [
    {
     "name": "stdout",
     "output_type": "stream",
     "text": [
      "Int64Index([249, 313, 335, 523, 706, 1298], dtype='int64')\n"
     ]
    }
   ],
   "source": [
    "data = pd.read_csv(\"./train.csv\")\n",
    "data = data.drop(columns=[\"Id\"])\n",
    "\n",
    "data = remove_outliers(data)\n",
    "\n",
    "y = np.log1p(data[\"SalePrice\"])\n",
    "X = data.drop(columns=[\"SalePrice\"])\n",
    "\n",
    "X_train, X_test, y_train, y_test = train_test_split(X, y, test_size=0.2, random_state=98987)\n",
    "X_train_orig = X_train.copy()\n",
    "\n",
    "transformer = DataTransformer(StandardScaler())\n",
    "\n",
    "X_train = transformer.prepare(X_train)\n",
    "X_test = transformer.prepare(X_test)\n",
    "\n",
    "transformer.fit(X_train)\n",
    "\n",
    "X_train = transformer.transform(X_train, False)\n",
    "X_test = transformer.transform(X_test, False)"
   ],
   "metadata": {
    "collapsed": false,
    "pycharm": {
     "name": "#%%\n"
    }
   }
  },
  {
   "cell_type": "code",
   "execution_count": 64,
   "outputs": [
    {
     "data": {
      "text/plain": "      MSSubClass MSZoning  LotFrontage  LotArea Street Alley LotShape  \\\n1410        60.0       RL    79.000000  12420.0   Pave  None      Reg   \n723         50.0       RL    60.000000   8172.0   Pave  None      Reg   \n1371        80.0       RL    80.000000   9600.0   Pave  None      Reg   \n1440        70.0       RL    79.000000  11526.0   Pave  None      IR1   \n383         45.0       RH    60.000000   9000.0   Pave  None      Reg   \n360         85.0       RL    41.188820   7540.0   Pave  None      IR1   \n219        120.0       RL    43.000000   3010.0   Pave  None      Reg   \n513         20.0       RL    71.000000   9187.0   Pave  None      Reg   \n1170        80.0       RL    76.000000   9880.0   Pave  None      Reg   \n1227        20.0       RL    72.000000   8872.0   Pave  None      Reg   \n1291       160.0       RM    21.000000   1680.0   Pave  None      Reg   \n734         20.0       RL    55.383173   8978.0   Pave  None      IR1   \n708         60.0       RL    65.000000   9018.0   Pave  None      IR1   \n309         20.0       RL    90.000000  12378.0   Pave  None      IR1   \n1194        60.0       RL    80.000000   9364.0   Pave  None      Reg   \n858         20.0       RL    80.000000  10400.0   Pave  None      Reg   \n124         20.0       RL    48.000000  17043.0   Pave  None      IR1   \n95          60.0       RL    63.751830   9765.0   Pave  None      IR2   \n468         20.0       RL    98.000000  11428.0   Pave  None      IR1   \n179         30.0       RM    60.000000   8520.0   Pave  None      Reg   \n969        190.0       RL    75.000000  10382.0   Pave  None      Reg   \n759         60.0       RL    65.000000  12257.0   Pave  None      IR1   \n231         60.0       RL   174.000000  15138.0   Pave  None      IR1   \n1159        60.0       RL    76.000000   9120.0   Pave  None      Reg   \n783         85.0       RL    24.770242   9101.0   Pave  None      IR1   \n414         60.0       RL    59.000000  11228.0   Pave  None      IR2   \n426         80.0       RL    74.930774  12800.0   Pave  None      Reg   \n1029       160.0       RM    21.000000   1680.0   Pave  None      Reg   \n564         60.0       RL    80.648246  13346.0   Pave  None      IR1   \n1101        20.0       RL    61.000000   9758.0   Pave  None      IR1   \n842         80.0       RL    82.000000   9020.0   Pave  None      Reg   \n1015        60.0       RL    70.000000   8400.0   Pave  None      Reg   \n21          45.0       RM    57.000000   7449.0   Pave  Grvl      Reg   \n88          50.0  C (all)   105.000000   8470.0   Pave  None      IR1   \n649        180.0       RM    21.000000   1936.0   Pave  None      Reg   \n232        160.0       RM    21.000000   1680.0   Pave  None      Reg   \n302         20.0       RL   118.000000  13704.0   Pave  None      IR1   \n735         75.0       RM    60.000000  10800.0   Pave  None      Reg   \n288         20.0       RL    62.721708   9819.0   Pave  None      IR1   \n966         50.0       RL   130.000000   9600.0   Pave  None      IR1   \n46          50.0       RL    48.000000  12822.0   Pave  None      IR1   \n861        190.0       RL    75.000000  11625.0   Pave  None      Reg   \n319         80.0       RL    33.863834  14115.0   Pave  None      Reg   \n927         60.0       RL    68.160235   9900.0   Pave  None      Reg   \n\n     LandContour LotConfig LandSlope  ...  Fence MiscFeature MiscVal MoSold  \\\n1410         Lvl    Inside       Gtl  ...   None        None     0.0      6   \n723          Lvl    Inside       Gtl  ...   None        None     0.0      5   \n1371         Lvl    Inside       Gtl  ...  MnPrv        None     0.0     10   \n1440         Bnk    Inside       Mod  ...   None        None     0.0      9   \n383          Lvl    Corner       Gtl  ...   None        None     0.0     10   \n360          Lvl   CulDSac       Gtl  ...  MnPrv        None     0.0      6   \n219          Lvl    Inside       Gtl  ...   None        None     0.0      3   \n513          Bnk    Corner       Gtl  ...   None        None     0.0      6   \n1170         Lvl    Inside       Gtl  ...  GdPrv        None     0.0      7   \n1227         Lvl    Corner       Gtl  ...   None        None     0.0     12   \n1291         Lvl    Inside       Gtl  ...   None        None     0.0      2   \n734          Lvl    Corner       Gtl  ...   None        None     0.0      5   \n708          Lvl    Inside       Gtl  ...   None        None     0.0      7   \n309          Lvl    Inside       Gtl  ...   None        None     0.0     11   \n1194         Lvl    Corner       Gtl  ...  MnPrv        None     0.0      3   \n858          Lvl    Inside       Gtl  ...  MnPrv        None     0.0      6   \n124          Lvl   CulDSac       Gtl  ...   None        None     0.0      1   \n95           Lvl    Corner       Gtl  ...   None        Shed   480.0      4   \n468          Lvl    Inside       Gtl  ...   None        None     0.0      5   \n179          Lvl    Inside       Gtl  ...   None        None     0.0      7   \n969          Lvl    Inside       Gtl  ...   None        None     0.0      3   \n759          Lvl    Inside       Gtl  ...   None        None     0.0     11   \n231          Lvl    Inside       Gtl  ...   None        None     0.0      7   \n1159         Lvl    Inside       Gtl  ...   None        None     0.0      7   \n783          Lvl    Corner       Gtl  ...   None        None     0.0      7   \n414          Lvl   CulDSac       Gtl  ...   None        None     0.0     12   \n426          Low    Inside       Mod  ...   None        None     0.0      8   \n1029         Lvl    Inside       Gtl  ...   None        None     0.0      5   \n564          Lvl   CulDSac       Gtl  ...   None        None     0.0      7   \n1101         Lvl    Inside       Gtl  ...   None        None     0.0      7   \n842          Lvl    Inside       Gtl  ...  GdPrv        None     0.0      5   \n1015         Lvl    Inside       Gtl  ...   None        None     0.0     11   \n21           Bnk    Inside       Gtl  ...  GdPrv        None     0.0      6   \n88           Lvl    Corner       Gtl  ...  MnPrv        None     0.0     10   \n649          Lvl    Inside       Gtl  ...  MnPrv        None     0.0     12   \n232          Lvl    Inside       Gtl  ...   None        None     0.0      6   \n302          Lvl    Corner       Gtl  ...   None        None     0.0      1   \n735          Lvl    Inside       Gtl  ...   None        None     0.0     10   \n288          Lvl    Inside       Gtl  ...  MnPrv        None     0.0      2   \n966          HLS    Inside       Gtl  ...   None        None     0.0      6   \n46           Lvl   CulDSac       Gtl  ...   None        None     0.0      8   \n861          Lvl    Inside       Gtl  ...   None        None     0.0      4   \n319          Lvl    Inside       Gtl  ...   None        None     0.0      6   \n927          Lvl    Inside       Gtl  ...  GdPrv        None     0.0      4   \n\n     YrSold  SaleType  SaleCondition  TotalSF Total_sqr_footage Total_porch_sf  \n1410   2009        WD         Normal   2784.0            2506.0           45.0  \n723    2008        WD         Normal   2411.0            1470.0          156.0  \n1371   2008        WD         Normal   2653.0            2492.0          206.0  \n1440   2008        WD         Normal   2759.0            2171.0          431.0  \n383    2009        WD         Normal   1568.0             784.0           91.0  \n360    2007        WD         Normal   1800.0            1685.0          192.0  \n219    2006       New        Partial   2496.0            1264.0          108.0  \n513    2007        WD         Normal   2164.0            1416.0          278.0  \n1170   2008        WD         Normal   2214.0            1640.0          203.0  \n1227   2008        WD         Normal   1824.0            1507.0          240.0  \n1291   2009        WD         Normal   1932.0            1533.0          185.0  \n734    2007        WD         Family   1896.0             948.0          147.0  \n708    2007       New        Partial   2184.0            1456.0          124.0  \n309    2006        WD         Normal   3840.0            3218.0          383.0  \n1194   2010        WD         Normal   2015.0            1723.0          415.0  \n858    2009        WD         Family   2460.0            1370.0            0.0  \n124    2009        WD         Normal   2948.0            1586.0          192.0  \n95     2009        WD         Normal   2150.0            1780.0          295.0  \n468    2007        WD         Normal   3260.0            1634.0           44.0  \n179    2007        WD         Normal   1936.0             968.0          184.0  \n969    2006     ConLD         Normal   1683.0            1608.0            0.0  \n759    2007        WD         Normal   3849.0            2651.0          320.0  \n231    2009        WD         Normal   4256.0            3483.0          348.0  \n1159   2008        WD         Normal   2777.0            2318.0           69.0  \n783    2009        WD         Normal   2207.0            2207.0          333.0  \n414    2008        WD         Normal   3177.0            2678.0          383.0  \n426    2009        WD         Normal   3162.0            3162.0          476.0  \n1029   2006        WD         Normal   1890.0            1535.0           28.0  \n564    2006        WD         Normal   3390.0            3023.0           40.0  \n1101   2007        WD         Normal   1900.0            1649.0            0.0  \n842    2008        WD         Normal   2292.0            2016.0          129.0  \n1015   2009        WD         Normal   2475.0            2308.0           45.0  \n21     2007        WD         Normal   1745.0            1108.0          205.0  \n88     2009     ConLD        Abnorml   2026.0            1013.0          156.0  \n649    2007        WD         Normal   1260.0            1260.0            0.0  \n232    2006        WD         Normal   1470.0             987.0            0.0  \n302    2006        WD         Normal   3082.0            1541.0          549.0  \n735    2006        WD         Normal   2648.0            2158.0          341.0  \n288    2010        WD         Normal   1782.0            1350.0            0.0  \n966    2009        WD         Normal   2036.0            1736.0           70.0  \n46     2009        WD        Abnorml   3583.0            3500.0          409.0  \n861    2010        WD         Normal   2078.0            1880.0            0.0  \n319    2009        WD         Normal   2844.0            2508.0          281.0  \n927    2008        WD         Normal   2810.0            2530.0           43.0  \n\n[44 rows x 80 columns]",
      "text/html": "<div>\n<style scoped>\n    .dataframe tbody tr th:only-of-type {\n        vertical-align: middle;\n    }\n\n    .dataframe tbody tr th {\n        vertical-align: top;\n    }\n\n    .dataframe thead th {\n        text-align: right;\n    }\n</style>\n<table border=\"1\" class=\"dataframe\">\n  <thead>\n    <tr style=\"text-align: right;\">\n      <th></th>\n      <th>MSSubClass</th>\n      <th>MSZoning</th>\n      <th>LotFrontage</th>\n      <th>LotArea</th>\n      <th>Street</th>\n      <th>Alley</th>\n      <th>LotShape</th>\n      <th>LandContour</th>\n      <th>LotConfig</th>\n      <th>LandSlope</th>\n      <th>...</th>\n      <th>Fence</th>\n      <th>MiscFeature</th>\n      <th>MiscVal</th>\n      <th>MoSold</th>\n      <th>YrSold</th>\n      <th>SaleType</th>\n      <th>SaleCondition</th>\n      <th>TotalSF</th>\n      <th>Total_sqr_footage</th>\n      <th>Total_porch_sf</th>\n    </tr>\n  </thead>\n  <tbody>\n    <tr>\n      <th>1410</th>\n      <td>60.0</td>\n      <td>RL</td>\n      <td>79.000000</td>\n      <td>12420.0</td>\n      <td>Pave</td>\n      <td>None</td>\n      <td>Reg</td>\n      <td>Lvl</td>\n      <td>Inside</td>\n      <td>Gtl</td>\n      <td>...</td>\n      <td>None</td>\n      <td>None</td>\n      <td>0.0</td>\n      <td>6</td>\n      <td>2009</td>\n      <td>WD</td>\n      <td>Normal</td>\n      <td>2784.0</td>\n      <td>2506.0</td>\n      <td>45.0</td>\n    </tr>\n    <tr>\n      <th>723</th>\n      <td>50.0</td>\n      <td>RL</td>\n      <td>60.000000</td>\n      <td>8172.0</td>\n      <td>Pave</td>\n      <td>None</td>\n      <td>Reg</td>\n      <td>Lvl</td>\n      <td>Inside</td>\n      <td>Gtl</td>\n      <td>...</td>\n      <td>None</td>\n      <td>None</td>\n      <td>0.0</td>\n      <td>5</td>\n      <td>2008</td>\n      <td>WD</td>\n      <td>Normal</td>\n      <td>2411.0</td>\n      <td>1470.0</td>\n      <td>156.0</td>\n    </tr>\n    <tr>\n      <th>1371</th>\n      <td>80.0</td>\n      <td>RL</td>\n      <td>80.000000</td>\n      <td>9600.0</td>\n      <td>Pave</td>\n      <td>None</td>\n      <td>Reg</td>\n      <td>Lvl</td>\n      <td>Inside</td>\n      <td>Gtl</td>\n      <td>...</td>\n      <td>MnPrv</td>\n      <td>None</td>\n      <td>0.0</td>\n      <td>10</td>\n      <td>2008</td>\n      <td>WD</td>\n      <td>Normal</td>\n      <td>2653.0</td>\n      <td>2492.0</td>\n      <td>206.0</td>\n    </tr>\n    <tr>\n      <th>1440</th>\n      <td>70.0</td>\n      <td>RL</td>\n      <td>79.000000</td>\n      <td>11526.0</td>\n      <td>Pave</td>\n      <td>None</td>\n      <td>IR1</td>\n      <td>Bnk</td>\n      <td>Inside</td>\n      <td>Mod</td>\n      <td>...</td>\n      <td>None</td>\n      <td>None</td>\n      <td>0.0</td>\n      <td>9</td>\n      <td>2008</td>\n      <td>WD</td>\n      <td>Normal</td>\n      <td>2759.0</td>\n      <td>2171.0</td>\n      <td>431.0</td>\n    </tr>\n    <tr>\n      <th>383</th>\n      <td>45.0</td>\n      <td>RH</td>\n      <td>60.000000</td>\n      <td>9000.0</td>\n      <td>Pave</td>\n      <td>None</td>\n      <td>Reg</td>\n      <td>Lvl</td>\n      <td>Corner</td>\n      <td>Gtl</td>\n      <td>...</td>\n      <td>None</td>\n      <td>None</td>\n      <td>0.0</td>\n      <td>10</td>\n      <td>2009</td>\n      <td>WD</td>\n      <td>Normal</td>\n      <td>1568.0</td>\n      <td>784.0</td>\n      <td>91.0</td>\n    </tr>\n    <tr>\n      <th>360</th>\n      <td>85.0</td>\n      <td>RL</td>\n      <td>41.188820</td>\n      <td>7540.0</td>\n      <td>Pave</td>\n      <td>None</td>\n      <td>IR1</td>\n      <td>Lvl</td>\n      <td>CulDSac</td>\n      <td>Gtl</td>\n      <td>...</td>\n      <td>MnPrv</td>\n      <td>None</td>\n      <td>0.0</td>\n      <td>6</td>\n      <td>2007</td>\n      <td>WD</td>\n      <td>Normal</td>\n      <td>1800.0</td>\n      <td>1685.0</td>\n      <td>192.0</td>\n    </tr>\n    <tr>\n      <th>219</th>\n      <td>120.0</td>\n      <td>RL</td>\n      <td>43.000000</td>\n      <td>3010.0</td>\n      <td>Pave</td>\n      <td>None</td>\n      <td>Reg</td>\n      <td>Lvl</td>\n      <td>Inside</td>\n      <td>Gtl</td>\n      <td>...</td>\n      <td>None</td>\n      <td>None</td>\n      <td>0.0</td>\n      <td>3</td>\n      <td>2006</td>\n      <td>New</td>\n      <td>Partial</td>\n      <td>2496.0</td>\n      <td>1264.0</td>\n      <td>108.0</td>\n    </tr>\n    <tr>\n      <th>513</th>\n      <td>20.0</td>\n      <td>RL</td>\n      <td>71.000000</td>\n      <td>9187.0</td>\n      <td>Pave</td>\n      <td>None</td>\n      <td>Reg</td>\n      <td>Bnk</td>\n      <td>Corner</td>\n      <td>Gtl</td>\n      <td>...</td>\n      <td>None</td>\n      <td>None</td>\n      <td>0.0</td>\n      <td>6</td>\n      <td>2007</td>\n      <td>WD</td>\n      <td>Normal</td>\n      <td>2164.0</td>\n      <td>1416.0</td>\n      <td>278.0</td>\n    </tr>\n    <tr>\n      <th>1170</th>\n      <td>80.0</td>\n      <td>RL</td>\n      <td>76.000000</td>\n      <td>9880.0</td>\n      <td>Pave</td>\n      <td>None</td>\n      <td>Reg</td>\n      <td>Lvl</td>\n      <td>Inside</td>\n      <td>Gtl</td>\n      <td>...</td>\n      <td>GdPrv</td>\n      <td>None</td>\n      <td>0.0</td>\n      <td>7</td>\n      <td>2008</td>\n      <td>WD</td>\n      <td>Normal</td>\n      <td>2214.0</td>\n      <td>1640.0</td>\n      <td>203.0</td>\n    </tr>\n    <tr>\n      <th>1227</th>\n      <td>20.0</td>\n      <td>RL</td>\n      <td>72.000000</td>\n      <td>8872.0</td>\n      <td>Pave</td>\n      <td>None</td>\n      <td>Reg</td>\n      <td>Lvl</td>\n      <td>Corner</td>\n      <td>Gtl</td>\n      <td>...</td>\n      <td>None</td>\n      <td>None</td>\n      <td>0.0</td>\n      <td>12</td>\n      <td>2008</td>\n      <td>WD</td>\n      <td>Normal</td>\n      <td>1824.0</td>\n      <td>1507.0</td>\n      <td>240.0</td>\n    </tr>\n    <tr>\n      <th>1291</th>\n      <td>160.0</td>\n      <td>RM</td>\n      <td>21.000000</td>\n      <td>1680.0</td>\n      <td>Pave</td>\n      <td>None</td>\n      <td>Reg</td>\n      <td>Lvl</td>\n      <td>Inside</td>\n      <td>Gtl</td>\n      <td>...</td>\n      <td>None</td>\n      <td>None</td>\n      <td>0.0</td>\n      <td>2</td>\n      <td>2009</td>\n      <td>WD</td>\n      <td>Normal</td>\n      <td>1932.0</td>\n      <td>1533.0</td>\n      <td>185.0</td>\n    </tr>\n    <tr>\n      <th>734</th>\n      <td>20.0</td>\n      <td>RL</td>\n      <td>55.383173</td>\n      <td>8978.0</td>\n      <td>Pave</td>\n      <td>None</td>\n      <td>IR1</td>\n      <td>Lvl</td>\n      <td>Corner</td>\n      <td>Gtl</td>\n      <td>...</td>\n      <td>None</td>\n      <td>None</td>\n      <td>0.0</td>\n      <td>5</td>\n      <td>2007</td>\n      <td>WD</td>\n      <td>Family</td>\n      <td>1896.0</td>\n      <td>948.0</td>\n      <td>147.0</td>\n    </tr>\n    <tr>\n      <th>708</th>\n      <td>60.0</td>\n      <td>RL</td>\n      <td>65.000000</td>\n      <td>9018.0</td>\n      <td>Pave</td>\n      <td>None</td>\n      <td>IR1</td>\n      <td>Lvl</td>\n      <td>Inside</td>\n      <td>Gtl</td>\n      <td>...</td>\n      <td>None</td>\n      <td>None</td>\n      <td>0.0</td>\n      <td>7</td>\n      <td>2007</td>\n      <td>New</td>\n      <td>Partial</td>\n      <td>2184.0</td>\n      <td>1456.0</td>\n      <td>124.0</td>\n    </tr>\n    <tr>\n      <th>309</th>\n      <td>20.0</td>\n      <td>RL</td>\n      <td>90.000000</td>\n      <td>12378.0</td>\n      <td>Pave</td>\n      <td>None</td>\n      <td>IR1</td>\n      <td>Lvl</td>\n      <td>Inside</td>\n      <td>Gtl</td>\n      <td>...</td>\n      <td>None</td>\n      <td>None</td>\n      <td>0.0</td>\n      <td>11</td>\n      <td>2006</td>\n      <td>WD</td>\n      <td>Normal</td>\n      <td>3840.0</td>\n      <td>3218.0</td>\n      <td>383.0</td>\n    </tr>\n    <tr>\n      <th>1194</th>\n      <td>60.0</td>\n      <td>RL</td>\n      <td>80.000000</td>\n      <td>9364.0</td>\n      <td>Pave</td>\n      <td>None</td>\n      <td>Reg</td>\n      <td>Lvl</td>\n      <td>Corner</td>\n      <td>Gtl</td>\n      <td>...</td>\n      <td>MnPrv</td>\n      <td>None</td>\n      <td>0.0</td>\n      <td>3</td>\n      <td>2010</td>\n      <td>WD</td>\n      <td>Normal</td>\n      <td>2015.0</td>\n      <td>1723.0</td>\n      <td>415.0</td>\n    </tr>\n    <tr>\n      <th>858</th>\n      <td>20.0</td>\n      <td>RL</td>\n      <td>80.000000</td>\n      <td>10400.0</td>\n      <td>Pave</td>\n      <td>None</td>\n      <td>Reg</td>\n      <td>Lvl</td>\n      <td>Inside</td>\n      <td>Gtl</td>\n      <td>...</td>\n      <td>MnPrv</td>\n      <td>None</td>\n      <td>0.0</td>\n      <td>6</td>\n      <td>2009</td>\n      <td>WD</td>\n      <td>Family</td>\n      <td>2460.0</td>\n      <td>1370.0</td>\n      <td>0.0</td>\n    </tr>\n    <tr>\n      <th>124</th>\n      <td>20.0</td>\n      <td>RL</td>\n      <td>48.000000</td>\n      <td>17043.0</td>\n      <td>Pave</td>\n      <td>None</td>\n      <td>IR1</td>\n      <td>Lvl</td>\n      <td>CulDSac</td>\n      <td>Gtl</td>\n      <td>...</td>\n      <td>None</td>\n      <td>None</td>\n      <td>0.0</td>\n      <td>1</td>\n      <td>2009</td>\n      <td>WD</td>\n      <td>Normal</td>\n      <td>2948.0</td>\n      <td>1586.0</td>\n      <td>192.0</td>\n    </tr>\n    <tr>\n      <th>95</th>\n      <td>60.0</td>\n      <td>RL</td>\n      <td>63.751830</td>\n      <td>9765.0</td>\n      <td>Pave</td>\n      <td>None</td>\n      <td>IR2</td>\n      <td>Lvl</td>\n      <td>Corner</td>\n      <td>Gtl</td>\n      <td>...</td>\n      <td>None</td>\n      <td>Shed</td>\n      <td>480.0</td>\n      <td>4</td>\n      <td>2009</td>\n      <td>WD</td>\n      <td>Normal</td>\n      <td>2150.0</td>\n      <td>1780.0</td>\n      <td>295.0</td>\n    </tr>\n    <tr>\n      <th>468</th>\n      <td>20.0</td>\n      <td>RL</td>\n      <td>98.000000</td>\n      <td>11428.0</td>\n      <td>Pave</td>\n      <td>None</td>\n      <td>IR1</td>\n      <td>Lvl</td>\n      <td>Inside</td>\n      <td>Gtl</td>\n      <td>...</td>\n      <td>None</td>\n      <td>None</td>\n      <td>0.0</td>\n      <td>5</td>\n      <td>2007</td>\n      <td>WD</td>\n      <td>Normal</td>\n      <td>3260.0</td>\n      <td>1634.0</td>\n      <td>44.0</td>\n    </tr>\n    <tr>\n      <th>179</th>\n      <td>30.0</td>\n      <td>RM</td>\n      <td>60.000000</td>\n      <td>8520.0</td>\n      <td>Pave</td>\n      <td>None</td>\n      <td>Reg</td>\n      <td>Lvl</td>\n      <td>Inside</td>\n      <td>Gtl</td>\n      <td>...</td>\n      <td>None</td>\n      <td>None</td>\n      <td>0.0</td>\n      <td>7</td>\n      <td>2007</td>\n      <td>WD</td>\n      <td>Normal</td>\n      <td>1936.0</td>\n      <td>968.0</td>\n      <td>184.0</td>\n    </tr>\n    <tr>\n      <th>969</th>\n      <td>190.0</td>\n      <td>RL</td>\n      <td>75.000000</td>\n      <td>10382.0</td>\n      <td>Pave</td>\n      <td>None</td>\n      <td>Reg</td>\n      <td>Lvl</td>\n      <td>Inside</td>\n      <td>Gtl</td>\n      <td>...</td>\n      <td>None</td>\n      <td>None</td>\n      <td>0.0</td>\n      <td>3</td>\n      <td>2006</td>\n      <td>ConLD</td>\n      <td>Normal</td>\n      <td>1683.0</td>\n      <td>1608.0</td>\n      <td>0.0</td>\n    </tr>\n    <tr>\n      <th>759</th>\n      <td>60.0</td>\n      <td>RL</td>\n      <td>65.000000</td>\n      <td>12257.0</td>\n      <td>Pave</td>\n      <td>None</td>\n      <td>IR1</td>\n      <td>Lvl</td>\n      <td>Inside</td>\n      <td>Gtl</td>\n      <td>...</td>\n      <td>None</td>\n      <td>None</td>\n      <td>0.0</td>\n      <td>11</td>\n      <td>2007</td>\n      <td>WD</td>\n      <td>Normal</td>\n      <td>3849.0</td>\n      <td>2651.0</td>\n      <td>320.0</td>\n    </tr>\n    <tr>\n      <th>231</th>\n      <td>60.0</td>\n      <td>RL</td>\n      <td>174.000000</td>\n      <td>15138.0</td>\n      <td>Pave</td>\n      <td>None</td>\n      <td>IR1</td>\n      <td>Lvl</td>\n      <td>Inside</td>\n      <td>Gtl</td>\n      <td>...</td>\n      <td>None</td>\n      <td>None</td>\n      <td>0.0</td>\n      <td>7</td>\n      <td>2009</td>\n      <td>WD</td>\n      <td>Normal</td>\n      <td>4256.0</td>\n      <td>3483.0</td>\n      <td>348.0</td>\n    </tr>\n    <tr>\n      <th>1159</th>\n      <td>60.0</td>\n      <td>RL</td>\n      <td>76.000000</td>\n      <td>9120.0</td>\n      <td>Pave</td>\n      <td>None</td>\n      <td>Reg</td>\n      <td>Lvl</td>\n      <td>Inside</td>\n      <td>Gtl</td>\n      <td>...</td>\n      <td>None</td>\n      <td>None</td>\n      <td>0.0</td>\n      <td>7</td>\n      <td>2008</td>\n      <td>WD</td>\n      <td>Normal</td>\n      <td>2777.0</td>\n      <td>2318.0</td>\n      <td>69.0</td>\n    </tr>\n    <tr>\n      <th>783</th>\n      <td>85.0</td>\n      <td>RL</td>\n      <td>24.770242</td>\n      <td>9101.0</td>\n      <td>Pave</td>\n      <td>None</td>\n      <td>IR1</td>\n      <td>Lvl</td>\n      <td>Corner</td>\n      <td>Gtl</td>\n      <td>...</td>\n      <td>None</td>\n      <td>None</td>\n      <td>0.0</td>\n      <td>7</td>\n      <td>2009</td>\n      <td>WD</td>\n      <td>Normal</td>\n      <td>2207.0</td>\n      <td>2207.0</td>\n      <td>333.0</td>\n    </tr>\n    <tr>\n      <th>414</th>\n      <td>60.0</td>\n      <td>RL</td>\n      <td>59.000000</td>\n      <td>11228.0</td>\n      <td>Pave</td>\n      <td>None</td>\n      <td>IR2</td>\n      <td>Lvl</td>\n      <td>CulDSac</td>\n      <td>Gtl</td>\n      <td>...</td>\n      <td>None</td>\n      <td>None</td>\n      <td>0.0</td>\n      <td>12</td>\n      <td>2008</td>\n      <td>WD</td>\n      <td>Normal</td>\n      <td>3177.0</td>\n      <td>2678.0</td>\n      <td>383.0</td>\n    </tr>\n    <tr>\n      <th>426</th>\n      <td>80.0</td>\n      <td>RL</td>\n      <td>74.930774</td>\n      <td>12800.0</td>\n      <td>Pave</td>\n      <td>None</td>\n      <td>Reg</td>\n      <td>Low</td>\n      <td>Inside</td>\n      <td>Mod</td>\n      <td>...</td>\n      <td>None</td>\n      <td>None</td>\n      <td>0.0</td>\n      <td>8</td>\n      <td>2009</td>\n      <td>WD</td>\n      <td>Normal</td>\n      <td>3162.0</td>\n      <td>3162.0</td>\n      <td>476.0</td>\n    </tr>\n    <tr>\n      <th>1029</th>\n      <td>160.0</td>\n      <td>RM</td>\n      <td>21.000000</td>\n      <td>1680.0</td>\n      <td>Pave</td>\n      <td>None</td>\n      <td>Reg</td>\n      <td>Lvl</td>\n      <td>Inside</td>\n      <td>Gtl</td>\n      <td>...</td>\n      <td>None</td>\n      <td>None</td>\n      <td>0.0</td>\n      <td>5</td>\n      <td>2006</td>\n      <td>WD</td>\n      <td>Normal</td>\n      <td>1890.0</td>\n      <td>1535.0</td>\n      <td>28.0</td>\n    </tr>\n    <tr>\n      <th>564</th>\n      <td>60.0</td>\n      <td>RL</td>\n      <td>80.648246</td>\n      <td>13346.0</td>\n      <td>Pave</td>\n      <td>None</td>\n      <td>IR1</td>\n      <td>Lvl</td>\n      <td>CulDSac</td>\n      <td>Gtl</td>\n      <td>...</td>\n      <td>None</td>\n      <td>None</td>\n      <td>0.0</td>\n      <td>7</td>\n      <td>2006</td>\n      <td>WD</td>\n      <td>Normal</td>\n      <td>3390.0</td>\n      <td>3023.0</td>\n      <td>40.0</td>\n    </tr>\n    <tr>\n      <th>1101</th>\n      <td>20.0</td>\n      <td>RL</td>\n      <td>61.000000</td>\n      <td>9758.0</td>\n      <td>Pave</td>\n      <td>None</td>\n      <td>IR1</td>\n      <td>Lvl</td>\n      <td>Inside</td>\n      <td>Gtl</td>\n      <td>...</td>\n      <td>None</td>\n      <td>None</td>\n      <td>0.0</td>\n      <td>7</td>\n      <td>2007</td>\n      <td>WD</td>\n      <td>Normal</td>\n      <td>1900.0</td>\n      <td>1649.0</td>\n      <td>0.0</td>\n    </tr>\n    <tr>\n      <th>842</th>\n      <td>80.0</td>\n      <td>RL</td>\n      <td>82.000000</td>\n      <td>9020.0</td>\n      <td>Pave</td>\n      <td>None</td>\n      <td>Reg</td>\n      <td>Lvl</td>\n      <td>Inside</td>\n      <td>Gtl</td>\n      <td>...</td>\n      <td>GdPrv</td>\n      <td>None</td>\n      <td>0.0</td>\n      <td>5</td>\n      <td>2008</td>\n      <td>WD</td>\n      <td>Normal</td>\n      <td>2292.0</td>\n      <td>2016.0</td>\n      <td>129.0</td>\n    </tr>\n    <tr>\n      <th>1015</th>\n      <td>60.0</td>\n      <td>RL</td>\n      <td>70.000000</td>\n      <td>8400.0</td>\n      <td>Pave</td>\n      <td>None</td>\n      <td>Reg</td>\n      <td>Lvl</td>\n      <td>Inside</td>\n      <td>Gtl</td>\n      <td>...</td>\n      <td>None</td>\n      <td>None</td>\n      <td>0.0</td>\n      <td>11</td>\n      <td>2009</td>\n      <td>WD</td>\n      <td>Normal</td>\n      <td>2475.0</td>\n      <td>2308.0</td>\n      <td>45.0</td>\n    </tr>\n    <tr>\n      <th>21</th>\n      <td>45.0</td>\n      <td>RM</td>\n      <td>57.000000</td>\n      <td>7449.0</td>\n      <td>Pave</td>\n      <td>Grvl</td>\n      <td>Reg</td>\n      <td>Bnk</td>\n      <td>Inside</td>\n      <td>Gtl</td>\n      <td>...</td>\n      <td>GdPrv</td>\n      <td>None</td>\n      <td>0.0</td>\n      <td>6</td>\n      <td>2007</td>\n      <td>WD</td>\n      <td>Normal</td>\n      <td>1745.0</td>\n      <td>1108.0</td>\n      <td>205.0</td>\n    </tr>\n    <tr>\n      <th>88</th>\n      <td>50.0</td>\n      <td>C (all)</td>\n      <td>105.000000</td>\n      <td>8470.0</td>\n      <td>Pave</td>\n      <td>None</td>\n      <td>IR1</td>\n      <td>Lvl</td>\n      <td>Corner</td>\n      <td>Gtl</td>\n      <td>...</td>\n      <td>MnPrv</td>\n      <td>None</td>\n      <td>0.0</td>\n      <td>10</td>\n      <td>2009</td>\n      <td>ConLD</td>\n      <td>Abnorml</td>\n      <td>2026.0</td>\n      <td>1013.0</td>\n      <td>156.0</td>\n    </tr>\n    <tr>\n      <th>649</th>\n      <td>180.0</td>\n      <td>RM</td>\n      <td>21.000000</td>\n      <td>1936.0</td>\n      <td>Pave</td>\n      <td>None</td>\n      <td>Reg</td>\n      <td>Lvl</td>\n      <td>Inside</td>\n      <td>Gtl</td>\n      <td>...</td>\n      <td>MnPrv</td>\n      <td>None</td>\n      <td>0.0</td>\n      <td>12</td>\n      <td>2007</td>\n      <td>WD</td>\n      <td>Normal</td>\n      <td>1260.0</td>\n      <td>1260.0</td>\n      <td>0.0</td>\n    </tr>\n    <tr>\n      <th>232</th>\n      <td>160.0</td>\n      <td>RM</td>\n      <td>21.000000</td>\n      <td>1680.0</td>\n      <td>Pave</td>\n      <td>None</td>\n      <td>Reg</td>\n      <td>Lvl</td>\n      <td>Inside</td>\n      <td>Gtl</td>\n      <td>...</td>\n      <td>None</td>\n      <td>None</td>\n      <td>0.0</td>\n      <td>6</td>\n      <td>2006</td>\n      <td>WD</td>\n      <td>Normal</td>\n      <td>1470.0</td>\n      <td>987.0</td>\n      <td>0.0</td>\n    </tr>\n    <tr>\n      <th>302</th>\n      <td>20.0</td>\n      <td>RL</td>\n      <td>118.000000</td>\n      <td>13704.0</td>\n      <td>Pave</td>\n      <td>None</td>\n      <td>IR1</td>\n      <td>Lvl</td>\n      <td>Corner</td>\n      <td>Gtl</td>\n      <td>...</td>\n      <td>None</td>\n      <td>None</td>\n      <td>0.0</td>\n      <td>1</td>\n      <td>2006</td>\n      <td>WD</td>\n      <td>Normal</td>\n      <td>3082.0</td>\n      <td>1541.0</td>\n      <td>549.0</td>\n    </tr>\n    <tr>\n      <th>735</th>\n      <td>75.0</td>\n      <td>RM</td>\n      <td>60.000000</td>\n      <td>10800.0</td>\n      <td>Pave</td>\n      <td>None</td>\n      <td>Reg</td>\n      <td>Lvl</td>\n      <td>Inside</td>\n      <td>Gtl</td>\n      <td>...</td>\n      <td>None</td>\n      <td>None</td>\n      <td>0.0</td>\n      <td>10</td>\n      <td>2006</td>\n      <td>WD</td>\n      <td>Normal</td>\n      <td>2648.0</td>\n      <td>2158.0</td>\n      <td>341.0</td>\n    </tr>\n    <tr>\n      <th>288</th>\n      <td>20.0</td>\n      <td>RL</td>\n      <td>62.721708</td>\n      <td>9819.0</td>\n      <td>Pave</td>\n      <td>None</td>\n      <td>IR1</td>\n      <td>Lvl</td>\n      <td>Inside</td>\n      <td>Gtl</td>\n      <td>...</td>\n      <td>MnPrv</td>\n      <td>None</td>\n      <td>0.0</td>\n      <td>2</td>\n      <td>2010</td>\n      <td>WD</td>\n      <td>Normal</td>\n      <td>1782.0</td>\n      <td>1350.0</td>\n      <td>0.0</td>\n    </tr>\n    <tr>\n      <th>966</th>\n      <td>50.0</td>\n      <td>RL</td>\n      <td>130.000000</td>\n      <td>9600.0</td>\n      <td>Pave</td>\n      <td>None</td>\n      <td>IR1</td>\n      <td>HLS</td>\n      <td>Inside</td>\n      <td>Gtl</td>\n      <td>...</td>\n      <td>None</td>\n      <td>None</td>\n      <td>0.0</td>\n      <td>6</td>\n      <td>2009</td>\n      <td>WD</td>\n      <td>Normal</td>\n      <td>2036.0</td>\n      <td>1736.0</td>\n      <td>70.0</td>\n    </tr>\n    <tr>\n      <th>46</th>\n      <td>50.0</td>\n      <td>RL</td>\n      <td>48.000000</td>\n      <td>12822.0</td>\n      <td>Pave</td>\n      <td>None</td>\n      <td>IR1</td>\n      <td>Lvl</td>\n      <td>CulDSac</td>\n      <td>Gtl</td>\n      <td>...</td>\n      <td>None</td>\n      <td>None</td>\n      <td>0.0</td>\n      <td>8</td>\n      <td>2009</td>\n      <td>WD</td>\n      <td>Abnorml</td>\n      <td>3583.0</td>\n      <td>3500.0</td>\n      <td>409.0</td>\n    </tr>\n    <tr>\n      <th>861</th>\n      <td>190.0</td>\n      <td>RL</td>\n      <td>75.000000</td>\n      <td>11625.0</td>\n      <td>Pave</td>\n      <td>None</td>\n      <td>Reg</td>\n      <td>Lvl</td>\n      <td>Inside</td>\n      <td>Gtl</td>\n      <td>...</td>\n      <td>None</td>\n      <td>None</td>\n      <td>0.0</td>\n      <td>4</td>\n      <td>2010</td>\n      <td>WD</td>\n      <td>Normal</td>\n      <td>2078.0</td>\n      <td>1880.0</td>\n      <td>0.0</td>\n    </tr>\n    <tr>\n      <th>319</th>\n      <td>80.0</td>\n      <td>RL</td>\n      <td>33.863834</td>\n      <td>14115.0</td>\n      <td>Pave</td>\n      <td>None</td>\n      <td>Reg</td>\n      <td>Lvl</td>\n      <td>Inside</td>\n      <td>Gtl</td>\n      <td>...</td>\n      <td>None</td>\n      <td>None</td>\n      <td>0.0</td>\n      <td>6</td>\n      <td>2009</td>\n      <td>WD</td>\n      <td>Normal</td>\n      <td>2844.0</td>\n      <td>2508.0</td>\n      <td>281.0</td>\n    </tr>\n    <tr>\n      <th>927</th>\n      <td>60.0</td>\n      <td>RL</td>\n      <td>68.160235</td>\n      <td>9900.0</td>\n      <td>Pave</td>\n      <td>None</td>\n      <td>Reg</td>\n      <td>Lvl</td>\n      <td>Inside</td>\n      <td>Gtl</td>\n      <td>...</td>\n      <td>GdPrv</td>\n      <td>None</td>\n      <td>0.0</td>\n      <td>4</td>\n      <td>2008</td>\n      <td>WD</td>\n      <td>Normal</td>\n      <td>2810.0</td>\n      <td>2530.0</td>\n      <td>43.0</td>\n    </tr>\n  </tbody>\n</table>\n<p>44 rows × 80 columns</p>\n</div>"
     },
     "execution_count": 64,
     "metadata": {},
     "output_type": "execute_result"
    }
   ],
   "source": [
    "cat_features = np.where(X_train.loc[:, X_train.columns.values].dtypes == \"object\")[0]\n",
    "X_train.iloc[cat_features]"
   ],
   "metadata": {
    "collapsed": false,
    "pycharm": {
     "name": "#%%\n"
    }
   }
  },
  {
   "cell_type": "code",
   "execution_count": 65,
   "outputs": [
    {
     "name": "stdout",
     "output_type": "stream",
     "text": [
      "RMSLE: 0.08742266027601715\n",
      "RMSLE: 0.11719718637605857\n"
     ]
    }
   ],
   "source": [
    "train_pool = Pool(X_train, y_train, cat_features=cat_features)\n",
    "dev_pool = Pool(X_test, y_test, cat_features=cat_features)\n",
    "\n",
    "cat_model = CatBoostRegressor(task_type=\"GPU\",  devices='0:1')\n",
    "cat_model.fit(train_pool, eval_set=dev_pool, verbose=0, plot=False)\n",
    "\n",
    "evaluate(cat_model, X_train, y_train)\n",
    "evaluate(cat_model, X_test, y_test)"
   ],
   "metadata": {
    "collapsed": false,
    "pycharm": {
     "name": "#%%\n"
    }
   }
  },
  {
   "cell_type": "code",
   "execution_count": 66,
   "outputs": [],
   "source": [
    "data = pd.read_csv(\"./train.csv\")\n",
    "data = data.drop(columns=[\"Id\"])\n",
    "\n",
    "#data = remove_outliers(data)\n",
    "\n",
    "y = np.log1p(data[\"SalePrice\"])\n",
    "X = data.drop(columns=[\"SalePrice\"])\n",
    "\n",
    "transformer = DataTransformer(StandardScaler())\n",
    "X = transformer.prepare(X)\n",
    "\n",
    "transformer.fit(X)\n",
    "\n",
    "X = transformer.transform(X, False)\n",
    "\n",
    "cat_features = np.where(X.loc[:, X.columns.values].dtypes == \"object\")[0]"
   ],
   "metadata": {
    "collapsed": false,
    "pycharm": {
     "name": "#%%\n"
    }
   }
  },
  {
   "cell_type": "code",
   "execution_count": 75,
   "outputs": [
    {
     "name": "stdout",
     "output_type": "stream",
     "text": [
      "RMSLE: 0.07286450550900356\n"
     ]
    }
   ],
   "source": [
    "train_pool = Pool(X, y, cat_features=cat_features)\n",
    "#400 - 0.12927241949496218\n",
    "cat_model = CatBoostRegressor(iterations=300, task_type=\"GPU\",  devices='0:1')\n",
    "cat_model.fit(train_pool, verbose=0, plot=False)\n",
    "\n",
    "evaluate(cat_model, X, y)"
   ],
   "metadata": {
    "collapsed": false,
    "pycharm": {
     "name": "#%%\n"
    }
   }
  },
  {
   "cell_type": "code",
   "execution_count": 76,
   "outputs": [
    {
     "name": "stdout",
     "output_type": "stream",
     "text": [
      "RMSLE submission: 0.12658064177361\n"
     ]
    }
   ],
   "source": [
    "validation = pd.read_csv(\"./test.csv\")\n",
    "val_ids = validation[\"Id\"]\n",
    "validation = validation.drop(columns=[\"Id\"])\n",
    "\n",
    "validation = transformer.prepare(validation)\n",
    "validation = transformer.transform(validation, False)\n",
    "#to_categorical(validation)\n",
    "\n",
    "sub_predictions = cat_model.predict(validation)\n",
    "print(\"RMSLE submission: \" + str(rmsle(sub_predictions, np.log1p(cheat[\"SalePrice\"]))))\n",
    "#evaluate(lbg_model, validation,  np.log1p(cheat[\"SalePrice\"]))"
   ],
   "metadata": {
    "collapsed": false,
    "pycharm": {
     "name": "#%%\n"
    }
   }
  },
  {
   "cell_type": "code",
   "execution_count": null,
   "outputs": [],
   "source": [],
   "metadata": {
    "collapsed": false,
    "pycharm": {
     "name": "#%%\n"
    }
   }
  }
 ],
 "metadata": {
  "kernelspec": {
   "display_name": "Python 3",
   "language": "python",
   "name": "python3"
  },
  "language_info": {
   "codemirror_mode": {
    "name": "ipython",
    "version": 2
   },
   "file_extension": ".py",
   "mimetype": "text/x-python",
   "name": "python",
   "nbconvert_exporter": "python",
   "pygments_lexer": "ipython2",
   "version": "2.7.6"
  }
 },
 "nbformat": 4,
 "nbformat_minor": 0
}