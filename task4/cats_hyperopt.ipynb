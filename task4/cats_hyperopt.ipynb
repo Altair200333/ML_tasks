{
 "cells": [
  {
   "cell_type": "code",
   "execution_count": 1,
   "outputs": [],
   "source": [
    "import matplotlib.pyplot as plt\n",
    "import seaborn as sns\n",
    "import pandas as pd\n",
    "import numpy as np\n",
    "import warnings\n",
    "from sklearn.model_selection import train_test_split\n",
    "import xgboost as xgb\n",
    "from sklearn.preprocessing import OneHotEncoder\n",
    "from sklearn.model_selection import GridSearchCV\n",
    "from sklearn.model_selection import cross_val_score\n",
    "from sklearn import metrics\n",
    "from data_processing import *\n",
    "from sklearn.preprocessing import MinMaxScaler\n",
    "from sklearn.impute import SimpleImputer\n",
    "from sklearn.preprocessing import StandardScaler\n",
    "from sklearn.ensemble import RandomForestRegressor\n",
    "from data_transformar import *\n",
    "import lightgbm as lgb\n",
    "from sklearn.decomposition import PCA\n",
    "from catboost import CatBoostRegressor, Pool\n",
    "\n",
    "warnings.simplefilter(\"ignore\")\n",
    "%matplotlib inline\n",
    "%load_ext autoreload\n",
    "%autoreload 2\n",
    "\n",
    "sns.set(style=\"darkgrid\")"
   ],
   "metadata": {
    "collapsed": false,
    "pycharm": {
     "name": "#%%\n"
    }
   }
  },
  {
   "cell_type": "code",
   "execution_count": 23,
   "outputs": [],
   "source": [
    "from sklearn.metrics import mean_squared_error\n",
    "\n",
    "cheat = pd.read_csv(\"./result-with-best.csv\")\n",
    "\n",
    "def rmsle(y, y_pred):\n",
    "    return np.sqrt(mean_squared_error(y, y_pred))\n",
    "\n",
    "def cheat_score(model, val):\n",
    "    print(\"RMSLE sub: \" + str(rmsle(model.predict(val), np.log1p(cheat[\"SalePrice\"]))))\n",
    "\n",
    "def to_categorical(X):\n",
    "    for c in X.columns:\n",
    "        col_type = X[c].dtype\n",
    "        if col_type == 'object' or col_type.name == 'category':\n",
    "            X[c] = X[c].astype('category')\n",
    "\n",
    "def evaluate(model, X, y):\n",
    "    preds = model.predict(X)\n",
    "    print(\"RMSLE: \" + str(rmsle(preds, y)))"
   ],
   "metadata": {
    "collapsed": false,
    "pycharm": {
     "name": "#%%\n"
    }
   }
  },
  {
   "cell_type": "code",
   "execution_count": 24,
   "outputs": [
    {
     "name": "stdout",
     "output_type": "stream",
     "text": [
      "Int64Index([249, 313, 335, 523, 706, 1298], dtype='int64')\n"
     ]
    }
   ],
   "source": [
    "data = pd.read_csv(\"./train.csv\")\n",
    "data = data.drop(columns=[\"Id\"])\n",
    "\n",
    "data = remove_outliers(data)\n",
    "\n",
    "y = np.log1p(data[\"SalePrice\"])\n",
    "X = data.drop(columns=[\"SalePrice\"])\n",
    "\n",
    "X_train, X_test, y_train, y_test = train_test_split(X, y, test_size=0.2, random_state=98987)\n",
    "X_train_orig = X_train.copy()\n",
    "\n",
    "transformer = DataTransformer(StandardScaler())\n",
    "\n",
    "X_train = transformer.prepare(X_train)\n",
    "X_test = transformer.prepare(X_test)\n",
    "\n",
    "transformer.fit(X_train)\n",
    "\n",
    "X_train = transformer.transform(X_train, False)\n",
    "X_test = transformer.transform(X_test, False)"
   ],
   "metadata": {
    "collapsed": false,
    "pycharm": {
     "name": "#%%\n"
    }
   }
  },
  {
   "cell_type": "code",
   "execution_count": 25,
   "outputs": [
    {
     "data": {
      "text/plain": "     MSSubClass MSZoning  LotFrontage   LotArea Street Alley LotShape  \\\n437          45       RM    -0.887974 -0.736211   Pave  None      Reg   \n1410         60       RL     0.385528  0.399284   Pave  None      Reg   \n723          50       RL    -0.448835 -0.352053   Pave  None      Reg   \n1371         80       RL     0.429442 -0.099485   Pave  None      Reg   \n1440         70       RL     0.385528  0.241164   Pave  None      IR1   \n383          45       RH    -0.448835 -0.205606   Pave  None      Reg   \n360          85       RL     0.785870 -0.463834   Pave  None      IR1   \n219         120       RL    -1.195371 -1.265048   Pave  None      Reg   \n513          20       RL     0.034217 -0.172531   Pave  None      Reg   \n1170         80       RL     0.253787 -0.049962   Pave  None      Reg   \n1227         20       RL     0.078131 -0.228245   Pave  None      Reg   \n1291        160       RM    -2.161475 -1.500282   Pave  None      Reg   \n734          20       RL     0.037667 -0.209497   Pave  None      IR1   \n816          20       RL    -0.042930  0.223300   Pave  None      IR1   \n1202         50       RM    -0.887974 -0.736211   Pave  None      Reg   \n708          60       RL    -0.229266 -0.202422   Pave  None      IR1   \n309          20       RL     0.868581  0.391856   Pave  None      IR1   \n1194         60       RL     0.429442 -0.141226   Pave  None      Reg   \n858          20       RL     0.429442  0.042010   Pave  None      Reg   \n124          20       RL    -0.975801  1.216947   Pave  None      IR1   \n95           60       RL    -0.611664 -0.070301   Pave  None      IR2   \n468          20       RL     1.219891  0.223831   Pave  None      IR1   \n179          30       RM    -0.448835 -0.290503   Pave  None      Reg   \n969         190       RL     0.209873  0.038826   Pave  None      Reg   \n759          60       RL    -0.229266  0.370455   Pave  None      IR1   \n231          60       RL     4.557344  0.880012   Pave  None      IR1   \n1159         60       RL     0.253787 -0.184382   Pave  None      Reg   \n783          85       RL    -3.342071 -0.187742   Pave  None      IR1   \n414          60       RL    -0.492749  0.188457   Pave  None      IR2   \n426          80       RL    -1.191006  0.466494   Pave  None      Reg   \n1029        160       RM    -2.161475 -1.500282   Pave  None      Reg   \n564          60       RL     0.008003  0.563064   Pave  None      IR1   \n955          90       RH     0.517270 -0.535288   Pave  None      IR1   \n1419         20       RL     0.847564  1.099860   Pave  None      IR1   \n794          60       RL     0.162192  0.118417   Pave  None      IR1   \n1101         20       RL    -0.404921 -0.071540   Pave  None      IR1   \n1364        160       FV    -1.766251 -1.234980   Pave  Pave      Reg   \n842          80       RL     0.517270 -0.202068   Pave  None      Reg   \n126         120       RL    -0.252538 -0.925814   Pave  None      IR1   \n1015         60       RL    -0.009696 -0.311727   Pave  None      Reg   \n21           45       RM    -0.580577 -0.479929   Pave  Grvl      Reg   \n88           50  C (all)     1.527288 -0.299346   Pave  None      IR1   \n649         180       RM    -2.161475 -1.455004   Pave  None      Reg   \n232         160       RM    -2.161475 -1.500282   Pave  None      Reg   \n302          20       RL     2.098169  0.626383   Pave  None      IR1   \n735          75       RM    -0.448835  0.112757   Pave  None      Reg   \n288          20       RL     0.553021 -0.060751   Pave  None      IR1   \n966          50       RL     2.625135 -0.099485   Pave  None      IR1   \n46           50       RL    -0.975801  0.470385   Pave  None      IR1   \n861         190       RL     0.209873  0.258674   Pave  None      Reg   \n319          80       RL     1.432670  0.699076   Pave  None      Reg   \n927          60       RL    -0.161349 -0.046424   Pave  None      Reg   \n\n     LandContour LotConfig LandSlope  ... ScreenPorch   PoolArea PoolQC  \\\n437          Lvl    Inside       Gtl  ...   -0.262326  -0.071369   None   \n1410         Lvl    Inside       Gtl  ...   -0.262326  -0.071369   None   \n723          Lvl    Inside       Gtl  ...    2.543385  -0.071369   None   \n1371         Lvl    Inside       Gtl  ...    2.939062  -0.071369   None   \n1440         Bnk    Inside       Mod  ...   -0.262326  -0.071369   None   \n383          Lvl    Corner       Gtl  ...   -0.262326  -0.071369   None   \n360          Lvl   CulDSac       Gtl  ...    3.190856  -0.071369   None   \n219          Lvl    Inside       Gtl  ...   -0.262326  -0.071369   None   \n513          Bnk    Corner       Gtl  ...   -0.262326  -0.071369   None   \n1170         Lvl    Inside       Gtl  ...   -0.262326  13.403663     Gd   \n1227         Lvl    Corner       Gtl  ...   -0.262326  -0.071369   None   \n1291         Lvl    Inside       Gtl  ...   -0.262326  -0.071369   None   \n734          Lvl    Corner       Gtl  ...   -0.262326  -0.071369   None   \n816          Lvl    Corner       Gtl  ...   -0.262326  -0.071369   None   \n1202         Lvl    Corner       Gtl  ...   -0.262326  -0.071369   None   \n708          Lvl    Inside       Gtl  ...   -0.262326  -0.071369   None   \n309          Lvl    Inside       Gtl  ...   -0.262326  -0.071369   None   \n1194         Lvl    Corner       Gtl  ...   -0.262326  -0.071369   None   \n858          Lvl    Inside       Gtl  ...   -0.262326  -0.071369   None   \n124          Lvl   CulDSac       Gtl  ...   -0.262326  -0.071369   None   \n95           Lvl    Corner       Gtl  ...   -0.262326  -0.071369   None   \n468          Lvl    Inside       Gtl  ...   -0.262326  -0.071369   None   \n179          Lvl    Inside       Gtl  ...   -0.262326  -0.071369   None   \n969          Lvl    Inside       Gtl  ...   -0.262326  -0.071369   None   \n759          Lvl    Inside       Gtl  ...   -0.262326  -0.071369   None   \n231          Lvl    Inside       Gtl  ...   -0.262326  -0.071369   None   \n1159         Lvl    Inside       Gtl  ...   -0.262326  -0.071369   None   \n783          Lvl    Corner       Gtl  ...   -0.262326  -0.071369   None   \n414          Lvl   CulDSac       Gtl  ...   -0.262326  -0.071369   None   \n426          Low    Inside       Mod  ...    6.859863  -0.071369   None   \n1029         Lvl    Inside       Gtl  ...   -0.262326  -0.071369   None   \n564          Lvl   CulDSac       Gtl  ...   -0.262326  -0.071369   None   \n955          HLS    Inside       Gtl  ...   -0.262326  -0.071369   None   \n1419         Lvl    Inside       Gtl  ...   -0.262326  -0.071369   None   \n794          Lvl    Corner       Gtl  ...   -0.262326  -0.071369   None   \n1101         Lvl    Inside       Gtl  ...   -0.262326  -0.071369   None   \n1364         Lvl    Inside       Gtl  ...   -0.262326  -0.071369   None   \n842          Lvl    Inside       Gtl  ...   -0.262326  -0.071369   None   \n126          Lvl    Inside       Gtl  ...   -0.262326  -0.071369   None   \n1015         Lvl    Inside       Gtl  ...   -0.262326  -0.071369   None   \n21           Bnk    Inside       Gtl  ...   -0.262326  -0.071369   None   \n88           Lvl    Corner       Gtl  ...   -0.262326  -0.071369   None   \n649          Lvl    Inside       Gtl  ...   -0.262326  -0.071369   None   \n232          Lvl    Inside       Gtl  ...   -0.262326  -0.071369   None   \n302          Lvl    Corner       Gtl  ...   -0.262326  -0.071369   None   \n735          Lvl    Inside       Gtl  ...   -0.262326  -0.071369   None   \n288          Lvl    Inside       Gtl  ...   -0.262326  -0.071369   None   \n966          HLS    Inside       Gtl  ...   -0.262326  -0.071369   None   \n46           Lvl   CulDSac       Gtl  ...    3.298768  -0.071369   None   \n861          Lvl    Inside       Gtl  ...   -0.262326  -0.071369   None   \n319          Lvl    Inside       Gtl  ...   -0.262326  -0.071369   None   \n927          Lvl    Inside       Gtl  ...   -0.262326  -0.071369   None   \n\n      Fence MiscFeature   MiscVal MoSold  YrSold SaleType SaleCondition  \n437    None        None -0.085058      1    2009       WD        Normal  \n1410   None        None -0.085058      6    2009       WD        Normal  \n723    None        None -0.085058      5    2008       WD        Normal  \n1371  MnPrv        None -0.085058     10    2008       WD        Normal  \n1440   None        None -0.085058      9    2008       WD        Normal  \n383    None        None -0.085058     10    2009       WD        Normal  \n360   MnPrv        None -0.085058      6    2007       WD        Normal  \n219    None        None -0.085058      3    2006      New       Partial  \n513    None        None -0.085058      6    2007       WD        Normal  \n1170  GdPrv        None -0.085058      7    2008       WD        Normal  \n1227   None        None -0.085058     12    2008       WD        Normal  \n1291   None        None -0.085058      2    2009       WD        Normal  \n734    None        None -0.085058      5    2007       WD        Family  \n816    None        None -0.085058      7    2006       WD        Normal  \n1202   None        None -0.085058      5    2009       WD        Normal  \n708    None        None -0.085058      7    2007      New       Partial  \n309    None        None -0.085058     11    2006       WD        Normal  \n1194  MnPrv        None -0.085058      3    2010       WD        Normal  \n858   MnPrv        None -0.085058      6    2009       WD        Family  \n124    None        None -0.085058      1    2009       WD        Normal  \n95     None        Shed  0.790619      4    2009       WD        Normal  \n468    None        None -0.085058      5    2007       WD        Normal  \n179    None        None -0.085058      7    2007       WD        Normal  \n969    None        None -0.085058      3    2006    ConLD        Normal  \n759    None        None -0.085058     11    2007       WD        Normal  \n231    None        None -0.085058      7    2009       WD        Normal  \n1159   None        None -0.085058      7    2008       WD        Normal  \n783    None        None -0.085058      7    2009       WD        Normal  \n414    None        None -0.085058     12    2008       WD        Normal  \n426    None        None -0.085058      8    2009       WD        Normal  \n1029   None        None -0.085058      5    2006       WD        Normal  \n564    None        None -0.085058      7    2006       WD        Normal  \n955    None        None -0.085058      8    2007       WD        Normal  \n1419   None        None -0.085058     12    2006       WD        Normal  \n794    None        Shed  0.827105     10    2008       WD        Normal  \n1101   None        None -0.085058      7    2007       WD        Normal  \n1364   None        None -0.085058      4    2006       WD       Abnorml  \n842   GdPrv        None -0.085058      5    2008       WD        Normal  \n126    None        None -0.085058      2    2007       WD        Normal  \n1015   None        None -0.085058     11    2009       WD        Normal  \n21    GdPrv        None -0.085058      6    2007       WD        Normal  \n88    MnPrv        None -0.085058     10    2009    ConLD       Abnorml  \n649   MnPrv        None -0.085058     12    2007       WD        Normal  \n232    None        None -0.085058      6    2006       WD        Normal  \n302    None        None -0.085058      1    2006       WD        Normal  \n735    None        None -0.085058     10    2006       WD        Normal  \n288   MnPrv        None -0.085058      2    2010       WD        Normal  \n966    None        None -0.085058      6    2009       WD        Normal  \n46     None        None -0.085058      8    2009       WD       Abnorml  \n861    None        None -0.085058      4    2010       WD        Normal  \n319    None        None -0.085058      6    2009       WD        Normal  \n927   GdPrv        None -0.085058      4    2008       WD        Normal  \n\n[52 rows x 77 columns]",
      "text/html": "<div>\n<style scoped>\n    .dataframe tbody tr th:only-of-type {\n        vertical-align: middle;\n    }\n\n    .dataframe tbody tr th {\n        vertical-align: top;\n    }\n\n    .dataframe thead th {\n        text-align: right;\n    }\n</style>\n<table border=\"1\" class=\"dataframe\">\n  <thead>\n    <tr style=\"text-align: right;\">\n      <th></th>\n      <th>MSSubClass</th>\n      <th>MSZoning</th>\n      <th>LotFrontage</th>\n      <th>LotArea</th>\n      <th>Street</th>\n      <th>Alley</th>\n      <th>LotShape</th>\n      <th>LandContour</th>\n      <th>LotConfig</th>\n      <th>LandSlope</th>\n      <th>...</th>\n      <th>ScreenPorch</th>\n      <th>PoolArea</th>\n      <th>PoolQC</th>\n      <th>Fence</th>\n      <th>MiscFeature</th>\n      <th>MiscVal</th>\n      <th>MoSold</th>\n      <th>YrSold</th>\n      <th>SaleType</th>\n      <th>SaleCondition</th>\n    </tr>\n  </thead>\n  <tbody>\n    <tr>\n      <th>437</th>\n      <td>45</td>\n      <td>RM</td>\n      <td>-0.887974</td>\n      <td>-0.736211</td>\n      <td>Pave</td>\n      <td>None</td>\n      <td>Reg</td>\n      <td>Lvl</td>\n      <td>Inside</td>\n      <td>Gtl</td>\n      <td>...</td>\n      <td>-0.262326</td>\n      <td>-0.071369</td>\n      <td>None</td>\n      <td>None</td>\n      <td>None</td>\n      <td>-0.085058</td>\n      <td>1</td>\n      <td>2009</td>\n      <td>WD</td>\n      <td>Normal</td>\n    </tr>\n    <tr>\n      <th>1410</th>\n      <td>60</td>\n      <td>RL</td>\n      <td>0.385528</td>\n      <td>0.399284</td>\n      <td>Pave</td>\n      <td>None</td>\n      <td>Reg</td>\n      <td>Lvl</td>\n      <td>Inside</td>\n      <td>Gtl</td>\n      <td>...</td>\n      <td>-0.262326</td>\n      <td>-0.071369</td>\n      <td>None</td>\n      <td>None</td>\n      <td>None</td>\n      <td>-0.085058</td>\n      <td>6</td>\n      <td>2009</td>\n      <td>WD</td>\n      <td>Normal</td>\n    </tr>\n    <tr>\n      <th>723</th>\n      <td>50</td>\n      <td>RL</td>\n      <td>-0.448835</td>\n      <td>-0.352053</td>\n      <td>Pave</td>\n      <td>None</td>\n      <td>Reg</td>\n      <td>Lvl</td>\n      <td>Inside</td>\n      <td>Gtl</td>\n      <td>...</td>\n      <td>2.543385</td>\n      <td>-0.071369</td>\n      <td>None</td>\n      <td>None</td>\n      <td>None</td>\n      <td>-0.085058</td>\n      <td>5</td>\n      <td>2008</td>\n      <td>WD</td>\n      <td>Normal</td>\n    </tr>\n    <tr>\n      <th>1371</th>\n      <td>80</td>\n      <td>RL</td>\n      <td>0.429442</td>\n      <td>-0.099485</td>\n      <td>Pave</td>\n      <td>None</td>\n      <td>Reg</td>\n      <td>Lvl</td>\n      <td>Inside</td>\n      <td>Gtl</td>\n      <td>...</td>\n      <td>2.939062</td>\n      <td>-0.071369</td>\n      <td>None</td>\n      <td>MnPrv</td>\n      <td>None</td>\n      <td>-0.085058</td>\n      <td>10</td>\n      <td>2008</td>\n      <td>WD</td>\n      <td>Normal</td>\n    </tr>\n    <tr>\n      <th>1440</th>\n      <td>70</td>\n      <td>RL</td>\n      <td>0.385528</td>\n      <td>0.241164</td>\n      <td>Pave</td>\n      <td>None</td>\n      <td>IR1</td>\n      <td>Bnk</td>\n      <td>Inside</td>\n      <td>Mod</td>\n      <td>...</td>\n      <td>-0.262326</td>\n      <td>-0.071369</td>\n      <td>None</td>\n      <td>None</td>\n      <td>None</td>\n      <td>-0.085058</td>\n      <td>9</td>\n      <td>2008</td>\n      <td>WD</td>\n      <td>Normal</td>\n    </tr>\n    <tr>\n      <th>383</th>\n      <td>45</td>\n      <td>RH</td>\n      <td>-0.448835</td>\n      <td>-0.205606</td>\n      <td>Pave</td>\n      <td>None</td>\n      <td>Reg</td>\n      <td>Lvl</td>\n      <td>Corner</td>\n      <td>Gtl</td>\n      <td>...</td>\n      <td>-0.262326</td>\n      <td>-0.071369</td>\n      <td>None</td>\n      <td>None</td>\n      <td>None</td>\n      <td>-0.085058</td>\n      <td>10</td>\n      <td>2009</td>\n      <td>WD</td>\n      <td>Normal</td>\n    </tr>\n    <tr>\n      <th>360</th>\n      <td>85</td>\n      <td>RL</td>\n      <td>0.785870</td>\n      <td>-0.463834</td>\n      <td>Pave</td>\n      <td>None</td>\n      <td>IR1</td>\n      <td>Lvl</td>\n      <td>CulDSac</td>\n      <td>Gtl</td>\n      <td>...</td>\n      <td>3.190856</td>\n      <td>-0.071369</td>\n      <td>None</td>\n      <td>MnPrv</td>\n      <td>None</td>\n      <td>-0.085058</td>\n      <td>6</td>\n      <td>2007</td>\n      <td>WD</td>\n      <td>Normal</td>\n    </tr>\n    <tr>\n      <th>219</th>\n      <td>120</td>\n      <td>RL</td>\n      <td>-1.195371</td>\n      <td>-1.265048</td>\n      <td>Pave</td>\n      <td>None</td>\n      <td>Reg</td>\n      <td>Lvl</td>\n      <td>Inside</td>\n      <td>Gtl</td>\n      <td>...</td>\n      <td>-0.262326</td>\n      <td>-0.071369</td>\n      <td>None</td>\n      <td>None</td>\n      <td>None</td>\n      <td>-0.085058</td>\n      <td>3</td>\n      <td>2006</td>\n      <td>New</td>\n      <td>Partial</td>\n    </tr>\n    <tr>\n      <th>513</th>\n      <td>20</td>\n      <td>RL</td>\n      <td>0.034217</td>\n      <td>-0.172531</td>\n      <td>Pave</td>\n      <td>None</td>\n      <td>Reg</td>\n      <td>Bnk</td>\n      <td>Corner</td>\n      <td>Gtl</td>\n      <td>...</td>\n      <td>-0.262326</td>\n      <td>-0.071369</td>\n      <td>None</td>\n      <td>None</td>\n      <td>None</td>\n      <td>-0.085058</td>\n      <td>6</td>\n      <td>2007</td>\n      <td>WD</td>\n      <td>Normal</td>\n    </tr>\n    <tr>\n      <th>1170</th>\n      <td>80</td>\n      <td>RL</td>\n      <td>0.253787</td>\n      <td>-0.049962</td>\n      <td>Pave</td>\n      <td>None</td>\n      <td>Reg</td>\n      <td>Lvl</td>\n      <td>Inside</td>\n      <td>Gtl</td>\n      <td>...</td>\n      <td>-0.262326</td>\n      <td>13.403663</td>\n      <td>Gd</td>\n      <td>GdPrv</td>\n      <td>None</td>\n      <td>-0.085058</td>\n      <td>7</td>\n      <td>2008</td>\n      <td>WD</td>\n      <td>Normal</td>\n    </tr>\n    <tr>\n      <th>1227</th>\n      <td>20</td>\n      <td>RL</td>\n      <td>0.078131</td>\n      <td>-0.228245</td>\n      <td>Pave</td>\n      <td>None</td>\n      <td>Reg</td>\n      <td>Lvl</td>\n      <td>Corner</td>\n      <td>Gtl</td>\n      <td>...</td>\n      <td>-0.262326</td>\n      <td>-0.071369</td>\n      <td>None</td>\n      <td>None</td>\n      <td>None</td>\n      <td>-0.085058</td>\n      <td>12</td>\n      <td>2008</td>\n      <td>WD</td>\n      <td>Normal</td>\n    </tr>\n    <tr>\n      <th>1291</th>\n      <td>160</td>\n      <td>RM</td>\n      <td>-2.161475</td>\n      <td>-1.500282</td>\n      <td>Pave</td>\n      <td>None</td>\n      <td>Reg</td>\n      <td>Lvl</td>\n      <td>Inside</td>\n      <td>Gtl</td>\n      <td>...</td>\n      <td>-0.262326</td>\n      <td>-0.071369</td>\n      <td>None</td>\n      <td>None</td>\n      <td>None</td>\n      <td>-0.085058</td>\n      <td>2</td>\n      <td>2009</td>\n      <td>WD</td>\n      <td>Normal</td>\n    </tr>\n    <tr>\n      <th>734</th>\n      <td>20</td>\n      <td>RL</td>\n      <td>0.037667</td>\n      <td>-0.209497</td>\n      <td>Pave</td>\n      <td>None</td>\n      <td>IR1</td>\n      <td>Lvl</td>\n      <td>Corner</td>\n      <td>Gtl</td>\n      <td>...</td>\n      <td>-0.262326</td>\n      <td>-0.071369</td>\n      <td>None</td>\n      <td>None</td>\n      <td>None</td>\n      <td>-0.085058</td>\n      <td>5</td>\n      <td>2007</td>\n      <td>WD</td>\n      <td>Family</td>\n    </tr>\n    <tr>\n      <th>816</th>\n      <td>20</td>\n      <td>RL</td>\n      <td>-0.042930</td>\n      <td>0.223300</td>\n      <td>Pave</td>\n      <td>None</td>\n      <td>IR1</td>\n      <td>Lvl</td>\n      <td>Corner</td>\n      <td>Gtl</td>\n      <td>...</td>\n      <td>-0.262326</td>\n      <td>-0.071369</td>\n      <td>None</td>\n      <td>None</td>\n      <td>None</td>\n      <td>-0.085058</td>\n      <td>7</td>\n      <td>2006</td>\n      <td>WD</td>\n      <td>Normal</td>\n    </tr>\n    <tr>\n      <th>1202</th>\n      <td>50</td>\n      <td>RM</td>\n      <td>-0.887974</td>\n      <td>-0.736211</td>\n      <td>Pave</td>\n      <td>None</td>\n      <td>Reg</td>\n      <td>Lvl</td>\n      <td>Corner</td>\n      <td>Gtl</td>\n      <td>...</td>\n      <td>-0.262326</td>\n      <td>-0.071369</td>\n      <td>None</td>\n      <td>None</td>\n      <td>None</td>\n      <td>-0.085058</td>\n      <td>5</td>\n      <td>2009</td>\n      <td>WD</td>\n      <td>Normal</td>\n    </tr>\n    <tr>\n      <th>708</th>\n      <td>60</td>\n      <td>RL</td>\n      <td>-0.229266</td>\n      <td>-0.202422</td>\n      <td>Pave</td>\n      <td>None</td>\n      <td>IR1</td>\n      <td>Lvl</td>\n      <td>Inside</td>\n      <td>Gtl</td>\n      <td>...</td>\n      <td>-0.262326</td>\n      <td>-0.071369</td>\n      <td>None</td>\n      <td>None</td>\n      <td>None</td>\n      <td>-0.085058</td>\n      <td>7</td>\n      <td>2007</td>\n      <td>New</td>\n      <td>Partial</td>\n    </tr>\n    <tr>\n      <th>309</th>\n      <td>20</td>\n      <td>RL</td>\n      <td>0.868581</td>\n      <td>0.391856</td>\n      <td>Pave</td>\n      <td>None</td>\n      <td>IR1</td>\n      <td>Lvl</td>\n      <td>Inside</td>\n      <td>Gtl</td>\n      <td>...</td>\n      <td>-0.262326</td>\n      <td>-0.071369</td>\n      <td>None</td>\n      <td>None</td>\n      <td>None</td>\n      <td>-0.085058</td>\n      <td>11</td>\n      <td>2006</td>\n      <td>WD</td>\n      <td>Normal</td>\n    </tr>\n    <tr>\n      <th>1194</th>\n      <td>60</td>\n      <td>RL</td>\n      <td>0.429442</td>\n      <td>-0.141226</td>\n      <td>Pave</td>\n      <td>None</td>\n      <td>Reg</td>\n      <td>Lvl</td>\n      <td>Corner</td>\n      <td>Gtl</td>\n      <td>...</td>\n      <td>-0.262326</td>\n      <td>-0.071369</td>\n      <td>None</td>\n      <td>MnPrv</td>\n      <td>None</td>\n      <td>-0.085058</td>\n      <td>3</td>\n      <td>2010</td>\n      <td>WD</td>\n      <td>Normal</td>\n    </tr>\n    <tr>\n      <th>858</th>\n      <td>20</td>\n      <td>RL</td>\n      <td>0.429442</td>\n      <td>0.042010</td>\n      <td>Pave</td>\n      <td>None</td>\n      <td>Reg</td>\n      <td>Lvl</td>\n      <td>Inside</td>\n      <td>Gtl</td>\n      <td>...</td>\n      <td>-0.262326</td>\n      <td>-0.071369</td>\n      <td>None</td>\n      <td>MnPrv</td>\n      <td>None</td>\n      <td>-0.085058</td>\n      <td>6</td>\n      <td>2009</td>\n      <td>WD</td>\n      <td>Family</td>\n    </tr>\n    <tr>\n      <th>124</th>\n      <td>20</td>\n      <td>RL</td>\n      <td>-0.975801</td>\n      <td>1.216947</td>\n      <td>Pave</td>\n      <td>None</td>\n      <td>IR1</td>\n      <td>Lvl</td>\n      <td>CulDSac</td>\n      <td>Gtl</td>\n      <td>...</td>\n      <td>-0.262326</td>\n      <td>-0.071369</td>\n      <td>None</td>\n      <td>None</td>\n      <td>None</td>\n      <td>-0.085058</td>\n      <td>1</td>\n      <td>2009</td>\n      <td>WD</td>\n      <td>Normal</td>\n    </tr>\n    <tr>\n      <th>95</th>\n      <td>60</td>\n      <td>RL</td>\n      <td>-0.611664</td>\n      <td>-0.070301</td>\n      <td>Pave</td>\n      <td>None</td>\n      <td>IR2</td>\n      <td>Lvl</td>\n      <td>Corner</td>\n      <td>Gtl</td>\n      <td>...</td>\n      <td>-0.262326</td>\n      <td>-0.071369</td>\n      <td>None</td>\n      <td>None</td>\n      <td>Shed</td>\n      <td>0.790619</td>\n      <td>4</td>\n      <td>2009</td>\n      <td>WD</td>\n      <td>Normal</td>\n    </tr>\n    <tr>\n      <th>468</th>\n      <td>20</td>\n      <td>RL</td>\n      <td>1.219891</td>\n      <td>0.223831</td>\n      <td>Pave</td>\n      <td>None</td>\n      <td>IR1</td>\n      <td>Lvl</td>\n      <td>Inside</td>\n      <td>Gtl</td>\n      <td>...</td>\n      <td>-0.262326</td>\n      <td>-0.071369</td>\n      <td>None</td>\n      <td>None</td>\n      <td>None</td>\n      <td>-0.085058</td>\n      <td>5</td>\n      <td>2007</td>\n      <td>WD</td>\n      <td>Normal</td>\n    </tr>\n    <tr>\n      <th>179</th>\n      <td>30</td>\n      <td>RM</td>\n      <td>-0.448835</td>\n      <td>-0.290503</td>\n      <td>Pave</td>\n      <td>None</td>\n      <td>Reg</td>\n      <td>Lvl</td>\n      <td>Inside</td>\n      <td>Gtl</td>\n      <td>...</td>\n      <td>-0.262326</td>\n      <td>-0.071369</td>\n      <td>None</td>\n      <td>None</td>\n      <td>None</td>\n      <td>-0.085058</td>\n      <td>7</td>\n      <td>2007</td>\n      <td>WD</td>\n      <td>Normal</td>\n    </tr>\n    <tr>\n      <th>969</th>\n      <td>190</td>\n      <td>RL</td>\n      <td>0.209873</td>\n      <td>0.038826</td>\n      <td>Pave</td>\n      <td>None</td>\n      <td>Reg</td>\n      <td>Lvl</td>\n      <td>Inside</td>\n      <td>Gtl</td>\n      <td>...</td>\n      <td>-0.262326</td>\n      <td>-0.071369</td>\n      <td>None</td>\n      <td>None</td>\n      <td>None</td>\n      <td>-0.085058</td>\n      <td>3</td>\n      <td>2006</td>\n      <td>ConLD</td>\n      <td>Normal</td>\n    </tr>\n    <tr>\n      <th>759</th>\n      <td>60</td>\n      <td>RL</td>\n      <td>-0.229266</td>\n      <td>0.370455</td>\n      <td>Pave</td>\n      <td>None</td>\n      <td>IR1</td>\n      <td>Lvl</td>\n      <td>Inside</td>\n      <td>Gtl</td>\n      <td>...</td>\n      <td>-0.262326</td>\n      <td>-0.071369</td>\n      <td>None</td>\n      <td>None</td>\n      <td>None</td>\n      <td>-0.085058</td>\n      <td>11</td>\n      <td>2007</td>\n      <td>WD</td>\n      <td>Normal</td>\n    </tr>\n    <tr>\n      <th>231</th>\n      <td>60</td>\n      <td>RL</td>\n      <td>4.557344</td>\n      <td>0.880012</td>\n      <td>Pave</td>\n      <td>None</td>\n      <td>IR1</td>\n      <td>Lvl</td>\n      <td>Inside</td>\n      <td>Gtl</td>\n      <td>...</td>\n      <td>-0.262326</td>\n      <td>-0.071369</td>\n      <td>None</td>\n      <td>None</td>\n      <td>None</td>\n      <td>-0.085058</td>\n      <td>7</td>\n      <td>2009</td>\n      <td>WD</td>\n      <td>Normal</td>\n    </tr>\n    <tr>\n      <th>1159</th>\n      <td>60</td>\n      <td>RL</td>\n      <td>0.253787</td>\n      <td>-0.184382</td>\n      <td>Pave</td>\n      <td>None</td>\n      <td>Reg</td>\n      <td>Lvl</td>\n      <td>Inside</td>\n      <td>Gtl</td>\n      <td>...</td>\n      <td>-0.262326</td>\n      <td>-0.071369</td>\n      <td>None</td>\n      <td>None</td>\n      <td>None</td>\n      <td>-0.085058</td>\n      <td>7</td>\n      <td>2008</td>\n      <td>WD</td>\n      <td>Normal</td>\n    </tr>\n    <tr>\n      <th>783</th>\n      <td>85</td>\n      <td>RL</td>\n      <td>-3.342071</td>\n      <td>-0.187742</td>\n      <td>Pave</td>\n      <td>None</td>\n      <td>IR1</td>\n      <td>Lvl</td>\n      <td>Corner</td>\n      <td>Gtl</td>\n      <td>...</td>\n      <td>-0.262326</td>\n      <td>-0.071369</td>\n      <td>None</td>\n      <td>None</td>\n      <td>None</td>\n      <td>-0.085058</td>\n      <td>7</td>\n      <td>2009</td>\n      <td>WD</td>\n      <td>Normal</td>\n    </tr>\n    <tr>\n      <th>414</th>\n      <td>60</td>\n      <td>RL</td>\n      <td>-0.492749</td>\n      <td>0.188457</td>\n      <td>Pave</td>\n      <td>None</td>\n      <td>IR2</td>\n      <td>Lvl</td>\n      <td>CulDSac</td>\n      <td>Gtl</td>\n      <td>...</td>\n      <td>-0.262326</td>\n      <td>-0.071369</td>\n      <td>None</td>\n      <td>None</td>\n      <td>None</td>\n      <td>-0.085058</td>\n      <td>12</td>\n      <td>2008</td>\n      <td>WD</td>\n      <td>Normal</td>\n    </tr>\n    <tr>\n      <th>426</th>\n      <td>80</td>\n      <td>RL</td>\n      <td>-1.191006</td>\n      <td>0.466494</td>\n      <td>Pave</td>\n      <td>None</td>\n      <td>Reg</td>\n      <td>Low</td>\n      <td>Inside</td>\n      <td>Mod</td>\n      <td>...</td>\n      <td>6.859863</td>\n      <td>-0.071369</td>\n      <td>None</td>\n      <td>None</td>\n      <td>None</td>\n      <td>-0.085058</td>\n      <td>8</td>\n      <td>2009</td>\n      <td>WD</td>\n      <td>Normal</td>\n    </tr>\n    <tr>\n      <th>1029</th>\n      <td>160</td>\n      <td>RM</td>\n      <td>-2.161475</td>\n      <td>-1.500282</td>\n      <td>Pave</td>\n      <td>None</td>\n      <td>Reg</td>\n      <td>Lvl</td>\n      <td>Inside</td>\n      <td>Gtl</td>\n      <td>...</td>\n      <td>-0.262326</td>\n      <td>-0.071369</td>\n      <td>None</td>\n      <td>None</td>\n      <td>None</td>\n      <td>-0.085058</td>\n      <td>5</td>\n      <td>2006</td>\n      <td>WD</td>\n      <td>Normal</td>\n    </tr>\n    <tr>\n      <th>564</th>\n      <td>60</td>\n      <td>RL</td>\n      <td>0.008003</td>\n      <td>0.563064</td>\n      <td>Pave</td>\n      <td>None</td>\n      <td>IR1</td>\n      <td>Lvl</td>\n      <td>CulDSac</td>\n      <td>Gtl</td>\n      <td>...</td>\n      <td>-0.262326</td>\n      <td>-0.071369</td>\n      <td>None</td>\n      <td>None</td>\n      <td>None</td>\n      <td>-0.085058</td>\n      <td>7</td>\n      <td>2006</td>\n      <td>WD</td>\n      <td>Normal</td>\n    </tr>\n    <tr>\n      <th>955</th>\n      <td>90</td>\n      <td>RH</td>\n      <td>0.517270</td>\n      <td>-0.535288</td>\n      <td>Pave</td>\n      <td>None</td>\n      <td>IR1</td>\n      <td>HLS</td>\n      <td>Inside</td>\n      <td>Gtl</td>\n      <td>...</td>\n      <td>-0.262326</td>\n      <td>-0.071369</td>\n      <td>None</td>\n      <td>None</td>\n      <td>None</td>\n      <td>-0.085058</td>\n      <td>8</td>\n      <td>2007</td>\n      <td>WD</td>\n      <td>Normal</td>\n    </tr>\n    <tr>\n      <th>1419</th>\n      <td>20</td>\n      <td>RL</td>\n      <td>0.847564</td>\n      <td>1.099860</td>\n      <td>Pave</td>\n      <td>None</td>\n      <td>IR1</td>\n      <td>Lvl</td>\n      <td>Inside</td>\n      <td>Gtl</td>\n      <td>...</td>\n      <td>-0.262326</td>\n      <td>-0.071369</td>\n      <td>None</td>\n      <td>None</td>\n      <td>None</td>\n      <td>-0.085058</td>\n      <td>12</td>\n      <td>2006</td>\n      <td>WD</td>\n      <td>Normal</td>\n    </tr>\n    <tr>\n      <th>794</th>\n      <td>60</td>\n      <td>RL</td>\n      <td>0.162192</td>\n      <td>0.118417</td>\n      <td>Pave</td>\n      <td>None</td>\n      <td>IR1</td>\n      <td>Lvl</td>\n      <td>Corner</td>\n      <td>Gtl</td>\n      <td>...</td>\n      <td>-0.262326</td>\n      <td>-0.071369</td>\n      <td>None</td>\n      <td>None</td>\n      <td>Shed</td>\n      <td>0.827105</td>\n      <td>10</td>\n      <td>2008</td>\n      <td>WD</td>\n      <td>Normal</td>\n    </tr>\n    <tr>\n      <th>1101</th>\n      <td>20</td>\n      <td>RL</td>\n      <td>-0.404921</td>\n      <td>-0.071540</td>\n      <td>Pave</td>\n      <td>None</td>\n      <td>IR1</td>\n      <td>Lvl</td>\n      <td>Inside</td>\n      <td>Gtl</td>\n      <td>...</td>\n      <td>-0.262326</td>\n      <td>-0.071369</td>\n      <td>None</td>\n      <td>None</td>\n      <td>None</td>\n      <td>-0.085058</td>\n      <td>7</td>\n      <td>2007</td>\n      <td>WD</td>\n      <td>Normal</td>\n    </tr>\n    <tr>\n      <th>1364</th>\n      <td>160</td>\n      <td>FV</td>\n      <td>-1.766251</td>\n      <td>-1.234980</td>\n      <td>Pave</td>\n      <td>Pave</td>\n      <td>Reg</td>\n      <td>Lvl</td>\n      <td>Inside</td>\n      <td>Gtl</td>\n      <td>...</td>\n      <td>-0.262326</td>\n      <td>-0.071369</td>\n      <td>None</td>\n      <td>None</td>\n      <td>None</td>\n      <td>-0.085058</td>\n      <td>4</td>\n      <td>2006</td>\n      <td>WD</td>\n      <td>Abnorml</td>\n    </tr>\n    <tr>\n      <th>842</th>\n      <td>80</td>\n      <td>RL</td>\n      <td>0.517270</td>\n      <td>-0.202068</td>\n      <td>Pave</td>\n      <td>None</td>\n      <td>Reg</td>\n      <td>Lvl</td>\n      <td>Inside</td>\n      <td>Gtl</td>\n      <td>...</td>\n      <td>-0.262326</td>\n      <td>-0.071369</td>\n      <td>None</td>\n      <td>GdPrv</td>\n      <td>None</td>\n      <td>-0.085058</td>\n      <td>5</td>\n      <td>2008</td>\n      <td>WD</td>\n      <td>Normal</td>\n    </tr>\n    <tr>\n      <th>126</th>\n      <td>120</td>\n      <td>RL</td>\n      <td>-0.252538</td>\n      <td>-0.925814</td>\n      <td>Pave</td>\n      <td>None</td>\n      <td>IR1</td>\n      <td>Lvl</td>\n      <td>Inside</td>\n      <td>Gtl</td>\n      <td>...</td>\n      <td>-0.262326</td>\n      <td>-0.071369</td>\n      <td>None</td>\n      <td>None</td>\n      <td>None</td>\n      <td>-0.085058</td>\n      <td>2</td>\n      <td>2007</td>\n      <td>WD</td>\n      <td>Normal</td>\n    </tr>\n    <tr>\n      <th>1015</th>\n      <td>60</td>\n      <td>RL</td>\n      <td>-0.009696</td>\n      <td>-0.311727</td>\n      <td>Pave</td>\n      <td>None</td>\n      <td>Reg</td>\n      <td>Lvl</td>\n      <td>Inside</td>\n      <td>Gtl</td>\n      <td>...</td>\n      <td>-0.262326</td>\n      <td>-0.071369</td>\n      <td>None</td>\n      <td>None</td>\n      <td>None</td>\n      <td>-0.085058</td>\n      <td>11</td>\n      <td>2009</td>\n      <td>WD</td>\n      <td>Normal</td>\n    </tr>\n    <tr>\n      <th>21</th>\n      <td>45</td>\n      <td>RM</td>\n      <td>-0.580577</td>\n      <td>-0.479929</td>\n      <td>Pave</td>\n      <td>Grvl</td>\n      <td>Reg</td>\n      <td>Bnk</td>\n      <td>Inside</td>\n      <td>Gtl</td>\n      <td>...</td>\n      <td>-0.262326</td>\n      <td>-0.071369</td>\n      <td>None</td>\n      <td>GdPrv</td>\n      <td>None</td>\n      <td>-0.085058</td>\n      <td>6</td>\n      <td>2007</td>\n      <td>WD</td>\n      <td>Normal</td>\n    </tr>\n    <tr>\n      <th>88</th>\n      <td>50</td>\n      <td>C (all)</td>\n      <td>1.527288</td>\n      <td>-0.299346</td>\n      <td>Pave</td>\n      <td>None</td>\n      <td>IR1</td>\n      <td>Lvl</td>\n      <td>Corner</td>\n      <td>Gtl</td>\n      <td>...</td>\n      <td>-0.262326</td>\n      <td>-0.071369</td>\n      <td>None</td>\n      <td>MnPrv</td>\n      <td>None</td>\n      <td>-0.085058</td>\n      <td>10</td>\n      <td>2009</td>\n      <td>ConLD</td>\n      <td>Abnorml</td>\n    </tr>\n    <tr>\n      <th>649</th>\n      <td>180</td>\n      <td>RM</td>\n      <td>-2.161475</td>\n      <td>-1.455004</td>\n      <td>Pave</td>\n      <td>None</td>\n      <td>Reg</td>\n      <td>Lvl</td>\n      <td>Inside</td>\n      <td>Gtl</td>\n      <td>...</td>\n      <td>-0.262326</td>\n      <td>-0.071369</td>\n      <td>None</td>\n      <td>MnPrv</td>\n      <td>None</td>\n      <td>-0.085058</td>\n      <td>12</td>\n      <td>2007</td>\n      <td>WD</td>\n      <td>Normal</td>\n    </tr>\n    <tr>\n      <th>232</th>\n      <td>160</td>\n      <td>RM</td>\n      <td>-2.161475</td>\n      <td>-1.500282</td>\n      <td>Pave</td>\n      <td>None</td>\n      <td>Reg</td>\n      <td>Lvl</td>\n      <td>Inside</td>\n      <td>Gtl</td>\n      <td>...</td>\n      <td>-0.262326</td>\n      <td>-0.071369</td>\n      <td>None</td>\n      <td>None</td>\n      <td>None</td>\n      <td>-0.085058</td>\n      <td>6</td>\n      <td>2006</td>\n      <td>WD</td>\n      <td>Normal</td>\n    </tr>\n    <tr>\n      <th>302</th>\n      <td>20</td>\n      <td>RL</td>\n      <td>2.098169</td>\n      <td>0.626383</td>\n      <td>Pave</td>\n      <td>None</td>\n      <td>IR1</td>\n      <td>Lvl</td>\n      <td>Corner</td>\n      <td>Gtl</td>\n      <td>...</td>\n      <td>-0.262326</td>\n      <td>-0.071369</td>\n      <td>None</td>\n      <td>None</td>\n      <td>None</td>\n      <td>-0.085058</td>\n      <td>1</td>\n      <td>2006</td>\n      <td>WD</td>\n      <td>Normal</td>\n    </tr>\n    <tr>\n      <th>735</th>\n      <td>75</td>\n      <td>RM</td>\n      <td>-0.448835</td>\n      <td>0.112757</td>\n      <td>Pave</td>\n      <td>None</td>\n      <td>Reg</td>\n      <td>Lvl</td>\n      <td>Inside</td>\n      <td>Gtl</td>\n      <td>...</td>\n      <td>-0.262326</td>\n      <td>-0.071369</td>\n      <td>None</td>\n      <td>None</td>\n      <td>None</td>\n      <td>-0.085058</td>\n      <td>10</td>\n      <td>2006</td>\n      <td>WD</td>\n      <td>Normal</td>\n    </tr>\n    <tr>\n      <th>288</th>\n      <td>20</td>\n      <td>RL</td>\n      <td>0.553021</td>\n      <td>-0.060751</td>\n      <td>Pave</td>\n      <td>None</td>\n      <td>IR1</td>\n      <td>Lvl</td>\n      <td>Inside</td>\n      <td>Gtl</td>\n      <td>...</td>\n      <td>-0.262326</td>\n      <td>-0.071369</td>\n      <td>None</td>\n      <td>MnPrv</td>\n      <td>None</td>\n      <td>-0.085058</td>\n      <td>2</td>\n      <td>2010</td>\n      <td>WD</td>\n      <td>Normal</td>\n    </tr>\n    <tr>\n      <th>966</th>\n      <td>50</td>\n      <td>RL</td>\n      <td>2.625135</td>\n      <td>-0.099485</td>\n      <td>Pave</td>\n      <td>None</td>\n      <td>IR1</td>\n      <td>HLS</td>\n      <td>Inside</td>\n      <td>Gtl</td>\n      <td>...</td>\n      <td>-0.262326</td>\n      <td>-0.071369</td>\n      <td>None</td>\n      <td>None</td>\n      <td>None</td>\n      <td>-0.085058</td>\n      <td>6</td>\n      <td>2009</td>\n      <td>WD</td>\n      <td>Normal</td>\n    </tr>\n    <tr>\n      <th>46</th>\n      <td>50</td>\n      <td>RL</td>\n      <td>-0.975801</td>\n      <td>0.470385</td>\n      <td>Pave</td>\n      <td>None</td>\n      <td>IR1</td>\n      <td>Lvl</td>\n      <td>CulDSac</td>\n      <td>Gtl</td>\n      <td>...</td>\n      <td>3.298768</td>\n      <td>-0.071369</td>\n      <td>None</td>\n      <td>None</td>\n      <td>None</td>\n      <td>-0.085058</td>\n      <td>8</td>\n      <td>2009</td>\n      <td>WD</td>\n      <td>Abnorml</td>\n    </tr>\n    <tr>\n      <th>861</th>\n      <td>190</td>\n      <td>RL</td>\n      <td>0.209873</td>\n      <td>0.258674</td>\n      <td>Pave</td>\n      <td>None</td>\n      <td>Reg</td>\n      <td>Lvl</td>\n      <td>Inside</td>\n      <td>Gtl</td>\n      <td>...</td>\n      <td>-0.262326</td>\n      <td>-0.071369</td>\n      <td>None</td>\n      <td>None</td>\n      <td>None</td>\n      <td>-0.085058</td>\n      <td>4</td>\n      <td>2010</td>\n      <td>WD</td>\n      <td>Normal</td>\n    </tr>\n    <tr>\n      <th>319</th>\n      <td>80</td>\n      <td>RL</td>\n      <td>1.432670</td>\n      <td>0.699076</td>\n      <td>Pave</td>\n      <td>None</td>\n      <td>Reg</td>\n      <td>Lvl</td>\n      <td>Inside</td>\n      <td>Gtl</td>\n      <td>...</td>\n      <td>-0.262326</td>\n      <td>-0.071369</td>\n      <td>None</td>\n      <td>None</td>\n      <td>None</td>\n      <td>-0.085058</td>\n      <td>6</td>\n      <td>2009</td>\n      <td>WD</td>\n      <td>Normal</td>\n    </tr>\n    <tr>\n      <th>927</th>\n      <td>60</td>\n      <td>RL</td>\n      <td>-0.161349</td>\n      <td>-0.046424</td>\n      <td>Pave</td>\n      <td>None</td>\n      <td>Reg</td>\n      <td>Lvl</td>\n      <td>Inside</td>\n      <td>Gtl</td>\n      <td>...</td>\n      <td>-0.262326</td>\n      <td>-0.071369</td>\n      <td>None</td>\n      <td>GdPrv</td>\n      <td>None</td>\n      <td>-0.085058</td>\n      <td>4</td>\n      <td>2008</td>\n      <td>WD</td>\n      <td>Normal</td>\n    </tr>\n  </tbody>\n</table>\n<p>52 rows × 77 columns</p>\n</div>"
     },
     "execution_count": 25,
     "metadata": {},
     "output_type": "execute_result"
    }
   ],
   "source": [
    "cat_features = np.where(X_train.loc[:, X_train.columns.values].dtypes == \"object\")[0]\n",
    "X_train.iloc[cat_features]"
   ],
   "metadata": {
    "collapsed": false,
    "pycharm": {
     "name": "#%%\n"
    }
   }
  },
  {
   "cell_type": "code",
   "execution_count": 26,
   "outputs": [
    {
     "name": "stdout",
     "output_type": "stream",
     "text": [
      "RMSLE: 0.08445020377393037\n",
      "RMSLE: 0.11591860535702268\n"
     ]
    }
   ],
   "source": [
    "train_pool = Pool(X_train, y_train, cat_features=cat_features)\n",
    "dev_pool = Pool(X_test, y_test, cat_features=cat_features)\n",
    "\n",
    "cat_model = CatBoostRegressor(task_type=\"GPU\",  devices='0:1')\n",
    "cat_model.fit(train_pool, eval_set=dev_pool, verbose=0, plot=False)\n",
    "\n",
    "evaluate(cat_model, X_train, y_train)\n",
    "evaluate(cat_model, X_test, y_test)"
   ],
   "metadata": {
    "collapsed": false,
    "pycharm": {
     "name": "#%%\n"
    }
   }
  },
  {
   "cell_type": "code",
   "execution_count": 34,
   "outputs": [],
   "source": [
    "data = pd.read_csv(\"./train.csv\")\n",
    "data = data.drop(columns=[\"Id\"])\n",
    "\n",
    "#data = remove_outliers(data)\n",
    "\n",
    "y = np.log1p(data[\"SalePrice\"])\n",
    "X = data.drop(columns=[\"SalePrice\"])\n",
    "\n",
    "transformer = DataTransformer(StandardScaler())\n",
    "X = transformer.prepare(X)\n",
    "\n",
    "transformer.fit(X)\n",
    "\n",
    "X = transformer.transform(X, False)\n",
    "\n",
    "cat_features = np.where(X.loc[:, X.columns.values].dtypes == \"object\")[0]"
   ],
   "metadata": {
    "collapsed": false,
    "pycharm": {
     "name": "#%%\n"
    }
   }
  },
  {
   "cell_type": "code",
   "execution_count": 35,
   "outputs": [
    {
     "name": "stdout",
     "output_type": "stream",
     "text": [
      "RMSLE: 0.09201834664386435\n"
     ]
    }
   ],
   "source": [
    "train_pool = Pool(X, y, cat_features=cat_features)\n",
    "#400 - 0.12927241949496218\n",
    "cat_model = CatBoostRegressor(task_type=\"GPU\",  devices='0:1')\n",
    "cat_model.fit(train_pool, verbose=0, plot=False)\n",
    "\n",
    "evaluate(cat_model, X, y)"
   ],
   "metadata": {
    "collapsed": false,
    "pycharm": {
     "name": "#%%\n"
    }
   }
  },
  {
   "cell_type": "code",
   "execution_count": 36,
   "outputs": [
    {
     "name": "stdout",
     "output_type": "stream",
     "text": [
      "RMSLE submission: 0.13197996349982308\n"
     ]
    }
   ],
   "source": [
    "validation = pd.read_csv(\"./test.csv\")\n",
    "val_ids = validation[\"Id\"]\n",
    "validation = validation.drop(columns=[\"Id\"])\n",
    "\n",
    "validation = transformer.prepare(validation)\n",
    "validation = transformer.transform(validation, False)\n",
    "#to_categorical(validation)\n",
    "\n",
    "sub_predictions = cat_model.predict(validation)\n",
    "print(\"RMSLE submission: \" + str(rmsle(sub_predictions, np.log1p(cheat[\"SalePrice\"]))))\n",
    "#evaluate(lbg_model, validation,  np.log1p(cheat[\"SalePrice\"]))"
   ],
   "metadata": {
    "collapsed": false,
    "pycharm": {
     "name": "#%%\n"
    }
   }
  },
  {
   "cell_type": "code",
   "execution_count": null,
   "outputs": [],
   "source": [],
   "metadata": {
    "collapsed": false,
    "pycharm": {
     "name": "#%%\n"
    }
   }
  }
 ],
 "metadata": {
  "kernelspec": {
   "display_name": "Python 3",
   "language": "python",
   "name": "python3"
  },
  "language_info": {
   "codemirror_mode": {
    "name": "ipython",
    "version": 2
   },
   "file_extension": ".py",
   "mimetype": "text/x-python",
   "name": "python",
   "nbconvert_exporter": "python",
   "pygments_lexer": "ipython2",
   "version": "2.7.6"
  }
 },
 "nbformat": 4,
 "nbformat_minor": 0
}