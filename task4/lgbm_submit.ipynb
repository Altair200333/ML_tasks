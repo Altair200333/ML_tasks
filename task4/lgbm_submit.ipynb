{
 "cells": [
  {
   "cell_type": "code",
   "execution_count": 73,
   "metadata": {
    "collapsed": true
   },
   "outputs": [
    {
     "name": "stdout",
     "output_type": "stream",
     "text": [
      "The autoreload extension is already loaded. To reload it, use:\n",
      "  %reload_ext autoreload\n"
     ]
    }
   ],
   "source": [
    "import matplotlib.pyplot as plt\n",
    "import seaborn as sns\n",
    "import pandas as pd\n",
    "import numpy as np\n",
    "import warnings\n",
    "from sklearn.model_selection import train_test_split\n",
    "import xgboost as xgb\n",
    "from sklearn.preprocessing import OneHotEncoder\n",
    "from sklearn.model_selection import GridSearchCV\n",
    "from sklearn.model_selection import cross_val_score\n",
    "from sklearn import metrics\n",
    "from data_processing import *\n",
    "from sklearn.preprocessing import MinMaxScaler\n",
    "from sklearn.impute import SimpleImputer\n",
    "from sklearn.preprocessing import StandardScaler\n",
    "from sklearn.ensemble import RandomForestRegressor\n",
    "from data_transformar import *\n",
    "import lightgbm as lgb\n",
    "from sklearn.decomposition import PCA\n",
    "from catboost import CatBoostRegressor, Pool\n",
    "\n",
    "warnings.simplefilter(\"ignore\")\n",
    "%matplotlib inline\n",
    "%load_ext autoreload\n",
    "%autoreload 2\n",
    "\n",
    "sns.set(style=\"darkgrid\")"
   ]
  },
  {
   "cell_type": "code",
   "execution_count": 97,
   "outputs": [],
   "source": [
    "from sklearn.metrics import mean_squared_error\n",
    "\n",
    "cheat = pd.read_csv(\"./result-with-best.csv\")\n",
    "\n",
    "def rmsle(y, y_pred):\n",
    "    return np.sqrt(mean_squared_error(y, y_pred))\n",
    "\n",
    "def cheat_score(model, val):\n",
    "    print(\"RMSLE sub: \" + str(rmsle(model.predict(val), np.log1p(cheat[\"SalePrice\"]))))\n",
    "\n",
    "def to_categorical(X):\n",
    "    for c in X.columns:\n",
    "        col_type = X[c].dtype\n",
    "        if col_type == 'object' or col_type.name == 'category':\n",
    "            X[c] = X[c].astype('category')\n",
    "\n",
    "def evaluate(model, X, y):\n",
    "    preds = model.predict(X)\n",
    "    print(\"RMSLE: \" + str(rmsle(preds, y)))"
   ],
   "metadata": {
    "collapsed": false,
    "pycharm": {
     "name": "#%%\n"
    }
   }
  },
  {
   "cell_type": "code",
   "execution_count": 98,
   "outputs": [
    {
     "name": "stdout",
     "output_type": "stream",
     "text": [
      "Int64Index([249, 313, 335, 523, 706, 1298], dtype='int64')\n"
     ]
    }
   ],
   "source": [
    "data = pd.read_csv(\"./train.csv\")\n",
    "data = data.drop(columns=[\"Id\"])\n",
    "\n",
    "data = remove_outliers(data, False)\n",
    "\n",
    "y = np.log1p(data[\"SalePrice\"])\n",
    "X = data.drop(columns=[\"SalePrice\"])"
   ],
   "metadata": {
    "collapsed": false,
    "pycharm": {
     "name": "#%%\n"
    }
   }
  },
  {
   "cell_type": "code",
   "execution_count": 99,
   "outputs": [],
   "source": [
    "X_train, X_test, y_train, y_test = train_test_split(X, y, test_size=0.2, random_state=98987)\n",
    "\n",
    "#X_train, y_train = remove_outliers_split(X_train, y_train)"
   ],
   "metadata": {
    "collapsed": false,
    "pycharm": {
     "name": "#%%\n"
    }
   }
  },
  {
   "cell_type": "code",
   "execution_count": 100,
   "outputs": [],
   "source": [
    "X_train_orig = X_train.copy()\n",
    "\n",
    "transformer = DataTransformer(StandardScaler())\n",
    "\n",
    "X_train = transformer.prepare(X_train)\n",
    "X_test = transformer.prepare(X_test)\n",
    "\n",
    "transformer.fit(X_train)\n",
    "\n",
    "X_train = transformer.transform(X_train, False)\n",
    "X_test = transformer.transform(X_test, False)"
   ],
   "metadata": {
    "collapsed": false,
    "pycharm": {
     "name": "#%%\n"
    }
   }
  },
  {
   "cell_type": "code",
   "execution_count": 101,
   "outputs": [],
   "source": [
    "to_categorical(X_train)\n",
    "to_categorical(X_test)\n",
    "\n",
    "cat_features = np.where(X_train.loc[:, X_train.columns.values].dtypes == \"object\")[0]"
   ],
   "metadata": {
    "collapsed": false,
    "pycharm": {
     "name": "#%%\n"
    }
   }
  },
  {
   "cell_type": "code",
   "execution_count": 102,
   "outputs": [
    {
     "name": "stdout",
     "output_type": "stream",
     "text": [
      "100%|██████████| 50/50 [01:21<00:00,  1.64s/trial, best loss: 0.12439155250202953]\n",
      "best {'learning_rate': 0.015036244349002009, 'max_depth': 25.0, 'n_estimators': 7895.0, 'num_leaves': 7.0, 'reg_alpha': 0.1808307914002317, 'reg_lambda': 0.054415984888642514}\n"
     ]
    }
   ],
   "source": [
    "from hyperopt.pyll import scope\n",
    "import lightgbm as lgb\n",
    "from hyperopt import hp\n",
    "from sklearn.model_selection import cross_val_score\n",
    "from sklearn.model_selection import KFold, StratifiedKFold\n",
    "from sklearn.base import clone\n",
    "from hyperopt import fmin, tpe, hp, anneal, Trials\n",
    "\n",
    "folds = 4\n",
    "shuffle = True\n",
    "\n",
    "random_state = 42\n",
    "\n",
    "def objective(params):\n",
    "    #params = {'n_estimators': int(params['n_estimators']),\n",
    "    #          'max_depth': int(params['max_depth']),\n",
    "    #          'learning_rate': params['learning_rate'],\n",
    "    #          'num_leaves': int(params['num_leaves'])}\n",
    "\n",
    "    clf = lgb.LGBMRegressor(random_state=random_state,\n",
    "                            #boosting_type ='dart',\n",
    "                            **params)\n",
    "\n",
    "    kf = KFold(n_splits=folds, shuffle=shuffle)\n",
    "    loss_list = []\n",
    "\n",
    "    for train_index, test_index in kf.split(X_train):\n",
    "        X_train_fold, X_test_fold = X_train.iloc[train_index], X_train.iloc[test_index]\n",
    "        y_train_fold, y_test_fold = y_train.iloc[train_index], y_train.iloc[test_index]\n",
    "\n",
    "        fit_params = {\"early_stopping_rounds\": 20,\n",
    "                      \"eval_metric\": 'rmse',\n",
    "                      \"eval_set\": [(X_test_fold, y_test_fold)],\n",
    "                      'verbose': -1,\n",
    "                      'categorical_feature': cat_features\n",
    "                      }\n",
    "\n",
    "        clf_fold = clone(clf)\n",
    "        clf_fold.fit(X_train_fold, y_train_fold, **fit_params)\n",
    "\n",
    "        prediction = clf_fold.predict(X_test_fold)\n",
    "        loss = rmsle(prediction, y_test_fold)\n",
    "\n",
    "        loss_list.append(loss)\n",
    "\n",
    "    score = np.mean(loss_list)\n",
    "\n",
    "    #print(\"{:.3f} params {}\".format(score, params))\n",
    "    return score\n",
    "\n",
    "\n",
    "space = {'n_estimators': scope.int(hp.quniform('n_estimators', 100, 10000, 1)),\n",
    "         'max_depth': scope.int(hp.quniform('max_depth', 2, 30, 1)),\n",
    "         'num_leaves': scope.int(hp.quniform('num_leaves', 2, 40, 1)),\n",
    "         'reg_alpha': hp.loguniform('reg_alpha', -5, 0),\n",
    "         'reg_lambda': hp.loguniform('reg_lambda', -5, 0),\n",
    "         'learning_rate': hp.loguniform('learning_rate', -5, 0)\n",
    "         }\n",
    "trials = Trials()\n",
    "\n",
    "best = fmin(fn=objective,  # function to optimize\n",
    "            space=space,\n",
    "            algo=tpe.suggest,  # optimization algorithm, hyperotp will select its parameters automatically\n",
    "            max_evals=50,  # maximum number of iterations\n",
    "            trials=trials,  # logging\n",
    "            rstate=np.random.default_rng(random_state)  # fixing random state for the reproducibility\n",
    "            )\n",
    "\n",
    "print(\"best {}\".format(best))"
   ],
   "metadata": {
    "collapsed": false,
    "pycharm": {
     "name": "#%%\n"
    }
   }
  },
  {
   "cell_type": "code",
   "execution_count": 103,
   "outputs": [
    {
     "name": "stdout",
     "output_type": "stream",
     "text": [
      "RMSLE: 0.0804039906319746\n",
      "RMSLE: 0.11739420909934473\n"
     ]
    }
   ],
   "source": [
    "fit_params = {\n",
    "    \"early_stopping_rounds\": 10,\n",
    "    \"eval_set\": [(X_test, y_test)],\n",
    "    \"eval_metric\": 'rmse',\n",
    "    'verbose': -1,\n",
    "    'categorical_feature': cat_features\n",
    "}\n",
    "lbg_model = lgb.LGBMRegressor(random_state=random_state,\n",
    "                              #boosting_type ='dart',\n",
    "                              n_estimators=int(best['n_estimators']),\n",
    "                              max_depth=int(best['max_depth']),\n",
    "                              num_leaves = int(best['num_leaves']),\n",
    "                              reg_alpha=best['reg_alpha'],\n",
    "                              reg_lambda=best['reg_lambda'],\n",
    "                              learning_rate=best['learning_rate'],\n",
    "                              )\n",
    "lbg_model.fit(X_train, y_train, **fit_params)\n",
    "\n",
    "evaluate(lbg_model, X_train, y_train)\n",
    "evaluate(lbg_model, X_test, y_test)"
   ],
   "metadata": {
    "collapsed": false,
    "pycharm": {
     "name": "#%%\n"
    }
   }
  },
  {
   "cell_type": "code",
   "execution_count": 113,
   "outputs": [],
   "source": [
    "data = pd.read_csv(\"./train.csv\")\n",
    "data = data.drop(columns=[\"Id\"])\n",
    "\n",
    "#data = remove_outliers(data)\n",
    "\n",
    "y = np.log1p(data[\"SalePrice\"])\n",
    "X = data.drop(columns=[\"SalePrice\"])\n",
    "\n",
    "transformer = DataTransformer(StandardScaler())\n",
    "X = transformer.prepare(X)\n",
    "\n",
    "transformer.fit(X)\n",
    "\n",
    "X = transformer.transform(X, False)\n",
    "\n",
    "to_categorical(X)\n",
    "\n",
    "cat_features = np.where(X.loc[:, X.columns.values].dtypes == \"object\")[0]"
   ],
   "metadata": {
    "collapsed": false,
    "pycharm": {
     "name": "#%%\n"
    }
   }
  },
  {
   "cell_type": "code",
   "execution_count": 114,
   "outputs": [
    {
     "name": "stdout",
     "output_type": "stream",
     "text": [
      "RMSLE: 0.03399837251765964\n"
     ]
    }
   ],
   "source": [
    "fit_params = {\n",
    "              #\"early_stopping_rounds\": 20,\n",
    "              #\"eval_set\": [(X_test, y_test)],\n",
    "              \"eval_metric\": 'rmse',\n",
    "              'verbose': -1,\n",
    "              'categorical_feature': cat_features,\n",
    "              }\n",
    "lbg_model = lgb.LGBMRegressor(random_state=random_state,\n",
    "                              #boosting_type ='dart',\n",
    "                              n_estimators=int(best['n_estimators']),\n",
    "                              max_depth=int(best['max_depth']),\n",
    "                              num_leaves = int(best['num_leaves']),\n",
    "                              reg_alpha=best['reg_alpha'],\n",
    "                              reg_lambda=best['reg_lambda'],\n",
    "                              learning_rate=best['learning_rate'],\n",
    "                              num_iterations = 5900\n",
    "                              )\n",
    "lbg_model.fit(X, y, **fit_params)\n",
    "\n",
    "evaluate(lbg_model, X, y)\n",
    "#evaluate(lbg_model, X_test, y_test)"
   ],
   "metadata": {
    "collapsed": false,
    "pycharm": {
     "name": "#%%\n"
    }
   }
  },
  {
   "cell_type": "code",
   "execution_count": 115,
   "outputs": [
    {
     "name": "stdout",
     "output_type": "stream",
     "text": [
      "RMSLE submission: 0.12700431699476858\n"
     ]
    }
   ],
   "source": [
    "validation = pd.read_csv(\"./test.csv\")\n",
    "val_ids = validation[\"Id\"]\n",
    "validation = validation.drop(columns=[\"Id\"])\n",
    "\n",
    "validation = transformer.prepare(validation)\n",
    "validation = transformer.transform(validation, False)\n",
    "to_categorical(validation)\n",
    "\n",
    "sub_predictions = lbg_model.predict(validation)\n",
    "print(\"RMSLE submission: \" + str(rmsle(sub_predictions, np.log1p(cheat[\"SalePrice\"]))))\n",
    "#evaluate(lbg_model, validation,  np.log1p(cheat[\"SalePrice\"]))"
   ],
   "metadata": {
    "collapsed": false,
    "pycharm": {
     "name": "#%%\n"
    }
   }
  },
  {
   "cell_type": "code",
   "execution_count": 387,
   "outputs": [
    {
     "data": {
      "text/plain": "        Id      SalePrice\n0     1461  117509.124858\n1     1462  163674.222169\n2     1463  187394.082385\n3     1464  196546.056574\n4     1465  186335.451154\n...    ...            ...\n1454  2915   75368.214069\n1455  2916   80986.673877\n1456  2917  155423.679279\n1457  2918  116190.279112\n1458  2919  208525.388841\n\n[1459 rows x 2 columns]",
      "text/html": "<div>\n<style scoped>\n    .dataframe tbody tr th:only-of-type {\n        vertical-align: middle;\n    }\n\n    .dataframe tbody tr th {\n        vertical-align: top;\n    }\n\n    .dataframe thead th {\n        text-align: right;\n    }\n</style>\n<table border=\"1\" class=\"dataframe\">\n  <thead>\n    <tr style=\"text-align: right;\">\n      <th></th>\n      <th>Id</th>\n      <th>SalePrice</th>\n    </tr>\n  </thead>\n  <tbody>\n    <tr>\n      <th>0</th>\n      <td>1461</td>\n      <td>117509.124858</td>\n    </tr>\n    <tr>\n      <th>1</th>\n      <td>1462</td>\n      <td>163674.222169</td>\n    </tr>\n    <tr>\n      <th>2</th>\n      <td>1463</td>\n      <td>187394.082385</td>\n    </tr>\n    <tr>\n      <th>3</th>\n      <td>1464</td>\n      <td>196546.056574</td>\n    </tr>\n    <tr>\n      <th>4</th>\n      <td>1465</td>\n      <td>186335.451154</td>\n    </tr>\n    <tr>\n      <th>...</th>\n      <td>...</td>\n      <td>...</td>\n    </tr>\n    <tr>\n      <th>1454</th>\n      <td>2915</td>\n      <td>75368.214069</td>\n    </tr>\n    <tr>\n      <th>1455</th>\n      <td>2916</td>\n      <td>80986.673877</td>\n    </tr>\n    <tr>\n      <th>1456</th>\n      <td>2917</td>\n      <td>155423.679279</td>\n    </tr>\n    <tr>\n      <th>1457</th>\n      <td>2918</td>\n      <td>116190.279112</td>\n    </tr>\n    <tr>\n      <th>1458</th>\n      <td>2919</td>\n      <td>208525.388841</td>\n    </tr>\n  </tbody>\n</table>\n<p>1459 rows × 2 columns</p>\n</div>"
     },
     "execution_count": 387,
     "metadata": {},
     "output_type": "execute_result"
    }
   ],
   "source": [
    "d = {'Id': val_ids.to_numpy(), 'SalePrice':  np.expm1(sub_predictions)}\n",
    "df = pd.DataFrame(data=d)\n",
    "df.to_csv('submission.csv', index=False)\n",
    "\n",
    "df"
   ],
   "metadata": {
    "collapsed": false,
    "pycharm": {
     "name": "#%%\n"
    }
   }
  },
  {
   "cell_type": "code",
   "execution_count": null,
   "outputs": [],
   "source": [],
   "metadata": {
    "collapsed": false,
    "pycharm": {
     "name": "#%%\n"
    }
   }
  }
 ],
 "metadata": {
  "kernelspec": {
   "display_name": "Python 3",
   "language": "python",
   "name": "python3"
  },
  "language_info": {
   "codemirror_mode": {
    "name": "ipython",
    "version": 2
   },
   "file_extension": ".py",
   "mimetype": "text/x-python",
   "name": "python",
   "nbconvert_exporter": "python",
   "pygments_lexer": "ipython2",
   "version": "2.7.6"
  }
 },
 "nbformat": 4,
 "nbformat_minor": 0
}