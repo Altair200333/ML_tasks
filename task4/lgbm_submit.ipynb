{
 "cells": [
  {
   "cell_type": "code",
   "execution_count": 411,
   "metadata": {
    "collapsed": true
   },
   "outputs": [
    {
     "name": "stdout",
     "output_type": "stream",
     "text": [
      "The autoreload extension is already loaded. To reload it, use:\n",
      "  %reload_ext autoreload\n"
     ]
    }
   ],
   "source": [
    "import matplotlib.pyplot as plt\n",
    "import seaborn as sns\n",
    "import pandas as pd\n",
    "import numpy as np\n",
    "import warnings\n",
    "from sklearn.model_selection import train_test_split\n",
    "import xgboost as xgb\n",
    "from sklearn.preprocessing import OneHotEncoder\n",
    "from sklearn.model_selection import GridSearchCV\n",
    "from sklearn.model_selection import cross_val_score\n",
    "from sklearn import metrics\n",
    "from data_processing import *\n",
    "from sklearn.preprocessing import MinMaxScaler\n",
    "from sklearn.impute import SimpleImputer\n",
    "from sklearn.preprocessing import StandardScaler\n",
    "from sklearn.ensemble import RandomForestRegressor\n",
    "from data_transformar import *\n",
    "import lightgbm as lgb\n",
    "from sklearn.decomposition import PCA\n",
    "from catboost import CatBoostRegressor, Pool\n",
    "\n",
    "warnings.simplefilter(\"ignore\")\n",
    "%matplotlib inline\n",
    "%load_ext autoreload\n",
    "%autoreload 2\n",
    "\n",
    "sns.set(style=\"darkgrid\")"
   ]
  },
  {
   "cell_type": "code",
   "execution_count": 417,
   "outputs": [],
   "source": [
    "from sklearn.metrics import mean_squared_error\n",
    "\n",
    "cheat = pd.read_csv(\"./result-with-best.csv\")\n",
    "\n",
    "def rmsle(y, y_pred):\n",
    "    return np.sqrt(mean_squared_error(y, y_pred))\n",
    "\n",
    "def cheat_score(model, val):\n",
    "    print(\"RMSLE sub: \" + str(rmsle(model.predict(val), np.log1p(cheat[\"SalePrice\"]))))\n",
    "\n",
    "def to_categorical(X):\n",
    "    for c in X.columns:\n",
    "        col_type = X[c].dtype\n",
    "        if col_type == 'object' or col_type.name == 'category':\n",
    "            X[c] = X[c].astype('category')\n",
    "\n",
    "def evaluate(model, X, y):\n",
    "    preds = model.predict(X)\n",
    "    print(\"RMSLE: \" + str(rmsle(preds, y)))"
   ],
   "metadata": {
    "collapsed": false,
    "pycharm": {
     "name": "#%%\n"
    }
   }
  },
  {
   "cell_type": "code",
   "execution_count": 430,
   "outputs": [
    {
     "name": "stdout",
     "output_type": "stream",
     "text": [
      "Int64Index([249, 313, 335, 523, 706, 1298], dtype='int64')\n"
     ]
    }
   ],
   "source": [
    "data = pd.read_csv(\"./train.csv\")\n",
    "data = data.drop(columns=[\"Id\"])\n",
    "\n",
    "data = remove_outliers(data, False)\n",
    "\n",
    "y = np.log1p(data[\"SalePrice\"])\n",
    "X = data.drop(columns=[\"SalePrice\"])"
   ],
   "metadata": {
    "collapsed": false,
    "pycharm": {
     "name": "#%%\n"
    }
   }
  },
  {
   "cell_type": "code",
   "execution_count": 431,
   "outputs": [],
   "source": [
    "X_train, X_test, y_train, y_test = train_test_split(X, y, test_size=0.2, random_state=98987)\n",
    "\n",
    "#X_train, y_train = remove_outliers_split(X_train, y_train)"
   ],
   "metadata": {
    "collapsed": false,
    "pycharm": {
     "name": "#%%\n"
    }
   }
  },
  {
   "cell_type": "code",
   "execution_count": 432,
   "outputs": [],
   "source": [
    "X_train_orig = X_train.copy()\n",
    "\n",
    "transformer = DataTransformer(StandardScaler())\n",
    "\n",
    "X_train = transformer.prepare(X_train)\n",
    "X_test = transformer.prepare(X_test)\n",
    "\n",
    "transformer.fit(X_train)\n",
    "\n",
    "X_train = transformer.transform(X_train, False)\n",
    "X_test = transformer.transform(X_test, False)"
   ],
   "metadata": {
    "collapsed": false,
    "pycharm": {
     "name": "#%%\n"
    }
   }
  },
  {
   "cell_type": "code",
   "execution_count": 433,
   "outputs": [
    {
     "data": {
      "text/plain": "      MSSubClass MSZoning  LotFrontage  LotArea Street Alley LotShape  \\\n437         45.0       RM    50.000000   6000.0   Pave  None      Reg   \n1410        60.0       RL    79.000000  12420.0   Pave  None      Reg   \n833         20.0       RL   100.000000  10004.0   Pave  None      Reg   \n1177        50.0       RM    81.459225   3950.0   Pave  Grvl      Reg   \n723         50.0       RL    60.000000   8172.0   Pave  None      Reg   \n...          ...      ...          ...      ...    ...   ...      ...   \n133         20.0       RL    87.480748   6853.0   Pave  None      IR1   \n1293        60.0       RL    78.000000  10140.0   Pave  None      Reg   \n180        160.0       FV    37.252530   2117.0   Pave  None      Reg   \n1295        20.0       RL    70.000000   8400.0   Pave  None      Reg   \n986         50.0       RM    59.000000   5310.0   Pave  None      Reg   \n\n     LandContour LotConfig LandSlope  ... Fence MiscFeature MiscVal MoSold  \\\n437          Lvl    Inside       Gtl  ...  None        None     0.0      1   \n1410         Lvl    Inside       Gtl  ...  None        None     0.0      6   \n833          Lvl    Inside       Gtl  ...  None        None     0.0      2   \n1177         Bnk    Inside       Gtl  ...  None        None     0.0     12   \n723          Lvl    Inside       Gtl  ...  None        None     0.0      5   \n...          ...       ...       ...  ...   ...         ...     ...    ...   \n133          Lvl    Inside       Gtl  ...  None        None     0.0      6   \n1293         Lvl    Inside       Gtl  ...  GdWo        None     0.0      3   \n180          Lvl    Inside       Gtl  ...  None        None     0.0      6   \n1295         Lvl    Inside       Gtl  ...  GdWo        None     0.0     11   \n986          Lvl    Corner       Gtl  ...  None        None     0.0      6   \n\n     YrSold  SaleType  SaleCondition  TotalSF Total_sqr_footage Total_porch_sf  \n437    2009        WD         Normal   1788.0             904.0          105.0  \n1410   2009        WD         Normal   2784.0            2506.0           45.0  \n833    2009        WD         Normal   3032.0            2057.0          152.0  \n1177   2009        WD         Normal   2042.0            1692.0          116.0  \n723    2008        WD         Normal   2411.0            1470.0          156.0  \n...     ...       ...            ...      ...               ...            ...  \n133    2009        WD         Normal   2563.0            2301.0          217.0  \n1293   2006        WD         Normal   2496.0            1858.0          287.0  \n180    2007        WD         Normal   2281.0            1961.0            0.0  \n1295   2006        WD         Normal   2104.0            2068.0          356.0  \n986    2006        WD         Normal   2120.0            1635.0          394.0  \n\n[1163 rows x 80 columns]",
      "text/html": "<div>\n<style scoped>\n    .dataframe tbody tr th:only-of-type {\n        vertical-align: middle;\n    }\n\n    .dataframe tbody tr th {\n        vertical-align: top;\n    }\n\n    .dataframe thead th {\n        text-align: right;\n    }\n</style>\n<table border=\"1\" class=\"dataframe\">\n  <thead>\n    <tr style=\"text-align: right;\">\n      <th></th>\n      <th>MSSubClass</th>\n      <th>MSZoning</th>\n      <th>LotFrontage</th>\n      <th>LotArea</th>\n      <th>Street</th>\n      <th>Alley</th>\n      <th>LotShape</th>\n      <th>LandContour</th>\n      <th>LotConfig</th>\n      <th>LandSlope</th>\n      <th>...</th>\n      <th>Fence</th>\n      <th>MiscFeature</th>\n      <th>MiscVal</th>\n      <th>MoSold</th>\n      <th>YrSold</th>\n      <th>SaleType</th>\n      <th>SaleCondition</th>\n      <th>TotalSF</th>\n      <th>Total_sqr_footage</th>\n      <th>Total_porch_sf</th>\n    </tr>\n  </thead>\n  <tbody>\n    <tr>\n      <th>437</th>\n      <td>45.0</td>\n      <td>RM</td>\n      <td>50.000000</td>\n      <td>6000.0</td>\n      <td>Pave</td>\n      <td>None</td>\n      <td>Reg</td>\n      <td>Lvl</td>\n      <td>Inside</td>\n      <td>Gtl</td>\n      <td>...</td>\n      <td>None</td>\n      <td>None</td>\n      <td>0.0</td>\n      <td>1</td>\n      <td>2009</td>\n      <td>WD</td>\n      <td>Normal</td>\n      <td>1788.0</td>\n      <td>904.0</td>\n      <td>105.0</td>\n    </tr>\n    <tr>\n      <th>1410</th>\n      <td>60.0</td>\n      <td>RL</td>\n      <td>79.000000</td>\n      <td>12420.0</td>\n      <td>Pave</td>\n      <td>None</td>\n      <td>Reg</td>\n      <td>Lvl</td>\n      <td>Inside</td>\n      <td>Gtl</td>\n      <td>...</td>\n      <td>None</td>\n      <td>None</td>\n      <td>0.0</td>\n      <td>6</td>\n      <td>2009</td>\n      <td>WD</td>\n      <td>Normal</td>\n      <td>2784.0</td>\n      <td>2506.0</td>\n      <td>45.0</td>\n    </tr>\n    <tr>\n      <th>833</th>\n      <td>20.0</td>\n      <td>RL</td>\n      <td>100.000000</td>\n      <td>10004.0</td>\n      <td>Pave</td>\n      <td>None</td>\n      <td>Reg</td>\n      <td>Lvl</td>\n      <td>Inside</td>\n      <td>Gtl</td>\n      <td>...</td>\n      <td>None</td>\n      <td>None</td>\n      <td>0.0</td>\n      <td>2</td>\n      <td>2009</td>\n      <td>WD</td>\n      <td>Normal</td>\n      <td>3032.0</td>\n      <td>2057.0</td>\n      <td>152.0</td>\n    </tr>\n    <tr>\n      <th>1177</th>\n      <td>50.0</td>\n      <td>RM</td>\n      <td>81.459225</td>\n      <td>3950.0</td>\n      <td>Pave</td>\n      <td>Grvl</td>\n      <td>Reg</td>\n      <td>Bnk</td>\n      <td>Inside</td>\n      <td>Gtl</td>\n      <td>...</td>\n      <td>None</td>\n      <td>None</td>\n      <td>0.0</td>\n      <td>12</td>\n      <td>2009</td>\n      <td>WD</td>\n      <td>Normal</td>\n      <td>2042.0</td>\n      <td>1692.0</td>\n      <td>116.0</td>\n    </tr>\n    <tr>\n      <th>723</th>\n      <td>50.0</td>\n      <td>RL</td>\n      <td>60.000000</td>\n      <td>8172.0</td>\n      <td>Pave</td>\n      <td>None</td>\n      <td>Reg</td>\n      <td>Lvl</td>\n      <td>Inside</td>\n      <td>Gtl</td>\n      <td>...</td>\n      <td>None</td>\n      <td>None</td>\n      <td>0.0</td>\n      <td>5</td>\n      <td>2008</td>\n      <td>WD</td>\n      <td>Normal</td>\n      <td>2411.0</td>\n      <td>1470.0</td>\n      <td>156.0</td>\n    </tr>\n    <tr>\n      <th>...</th>\n      <td>...</td>\n      <td>...</td>\n      <td>...</td>\n      <td>...</td>\n      <td>...</td>\n      <td>...</td>\n      <td>...</td>\n      <td>...</td>\n      <td>...</td>\n      <td>...</td>\n      <td>...</td>\n      <td>...</td>\n      <td>...</td>\n      <td>...</td>\n      <td>...</td>\n      <td>...</td>\n      <td>...</td>\n      <td>...</td>\n      <td>...</td>\n      <td>...</td>\n      <td>...</td>\n    </tr>\n    <tr>\n      <th>133</th>\n      <td>20.0</td>\n      <td>RL</td>\n      <td>87.480748</td>\n      <td>6853.0</td>\n      <td>Pave</td>\n      <td>None</td>\n      <td>IR1</td>\n      <td>Lvl</td>\n      <td>Inside</td>\n      <td>Gtl</td>\n      <td>...</td>\n      <td>None</td>\n      <td>None</td>\n      <td>0.0</td>\n      <td>6</td>\n      <td>2009</td>\n      <td>WD</td>\n      <td>Normal</td>\n      <td>2563.0</td>\n      <td>2301.0</td>\n      <td>217.0</td>\n    </tr>\n    <tr>\n      <th>1293</th>\n      <td>60.0</td>\n      <td>RL</td>\n      <td>78.000000</td>\n      <td>10140.0</td>\n      <td>Pave</td>\n      <td>None</td>\n      <td>Reg</td>\n      <td>Lvl</td>\n      <td>Inside</td>\n      <td>Gtl</td>\n      <td>...</td>\n      <td>GdWo</td>\n      <td>None</td>\n      <td>0.0</td>\n      <td>3</td>\n      <td>2006</td>\n      <td>WD</td>\n      <td>Normal</td>\n      <td>2496.0</td>\n      <td>1858.0</td>\n      <td>287.0</td>\n    </tr>\n    <tr>\n      <th>180</th>\n      <td>160.0</td>\n      <td>FV</td>\n      <td>37.252530</td>\n      <td>2117.0</td>\n      <td>Pave</td>\n      <td>None</td>\n      <td>Reg</td>\n      <td>Lvl</td>\n      <td>Inside</td>\n      <td>Gtl</td>\n      <td>...</td>\n      <td>None</td>\n      <td>None</td>\n      <td>0.0</td>\n      <td>6</td>\n      <td>2007</td>\n      <td>WD</td>\n      <td>Normal</td>\n      <td>2281.0</td>\n      <td>1961.0</td>\n      <td>0.0</td>\n    </tr>\n    <tr>\n      <th>1295</th>\n      <td>20.0</td>\n      <td>RL</td>\n      <td>70.000000</td>\n      <td>8400.0</td>\n      <td>Pave</td>\n      <td>None</td>\n      <td>Reg</td>\n      <td>Lvl</td>\n      <td>Inside</td>\n      <td>Gtl</td>\n      <td>...</td>\n      <td>GdWo</td>\n      <td>None</td>\n      <td>0.0</td>\n      <td>11</td>\n      <td>2006</td>\n      <td>WD</td>\n      <td>Normal</td>\n      <td>2104.0</td>\n      <td>2068.0</td>\n      <td>356.0</td>\n    </tr>\n    <tr>\n      <th>986</th>\n      <td>50.0</td>\n      <td>RM</td>\n      <td>59.000000</td>\n      <td>5310.0</td>\n      <td>Pave</td>\n      <td>None</td>\n      <td>Reg</td>\n      <td>Lvl</td>\n      <td>Corner</td>\n      <td>Gtl</td>\n      <td>...</td>\n      <td>None</td>\n      <td>None</td>\n      <td>0.0</td>\n      <td>6</td>\n      <td>2006</td>\n      <td>WD</td>\n      <td>Normal</td>\n      <td>2120.0</td>\n      <td>1635.0</td>\n      <td>394.0</td>\n    </tr>\n  </tbody>\n</table>\n<p>1163 rows × 80 columns</p>\n</div>"
     },
     "execution_count": 433,
     "metadata": {},
     "output_type": "execute_result"
    }
   ],
   "source": [
    "X_train"
   ],
   "metadata": {
    "collapsed": false,
    "pycharm": {
     "name": "#%%\n"
    }
   }
  },
  {
   "cell_type": "code",
   "execution_count": 434,
   "outputs": [],
   "source": [
    "to_categorical(X_train)\n",
    "to_categorical(X_test)\n",
    "\n",
    "cat_features = np.where(X_train.loc[:, X_train.columns.values].dtypes == \"object\")[0]"
   ],
   "metadata": {
    "collapsed": false,
    "pycharm": {
     "name": "#%%\n"
    }
   }
  },
  {
   "cell_type": "code",
   "execution_count": 435,
   "outputs": [
    {
     "name": "stdout",
     "output_type": "stream",
     "text": [
      "100%|██████████| 50/50 [01:11<00:00,  1.42s/trial, best loss: 0.11970353460726135]\n",
      "best {'colsample_bytree': 0.25888178212037616, 'learning_rate': 0.08160717473914599, 'max_depth': 24.0, 'n_estimators': 7510.0, 'num_leaves': 6.0, 'reg_alpha': 0.2583432050369779, 'reg_lambda': 0.029082211206149948, 'subsample': 0.019754607872640946}\n"
     ]
    }
   ],
   "source": [
    "from hyperopt.pyll import scope\n",
    "import lightgbm as lgb\n",
    "from hyperopt import hp\n",
    "from sklearn.model_selection import cross_val_score\n",
    "from sklearn.model_selection import KFold, StratifiedKFold\n",
    "from sklearn.base import clone\n",
    "from hyperopt import fmin, tpe, hp, anneal, Trials\n",
    "\n",
    "folds = 4\n",
    "shuffle = True\n",
    "\n",
    "random_state = 42\n",
    "\n",
    "def objective(params):\n",
    "    #params = {'n_estimators': int(params['n_estimators']),\n",
    "    #          'max_depth': int(params['max_depth']),\n",
    "    #          'learning_rate': params['learning_rate'],\n",
    "    #          'num_leaves': int(params['num_leaves'])}\n",
    "\n",
    "    clf = lgb.LGBMRegressor(random_state=random_state,\n",
    "                            #boosting_type ='dart',\n",
    "\n",
    "                            **params)\n",
    "\n",
    "    kf = KFold(n_splits=folds, shuffle=shuffle)\n",
    "    loss_list = []\n",
    "\n",
    "    for train_index, test_index in kf.split(X_train):\n",
    "        X_train_fold, X_test_fold = X_train.iloc[train_index], X_train.iloc[test_index]\n",
    "        y_train_fold, y_test_fold = y_train.iloc[train_index], y_train.iloc[test_index]\n",
    "\n",
    "        fit_params = {\"early_stopping_rounds\": 20,\n",
    "                      \"eval_metric\": 'rmse',\n",
    "                      \"eval_set\": [(X_test_fold, y_test_fold)],\n",
    "                      'verbose': -1,\n",
    "                      'categorical_feature': cat_features\n",
    "                      }\n",
    "\n",
    "        clf_fold = clone(clf)\n",
    "        clf_fold.fit(X_train_fold, y_train_fold, **fit_params)\n",
    "\n",
    "        prediction = clf_fold.predict(X_test_fold)\n",
    "        loss = rmsle(prediction, y_test_fold)\n",
    "\n",
    "        loss_list.append(loss)\n",
    "\n",
    "    score = np.mean(loss_list)\n",
    "\n",
    "    #print(\"{:.3f} params {}\".format(score, params))\n",
    "    return score\n",
    "\n",
    "\n",
    "space = {'n_estimators': scope.int(hp.quniform('n_estimators', 100, 20000, 1)),\n",
    "         'max_depth': scope.int(hp.quniform('max_depth', 2, 30, 1)),\n",
    "         'num_leaves': scope.int(hp.quniform('num_leaves', 2, 40, 1)),\n",
    "         'reg_alpha': hp.loguniform('reg_alpha', -5, 0),\n",
    "         'reg_lambda': hp.loguniform('reg_lambda', -5, 0),\n",
    "         'learning_rate': hp.loguniform('learning_rate', -5, 0),\n",
    "         'subsample': hp.loguniform('subsample', -5, 0),\n",
    "         'colsample_bytree': hp.loguniform('colsample_bytree', -5, 0),\n",
    "         }\n",
    "trials = Trials()\n",
    "\n",
    "best = fmin(fn=objective,  # function to optimize\n",
    "            space=space,\n",
    "            algo=tpe.suggest,  # optimization algorithm, hyperotp will select its parameters automatically\n",
    "            max_evals=50,  # maximum number of iterations\n",
    "            trials=trials,  # logging\n",
    "            rstate=np.random.default_rng(random_state)  # fixing random state for the reproducibility\n",
    "            )\n",
    "\n",
    "print(\"best {}\".format(best))"
   ],
   "metadata": {
    "collapsed": false,
    "pycharm": {
     "name": "#%%\n"
    }
   }
  },
  {
   "cell_type": "code",
   "execution_count": 439,
   "outputs": [
    {
     "name": "stdout",
     "output_type": "stream",
     "text": [
      "RMSLE: 0.0775345956950465\n",
      "RMSLE: 0.11577414504800097\n"
     ]
    }
   ],
   "source": [
    "fit_params = {\n",
    "    \"early_stopping_rounds\": 20,\n",
    "    \"eval_set\": [(X_test, y_test)],\n",
    "    \"eval_metric\": 'rmse',\n",
    "    'verbose': -1,\n",
    "    'categorical_feature': cat_features\n",
    "}\n",
    "lbg_model = lgb.LGBMRegressor(random_state=random_state,\n",
    "                              #boosting_type ='dart',\n",
    "                              n_estimators=int(best['n_estimators']),\n",
    "                              max_depth=int(best['max_depth']),\n",
    "                              num_leaves = int(best['num_leaves']),\n",
    "                              reg_alpha=best['reg_alpha'],\n",
    "                              reg_lambda=best['reg_lambda'],\n",
    "                              learning_rate=best['learning_rate'],\n",
    "                              subsample=best['subsample'],\n",
    "                              colsample_bytree=best['colsample_bytree'],\n",
    "                              )\n",
    "lbg_model.fit(X_train, y_train, **fit_params)\n",
    "\n",
    "evaluate(lbg_model, X_train, y_train)\n",
    "evaluate(lbg_model, X_test, y_test)"
   ],
   "metadata": {
    "collapsed": false,
    "pycharm": {
     "name": "#%%\n"
    }
   }
  },
  {
   "cell_type": "code",
   "execution_count": 444,
   "outputs": [],
   "source": [
    "data = pd.read_csv(\"./train.csv\")\n",
    "data = data.drop(columns=[\"Id\"])\n",
    "\n",
    "#data = remove_outliers(data, True)\n",
    "\n",
    "y = np.log1p(data[\"SalePrice\"])\n",
    "X = data.drop(columns=[\"SalePrice\"])\n",
    "\n",
    "transformer = DataTransformer(StandardScaler())\n",
    "X = transformer.prepare(X)\n",
    "\n",
    "transformer.fit(X)\n",
    "\n",
    "X = transformer.transform(X, False)\n",
    "\n",
    "to_categorical(X)\n",
    "\n",
    "cat_features = np.where(X.loc[:, X.columns.values].dtypes == \"object\")[0]"
   ],
   "metadata": {
    "collapsed": false,
    "pycharm": {
     "name": "#%%\n"
    }
   }
  },
  {
   "cell_type": "code",
   "execution_count": 467,
   "outputs": [
    {
     "name": "stdout",
     "output_type": "stream",
     "text": [
      "RMSLE: 0.055514938801319406\n"
     ]
    }
   ],
   "source": [
    "fit_params = {\n",
    "              #\"early_stopping_rounds\": 20,\n",
    "              #\"eval_set\": [(X_test, y_test)],\n",
    "              \"eval_metric\": 'rmse',\n",
    "              'verbose': -1,\n",
    "              'categorical_feature': cat_features,\n",
    "              }\n",
    "lbg_model = lgb.LGBMRegressor(random_state=random_state,\n",
    "                              #boosting_type ='dart',\n",
    "                              n_estimators=int(best['n_estimators']),\n",
    "                              max_depth=int(best['max_depth']),\n",
    "                              num_leaves = int(best['num_leaves']),\n",
    "                              reg_alpha=best['reg_alpha'],\n",
    "                              reg_lambda=best['reg_lambda'],\n",
    "                              learning_rate=best['learning_rate'],\n",
    "                              subsample=best['subsample'],\n",
    "                              colsample_bytree=best['colsample_bytree'],\n",
    "                              num_iterations = 800\n",
    "                              )\n",
    "lbg_model.fit(X, y, **fit_params)\n",
    "\n",
    "evaluate(lbg_model, X, y)\n",
    "#evaluate(lbg_model, X_test, y_test)"
   ],
   "metadata": {
    "collapsed": false,
    "pycharm": {
     "name": "#%%\n"
    }
   }
  },
  {
   "cell_type": "code",
   "execution_count": 468,
   "outputs": [
    {
     "name": "stdout",
     "output_type": "stream",
     "text": [
      "RMSLE submission: 0.12490467891858428\n"
     ]
    }
   ],
   "source": [
    "validation = pd.read_csv(\"./test.csv\")\n",
    "val_ids = validation[\"Id\"]\n",
    "validation = validation.drop(columns=[\"Id\"])\n",
    "\n",
    "validation = transformer.prepare(validation)\n",
    "validation = transformer.transform(validation, False)\n",
    "to_categorical(validation)\n",
    "\n",
    "sub_predictions = lbg_model.predict(validation)\n",
    "print(\"RMSLE submission: \" + str(rmsle(sub_predictions, np.log1p(cheat[\"SalePrice\"]))))\n",
    "#evaluate(lbg_model, validation,  np.log1p(cheat[\"SalePrice\"]))"
   ],
   "metadata": {
    "collapsed": false,
    "pycharm": {
     "name": "#%%\n"
    }
   }
  },
  {
   "cell_type": "code",
   "execution_count": 429,
   "outputs": [
    {
     "data": {
      "text/plain": "        Id      SalePrice\n0     1461  124840.857397\n1     1462  165939.897319\n2     1463  181642.320730\n3     1464  191590.442564\n4     1465  188917.423575\n...    ...            ...\n1454  2915   82359.158448\n1455  2916   83041.141198\n1456  2917  158942.735912\n1457  2918  114650.118548\n1458  2919  211432.569926\n\n[1459 rows x 2 columns]",
      "text/html": "<div>\n<style scoped>\n    .dataframe tbody tr th:only-of-type {\n        vertical-align: middle;\n    }\n\n    .dataframe tbody tr th {\n        vertical-align: top;\n    }\n\n    .dataframe thead th {\n        text-align: right;\n    }\n</style>\n<table border=\"1\" class=\"dataframe\">\n  <thead>\n    <tr style=\"text-align: right;\">\n      <th></th>\n      <th>Id</th>\n      <th>SalePrice</th>\n    </tr>\n  </thead>\n  <tbody>\n    <tr>\n      <th>0</th>\n      <td>1461</td>\n      <td>124840.857397</td>\n    </tr>\n    <tr>\n      <th>1</th>\n      <td>1462</td>\n      <td>165939.897319</td>\n    </tr>\n    <tr>\n      <th>2</th>\n      <td>1463</td>\n      <td>181642.320730</td>\n    </tr>\n    <tr>\n      <th>3</th>\n      <td>1464</td>\n      <td>191590.442564</td>\n    </tr>\n    <tr>\n      <th>4</th>\n      <td>1465</td>\n      <td>188917.423575</td>\n    </tr>\n    <tr>\n      <th>...</th>\n      <td>...</td>\n      <td>...</td>\n    </tr>\n    <tr>\n      <th>1454</th>\n      <td>2915</td>\n      <td>82359.158448</td>\n    </tr>\n    <tr>\n      <th>1455</th>\n      <td>2916</td>\n      <td>83041.141198</td>\n    </tr>\n    <tr>\n      <th>1456</th>\n      <td>2917</td>\n      <td>158942.735912</td>\n    </tr>\n    <tr>\n      <th>1457</th>\n      <td>2918</td>\n      <td>114650.118548</td>\n    </tr>\n    <tr>\n      <th>1458</th>\n      <td>2919</td>\n      <td>211432.569926</td>\n    </tr>\n  </tbody>\n</table>\n<p>1459 rows × 2 columns</p>\n</div>"
     },
     "execution_count": 429,
     "metadata": {},
     "output_type": "execute_result"
    }
   ],
   "source": [
    "d = {'Id': val_ids.to_numpy(), 'SalePrice':  np.expm1(sub_predictions)}\n",
    "df = pd.DataFrame(data=d)\n",
    "df.to_csv('submission.csv', index=False)\n",
    "\n",
    "df"
   ],
   "metadata": {
    "collapsed": false,
    "pycharm": {
     "name": "#%%\n"
    }
   }
  },
  {
   "cell_type": "code",
   "execution_count": null,
   "outputs": [],
   "source": [],
   "metadata": {
    "collapsed": false,
    "pycharm": {
     "name": "#%%\n"
    }
   }
  }
 ],
 "metadata": {
  "kernelspec": {
   "display_name": "Python 3",
   "language": "python",
   "name": "python3"
  },
  "language_info": {
   "codemirror_mode": {
    "name": "ipython",
    "version": 2
   },
   "file_extension": ".py",
   "mimetype": "text/x-python",
   "name": "python",
   "nbconvert_exporter": "python",
   "pygments_lexer": "ipython2",
   "version": "2.7.6"
  }
 },
 "nbformat": 4,
 "nbformat_minor": 0
}