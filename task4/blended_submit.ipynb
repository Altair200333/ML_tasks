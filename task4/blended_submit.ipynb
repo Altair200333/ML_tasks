{
 "cells": [
  {
   "cell_type": "code",
   "execution_count": 372,
   "metadata": {
    "collapsed": true
   },
   "outputs": [
    {
     "name": "stdout",
     "output_type": "stream",
     "text": [
      "The autoreload extension is already loaded. To reload it, use:\n",
      "  %reload_ext autoreload\n"
     ]
    }
   ],
   "source": [
    "import matplotlib.pyplot as plt\n",
    "import seaborn as sns\n",
    "import pandas as pd\n",
    "import numpy as np\n",
    "import warnings\n",
    "from sklearn.model_selection import train_test_split\n",
    "import xgboost as xgb\n",
    "from sklearn.preprocessing import OneHotEncoder\n",
    "from sklearn.model_selection import GridSearchCV\n",
    "from sklearn.model_selection import cross_val_score\n",
    "from sklearn import metrics\n",
    "from xgboost import XGBRegressor\n",
    "\n",
    "from data_processing import *\n",
    "from sklearn.preprocessing import MinMaxScaler\n",
    "from sklearn.impute import SimpleImputer\n",
    "from sklearn.preprocessing import StandardScaler\n",
    "from sklearn.ensemble import RandomForestRegressor\n",
    "from data_transformar import *\n",
    "import lightgbm as lgb\n",
    "from sklearn.decomposition import PCA\n",
    "from catboost import CatBoostRegressor, Pool\n",
    "from xgboost import XGBRegressor\n",
    "\n",
    "warnings.simplefilter(\"ignore\")\n",
    "%matplotlib inline\n",
    "%load_ext autoreload\n",
    "%autoreload 2\n",
    "\n",
    "sns.set(style=\"darkgrid\")"
   ]
  },
  {
   "cell_type": "code",
   "execution_count": 373,
   "outputs": [],
   "source": [
    "from sklearn.metrics import mean_squared_error\n",
    "\n",
    "answers = pd.read_csv(\"./result-with-best.csv\")\n",
    "\n",
    "\n",
    "def rmsle(y, y_pred):\n",
    "    return np.sqrt(mean_squared_error(y, y_pred))\n",
    "\n",
    "\n",
    "def answers_score(model):\n",
    "    print(\"RMSLE sub: \" + str(rmsle(model.predict(validation), np.log1p(answers[\"SalePrice\"]))))\n",
    "\n",
    "\n",
    "def evaluate(model, X, y):\n",
    "    preds = model.predict(X)\n",
    "    print(\"RMSLE: \" + str(rmsle(preds, y)))\n",
    "\n",
    "\n",
    "def to_categorical(X):\n",
    "    for c in X.columns:\n",
    "        col_type = X[c].dtype\n",
    "        if col_type == 'object' or col_type.name == 'category':\n",
    "            X[c] = X[c].astype('category')"
   ],
   "metadata": {
    "collapsed": false,
    "pycharm": {
     "name": "#%%\n"
    }
   }
  },
  {
   "cell_type": "code",
   "execution_count": 374,
   "outputs": [],
   "source": [
    "data = pd.read_csv(\"./train.csv\")\n",
    "data = data.drop(columns=[\"Id\"])\n",
    "#data = remove_outliers(data)"
   ],
   "metadata": {
    "collapsed": false,
    "pycharm": {
     "name": "#%%\n"
    }
   }
  },
  {
   "cell_type": "code",
   "execution_count": 375,
   "outputs": [],
   "source": [
    "y = np.log1p(data[\"SalePrice\"])\n",
    "X = data.drop(columns=[\"SalePrice\"])"
   ],
   "metadata": {
    "collapsed": false,
    "pycharm": {
     "name": "#%%\n"
    }
   }
  },
  {
   "cell_type": "code",
   "execution_count": 376,
   "outputs": [],
   "source": [
    "transformer = DataTransformer()\n",
    "X_encoded = transformer.fit_transform(X, True)\n",
    "X_cat = transformer.fit_transform(X, False)\n",
    "X_scaled = transformer.fit_transform(X, True, True)\n",
    "\n",
    "to_categorical(X_cat)\n",
    "cat_features = list(X_cat.select_dtypes(include=['category']).columns)\n",
    "\n",
    "validation = pd.read_csv(\"./test.csv\")\n",
    "val_ids = validation[\"Id\"]\n",
    "validation = validation.drop(columns=[\"Id\"])\n",
    "\n",
    "val_encoded = transformer.fit_transform(validation, True)\n",
    "val_cat = transformer.fit_transform(validation, False)\n",
    "val_scaled = transformer.fit_transform(validation, True, True)\n",
    "\n",
    "to_categorical(val_cat)"
   ],
   "metadata": {
    "collapsed": false,
    "pycharm": {
     "name": "#%%\n"
    }
   }
  },
  {
   "cell_type": "code",
   "execution_count": 233,
   "outputs": [
    {
     "name": "stdout",
     "output_type": "stream",
     "text": [
      "RMSLE: 0.12300759445353592\n"
     ]
    }
   ],
   "source": [
    "xgb_params = {'lambda': 11.946656615633028,\n",
    "              'learning_rate': 0.002119415669803155,\n",
    "              'max_depth': 863,\n",
    "              'n_estimators': 30000,\n",
    "              'subsample': 0.1382402507540342}\n",
    "\n",
    "xgb_model = XGBRegressor(**xgb_params, seed=0)\n",
    "xgb_model.fit(X_encoded, y)\n",
    "evaluate(xgb_model, val_encoded, np.log1p(answers['SalePrice']))"
   ],
   "metadata": {
    "collapsed": false,
    "pycharm": {
     "name": "#%%\n"
    }
   }
  },
  {
   "cell_type": "code",
   "execution_count": 383,
   "outputs": [],
   "source": [
    "data = pd.read_csv(\"./train.csv\")\n",
    "data = data.drop(columns=[\"Id\"])\n",
    "\n",
    "#data = remove_outliers(data, True)\n",
    "\n",
    "y = np.log1p(data[\"SalePrice\"])\n",
    "X = data.drop(columns=[\"SalePrice\"])\n",
    "\n",
    "transformer = DataTransformer(StandardScaler())\n",
    "X = transformer.prepare(X)\n",
    "\n",
    "transformer.fit(X)\n",
    "\n",
    "X = transformer.transform(X, False)\n",
    "\n",
    "to_categorical(X)\n",
    "\n",
    "cat_features = list(X.select_dtypes(include=['category']).columns)\n",
    "\n",
    "validation = pd.read_csv(\"./test.csv\")\n",
    "val_ids = validation[\"Id\"]\n",
    "validation = validation.drop(columns=[\"Id\"])\n",
    "\n",
    "validation = transformer.prepare(validation)\n",
    "validation = transformer.transform(validation, False)\n",
    "to_categorical(validation)"
   ],
   "metadata": {
    "collapsed": false,
    "pycharm": {
     "name": "#%%\n"
    }
   }
  },
  {
   "cell_type": "code",
   "execution_count": 414,
   "outputs": [
    {
     "name": "stdout",
     "output_type": "stream",
     "text": [
      "RMSLE: 0.06402969992112549\n",
      "RMSLE: 0.12239091907121474\n"
     ]
    }
   ],
   "source": [
    "lgbm_params = {'colsample_bytree': 0.22187412027782807, 'learning_rate': 0.013507845012253343, 'max_depth': 25,\n",
    "               'n_estimators': 8000, 'num_leaves': 8, 'reg_alpha': 0.4389524156775603,\n",
    "               'reg_lambda': 0.6, 'subsample': 0.05747795513890018}\n",
    "fit_params = {\n",
    "    \"eval_metric\": 'rmse',\n",
    "    'verbose': -1,\n",
    "    'categorical_feature': cat_features\n",
    "}\n",
    "\n",
    "lgbm_model = lgb.LGBMRegressor(**lgbm_params, num_iterations=2500)\n",
    "lgbm_model.fit(X_cat, y, **fit_params)\n",
    "evaluate(lgbm_model, X_cat, y)\n",
    "evaluate(lgbm_model, val_cat, np.log1p(answers['SalePrice']))"
   ],
   "metadata": {
    "collapsed": false,
    "pycharm": {
     "name": "#%%\n"
    }
   }
  },
  {
   "cell_type": "code",
   "execution_count": 406,
   "outputs": [
    {
     "name": "stdout",
     "output_type": "stream",
     "text": [
      "RMSLE: 0.07011095557812468\n",
      "RMSLE: 0.12634768116178863\n"
     ]
    }
   ],
   "source": [
    "categorical_features = np.where(X_cat.loc[:, X_cat.columns.values].dtypes == \"category\")[0]\n",
    "\n",
    "train_pool = Pool(X_cat, y, cat_features=categorical_features)\n",
    "\n",
    "cat_model = CatBoostRegressor(iterations=350)\n",
    "cat_model.fit(train_pool, verbose=0, plot=False)\n",
    "\n",
    "evaluate(cat_model, X_cat, y)\n",
    "evaluate(cat_model, val_cat, np.log1p(answers['SalePrice']))"
   ],
   "metadata": {
    "collapsed": false,
    "pycharm": {
     "name": "#%%\n"
    }
   }
  },
  {
   "cell_type": "code",
   "execution_count": 410,
   "outputs": [
    {
     "name": "stdout",
     "output_type": "stream",
     "text": [
      "RMSLE: 0.12320233371375372\n"
     ]
    }
   ],
   "source": [
    "from sklearn.ensemble import StackingRegressor\n",
    "stack_gen = StackingRegressor(estimators=(('xgb1', XGBRegressor(**xgb_params)), ('xgb2', XGBRegressor(**xgb_params)), ('xgb3', XGBRegressor(**xgb_params))))\n",
    "stack_gen.fit(X_encoded, y)\n",
    "evaluate(stack_gen, val_encoded, np.log1p(answers['SalePrice']))"
   ],
   "metadata": {
    "collapsed": false,
    "pycharm": {
     "name": "#%%\n"
    }
   }
  },
  {
   "cell_type": "code",
   "execution_count": 404,
   "outputs": [],
   "source": [
    "def blend(models, X):\n",
    "    pred_res =  [models[i].predict(X[i]) for i in range(len(models))]\n",
    "    return np.sum(pred_res, axis=0) / len(models)"
   ],
   "metadata": {
    "collapsed": false,
    "pycharm": {
     "name": "#%%\n"
    }
   }
  },
  {
   "cell_type": "code",
   "execution_count": 423,
   "outputs": [
    {
     "name": "stdout",
     "output_type": "stream",
     "text": [
      "RMSLE: 0.11862587399633419\n"
     ]
    }
   ],
   "source": [
    "blended_res = blend([xgb_model, lgbm_model], [val_encoded, val_cat])\n",
    "print(\"RMSLE: \" + str(rmsle(blended_res, np.log1p(answers['SalePrice']))))"
   ],
   "metadata": {
    "collapsed": false,
    "pycharm": {
     "name": "#%%\n"
    }
   }
  },
  {
   "cell_type": "code",
   "execution_count": 416,
   "outputs": [],
   "source": [
    "save_res(blended_res)"
   ],
   "metadata": {
    "collapsed": false,
    "pycharm": {
     "name": "#%%\n"
    }
   }
  },
  {
   "cell_type": "code",
   "execution_count": null,
   "outputs": [],
   "source": [],
   "metadata": {
    "collapsed": false,
    "pycharm": {
     "name": "#%%\n"
    }
   }
  }
 ],
 "metadata": {
  "kernelspec": {
   "display_name": "Python 3",
   "language": "python",
   "name": "python3"
  },
  "language_info": {
   "codemirror_mode": {
    "name": "ipython",
    "version": 2
   },
   "file_extension": ".py",
   "mimetype": "text/x-python",
   "name": "python",
   "nbconvert_exporter": "python",
   "pygments_lexer": "ipython2",
   "version": "2.7.6"
  }
 },
 "nbformat": 4,
 "nbformat_minor": 0
}