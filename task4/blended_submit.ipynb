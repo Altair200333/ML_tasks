{
 "cells": [
  {
   "cell_type": "code",
   "execution_count": 1,
   "metadata": {
    "collapsed": true
   },
   "outputs": [],
   "source": [
    "import matplotlib.pyplot as plt\n",
    "import seaborn as sns\n",
    "import pandas as pd\n",
    "import numpy as np\n",
    "import warnings\n",
    "from sklearn.model_selection import train_test_split\n",
    "import xgboost as xgb\n",
    "from sklearn.preprocessing import OneHotEncoder\n",
    "from sklearn.model_selection import GridSearchCV\n",
    "from sklearn.model_selection import cross_val_score\n",
    "from sklearn import metrics\n",
    "from data_processing import *\n",
    "from sklearn.preprocessing import MinMaxScaler\n",
    "from sklearn.impute import SimpleImputer\n",
    "from sklearn.preprocessing import StandardScaler\n",
    "from sklearn.ensemble import RandomForestRegressor\n",
    "from data_transformar import *\n",
    "import lightgbm as lgb\n",
    "from sklearn.decomposition import PCA\n",
    "from catboost import CatBoostRegressor, Pool\n",
    "\n",
    "warnings.simplefilter(\"ignore\")\n",
    "%matplotlib inline\n",
    "%load_ext autoreload\n",
    "%autoreload 2\n",
    "\n",
    "sns.set(style=\"darkgrid\")"
   ]
  },
  {
   "cell_type": "code",
   "execution_count": 20,
   "outputs": [],
   "source": [
    "from sklearn.metrics import mean_squared_error\n",
    "\n",
    "answers = pd.read_csv(\"./result-with-best.csv\")\n",
    "\n",
    "def rmsle(y, y_pred):\n",
    "    return np.sqrt(mean_squared_error(y, y_pred))\n",
    "\n",
    "def answers_score(model):\n",
    "    print(\"RMSLE sub: \" + str(rmsle(model.predict(validation), np.log1p(answers[\"SalePrice\"]))))\n",
    "\n",
    "def evaluate(model, X, y):\n",
    "    preds = model.predict(X)\n",
    "    print(\"RMSLE: \" + str(rmsle(preds, y)))"
   ],
   "metadata": {
    "collapsed": false,
    "pycharm": {
     "name": "#%%\n"
    }
   }
  },
  {
   "cell_type": "code",
   "execution_count": 14,
   "outputs": [
    {
     "name": "stdout",
     "output_type": "stream",
     "text": [
      "Int64Index([249, 313, 335, 523, 706, 1298], dtype='int64')\n"
     ]
    }
   ],
   "source": [
    "data = pd.read_csv(\"./train.csv\")\n",
    "data = data.drop(columns=[\"Id\"])\n",
    "#data = remove_outliers(data)"
   ],
   "metadata": {
    "collapsed": false,
    "pycharm": {
     "name": "#%%\n"
    }
   }
  },
  {
   "cell_type": "code",
   "execution_count": 15,
   "outputs": [
    {
     "name": "stdout",
     "output_type": "stream",
     "text": [
      "(1454, 79)\n"
     ]
    },
    {
     "data": {
      "text/plain": "   MSSubClass MSZoning  LotFrontage  LotArea Street Alley LotShape  \\\n0          60       RL         65.0     8450   Pave   NaN      Reg   \n1          20       RL         80.0     9600   Pave   NaN      Reg   \n2          60       RL         68.0    11250   Pave   NaN      IR1   \n3          70       RL         60.0     9550   Pave   NaN      IR1   \n4          60       RL         84.0    14260   Pave   NaN      IR1   \n\n  LandContour Utilities LotConfig  ... ScreenPorch PoolArea PoolQC Fence  \\\n0         Lvl    AllPub    Inside  ...           0        0    NaN   NaN   \n1         Lvl    AllPub       FR2  ...           0        0    NaN   NaN   \n2         Lvl    AllPub    Inside  ...           0        0    NaN   NaN   \n3         Lvl    AllPub    Corner  ...           0        0    NaN   NaN   \n4         Lvl    AllPub       FR2  ...           0        0    NaN   NaN   \n\n  MiscFeature MiscVal  MoSold  YrSold  SaleType  SaleCondition  \n0         NaN       0       2    2008        WD         Normal  \n1         NaN       0       5    2007        WD         Normal  \n2         NaN       0       9    2008        WD         Normal  \n3         NaN       0       2    2006        WD        Abnorml  \n4         NaN       0      12    2008        WD         Normal  \n\n[5 rows x 79 columns]",
      "text/html": "<div>\n<style scoped>\n    .dataframe tbody tr th:only-of-type {\n        vertical-align: middle;\n    }\n\n    .dataframe tbody tr th {\n        vertical-align: top;\n    }\n\n    .dataframe thead th {\n        text-align: right;\n    }\n</style>\n<table border=\"1\" class=\"dataframe\">\n  <thead>\n    <tr style=\"text-align: right;\">\n      <th></th>\n      <th>MSSubClass</th>\n      <th>MSZoning</th>\n      <th>LotFrontage</th>\n      <th>LotArea</th>\n      <th>Street</th>\n      <th>Alley</th>\n      <th>LotShape</th>\n      <th>LandContour</th>\n      <th>Utilities</th>\n      <th>LotConfig</th>\n      <th>...</th>\n      <th>ScreenPorch</th>\n      <th>PoolArea</th>\n      <th>PoolQC</th>\n      <th>Fence</th>\n      <th>MiscFeature</th>\n      <th>MiscVal</th>\n      <th>MoSold</th>\n      <th>YrSold</th>\n      <th>SaleType</th>\n      <th>SaleCondition</th>\n    </tr>\n  </thead>\n  <tbody>\n    <tr>\n      <th>0</th>\n      <td>60</td>\n      <td>RL</td>\n      <td>65.0</td>\n      <td>8450</td>\n      <td>Pave</td>\n      <td>NaN</td>\n      <td>Reg</td>\n      <td>Lvl</td>\n      <td>AllPub</td>\n      <td>Inside</td>\n      <td>...</td>\n      <td>0</td>\n      <td>0</td>\n      <td>NaN</td>\n      <td>NaN</td>\n      <td>NaN</td>\n      <td>0</td>\n      <td>2</td>\n      <td>2008</td>\n      <td>WD</td>\n      <td>Normal</td>\n    </tr>\n    <tr>\n      <th>1</th>\n      <td>20</td>\n      <td>RL</td>\n      <td>80.0</td>\n      <td>9600</td>\n      <td>Pave</td>\n      <td>NaN</td>\n      <td>Reg</td>\n      <td>Lvl</td>\n      <td>AllPub</td>\n      <td>FR2</td>\n      <td>...</td>\n      <td>0</td>\n      <td>0</td>\n      <td>NaN</td>\n      <td>NaN</td>\n      <td>NaN</td>\n      <td>0</td>\n      <td>5</td>\n      <td>2007</td>\n      <td>WD</td>\n      <td>Normal</td>\n    </tr>\n    <tr>\n      <th>2</th>\n      <td>60</td>\n      <td>RL</td>\n      <td>68.0</td>\n      <td>11250</td>\n      <td>Pave</td>\n      <td>NaN</td>\n      <td>IR1</td>\n      <td>Lvl</td>\n      <td>AllPub</td>\n      <td>Inside</td>\n      <td>...</td>\n      <td>0</td>\n      <td>0</td>\n      <td>NaN</td>\n      <td>NaN</td>\n      <td>NaN</td>\n      <td>0</td>\n      <td>9</td>\n      <td>2008</td>\n      <td>WD</td>\n      <td>Normal</td>\n    </tr>\n    <tr>\n      <th>3</th>\n      <td>70</td>\n      <td>RL</td>\n      <td>60.0</td>\n      <td>9550</td>\n      <td>Pave</td>\n      <td>NaN</td>\n      <td>IR1</td>\n      <td>Lvl</td>\n      <td>AllPub</td>\n      <td>Corner</td>\n      <td>...</td>\n      <td>0</td>\n      <td>0</td>\n      <td>NaN</td>\n      <td>NaN</td>\n      <td>NaN</td>\n      <td>0</td>\n      <td>2</td>\n      <td>2006</td>\n      <td>WD</td>\n      <td>Abnorml</td>\n    </tr>\n    <tr>\n      <th>4</th>\n      <td>60</td>\n      <td>RL</td>\n      <td>84.0</td>\n      <td>14260</td>\n      <td>Pave</td>\n      <td>NaN</td>\n      <td>IR1</td>\n      <td>Lvl</td>\n      <td>AllPub</td>\n      <td>FR2</td>\n      <td>...</td>\n      <td>0</td>\n      <td>0</td>\n      <td>NaN</td>\n      <td>NaN</td>\n      <td>NaN</td>\n      <td>0</td>\n      <td>12</td>\n      <td>2008</td>\n      <td>WD</td>\n      <td>Normal</td>\n    </tr>\n  </tbody>\n</table>\n<p>5 rows × 79 columns</p>\n</div>"
     },
     "execution_count": 15,
     "metadata": {},
     "output_type": "execute_result"
    }
   ],
   "source": [
    "y = np.log1p(data[\"SalePrice\"])\n",
    "X = data.drop(columns=[\"SalePrice\"])"
   ],
   "metadata": {
    "collapsed": false,
    "pycharm": {
     "name": "#%%\n"
    }
   }
  },
  {
   "cell_type": "code",
   "execution_count": 16,
   "outputs": [],
   "source": [
    "X_train, X_test, y_train, y_test = train_test_split(X, y, test_size=0.2, random_state=98987)"
   ],
   "metadata": {
    "collapsed": false,
    "pycharm": {
     "name": "#%%\n"
    }
   }
  },
  {
   "cell_type": "code",
   "execution_count": 17,
   "outputs": [
    {
     "name": "stdout",
     "output_type": "stream",
     "text": [
      "(1163, 36) (1163, 278)\n",
      "(291, 36) (291, 278)\n"
     ]
    }
   ],
   "source": [
    "X_train_orig = X_train.copy()\n",
    "\n",
    "transformer = DataTransformer(StandardScaler())\n",
    "\n",
    "X_train = transformer.prepare(X_train)\n",
    "X_test = transformer.prepare(X_test)\n",
    "\n",
    "transformer.fit(X_train)\n",
    "\n",
    "X_train = transformer.transform(X_train, True, True)\n",
    "X_test = transformer.transform(X_test, True, True)"
   ],
   "metadata": {
    "collapsed": false,
    "pycharm": {
     "name": "#%%\n"
    }
   }
  },
  {
   "cell_type": "code",
   "execution_count": 18,
   "outputs": [
    {
     "name": "stdout",
     "output_type": "stream",
     "text": [
      "0\n"
     ]
    },
    {
     "data": {
      "text/plain": "   MSSubClass  LotFrontage   LotArea  OverallQual  OverallCond  YearBuilt  \\\n0   -0.284468    -0.914828 -0.736211    -0.064773     1.315237  -1.489457   \n1    0.068738     0.369772  0.399284     0.652661    -0.501414   0.996677   \n2   -0.873146     1.300000 -0.028030    -0.064773     0.406911  -0.229816   \n3   -0.166733    -0.249927 -1.098791    -0.064773     2.223562  -1.489457   \n4   -0.166733    -0.471862 -0.352053    -1.499640     0.406911  -0.561300   \n\n   MasVnrArea  BsmtFinSF1  BsmtFinSF2  BsmtUnfSF  ...  268  269  270  271  \\\n0   -0.565665   -1.012857   -0.285104   0.715367  ...  0.0  0.0  0.0  1.0   \n1   -0.565665    0.517566   -0.285104  -0.657973  ...  0.0  0.0  0.0  1.0   \n2    0.398496   -0.562462    1.986686   0.921595  ...  0.0  0.0  0.0  1.0   \n3   -0.565665    0.062576   -0.285104  -0.494804  ...  0.0  0.0  0.0  1.0   \n4   -0.565665   -1.012857   -0.285104   0.844543  ...  0.0  0.0  0.0  1.0   \n\n   272  273  274  275  276  277  \n0  0.0  0.0  0.0  0.0  1.0  0.0  \n1  0.0  0.0  0.0  0.0  1.0  0.0  \n2  0.0  0.0  0.0  0.0  1.0  0.0  \n3  0.0  0.0  0.0  0.0  1.0  0.0  \n4  0.0  0.0  0.0  0.0  1.0  0.0  \n\n[5 rows x 314 columns]",
      "text/html": "<div>\n<style scoped>\n    .dataframe tbody tr th:only-of-type {\n        vertical-align: middle;\n    }\n\n    .dataframe tbody tr th {\n        vertical-align: top;\n    }\n\n    .dataframe thead th {\n        text-align: right;\n    }\n</style>\n<table border=\"1\" class=\"dataframe\">\n  <thead>\n    <tr style=\"text-align: right;\">\n      <th></th>\n      <th>MSSubClass</th>\n      <th>LotFrontage</th>\n      <th>LotArea</th>\n      <th>OverallQual</th>\n      <th>OverallCond</th>\n      <th>YearBuilt</th>\n      <th>MasVnrArea</th>\n      <th>BsmtFinSF1</th>\n      <th>BsmtFinSF2</th>\n      <th>BsmtUnfSF</th>\n      <th>...</th>\n      <th>268</th>\n      <th>269</th>\n      <th>270</th>\n      <th>271</th>\n      <th>272</th>\n      <th>273</th>\n      <th>274</th>\n      <th>275</th>\n      <th>276</th>\n      <th>277</th>\n    </tr>\n  </thead>\n  <tbody>\n    <tr>\n      <th>0</th>\n      <td>-0.284468</td>\n      <td>-0.914828</td>\n      <td>-0.736211</td>\n      <td>-0.064773</td>\n      <td>1.315237</td>\n      <td>-1.489457</td>\n      <td>-0.565665</td>\n      <td>-1.012857</td>\n      <td>-0.285104</td>\n      <td>0.715367</td>\n      <td>...</td>\n      <td>0.0</td>\n      <td>0.0</td>\n      <td>0.0</td>\n      <td>1.0</td>\n      <td>0.0</td>\n      <td>0.0</td>\n      <td>0.0</td>\n      <td>0.0</td>\n      <td>1.0</td>\n      <td>0.0</td>\n    </tr>\n    <tr>\n      <th>1</th>\n      <td>0.068738</td>\n      <td>0.369772</td>\n      <td>0.399284</td>\n      <td>0.652661</td>\n      <td>-0.501414</td>\n      <td>0.996677</td>\n      <td>-0.565665</td>\n      <td>0.517566</td>\n      <td>-0.285104</td>\n      <td>-0.657973</td>\n      <td>...</td>\n      <td>0.0</td>\n      <td>0.0</td>\n      <td>0.0</td>\n      <td>1.0</td>\n      <td>0.0</td>\n      <td>0.0</td>\n      <td>0.0</td>\n      <td>0.0</td>\n      <td>1.0</td>\n      <td>0.0</td>\n    </tr>\n    <tr>\n      <th>2</th>\n      <td>-0.873146</td>\n      <td>1.300000</td>\n      <td>-0.028030</td>\n      <td>-0.064773</td>\n      <td>0.406911</td>\n      <td>-0.229816</td>\n      <td>0.398496</td>\n      <td>-0.562462</td>\n      <td>1.986686</td>\n      <td>0.921595</td>\n      <td>...</td>\n      <td>0.0</td>\n      <td>0.0</td>\n      <td>0.0</td>\n      <td>1.0</td>\n      <td>0.0</td>\n      <td>0.0</td>\n      <td>0.0</td>\n      <td>0.0</td>\n      <td>1.0</td>\n      <td>0.0</td>\n    </tr>\n    <tr>\n      <th>3</th>\n      <td>-0.166733</td>\n      <td>-0.249927</td>\n      <td>-1.098791</td>\n      <td>-0.064773</td>\n      <td>2.223562</td>\n      <td>-1.489457</td>\n      <td>-0.565665</td>\n      <td>0.062576</td>\n      <td>-0.285104</td>\n      <td>-0.494804</td>\n      <td>...</td>\n      <td>0.0</td>\n      <td>0.0</td>\n      <td>0.0</td>\n      <td>1.0</td>\n      <td>0.0</td>\n      <td>0.0</td>\n      <td>0.0</td>\n      <td>0.0</td>\n      <td>1.0</td>\n      <td>0.0</td>\n    </tr>\n    <tr>\n      <th>4</th>\n      <td>-0.166733</td>\n      <td>-0.471862</td>\n      <td>-0.352053</td>\n      <td>-1.499640</td>\n      <td>0.406911</td>\n      <td>-0.561300</td>\n      <td>-0.565665</td>\n      <td>-1.012857</td>\n      <td>-0.285104</td>\n      <td>0.844543</td>\n      <td>...</td>\n      <td>0.0</td>\n      <td>0.0</td>\n      <td>0.0</td>\n      <td>1.0</td>\n      <td>0.0</td>\n      <td>0.0</td>\n      <td>0.0</td>\n      <td>0.0</td>\n      <td>1.0</td>\n      <td>0.0</td>\n    </tr>\n  </tbody>\n</table>\n<p>5 rows × 314 columns</p>\n</div>"
     },
     "execution_count": 18,
     "metadata": {},
     "output_type": "execute_result"
    }
   ],
   "source": [
    "print(X_train.isnull().sum().sum())\n",
    "X_train.head()"
   ],
   "metadata": {
    "collapsed": false,
    "pycharm": {
     "name": "#%%\n"
    }
   }
  },
  {
   "cell_type": "code",
   "execution_count": 19,
   "outputs": [
    {
     "name": "stdout",
     "output_type": "stream",
     "text": [
      "(1459, 36) (1459, 278)\n"
     ]
    }
   ],
   "source": [
    "#answers sheet\n",
    "validation = pd.read_csv(\"./test.csv\")\n",
    "val_ids = validation[\"Id\"]\n",
    "validation = validation.drop(columns=[\"Id\"])\n",
    "validation_orig = validation.copy()\n",
    "validation = transformer.prepare(validation)\n",
    "\n",
    "validation = transformer.transform(validation, True, True)"
   ],
   "metadata": {
    "collapsed": false,
    "pycharm": {
     "name": "#%%\n"
    }
   }
  },
  {
   "cell_type": "code",
   "execution_count": 4,
   "outputs": [],
   "source": [
    "from sklearn import linear_model\n",
    "from hyperopt import hp, fmin, tpe, STATUS_OK, Trials, space_eval\n",
    "from hyperopt.pyll.base import scope\n",
    "from sklearn.model_selection import cross_val_score\n",
    "from sklearn.metrics import mean_squared_error\n",
    "from sklearn.metrics import fbeta_score, make_scorer\n",
    "random_state = 42\n",
    "\n",
    "def rmse_scorer(clf, X, y):\n",
    "    return rmsle(clf.predict(X), y)"
   ],
   "metadata": {
    "collapsed": false,
    "pycharm": {
     "name": "#%%\n"
    }
   }
  },
  {
   "cell_type": "code",
   "execution_count": 73,
   "outputs": [
    {
     "name": "stdout",
     "output_type": "stream",
     "text": [
      "100%|██████████| 50/50 [00:09<00:00,  5.09trial/s, best loss: 0.13627492641131064]\n",
      "best {'alpha': 0.0067439412691386634}\n"
     ]
    }
   ],
   "source": [
    "space = {'alpha': hp.loguniform('alpha', -5, -2),}\n",
    "trials = Trials()\n",
    "\n",
    "def objective(params):\n",
    "\n",
    "    clf = linear_model.Lasso(random_state=random_state,max_iter = 600, **params)\n",
    "\n",
    "    scores = cross_val_score(clf, X_train, y_train, cv=3, scoring=rmse_scorer)\n",
    "    #print(scores)\n",
    "    score = np.mean(scores)\n",
    "    return score\n",
    "\n",
    "best = fmin(fn=objective,  # function to optimize\n",
    "            space=space,\n",
    "            algo=tpe.suggest,  # optimization algorithm, hyperotp will select its parameters automatically\n",
    "            max_evals=50,  # maximum number of iterations\n",
    "            trials=trials,  # logging\n",
    "            rstate=np.random.default_rng(random_state)  # fixing random state for the reproducibility\n",
    "            )\n",
    "\n",
    "print(\"best {}\".format(best))"
   ],
   "metadata": {
    "collapsed": false,
    "pycharm": {
     "name": "#%%\n"
    }
   }
  },
  {
   "cell_type": "code",
   "execution_count": 21,
   "outputs": [
    {
     "name": "stdout",
     "output_type": "stream",
     "text": [
      "RMSLE: 0.11233028241778834\n",
      "RMSLE: 0.13744306854169788\n"
     ]
    }
   ],
   "source": [
    "lasso = linear_model.Lasso(random_state=random_state, alpha = 0.0003, max_iter = 600)\n",
    "lasso.fit(X_train, y_train)\n",
    "\n",
    "evaluate(lasso, X_test, y_test)\n",
    "evaluate(lasso, validation, np.log1p(answers['SalePrice']))"
   ],
   "metadata": {
    "collapsed": false,
    "pycharm": {
     "name": "#%%\n"
    }
   }
  },
  {
   "cell_type": "code",
   "execution_count": 22,
   "outputs": [
    {
     "name": "stdout",
     "output_type": "stream",
     "text": [
      "RMSLE: 0.11244078294294718\n",
      "RMSLE: 0.13649857714262914\n"
     ]
    }
   ],
   "source": [
    "elnet = linear_model.ElasticNet(alpha=0.0004251979145220131, max_iter=2629425, l1_ratio=0.8952750683400642)\n",
    "elnet.fit(X_train, y_train)\n",
    "\n",
    "evaluate(elnet, X_test, y_test)\n",
    "evaluate(elnet, validation, np.log1p(answers['SalePrice']))"
   ],
   "metadata": {
    "collapsed": false,
    "pycharm": {
     "name": "#%%\n"
    }
   }
  },
  {
   "cell_type": "code",
   "execution_count": 23,
   "outputs": [
    {
     "name": "stdout",
     "output_type": "stream",
     "text": [
      "RMSLE: 0.11319499246428603\n",
      "RMSLE: 0.1376703798485163\n"
     ]
    }
   ],
   "source": [
    "ridge = linear_model.Ridge(alpha=4.563672281359594)\n",
    "ridge.fit(X_train, y_train)\n",
    "\n",
    "evaluate(ridge, X_test, y_test)\n",
    "evaluate(ridge, validation, np.log1p(answers['SalePrice']))"
   ],
   "metadata": {
    "collapsed": false,
    "pycharm": {
     "name": "#%%\n"
    }
   }
  },
  {
   "cell_type": "code",
   "execution_count": 24,
   "outputs": [
    {
     "name": "stdout",
     "output_type": "stream",
     "text": [
      "RMSLE: 0.13680017263826172\n"
     ]
    }
   ],
   "source": [
    "pred = ((lasso.predict(validation)) + (ridge.predict(validation)) + (elnet.predict(validation)))/3\n",
    "print(\"RMSLE: \" + str(rmsle(pred, np.log1p(answers['SalePrice']))))"
   ],
   "metadata": {
    "collapsed": false,
    "pycharm": {
     "name": "#%%\n"
    }
   }
  },
  {
   "cell_type": "code",
   "execution_count": 60,
   "outputs": [
    {
     "name": "stdout",
     "output_type": "stream",
     "text": [
      "Int64Index([523, 1298], dtype='int64')\n",
      "(1458, 36) (1458, 280)\n",
      "(1459, 36) (1459, 280)\n"
     ]
    }
   ],
   "source": [
    "data = pd.read_csv(\"./train.csv\")\n",
    "data = data.drop(columns=[\"Id\"])\n",
    "\n",
    "data = remove_outliers(data, True)\n",
    "\n",
    "y = np.log1p(data[\"SalePrice\"])\n",
    "X = data.drop(columns=[\"SalePrice\"])\n",
    "\n",
    "transformer = DataTransformer(StandardScaler())\n",
    "X = transformer.prepare(X)\n",
    "\n",
    "transformer.fit(X)\n",
    "\n",
    "X = transformer.transform(X, True)\n",
    "\n",
    "validation = pd.read_csv(\"./test.csv\")\n",
    "val_ids = validation[\"Id\"]\n",
    "validation = validation.drop(columns=[\"Id\"])\n",
    "\n",
    "validation = transformer.prepare(validation)\n",
    "validation = transformer.transform(validation, True)"
   ],
   "metadata": {
    "collapsed": false,
    "pycharm": {
     "name": "#%%\n"
    }
   }
  },
  {
   "cell_type": "code",
   "execution_count": 61,
   "outputs": [
    {
     "name": "stdout",
     "output_type": "stream",
     "text": [
      "RMSLE: 0.09076091811447656\n",
      "RMSLE: 0.1511493150719641\n",
      "RMSLE: 0.09076091811447656\n",
      "RMSLE: 0.1511493150719641\n",
      "RMSLE: 0.09076091811447656\n",
      "RMSLE: 0.1511493150719641\n"
     ]
    }
   ],
   "source": [
    "lasso = linear_model.LinearRegression()\n",
    "lasso.fit(X, y)\n",
    "evaluate(lasso, X, y)\n",
    "evaluate(lasso, validation, np.log1p(answers['SalePrice']))\n",
    "\n",
    "elnet = linear_model.LinearRegression()\n",
    "elnet.fit(X, y)\n",
    "evaluate(elnet, X, y)\n",
    "evaluate(elnet, validation, np.log1p(answers['SalePrice']))\n",
    "\n",
    "ridge = linear_model.LinearRegression()\n",
    "ridge.fit(X, y)\n",
    "evaluate(ridge, X, y)\n",
    "evaluate(ridge, validation, np.log1p(answers['SalePrice']))"
   ],
   "metadata": {
    "collapsed": false,
    "pycharm": {
     "name": "#%%\n"
    }
   }
  },
  {
   "cell_type": "code",
   "execution_count": 62,
   "outputs": [
    {
     "name": "stdout",
     "output_type": "stream",
     "text": [
      "RMSLE: 0.1511493150719641\n"
     ]
    }
   ],
   "source": [
    "pred = ((lasso.predict(validation)) + (ridge.predict(validation)) + (elnet.predict(validation)))/3\n",
    "print(\"RMSLE: \" + str(rmsle(pred, np.log1p(answers['SalePrice']))))"
   ],
   "metadata": {
    "collapsed": false,
    "pycharm": {
     "name": "#%%\n"
    }
   }
  },
  {
   "cell_type": "code",
   "execution_count": 63,
   "outputs": [
    {
     "data": {
      "text/plain": "[<matplotlib.lines.Line2D at 0x1f12bdcf908>]"
     },
     "execution_count": 63,
     "metadata": {},
     "output_type": "execute_result"
    },
    {
     "data": {
      "text/plain": "<Figure size 936x576 with 1 Axes>",
      "image/png": "[encoded data removed]"
     },
     "metadata": {},
     "output_type": "display_data"
    }
   ],
   "source": [
    "plt.figure(figsize=(13,8))\n",
    "plt.scatter(np.log1p(answers['SalePrice']), pred, color='black')\n",
    "plt.plot(np.linspace(9.5, 13.5, 2), np.linspace(9.5, 13.5, 2), c = 'r')"
   ],
   "metadata": {
    "collapsed": false,
    "pycharm": {
     "name": "#%%\n"
    }
   }
  },
  {
   "cell_type": "code",
   "execution_count": 158,
   "outputs": [],
   "source": [],
   "metadata": {
    "collapsed": false,
    "pycharm": {
     "name": "#%%\n"
    }
   }
  },
  {
   "cell_type": "code",
   "execution_count": null,
   "outputs": [],
   "source": [],
   "metadata": {
    "collapsed": false,
    "pycharm": {
     "name": "#%%\n"
    }
   }
  }
 ],
 "metadata": {
  "kernelspec": {
   "display_name": "Python 3",
   "language": "python",
   "name": "python3"
  },
  "language_info": {
   "codemirror_mode": {
    "name": "ipython",
    "version": 2
   },
   "file_extension": ".py",
   "mimetype": "text/x-python",
   "name": "python",
   "nbconvert_exporter": "python",
   "pygments_lexer": "ipython2",
   "version": "2.7.6"
  }
 },
 "nbformat": 4,
 "nbformat_minor": 0
}