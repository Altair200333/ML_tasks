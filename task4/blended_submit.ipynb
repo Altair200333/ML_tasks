{
 "cells": [
  {
   "cell_type": "code",
   "execution_count": 1232,
   "metadata": {
    "collapsed": true
   },
   "outputs": [
    {
     "name": "stdout",
     "output_type": "stream",
     "text": [
      "The autoreload extension is already loaded. To reload it, use:\n",
      "  %reload_ext autoreload\n"
     ]
    }
   ],
   "source": [
    "import matplotlib.pyplot as plt\n",
    "import seaborn as sns\n",
    "import pandas as pd\n",
    "import numpy as np\n",
    "import warnings\n",
    "from sklearn.model_selection import train_test_split\n",
    "import xgboost as xgb\n",
    "from sklearn.preprocessing import OneHotEncoder\n",
    "from sklearn.model_selection import GridSearchCV\n",
    "from sklearn.model_selection import cross_val_score\n",
    "from sklearn import metrics\n",
    "from data_processing import *\n",
    "from sklearn.preprocessing import MinMaxScaler\n",
    "from sklearn.impute import SimpleImputer\n",
    "from sklearn.preprocessing import StandardScaler\n",
    "from sklearn.ensemble import RandomForestRegressor\n",
    "from data_transformar import *\n",
    "import lightgbm as lgb\n",
    "from sklearn.decomposition import PCA\n",
    "from catboost import CatBoostRegressor, Pool\n",
    "\n",
    "warnings.simplefilter(\"ignore\")\n",
    "%matplotlib inline\n",
    "%load_ext autoreload\n",
    "%autoreload 2\n",
    "\n",
    "sns.set(style=\"darkgrid\")"
   ]
  },
  {
   "cell_type": "code",
   "execution_count": 1233,
   "outputs": [],
   "source": [
    "from sklearn.metrics import mean_squared_error\n",
    "\n",
    "cheat = pd.read_csv(\"./result-with-best.csv\")\n",
    "\n",
    "def rmsle(y, y_pred):\n",
    "    return np.sqrt(mean_squared_error(y, y_pred))\n",
    "\n",
    "def cheat_score(model):\n",
    "    print(\"RMSLE sub: \" + str(rmsle(model.predict(validation), np.log1p(cheat[\"SalePrice\"]))))"
   ],
   "metadata": {
    "collapsed": false,
    "pycharm": {
     "name": "#%%\n"
    }
   }
  },
  {
   "cell_type": "code",
   "execution_count": 1234,
   "outputs": [],
   "source": [
    "data = pd.read_csv(\"./train.csv\")\n",
    "data = data.drop(columns=[\"Id\"])"
   ],
   "metadata": {
    "collapsed": false,
    "pycharm": {
     "name": "#%%\n"
    }
   }
  },
  {
   "cell_type": "code",
   "execution_count": 1235,
   "outputs": [],
   "source": [
    "data = remove_outliers(data)"
   ],
   "metadata": {
    "collapsed": false,
    "pycharm": {
     "name": "#%%\n"
    }
   }
  },
  {
   "cell_type": "code",
   "execution_count": 1236,
   "outputs": [
    {
     "name": "stdout",
     "output_type": "stream",
     "text": [
      "(1454, 79)\n"
     ]
    },
    {
     "data": {
      "text/plain": "   MSSubClass MSZoning  LotFrontage  LotArea Street Alley LotShape  \\\n0          60       RL         65.0     8450   Pave   NaN      Reg   \n1          20       RL         80.0     9600   Pave   NaN      Reg   \n2          60       RL         68.0    11250   Pave   NaN      IR1   \n3          70       RL         60.0     9550   Pave   NaN      IR1   \n4          60       RL         84.0    14260   Pave   NaN      IR1   \n\n  LandContour Utilities LotConfig  ... ScreenPorch PoolArea PoolQC Fence  \\\n0         Lvl    AllPub    Inside  ...           0        0    NaN   NaN   \n1         Lvl    AllPub       FR2  ...           0        0    NaN   NaN   \n2         Lvl    AllPub    Inside  ...           0        0    NaN   NaN   \n3         Lvl    AllPub    Corner  ...           0        0    NaN   NaN   \n4         Lvl    AllPub       FR2  ...           0        0    NaN   NaN   \n\n  MiscFeature MiscVal  MoSold  YrSold  SaleType  SaleCondition  \n0         NaN       0       2    2008        WD         Normal  \n1         NaN       0       5    2007        WD         Normal  \n2         NaN       0       9    2008        WD         Normal  \n3         NaN       0       2    2006        WD        Abnorml  \n4         NaN       0      12    2008        WD         Normal  \n\n[5 rows x 79 columns]",
      "text/html": "<div>\n<style scoped>\n    .dataframe tbody tr th:only-of-type {\n        vertical-align: middle;\n    }\n\n    .dataframe tbody tr th {\n        vertical-align: top;\n    }\n\n    .dataframe thead th {\n        text-align: right;\n    }\n</style>\n<table border=\"1\" class=\"dataframe\">\n  <thead>\n    <tr style=\"text-align: right;\">\n      <th></th>\n      <th>MSSubClass</th>\n      <th>MSZoning</th>\n      <th>LotFrontage</th>\n      <th>LotArea</th>\n      <th>Street</th>\n      <th>Alley</th>\n      <th>LotShape</th>\n      <th>LandContour</th>\n      <th>Utilities</th>\n      <th>LotConfig</th>\n      <th>...</th>\n      <th>ScreenPorch</th>\n      <th>PoolArea</th>\n      <th>PoolQC</th>\n      <th>Fence</th>\n      <th>MiscFeature</th>\n      <th>MiscVal</th>\n      <th>MoSold</th>\n      <th>YrSold</th>\n      <th>SaleType</th>\n      <th>SaleCondition</th>\n    </tr>\n  </thead>\n  <tbody>\n    <tr>\n      <th>0</th>\n      <td>60</td>\n      <td>RL</td>\n      <td>65.0</td>\n      <td>8450</td>\n      <td>Pave</td>\n      <td>NaN</td>\n      <td>Reg</td>\n      <td>Lvl</td>\n      <td>AllPub</td>\n      <td>Inside</td>\n      <td>...</td>\n      <td>0</td>\n      <td>0</td>\n      <td>NaN</td>\n      <td>NaN</td>\n      <td>NaN</td>\n      <td>0</td>\n      <td>2</td>\n      <td>2008</td>\n      <td>WD</td>\n      <td>Normal</td>\n    </tr>\n    <tr>\n      <th>1</th>\n      <td>20</td>\n      <td>RL</td>\n      <td>80.0</td>\n      <td>9600</td>\n      <td>Pave</td>\n      <td>NaN</td>\n      <td>Reg</td>\n      <td>Lvl</td>\n      <td>AllPub</td>\n      <td>FR2</td>\n      <td>...</td>\n      <td>0</td>\n      <td>0</td>\n      <td>NaN</td>\n      <td>NaN</td>\n      <td>NaN</td>\n      <td>0</td>\n      <td>5</td>\n      <td>2007</td>\n      <td>WD</td>\n      <td>Normal</td>\n    </tr>\n    <tr>\n      <th>2</th>\n      <td>60</td>\n      <td>RL</td>\n      <td>68.0</td>\n      <td>11250</td>\n      <td>Pave</td>\n      <td>NaN</td>\n      <td>IR1</td>\n      <td>Lvl</td>\n      <td>AllPub</td>\n      <td>Inside</td>\n      <td>...</td>\n      <td>0</td>\n      <td>0</td>\n      <td>NaN</td>\n      <td>NaN</td>\n      <td>NaN</td>\n      <td>0</td>\n      <td>9</td>\n      <td>2008</td>\n      <td>WD</td>\n      <td>Normal</td>\n    </tr>\n    <tr>\n      <th>3</th>\n      <td>70</td>\n      <td>RL</td>\n      <td>60.0</td>\n      <td>9550</td>\n      <td>Pave</td>\n      <td>NaN</td>\n      <td>IR1</td>\n      <td>Lvl</td>\n      <td>AllPub</td>\n      <td>Corner</td>\n      <td>...</td>\n      <td>0</td>\n      <td>0</td>\n      <td>NaN</td>\n      <td>NaN</td>\n      <td>NaN</td>\n      <td>0</td>\n      <td>2</td>\n      <td>2006</td>\n      <td>WD</td>\n      <td>Abnorml</td>\n    </tr>\n    <tr>\n      <th>4</th>\n      <td>60</td>\n      <td>RL</td>\n      <td>84.0</td>\n      <td>14260</td>\n      <td>Pave</td>\n      <td>NaN</td>\n      <td>IR1</td>\n      <td>Lvl</td>\n      <td>AllPub</td>\n      <td>FR2</td>\n      <td>...</td>\n      <td>0</td>\n      <td>0</td>\n      <td>NaN</td>\n      <td>NaN</td>\n      <td>NaN</td>\n      <td>0</td>\n      <td>12</td>\n      <td>2008</td>\n      <td>WD</td>\n      <td>Normal</td>\n    </tr>\n  </tbody>\n</table>\n<p>5 rows × 79 columns</p>\n</div>"
     },
     "execution_count": 1236,
     "metadata": {},
     "output_type": "execute_result"
    }
   ],
   "source": [
    "y = np.log1p(data[\"SalePrice\"])\n",
    "X = data.drop(columns=[\"SalePrice\"])\n",
    "\n",
    "print(X.shape)\n",
    "X.head()"
   ],
   "metadata": {
    "collapsed": false,
    "pycharm": {
     "name": "#%%\n"
    }
   }
  },
  {
   "cell_type": "code",
   "execution_count": 1237,
   "outputs": [],
   "source": [
    "X_train, X_test, y_train, y_test = train_test_split(X, y, test_size=0.2, random_state=98987)"
   ],
   "metadata": {
    "collapsed": false,
    "pycharm": {
     "name": "#%%\n"
    }
   }
  },
  {
   "cell_type": "code",
   "execution_count": 1238,
   "outputs": [
    {
     "name": "stdout",
     "output_type": "stream",
     "text": [
      "(1163, 23) (1163, 338)\n",
      "(291, 23) (291, 338)\n"
     ]
    }
   ],
   "source": [
    "X_train_orig = X_train.copy()\n",
    "\n",
    "transformer = DataTransformer(StandardScaler())\n",
    "\n",
    "X_train = transformer.prepare(X_train)\n",
    "X_test = transformer.prepare(X_test)\n",
    "\n",
    "transformer.fit(X_train)\n",
    "\n",
    "X_train = transformer.transform(X_train)\n",
    "X_test = transformer.transform(X_test)"
   ],
   "metadata": {
    "collapsed": false,
    "pycharm": {
     "name": "#%%\n"
    }
   }
  },
  {
   "cell_type": "code",
   "execution_count": 1290,
   "outputs": [
    {
     "name": "stdout",
     "output_type": "stream",
     "text": [
      "0\n"
     ]
    },
    {
     "data": {
      "text/plain": "    LotArea  YearBuilt  MasVnrArea  BsmtFinSF1  BsmtFinSF2  BsmtUnfSF  \\\n0 -0.736211  -1.489457   -0.565665   -1.012857   -0.285104   0.715367   \n1  0.399284   0.996677   -0.565665    0.517566   -0.285104  -0.657973   \n2 -0.028030  -0.229816    0.398496   -0.562462    1.986686   0.921595   \n3 -1.098791  -1.489457   -0.565665    0.062576   -0.285104  -0.494804   \n4 -0.352053  -0.561300   -0.565665   -1.012857   -0.285104   0.844543   \n\n   TotalBsmtSF  1stFlrSF  2ndFlrSF  LowQualFinSF  ...  328  329  330  331  \\\n0    -0.406139 -0.692505 -0.798547     -0.122363  ...  0.0  0.0  0.0  1.0   \n1    -0.261436 -0.584126  1.259460     -0.122363  ...  0.0  0.0  0.0  1.0   \n2     1.118067  0.965706 -0.798547     -0.122363  ...  0.0  0.0  0.0  1.0   \n3    -0.565313 -0.925522  0.133987     -0.122363  ...  0.0  0.0  0.0  1.0   \n4    -0.268671 -0.440522  0.287879     -0.122363  ...  0.0  0.0  0.0  1.0   \n\n   332  333  334  335  336  337  \n0  0.0  0.0  0.0  0.0  1.0  0.0  \n1  0.0  0.0  0.0  0.0  1.0  0.0  \n2  0.0  0.0  0.0  0.0  1.0  0.0  \n3  0.0  0.0  0.0  0.0  1.0  0.0  \n4  0.0  0.0  0.0  0.0  1.0  0.0  \n\n[5 rows x 361 columns]",
      "text/html": "<div>\n<style scoped>\n    .dataframe tbody tr th:only-of-type {\n        vertical-align: middle;\n    }\n\n    .dataframe tbody tr th {\n        vertical-align: top;\n    }\n\n    .dataframe thead th {\n        text-align: right;\n    }\n</style>\n<table border=\"1\" class=\"dataframe\">\n  <thead>\n    <tr style=\"text-align: right;\">\n      <th></th>\n      <th>LotArea</th>\n      <th>YearBuilt</th>\n      <th>MasVnrArea</th>\n      <th>BsmtFinSF1</th>\n      <th>BsmtFinSF2</th>\n      <th>BsmtUnfSF</th>\n      <th>TotalBsmtSF</th>\n      <th>1stFlrSF</th>\n      <th>2ndFlrSF</th>\n      <th>LowQualFinSF</th>\n      <th>...</th>\n      <th>328</th>\n      <th>329</th>\n      <th>330</th>\n      <th>331</th>\n      <th>332</th>\n      <th>333</th>\n      <th>334</th>\n      <th>335</th>\n      <th>336</th>\n      <th>337</th>\n    </tr>\n  </thead>\n  <tbody>\n    <tr>\n      <th>0</th>\n      <td>-0.736211</td>\n      <td>-1.489457</td>\n      <td>-0.565665</td>\n      <td>-1.012857</td>\n      <td>-0.285104</td>\n      <td>0.715367</td>\n      <td>-0.406139</td>\n      <td>-0.692505</td>\n      <td>-0.798547</td>\n      <td>-0.122363</td>\n      <td>...</td>\n      <td>0.0</td>\n      <td>0.0</td>\n      <td>0.0</td>\n      <td>1.0</td>\n      <td>0.0</td>\n      <td>0.0</td>\n      <td>0.0</td>\n      <td>0.0</td>\n      <td>1.0</td>\n      <td>0.0</td>\n    </tr>\n    <tr>\n      <th>1</th>\n      <td>0.399284</td>\n      <td>0.996677</td>\n      <td>-0.565665</td>\n      <td>0.517566</td>\n      <td>-0.285104</td>\n      <td>-0.657973</td>\n      <td>-0.261436</td>\n      <td>-0.584126</td>\n      <td>1.259460</td>\n      <td>-0.122363</td>\n      <td>...</td>\n      <td>0.0</td>\n      <td>0.0</td>\n      <td>0.0</td>\n      <td>1.0</td>\n      <td>0.0</td>\n      <td>0.0</td>\n      <td>0.0</td>\n      <td>0.0</td>\n      <td>1.0</td>\n      <td>0.0</td>\n    </tr>\n    <tr>\n      <th>2</th>\n      <td>-0.028030</td>\n      <td>-0.229816</td>\n      <td>0.398496</td>\n      <td>-0.562462</td>\n      <td>1.986686</td>\n      <td>0.921595</td>\n      <td>1.118067</td>\n      <td>0.965706</td>\n      <td>-0.798547</td>\n      <td>-0.122363</td>\n      <td>...</td>\n      <td>0.0</td>\n      <td>0.0</td>\n      <td>0.0</td>\n      <td>1.0</td>\n      <td>0.0</td>\n      <td>0.0</td>\n      <td>0.0</td>\n      <td>0.0</td>\n      <td>1.0</td>\n      <td>0.0</td>\n    </tr>\n    <tr>\n      <th>3</th>\n      <td>-1.098791</td>\n      <td>-1.489457</td>\n      <td>-0.565665</td>\n      <td>0.062576</td>\n      <td>-0.285104</td>\n      <td>-0.494804</td>\n      <td>-0.565313</td>\n      <td>-0.925522</td>\n      <td>0.133987</td>\n      <td>-0.122363</td>\n      <td>...</td>\n      <td>0.0</td>\n      <td>0.0</td>\n      <td>0.0</td>\n      <td>1.0</td>\n      <td>0.0</td>\n      <td>0.0</td>\n      <td>0.0</td>\n      <td>0.0</td>\n      <td>1.0</td>\n      <td>0.0</td>\n    </tr>\n    <tr>\n      <th>4</th>\n      <td>-0.352053</td>\n      <td>-0.561300</td>\n      <td>-0.565665</td>\n      <td>-1.012857</td>\n      <td>-0.285104</td>\n      <td>0.844543</td>\n      <td>-0.268671</td>\n      <td>-0.440522</td>\n      <td>0.287879</td>\n      <td>-0.122363</td>\n      <td>...</td>\n      <td>0.0</td>\n      <td>0.0</td>\n      <td>0.0</td>\n      <td>1.0</td>\n      <td>0.0</td>\n      <td>0.0</td>\n      <td>0.0</td>\n      <td>0.0</td>\n      <td>1.0</td>\n      <td>0.0</td>\n    </tr>\n  </tbody>\n</table>\n<p>5 rows × 361 columns</p>\n</div>"
     },
     "execution_count": 1290,
     "metadata": {},
     "output_type": "execute_result"
    }
   ],
   "source": [
    "print(X_train.isnull().sum().sum())\n",
    "X_train.head()"
   ],
   "metadata": {
    "collapsed": false,
    "pycharm": {
     "name": "#%%\n"
    }
   }
  },
  {
   "cell_type": "code",
   "execution_count": 1240,
   "outputs": [
    {
     "name": "stdout",
     "output_type": "stream",
     "text": [
      "(1459, 23) (1459, 338)\n"
     ]
    }
   ],
   "source": [
    "#cheat sheet\n",
    "validation = pd.read_csv(\"./test.csv\")\n",
    "val_ids = validation[\"Id\"]\n",
    "validation = validation.drop(columns=[\"Id\"])\n",
    "\n",
    "validation = transformer.prepare(validation)\n",
    "\n",
    "validation = transformer.transform(validation)"
   ],
   "metadata": {
    "collapsed": false,
    "pycharm": {
     "name": "#%%\n"
    }
   }
  },
  {
   "cell_type": "code",
   "execution_count": 1241,
   "outputs": [],
   "source": [
    "def evaluate(model, X, y):\n",
    "    preds = model.predict(X)\n",
    "    print(\"RMSLE: \" + str(rmsle(preds, y)))"
   ],
   "metadata": {
    "collapsed": false,
    "pycharm": {
     "name": "#%%\n"
    }
   }
  },
  {
   "cell_type": "markdown",
   "source": [
    "## Гоняем котов"
   ],
   "metadata": {
    "collapsed": false,
    "pycharm": {
     "name": "#%% md\n"
    }
   }
  },
  {
   "cell_type": "code",
   "execution_count": 1242,
   "outputs": [],
   "source": [
    "cat_features = np.where(X_train.loc[:, X_train.columns.values].dtypes == \"object\")[0]"
   ],
   "metadata": {
    "collapsed": false,
    "pycharm": {
     "name": "#%%\n"
    }
   }
  },
  {
   "cell_type": "code",
   "execution_count": 1243,
   "outputs": [
    {
     "data": {
      "text/plain": "<catboost.core.CatBoostRegressor at 0x1e7a7688588>"
     },
     "execution_count": 1243,
     "metadata": {},
     "output_type": "execute_result"
    }
   ],
   "source": [
    "train_pool = Pool(X_train, y_train, cat_features=cat_features)\n",
    "dev_pool = Pool(X_test, y_test, cat_features=cat_features)\n",
    "\n",
    "cat_model = CatBoostRegressor(iterations=10000, task_type=\"GPU\",  devices='0:1')\n",
    "cat_model.fit(train_pool, eval_set=dev_pool, early_stopping_rounds=10, verbose=0, plot=False)"
   ],
   "metadata": {
    "collapsed": false,
    "pycharm": {
     "name": "#%%\n"
    }
   }
  },
  {
   "cell_type": "code",
   "execution_count": 1244,
   "outputs": [
    {
     "name": "stdout",
     "output_type": "stream",
     "text": [
      "RMSLE: 0.10128085928283345\n",
      "RMSLE: 0.1271962737052869\n"
     ]
    }
   ],
   "source": [
    "evaluate(cat_model, X_train, y_train)\n",
    "evaluate(cat_model, X_test, y_test)\n"
   ],
   "metadata": {
    "collapsed": false,
    "pycharm": {
     "name": "#%%\n"
    }
   }
  },
  {
   "cell_type": "markdown",
   "source": [
    "## Конвертим данные под lgb"
   ],
   "metadata": {
    "collapsed": false,
    "pycharm": {
     "name": "#%% md\n"
    }
   }
  },
  {
   "cell_type": "code",
   "execution_count": 1245,
   "outputs": [],
   "source": [
    "def to_categorical(X):\n",
    "    for c in X.columns:\n",
    "        col_type = X[c].dtype\n",
    "        if col_type == 'object' or col_type.name == 'category':\n",
    "            X[c] = X[c].astype('category')\n"
   ],
   "metadata": {
    "collapsed": false,
    "pycharm": {
     "name": "#%%\n"
    }
   }
  },
  {
   "cell_type": "code",
   "execution_count": 1246,
   "outputs": [],
   "source": [
    "#to_categorical(X_train)\n",
    "#to_categorical(X_test)"
   ],
   "metadata": {
    "collapsed": false,
    "pycharm": {
     "name": "#%%\n"
    }
   }
  },
  {
   "cell_type": "code",
   "execution_count": 1247,
   "outputs": [
    {
     "name": "stdout",
     "output_type": "stream",
     "text": [
      "[LightGBM] [Warning] feature_fraction is set=0.2, colsample_bytree=1.0 will be ignored. Current value: feature_fraction=0.2\n",
      "[LightGBM] [Warning] bagging_fraction is set=0.75, subsample=1.0 will be ignored. Current value: bagging_fraction=0.75\n",
      "[LightGBM] [Warning] bagging_freq is set=5, subsample_freq=0 will be ignored. Current value: bagging_freq=5\n"
     ]
    },
    {
     "data": {
      "text/plain": "LGBMRegressor(bagging_fraction=0.75, bagging_freq=5, bagging_seed=7,\n              feature_fraction=0.2, feature_fraction_seed=7, learning_rate=0.01,\n              max_bin=200, n_estimators=5000, num_leaves=4,\n              objective='regression', verbose=-1)"
     },
     "execution_count": 1247,
     "metadata": {},
     "output_type": "execute_result"
    }
   ],
   "source": [
    "import lightgbm as lgb\n",
    "\n",
    "clf = lgb.LGBMRegressor(objective='regression',\n",
    "                        num_leaves=4,\n",
    "                        learning_rate=0.01,\n",
    "                        n_estimators=5000,\n",
    "                        max_bin=200,\n",
    "                        bagging_fraction=0.75,\n",
    "                        bagging_freq=5,\n",
    "                        bagging_seed=7,\n",
    "                        feature_fraction=0.2,\n",
    "                        feature_fraction_seed=7,\n",
    "                        verbose=-1,)\n",
    "\n",
    "fit_params = {\"early_stopping_rounds\": 20,\n",
    "              \"eval_metric\": 'rmse',\n",
    "              \"eval_set\": [(X_test, y_test)],\n",
    "              'verbose': -1,\n",
    "              #'categorical_feature': cat_features\n",
    "              }\n",
    "clf.fit(X_train, y_train, **fit_params)"
   ],
   "metadata": {
    "collapsed": false,
    "pycharm": {
     "name": "#%%\n"
    }
   }
  },
  {
   "cell_type": "code",
   "execution_count": 1248,
   "outputs": [
    {
     "name": "stdout",
     "output_type": "stream",
     "text": [
      "RMSLE: 0.10385330659157134\n",
      "RMSLE: 0.12311932876755952\n"
     ]
    }
   ],
   "source": [
    "evaluate(clf, X_train, y_train)\n",
    "evaluate(clf, X_test, y_test)"
   ],
   "metadata": {
    "collapsed": false,
    "pycharm": {
     "name": "#%%\n"
    }
   }
  },
  {
   "cell_type": "code",
   "execution_count": 1249,
   "outputs": [],
   "source": [
    "from hyperopt import hp\n",
    "from sklearn.model_selection import cross_val_score\n",
    "from sklearn.model_selection import KFold, StratifiedKFold\n",
    "from sklearn.base import clone\n",
    "from hyperopt import fmin, tpe, hp, anneal, Trials\n",
    "\n",
    "folds = 4\n",
    "shuffle = True\n",
    "\n",
    "random_state = 42\n",
    "\n",
    "def objective(params):\n",
    "    params = {'n_estimators': int(params['n_estimators']),\n",
    "              'max_depth': int(params['max_depth']),\n",
    "              'learning_rate': params['learning_rate'],\n",
    "              'num_leaves': int(params['num_leaves'])}\n",
    "\n",
    "    clf = lgb.LGBMRegressor(random_state=random_state, **params)\n",
    "\n",
    "    kf = KFold(n_splits=folds, shuffle=shuffle)\n",
    "    loss_list = []\n",
    "\n",
    "    for train_index, test_index in kf.split(X_train):\n",
    "        X_train_fold, X_test_fold = X_train.iloc[train_index], X_train.iloc[test_index]\n",
    "        y_train_fold, y_test_fold = y_train.iloc[train_index], y_train.iloc[test_index]\n",
    "\n",
    "        clf_fold = clone(clf)\n",
    "        clf_fold.fit(X_train_fold, y_train_fold, **fit_params)\n",
    "\n",
    "        prediction = clf_fold.predict(X_test_fold)\n",
    "        loss = rmsle(prediction, y_test_fold)\n",
    "        loss_list.append(loss)\n",
    "\n",
    "    score = np.mean(loss_list)\n",
    "\n",
    "    #print(\"{:.3f} params {}\".format(score, params))\n",
    "    return score"
   ],
   "metadata": {
    "collapsed": false,
    "pycharm": {
     "name": "#%%\n"
    }
   }
  },
  {
   "cell_type": "code",
   "execution_count": 1250,
   "outputs": [
    {
     "name": "stdout",
     "output_type": "stream",
     "text": [
      "100%|██████████| 100/100 [00:57<00:00,  1.75trial/s, best loss: 0.13118749655016557]\n",
      "best {'learning_rate': 0.09061857284329498, 'max_depth': 17.0, 'n_estimators': 5709.0, 'num_leaves': 13.0}\n"
     ]
    }
   ],
   "source": [
    "space={'n_estimators': hp.quniform('n_estimators', 100, 10000, 1),\n",
    "       'max_depth' : hp.quniform('max_depth', 2, 30, 1),\n",
    "       'num_leaves' : hp.quniform('num_leaves', 2, 40, 1),\n",
    "       'learning_rate': hp.loguniform('learning_rate', -5, 0)\n",
    "       }\n",
    "trials = Trials()\n",
    "\n",
    "best=fmin(fn=objective, # function to optimize\n",
    "          space=space,\n",
    "          algo=tpe.suggest, # optimization algorithm, hyperotp will select its parameters automatically\n",
    "          max_evals=100, # maximum number of iterations\n",
    "          trials=trials, # logging\n",
    "          rstate = np.random.default_rng(random_state) # fixing random state for the reproducibility\n",
    "          )\n",
    "\n",
    "print(\"best {}\".format(best))"
   ],
   "metadata": {
    "collapsed": false,
    "pycharm": {
     "name": "#%%\n"
    }
   }
  },
  {
   "cell_type": "code",
   "execution_count": 1251,
   "outputs": [
    {
     "name": "stdout",
     "output_type": "stream",
     "text": [
      "RMSLE: 0.06691436984635571\n",
      "RMSLE: 0.12865131838597968\n"
     ]
    }
   ],
   "source": [
    "lbg_model = lgb.LGBMRegressor(random_state=random_state, n_estimators=int(best['n_estimators']),\n",
    "                      max_depth=int(best['max_depth']), learning_rate=best['learning_rate'], num_leaves = int(best['num_leaves']))\n",
    "lbg_model.fit(X_train, y_train, **fit_params)\n",
    "\n",
    "evaluate(lbg_model, X_train, y_train)\n",
    "evaluate(lbg_model, X_test, y_test)"
   ],
   "metadata": {
    "collapsed": false,
    "pycharm": {
     "name": "#%%\n"
    }
   }
  },
  {
   "cell_type": "code",
   "execution_count": 1252,
   "outputs": [
    {
     "name": "stdout",
     "output_type": "stream",
     "text": [
      "RMSLE: 0.004808074919440381\n",
      "RMSLE: 0.11357736106398501\n"
     ]
    }
   ],
   "source": [
    "xgb_model = xgb.XGBRegressor(\n",
    "    colsample_bytree=1.,\n",
    "    eta=0.01,\n",
    "    max_depth=4,\n",
    "    min_child_weight=1.5,\n",
    "    n_estimators=14400,\n",
    "    alpha=0.,\n",
    "    reg_lambda=0.4,\n",
    "    subsample=0.2)\n",
    "\n",
    "xgb_model.fit(X_train, y_train, verbose=False)\n",
    "\n",
    "evaluate(xgb_model, X_train, y_train)\n",
    "evaluate(xgb_model, X_test, y_test)"
   ],
   "metadata": {
    "collapsed": false,
    "pycharm": {
     "name": "#%%\n"
    }
   }
  },
  {
   "cell_type": "code",
   "execution_count": 1253,
   "outputs": [
    {
     "name": "stdout",
     "output_type": "stream",
     "text": [
      "RMSLE: 0.01833114014093808\n",
      "RMSLE: 0.11179564115888274\n",
      "RMSLE sub: 0.13576510605339312\n"
     ]
    }
   ],
   "source": [
    "def predict_blend(X):\n",
    "    return 0.1 * lbg_model.predict(X) + 0.1 * cat_model.predict(X) + 0.8 * xgb_model.predict(X)\n",
    "\n",
    "predictions = predict_blend(X_train)\n",
    "print(\"RMSLE: \" + str(rmsle(predictions, y_train)))\n",
    "\n",
    "predictions = predict_blend(X_test)\n",
    "print(\"RMSLE: \" + str(rmsle(predictions, y_test)))\n",
    "\n",
    "print(\"RMSLE sub: \" + str(rmsle(predict_blend(validation), np.log1p(cheat[\"SalePrice\"]))))"
   ],
   "metadata": {
    "collapsed": false,
    "pycharm": {
     "name": "#%%\n"
    }
   }
  },
  {
   "cell_type": "markdown",
   "source": [
    "### где мы косячим"
   ],
   "metadata": {
    "collapsed": false,
    "pycharm": {
     "name": "#%% md\n"
    }
   }
  },
  {
   "cell_type": "code",
   "execution_count": 1254,
   "outputs": [
    {
     "data": {
      "text/plain": "[<matplotlib.lines.Line2D at 0x1e7a76f3e88>]"
     },
     "execution_count": 1254,
     "metadata": {},
     "output_type": "execute_result"
    },
    {
     "data": {
      "text/plain": "<Figure size 432x288 with 1 Axes>",
      "image/png": "[encoded data removed]"
     },
     "metadata": {},
     "output_type": "display_data"
    }
   ],
   "source": [
    "differences = np.abs((np.expm1(predict_blend(X_test)) - np.expm1(y_test)))\n",
    "\n",
    "outliers_ids = np.where(differences > 60000)[0]\n",
    "plt.plot(differences.values)"
   ],
   "metadata": {
    "collapsed": false,
    "pycharm": {
     "name": "#%%\n"
    }
   }
  },
  {
   "cell_type": "code",
   "execution_count": 1255,
   "outputs": [
    {
     "data": {
      "text/plain": "   MSSubClass  LotFrontage       LotArea  OverallQual  OverallCond  \\\n0   57.080825    70.390852  10162.478934     6.090284     5.552021   \n\n     YearBuilt  YearRemodAdd  MasVnrArea  BsmtFinSF1  BsmtFinSF2  ...  \\\n0  1970.932932   1984.466896  105.968939  440.768702   43.296647  ...   \n\n   GarageArea  WoodDeckSF  OpenPorchSF  EnclosedPorch  3SsnPorch  ScreenPorch  \\\n0  471.858126   90.650903    46.764402      22.815993   3.251935    14.585555   \n\n   PoolArea    MiscVal    MoSold       YrSold  \n0  3.050731  46.624248  6.329321  2007.818573  \n\n[1 rows x 36 columns]",
      "text/html": "<div>\n<style scoped>\n    .dataframe tbody tr th:only-of-type {\n        vertical-align: middle;\n    }\n\n    .dataframe tbody tr th {\n        vertical-align: top;\n    }\n\n    .dataframe thead th {\n        text-align: right;\n    }\n</style>\n<table border=\"1\" class=\"dataframe\">\n  <thead>\n    <tr style=\"text-align: right;\">\n      <th></th>\n      <th>MSSubClass</th>\n      <th>LotFrontage</th>\n      <th>LotArea</th>\n      <th>OverallQual</th>\n      <th>OverallCond</th>\n      <th>YearBuilt</th>\n      <th>YearRemodAdd</th>\n      <th>MasVnrArea</th>\n      <th>BsmtFinSF1</th>\n      <th>BsmtFinSF2</th>\n      <th>...</th>\n      <th>GarageArea</th>\n      <th>WoodDeckSF</th>\n      <th>OpenPorchSF</th>\n      <th>EnclosedPorch</th>\n      <th>3SsnPorch</th>\n      <th>ScreenPorch</th>\n      <th>PoolArea</th>\n      <th>MiscVal</th>\n      <th>MoSold</th>\n      <th>YrSold</th>\n    </tr>\n  </thead>\n  <tbody>\n    <tr>\n      <th>0</th>\n      <td>57.080825</td>\n      <td>70.390852</td>\n      <td>10162.478934</td>\n      <td>6.090284</td>\n      <td>5.552021</td>\n      <td>1970.932932</td>\n      <td>1984.466896</td>\n      <td>105.968939</td>\n      <td>440.768702</td>\n      <td>43.296647</td>\n      <td>...</td>\n      <td>471.858126</td>\n      <td>90.650903</td>\n      <td>46.764402</td>\n      <td>22.815993</td>\n      <td>3.251935</td>\n      <td>14.585555</td>\n      <td>3.050731</td>\n      <td>46.624248</td>\n      <td>6.329321</td>\n      <td>2007.818573</td>\n    </tr>\n  </tbody>\n</table>\n<p>1 rows × 36 columns</p>\n</div>"
     },
     "execution_count": 1255,
     "metadata": {},
     "output_type": "execute_result"
    }
   ],
   "source": [
    "num_candidates = list(X.dtypes[X.dtypes != \"object\"].index.values)\n",
    "\n",
    "outliers_data = X_train_orig.iloc[outliers_ids][num_candidates]\n",
    "df = pd.DataFrame(data=X_train_orig[num_candidates].mean())\n",
    "#df.T.head()\n",
    "df.T\n",
    "#sns.displot(outliers_data['LotFrontage'])"
   ],
   "metadata": {
    "collapsed": false,
    "pycharm": {
     "name": "#%%\n"
    }
   }
  },
  {
   "cell_type": "code",
   "execution_count": 1256,
   "outputs": [
    {
     "data": {
      "text/plain": "     MSSubClass  LotFrontage  LotArea  OverallQual  OverallCond  YearBuilt  \\\n783          85          NaN     9101            5            6       1978   \n413          30         56.0     8960            5            6       1927   \n934          20        313.0    27650            7            7       1960   \n171          20        141.0    31770            6            5       1960   \n128          60         69.0     7590            6            5       1966   \n422          20        100.0    21750            5            5       1954   \n\n     YearRemodAdd  MasVnrArea  BsmtFinSF1  BsmtFinSF2  ...  GarageArea  \\\n783          1978       104.0        1097           0  ...         602   \n413          1950         0.0           0           0  ...         360   \n934          2007         0.0         425           0  ...         505   \n171          1960       112.0         639           0  ...         528   \n128          1966       266.0         512           0  ...         453   \n422          1954         0.0           0           0  ...         520   \n\n     WoodDeckSF  OpenPorchSF  EnclosedPorch  3SsnPorch  ScreenPorch  PoolArea  \\\n783         303           30              0          0            0         0   \n413           0            0            130          0            0         0   \n934           0            0              0          0            0         0   \n171         210           62              0          0            0         0   \n128         188          108              0          0            0         0   \n422           0            0              0          0            0         0   \n\n     MiscVal  MoSold  YrSold  \n783        0       7    2009  \n413        0       3    2010  \n934        0      11    2008  \n171        0       5    2010  \n128        0       7    2006  \n422        0       2    2008  \n\n[6 rows x 36 columns]",
      "text/html": "<div>\n<style scoped>\n    .dataframe tbody tr th:only-of-type {\n        vertical-align: middle;\n    }\n\n    .dataframe tbody tr th {\n        vertical-align: top;\n    }\n\n    .dataframe thead th {\n        text-align: right;\n    }\n</style>\n<table border=\"1\" class=\"dataframe\">\n  <thead>\n    <tr style=\"text-align: right;\">\n      <th></th>\n      <th>MSSubClass</th>\n      <th>LotFrontage</th>\n      <th>LotArea</th>\n      <th>OverallQual</th>\n      <th>OverallCond</th>\n      <th>YearBuilt</th>\n      <th>YearRemodAdd</th>\n      <th>MasVnrArea</th>\n      <th>BsmtFinSF1</th>\n      <th>BsmtFinSF2</th>\n      <th>...</th>\n      <th>GarageArea</th>\n      <th>WoodDeckSF</th>\n      <th>OpenPorchSF</th>\n      <th>EnclosedPorch</th>\n      <th>3SsnPorch</th>\n      <th>ScreenPorch</th>\n      <th>PoolArea</th>\n      <th>MiscVal</th>\n      <th>MoSold</th>\n      <th>YrSold</th>\n    </tr>\n  </thead>\n  <tbody>\n    <tr>\n      <th>783</th>\n      <td>85</td>\n      <td>NaN</td>\n      <td>9101</td>\n      <td>5</td>\n      <td>6</td>\n      <td>1978</td>\n      <td>1978</td>\n      <td>104.0</td>\n      <td>1097</td>\n      <td>0</td>\n      <td>...</td>\n      <td>602</td>\n      <td>303</td>\n      <td>30</td>\n      <td>0</td>\n      <td>0</td>\n      <td>0</td>\n      <td>0</td>\n      <td>0</td>\n      <td>7</td>\n      <td>2009</td>\n    </tr>\n    <tr>\n      <th>413</th>\n      <td>30</td>\n      <td>56.0</td>\n      <td>8960</td>\n      <td>5</td>\n      <td>6</td>\n      <td>1927</td>\n      <td>1950</td>\n      <td>0.0</td>\n      <td>0</td>\n      <td>0</td>\n      <td>...</td>\n      <td>360</td>\n      <td>0</td>\n      <td>0</td>\n      <td>130</td>\n      <td>0</td>\n      <td>0</td>\n      <td>0</td>\n      <td>0</td>\n      <td>3</td>\n      <td>2010</td>\n    </tr>\n    <tr>\n      <th>934</th>\n      <td>20</td>\n      <td>313.0</td>\n      <td>27650</td>\n      <td>7</td>\n      <td>7</td>\n      <td>1960</td>\n      <td>2007</td>\n      <td>0.0</td>\n      <td>425</td>\n      <td>0</td>\n      <td>...</td>\n      <td>505</td>\n      <td>0</td>\n      <td>0</td>\n      <td>0</td>\n      <td>0</td>\n      <td>0</td>\n      <td>0</td>\n      <td>0</td>\n      <td>11</td>\n      <td>2008</td>\n    </tr>\n    <tr>\n      <th>171</th>\n      <td>20</td>\n      <td>141.0</td>\n      <td>31770</td>\n      <td>6</td>\n      <td>5</td>\n      <td>1960</td>\n      <td>1960</td>\n      <td>112.0</td>\n      <td>639</td>\n      <td>0</td>\n      <td>...</td>\n      <td>528</td>\n      <td>210</td>\n      <td>62</td>\n      <td>0</td>\n      <td>0</td>\n      <td>0</td>\n      <td>0</td>\n      <td>0</td>\n      <td>5</td>\n      <td>2010</td>\n    </tr>\n    <tr>\n      <th>128</th>\n      <td>60</td>\n      <td>69.0</td>\n      <td>7590</td>\n      <td>6</td>\n      <td>5</td>\n      <td>1966</td>\n      <td>1966</td>\n      <td>266.0</td>\n      <td>512</td>\n      <td>0</td>\n      <td>...</td>\n      <td>453</td>\n      <td>188</td>\n      <td>108</td>\n      <td>0</td>\n      <td>0</td>\n      <td>0</td>\n      <td>0</td>\n      <td>0</td>\n      <td>7</td>\n      <td>2006</td>\n    </tr>\n    <tr>\n      <th>422</th>\n      <td>20</td>\n      <td>100.0</td>\n      <td>21750</td>\n      <td>5</td>\n      <td>5</td>\n      <td>1954</td>\n      <td>1954</td>\n      <td>0.0</td>\n      <td>0</td>\n      <td>0</td>\n      <td>...</td>\n      <td>520</td>\n      <td>0</td>\n      <td>0</td>\n      <td>0</td>\n      <td>0</td>\n      <td>0</td>\n      <td>0</td>\n      <td>0</td>\n      <td>2</td>\n      <td>2008</td>\n    </tr>\n  </tbody>\n</table>\n<p>6 rows × 36 columns</p>\n</div>"
     },
     "execution_count": 1256,
     "metadata": {},
     "output_type": "execute_result"
    }
   ],
   "source": [
    "outliers_data"
   ],
   "metadata": {
    "collapsed": false,
    "pycharm": {
     "name": "#%%\n"
    }
   }
  },
  {
   "cell_type": "markdown",
   "source": [
    "### Full dataset & submit"
   ],
   "metadata": {
    "collapsed": false,
    "pycharm": {
     "name": "#%% md\n"
    }
   }
  },
  {
   "cell_type": "code",
   "execution_count": 1299,
   "outputs": [
    {
     "name": "stdout",
     "output_type": "stream",
     "text": [
      "(1460, 23) (1460, 342)\n"
     ]
    }
   ],
   "source": [
    "data = pd.read_csv(\"./train.csv\")\n",
    "data = data.drop(columns=[\"Id\"])\n",
    "\n",
    "#data = remove_outliers(data)\n",
    "\n",
    "y = np.log1p(data[\"SalePrice\"])\n",
    "X = data.drop(columns=[\"SalePrice\"])\n",
    "\n",
    "transformer = DataTransformer(StandardScaler())\n",
    "X = transformer.prepare(X)\n",
    "\n",
    "transformer.fit(X)\n",
    "\n",
    "X = transformer.transform(X)"
   ],
   "metadata": {
    "collapsed": false,
    "pycharm": {
     "name": "#%%\n"
    }
   }
  },
  {
   "cell_type": "code",
   "execution_count": 1300,
   "outputs": [
    {
     "name": "stdout",
     "output_type": "stream",
     "text": [
      "(1459, 23) (1459, 342)\n"
     ]
    }
   ],
   "source": [
    "validation = pd.read_csv(\"./test.csv\")\n",
    "val_ids = validation[\"Id\"]\n",
    "validation = validation.drop(columns=[\"Id\"])\n",
    "\n",
    "validation = transformer.prepare(validation)\n",
    "\n",
    "validation = transformer.transform(validation)"
   ],
   "metadata": {
    "collapsed": false,
    "pycharm": {
     "name": "#%%\n"
    }
   }
  },
  {
   "cell_type": "code",
   "execution_count": 1279,
   "outputs": [],
   "source": [
    "#to_categorical(X)\n",
    "#to_categorical(validation)\n"
   ],
   "metadata": {
    "collapsed": false,
    "pycharm": {
     "name": "#%%\n"
    }
   }
  },
  {
   "cell_type": "code",
   "execution_count": 1280,
   "outputs": [
    {
     "name": "stdout",
     "output_type": "stream",
     "text": [
      "RMSLE: 9.76679802624231e-05\n",
      "RMSLE sub: 0.1349601751806444\n"
     ]
    }
   ],
   "source": [
    "fit_params = {\n",
    "              \"eval_metric\": 'rmse',\n",
    "              'verbose': -1,\n",
    "              #'categorical_feature': cat_features\n",
    "              }\n",
    "lbg_model = lgb.LGBMRegressor(random_state=random_state, n_estimators=int(best['n_estimators']),\n",
    "                              max_depth=int(best['max_depth']), learning_rate=best['learning_rate'], num_leaves = int(best['num_leaves']))\n",
    "lbg_model.fit(X, y, **fit_params)\n",
    "\n",
    "predictions = lbg_model.predict(X)\n",
    "print(\"RMSLE: \" + str(rmsle(predictions, y)))\n",
    "\n",
    "cheat_score(lbg_model)"
   ],
   "metadata": {
    "collapsed": false,
    "pycharm": {
     "name": "#%%\n"
    }
   }
  },
  {
   "cell_type": "code",
   "execution_count": 1281,
   "outputs": [
    {
     "name": "stdout",
     "output_type": "stream",
     "text": [
      "RMSLE: 0.06669332604267621\n",
      "RMSLE sub: 0.13496761506078175\n",
      "Wall time: 2min 1s\n"
     ]
    }
   ],
   "source": [
    "%%time\n",
    "\n",
    "cat_features = np.where(X.loc[:, X.columns.values].dtypes == \"object\")[0]\n",
    "train_pool = Pool(X, y, cat_features=cat_features)\n",
    "\n",
    "cat_model = CatBoostRegressor(iterations=10000, task_type=\"GPU\", devices='0:1')\n",
    "cat_model.fit(train_pool, verbose=0, plot=False)\n",
    "\n",
    "predictions = cat_model.predict(X)\n",
    "print(\"RMSLE: \" + str(rmsle(predictions, y)))\n",
    "\n",
    "cheat_score(cat_model)"
   ],
   "metadata": {
    "collapsed": false,
    "pycharm": {
     "name": "#%%\n"
    }
   }
  },
  {
   "cell_type": "code",
   "execution_count": 1282,
   "outputs": [
    {
     "name": "stdout",
     "output_type": "stream",
     "text": [
      "RMSLE: 0.00792294912043575\n",
      "RMSLE sub: 0.13603994105209535\n"
     ]
    }
   ],
   "source": [
    "xgb_model = xgb.XGBRegressor(\n",
    "    colsample_bytree=1.,\n",
    "    eta=0.01,\n",
    "    max_depth=4,\n",
    "    min_child_weight=1.5,\n",
    "    n_estimators=14400,\n",
    "    alpha=0.,\n",
    "    reg_lambda=0.4,\n",
    "    subsample=0.2)\n",
    "\n",
    "xgb_model.fit(X, y, verbose=False)\n",
    "\n",
    "predictions = xgb_model.predict(X)\n",
    "print(\"RMSLE: \" + str(rmsle(predictions, y)))\n",
    "cheat_score(xgb_model)"
   ],
   "metadata": {
    "collapsed": false,
    "pycharm": {
     "name": "#%%\n"
    }
   }
  },
  {
   "cell_type": "code",
   "execution_count": 1330,
   "outputs": [],
   "source": [
    "def predict_blend(X):\n",
    "    return 0.1 * lbg_model.predict(X) + 0.1 * cat_model.predict(X) + 0.8 * xgb_model.predict(X)"
   ],
   "metadata": {
    "collapsed": false,
    "pycharm": {
     "name": "#%%\n"
    }
   }
  },
  {
   "cell_type": "code",
   "execution_count": 1331,
   "outputs": [
    {
     "name": "stdout",
     "output_type": "stream",
     "text": [
      "RMSLE: 0.011633915778626484\n"
     ]
    }
   ],
   "source": [
    "predictions = predict_blend(X)\n",
    "print(\"RMSLE: \" + str(rmsle(predictions, y)))"
   ],
   "metadata": {
    "collapsed": false,
    "pycharm": {
     "name": "#%%\n"
    }
   }
  },
  {
   "cell_type": "code",
   "execution_count": 1332,
   "outputs": [
    {
     "data": {
      "text/plain": "<seaborn.axisgrid.FacetGrid at 0x1e7b6599508>"
     },
     "execution_count": 1332,
     "metadata": {},
     "output_type": "execute_result"
    },
    {
     "data": {
      "text/plain": "<Figure size 360x360 with 1 Axes>",
      "image/png": "[encoded data removed]"
     },
     "metadata": {},
     "output_type": "display_data"
    }
   ],
   "source": [
    "submission = predict_blend(validation)\n",
    "sns.displot( np.expm1(submission))"
   ],
   "metadata": {
    "collapsed": false,
    "pycharm": {
     "name": "#%%\n"
    }
   }
  },
  {
   "cell_type": "code",
   "execution_count": 1333,
   "outputs": [
    {
     "data": {
      "text/plain": "<seaborn.axisgrid.FacetGrid at 0x1e7b6b96ec8>"
     },
     "execution_count": 1333,
     "metadata": {},
     "output_type": "execute_result"
    },
    {
     "data": {
      "text/plain": "<Figure size 360x360 with 1 Axes>",
      "image/png": "[encoded data removed]"
     },
     "metadata": {},
     "output_type": "display_data"
    }
   ],
   "source": [
    "sns.displot(cheat[\"SalePrice\"])"
   ],
   "metadata": {
    "collapsed": false,
    "pycharm": {
     "name": "#%%\n"
    }
   }
  },
  {
   "cell_type": "code",
   "execution_count": 1334,
   "outputs": [
    {
     "data": {
      "text/plain": "        Id      SalePrice\n0     1461  135123.684761\n1     1462  165513.556057\n2     1463  193636.760153\n3     1464  196256.648382\n4     1465  182042.473585\n...    ...            ...\n1454  2915   80384.217252\n1455  2916   79210.040866\n1456  2917  162778.084164\n1457  2918  113112.571090\n1458  2919  207984.813590\n\n[1459 rows x 2 columns]",
      "text/html": "<div>\n<style scoped>\n    .dataframe tbody tr th:only-of-type {\n        vertical-align: middle;\n    }\n\n    .dataframe tbody tr th {\n        vertical-align: top;\n    }\n\n    .dataframe thead th {\n        text-align: right;\n    }\n</style>\n<table border=\"1\" class=\"dataframe\">\n  <thead>\n    <tr style=\"text-align: right;\">\n      <th></th>\n      <th>Id</th>\n      <th>SalePrice</th>\n    </tr>\n  </thead>\n  <tbody>\n    <tr>\n      <th>0</th>\n      <td>1461</td>\n      <td>135123.684761</td>\n    </tr>\n    <tr>\n      <th>1</th>\n      <td>1462</td>\n      <td>165513.556057</td>\n    </tr>\n    <tr>\n      <th>2</th>\n      <td>1463</td>\n      <td>193636.760153</td>\n    </tr>\n    <tr>\n      <th>3</th>\n      <td>1464</td>\n      <td>196256.648382</td>\n    </tr>\n    <tr>\n      <th>4</th>\n      <td>1465</td>\n      <td>182042.473585</td>\n    </tr>\n    <tr>\n      <th>...</th>\n      <td>...</td>\n      <td>...</td>\n    </tr>\n    <tr>\n      <th>1454</th>\n      <td>2915</td>\n      <td>80384.217252</td>\n    </tr>\n    <tr>\n      <th>1455</th>\n      <td>2916</td>\n      <td>79210.040866</td>\n    </tr>\n    <tr>\n      <th>1456</th>\n      <td>2917</td>\n      <td>162778.084164</td>\n    </tr>\n    <tr>\n      <th>1457</th>\n      <td>2918</td>\n      <td>113112.571090</td>\n    </tr>\n    <tr>\n      <th>1458</th>\n      <td>2919</td>\n      <td>207984.813590</td>\n    </tr>\n  </tbody>\n</table>\n<p>1459 rows × 2 columns</p>\n</div>"
     },
     "execution_count": 1334,
     "metadata": {},
     "output_type": "execute_result"
    }
   ],
   "source": [
    "d = {'Id': val_ids.to_numpy(), 'SalePrice':  np.expm1(submission)}\n",
    "df = pd.DataFrame(data=d)\n",
    "df"
   ],
   "metadata": {
    "collapsed": false,
    "pycharm": {
     "name": "#%%\n"
    }
   }
  },
  {
   "cell_type": "code",
   "execution_count": 1335,
   "outputs": [],
   "source": [
    "df.to_csv('submission.csv', index=False)"
   ],
   "metadata": {
    "collapsed": false,
    "pycharm": {
     "name": "#%%\n"
    }
   }
  },
  {
   "cell_type": "code",
   "execution_count": 1336,
   "outputs": [
    {
     "name": "stdout",
     "output_type": "stream",
     "text": [
      "RMSLE: 0.1333949585272273\n"
     ]
    },
    {
     "data": {
      "text/plain": "<Figure size 432x288 with 1 Axes>",
      "image/png": "[encoded data removed]"
     },
     "metadata": {},
     "output_type": "display_data"
    }
   ],
   "source": [
    "print(\"RMSLE: \" + str(rmsle(submission, np.log1p(cheat[\"SalePrice\"]))))\n",
    "\n",
    "plt.plot(np.abs(cheat[\"SalePrice\"].to_numpy() - df[\"SalePrice\"].to_numpy()))\n",
    "plt.show()"
   ],
   "metadata": {
    "collapsed": false,
    "pycharm": {
     "name": "#%%\n"
    }
   }
  },
  {
   "cell_type": "code",
   "execution_count": 1348,
   "outputs": [],
   "source": [],
   "metadata": {
    "collapsed": false,
    "pycharm": {
     "name": "#%%\n"
    }
   }
  },
  {
   "cell_type": "code",
   "execution_count": 1269,
   "outputs": [],
   "source": [],
   "metadata": {
    "collapsed": false,
    "pycharm": {
     "name": "#%%\n"
    }
   }
  },
  {
   "cell_type": "code",
   "execution_count": 1269,
   "outputs": [],
   "source": [],
   "metadata": {
    "collapsed": false,
    "pycharm": {
     "name": "#%%\n"
    }
   }
  },
  {
   "cell_type": "code",
   "execution_count": null,
   "outputs": [],
   "source": [],
   "metadata": {
    "collapsed": false,
    "pycharm": {
     "name": "#%%\n"
    }
   }
  }
 ],
 "metadata": {
  "kernelspec": {
   "display_name": "Python 3",
   "language": "python",
   "name": "python3"
  },
  "language_info": {
   "codemirror_mode": {
    "name": "ipython",
    "version": 2
   },
   "file_extension": ".py",
   "mimetype": "text/x-python",
   "name": "python",
   "nbconvert_exporter": "python",
   "pygments_lexer": "ipython2",
   "version": "2.7.6"
  }
 },
 "nbformat": 4,
 "nbformat_minor": 0
}