{
 "cells": [
  {
   "cell_type": "code",
   "execution_count": 129,
   "metadata": {
    "collapsed": true
   },
   "outputs": [
    {
     "name": "stderr",
     "output_type": "stream",
     "text": [
      "UsageError: Line magic function `%` not found.\n"
     ]
    }
   ],
   "source": [
    "import matplotlib.pyplot as plt\n",
    "import seaborn as sns\n",
    "import pandas as pd\n",
    "import numpy as np\n",
    "import warnings\n",
    "from sklearn.model_selection import train_test_split\n",
    "import xgboost as xgb\n",
    "from sklearn.preprocessing import OneHotEncoder\n",
    "from sklearn.model_selection import GridSearchCV\n",
    "from sklearn.model_selection import cross_val_score\n",
    "from sklearn import metrics\n",
    "from xgboost import XGBRegressor\n",
    "\n",
    "from data_processing import *\n",
    "from sklearn.preprocessing import MinMaxScaler\n",
    "from sklearn.impute import SimpleImputer\n",
    "from sklearn.preprocessing import StandardScaler\n",
    "from sklearn.ensemble import RandomForestRegressor\n",
    "from data_transformar import *\n",
    "import lightgbm as lgb\n",
    "from sklearn.decomposition import PCA\n",
    "from catboost import CatBoostRegressor, Pool\n",
    "from xgboost import XGBRegressor\n",
    "\n",
    "warnings.simplefilter(\"ignore\")\n",
    "% matplotlib inline\n",
    "% load_ext autoreload\n",
    "% autoreload 2\n",
    "\n",
    "sns.set(style=\"darkgrid\")"
   ]
  },
  {
   "cell_type": "code",
   "execution_count": 92,
   "outputs": [],
   "source": [
    "from sklearn.metrics import mean_squared_error\n",
    "\n",
    "answers = pd.read_csv(\"./result-with-best.csv\")\n",
    "\n",
    "\n",
    "def rmsle(y, y_pred):\n",
    "    return np.sqrt(mean_squared_error(y, y_pred))\n",
    "\n",
    "\n",
    "def answers_score(model):\n",
    "    print(\"RMSLE sub: \" + str(rmsle(model.predict(validation), np.log1p(answers[\"SalePrice\"]))))\n",
    "\n",
    "\n",
    "def evaluate(model, X, y):\n",
    "    preds = model.predict(X)\n",
    "    print(\"RMSLE: \" + str(rmsle(preds, y)))\n",
    "\n",
    "\n",
    "def to_categorical(X):\n",
    "    for c in X.columns:\n",
    "        col_type = X[c].dtype\n",
    "        if col_type == 'object' or col_type.name == 'category':\n",
    "            X[c] = X[c].astype('category')"
   ],
   "metadata": {
    "collapsed": false,
    "pycharm": {
     "name": "#%%\n"
    }
   }
  },
  {
   "cell_type": "code",
   "execution_count": 144,
   "outputs": [],
   "source": [
    "data = pd.read_csv(\"./train.csv\")\n",
    "data = data.drop(columns=[\"Id\"])\n",
    "#data = remove_outliers(data)"
   ],
   "metadata": {
    "collapsed": false,
    "pycharm": {
     "name": "#%%\n"
    }
   }
  },
  {
   "cell_type": "code",
   "execution_count": 145,
   "outputs": [],
   "source": [
    "y = np.log1p(data[\"SalePrice\"])\n",
    "X = data.drop(columns=[\"SalePrice\"])"
   ],
   "metadata": {
    "collapsed": false,
    "pycharm": {
     "name": "#%%\n"
    }
   }
  },
  {
   "cell_type": "code",
   "execution_count": 146,
   "outputs": [],
   "source": [
    "transformer = DataTransformer()\n",
    "X_encoded = transformer.fit_transform(X, True)\n",
    "X_cat = transformer.fit_transform(X, False)\n",
    "to_categorical(X_cat)\n",
    "cat_features = list(X_cat.select_dtypes(include=['category']).columns)\n",
    "\n",
    "validation = pd.read_csv(\"./test.csv\")\n",
    "val_ids = validation[\"Id\"]\n",
    "validation = validation.drop(columns=[\"Id\"])\n",
    "\n",
    "val_encoded = transformer.fit_transform(validation, True)\n",
    "val_cat = transformer.fit_transform(validation, False)\n",
    "to_categorical(val_cat)"
   ],
   "metadata": {
    "collapsed": false,
    "pycharm": {
     "name": "#%%\n"
    }
   }
  },
  {
   "cell_type": "code",
   "execution_count": 147,
   "outputs": [
    {
     "name": "stdout",
     "output_type": "stream",
     "text": [
      "RMSLE: 0.1228518431429536\n"
     ]
    }
   ],
   "source": [
    "xgb_params = {'lambda': 11.946656615633028,\n",
    "              'learning_rate': 0.002119415669803155,\n",
    "              'max_depth': 863,\n",
    "              'n_estimators': 30000,\n",
    "              'subsample': 0.1382402507540342}\n",
    "\n",
    "xgb_model = XGBRegressor(**xgb_params, seed=0)\n",
    "xgb_model.fit(X_encoded, y)\n",
    "evaluate(xgb_model, val_encoded, np.log1p(answers['SalePrice']))"
   ],
   "metadata": {
    "collapsed": false,
    "pycharm": {
     "name": "#%%\n"
    }
   }
  },
  {
   "cell_type": "code",
   "execution_count": 148,
   "outputs": [
    {
     "name": "stdout",
     "output_type": "stream",
     "text": [
      "RMSLE: 0.060069088919828026\n",
      "RMSLE: 0.12435667527220387\n"
     ]
    }
   ],
   "source": [
    "lgbm_params = {'colsample_bytree': 0.17244191446833482, 'learning_rate': 0.010783153461441895, 'max_depth': 26,\n",
    "               'n_estimators': 3347, 'num_leaves': 28, 'reg_alpha': 0.6690324820643466,\n",
    "               'reg_lambda': 0.013450189775519253, 'subsample': 0.6868741372881852,\n",
    "               'num_iterations': 2000}\n",
    "fit_params = {\n",
    "    \"eval_metric\": 'rmse',\n",
    "    'verbose': -1,\n",
    "    'categorical_feature': cat_features\n",
    "}\n",
    "\n",
    "lgbm_model = lgb.LGBMRegressor(**lgbm_params)\n",
    "lgbm_model.fit(X_cat, y, **fit_params)\n",
    "evaluate(lgbm_model, X_cat, y)\n",
    "evaluate(lgbm_model, val_cat, np.log1p(answers['SalePrice']))"
   ],
   "metadata": {
    "collapsed": false,
    "pycharm": {
     "name": "#%%\n"
    }
   }
  },
  {
   "cell_type": "code",
   "execution_count": 142,
   "outputs": [
    {
     "name": "stdout",
     "output_type": "stream",
     "text": [
      "RMSLE: 0.06943040829366837\n",
      "RMSLE: 0.1261692980946463\n"
     ]
    }
   ],
   "source": [
    "categorical_features = np.where(X_cat.loc[:, X_cat.columns.values].dtypes == \"category\")[0]\n",
    "train_pool = Pool(X_cat, y, cat_features=categorical_features)\n",
    "\n",
    "cat_model = CatBoostRegressor(iterations=400, task_type=\"GPU\",  devices='0:1')\n",
    "cat_model.fit(train_pool, verbose=0, plot=False)\n",
    "\n",
    "evaluate(cat_model, X_cat, y)\n",
    "evaluate(cat_model, val_cat, np.log1p(answers['SalePrice']))"
   ],
   "metadata": {
    "collapsed": false,
    "pycharm": {
     "name": "#%%\n"
    }
   }
  },
  {
   "cell_type": "code",
   "execution_count": 149,
   "outputs": [
    {
     "name": "stdout",
     "output_type": "stream",
     "text": [
      "RMSLE: 0.11959896005429083\n"
     ]
    }
   ],
   "source": [
    "blended_res = 1/3*cat_model.predict(val_cat) + 1/3*lgbm_model.predict(val_cat) + 1/3*xgb_model.predict(val_encoded)\n",
    "print(\"RMSLE: \" + str(rmsle(blended_res, np.log1p(answers['SalePrice']))))"
   ],
   "metadata": {
    "collapsed": false,
    "pycharm": {
     "name": "#%%\n"
    }
   }
  },
  {
   "cell_type": "code",
   "execution_count": 134,
   "outputs": [],
   "source": [
    "save_res(blended_res)"
   ],
   "metadata": {
    "collapsed": false,
    "pycharm": {
     "name": "#%%\n"
    }
   }
  },
  {
   "cell_type": "code",
   "execution_count": null,
   "outputs": [],
   "source": [],
   "metadata": {
    "collapsed": false,
    "pycharm": {
     "name": "#%%\n"
    }
   }
  }
 ],
 "metadata": {
  "kernelspec": {
   "display_name": "Python 3",
   "language": "python",
   "name": "python3"
  },
  "language_info": {
   "codemirror_mode": {
    "name": "ipython",
    "version": 2
   },
   "file_extension": ".py",
   "mimetype": "text/x-python",
   "name": "python",
   "nbconvert_exporter": "python",
   "pygments_lexer": "ipython2",
   "version": "2.7.6"
  }
 },
 "nbformat": 4,
 "nbformat_minor": 0
}