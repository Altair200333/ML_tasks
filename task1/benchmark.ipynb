{
 "cells": [
  {
   "cell_type": "code",
   "execution_count": 34,
   "id": "521189ab",
   "metadata": {},
   "outputs": [
    {
     "name": "stdout",
     "output_type": "stream",
     "text": [
      "The autoreload extension is already loaded. To reload it, use:\n",
      "  %reload_ext autoreload\n"
     ]
    }
   ],
   "source": [
    "import numpy as np\n",
    "import seaborn as sns\n",
    "import matplotlib.pyplot as plt\n",
    "\n",
    "%matplotlib inline\n",
    "\n",
    "%load_ext autoreload\n",
    "%autoreload 2"
   ]
  },
  {
   "cell_type": "code",
   "execution_count": 56,
   "id": "1a7ec283",
   "metadata": {},
   "outputs": [],
   "source": [
    "n = 1000000\n",
    "\n",
    "def run_map(n):\n",
    "    return list(map(lambda x: x**2, np.arange(n)))\n",
    "\n",
    "def run_comprehend(n):\n",
    "    return [x**2 for x in np.arange(n)]\n",
    "\n",
    "def run_for(n):\n",
    "    res = []\n",
    "    for x in np.arange(n):\n",
    "        res.append(x**2)\n",
    "    return res"
   ]
  },
  {
   "cell_type": "code",
   "execution_count": 57,
   "id": "b3f53b0b",
   "metadata": {},
   "outputs": [
    {
     "name": "stdout",
     "output_type": "stream",
     "text": [
      "Wall time: 212 ms\n"
     ]
    }
   ],
   "source": [
    "%%time\n",
    "res = run_map(n)"
   ]
  },
  {
   "cell_type": "code",
   "execution_count": 58,
   "id": "9f1d4df2",
   "metadata": {},
   "outputs": [
    {
     "name": "stdout",
     "output_type": "stream",
     "text": [
      "Wall time: 175 ms\n"
     ]
    }
   ],
   "source": [
    "%%time\n",
    "res = run_comprehend(n)"
   ]
  },
  {
   "cell_type": "code",
   "execution_count": 59,
   "id": "6cd6d3c9",
   "metadata": {},
   "outputs": [
    {
     "name": "stdout",
     "output_type": "stream",
     "text": [
      "Wall time: 201 ms\n"
     ]
    }
   ],
   "source": [
    "%%time\n",
    "res = run_for(n)"
   ]
  },
  {
   "cell_type": "code",
   "execution_count": 60,
   "id": "61a9a96c",
   "metadata": {},
   "outputs": [],
   "source": [
    "from timeit import default_timer as timer\n",
    "\n",
    "def run_bench(runner, runs, n):\n",
    "    measurements = []\n",
    "    for i in range(runs):\n",
    "        start = timer()\n",
    "        res = runner(n)\n",
    "        end = timer()\n",
    "        measurements.append(end - start)\n",
    "    return measurements"
   ]
  },
  {
   "cell_type": "code",
   "execution_count": 61,
   "id": "1ec58f2b",
   "metadata": {},
   "outputs": [],
   "source": [
    "#sns.histplot(data=run_bench(run_map, 200, n))\n",
    "map_times = run_bench(run_map, 500, n)\n",
    "compr_times = run_bench(run_comprehend, 500, n)\n",
    "for_times = run_bench(run_for, 500, n)"
   ]
  },
  {
   "cell_type": "code",
   "execution_count": 62,
   "id": "0debeed5",
   "metadata": {},
   "outputs": [
    {
     "data": {
      "text/plain": [
       "<matplotlib.legend.Legend at 0x14a3ec9a6d0>"
      ]
     },
     "execution_count": 62,
     "metadata": {},
     "output_type": "execute_result"
    },
    {
     "data": {
      "image/png": "[encoded data removed]",
      "text/plain": [
       "<Figure size 432x288 with 1 Axes>"
      ]
     },
     "metadata": {
      "needs_background": "light"
     },
     "output_type": "display_data"
    }
   ],
   "source": [
    "fig, ax = plt.subplots()\n",
    "#sns.histplot(map_times, ax=ax)\n",
    "#sns.histplot(compr_times, ax=ax)\n",
    "#sns.histplot(for_times, ax=ax)\n",
    "plt.hist([map_times, compr_times, for_times], color=['r','b', 'g'], alpha=0.4, label=['map', 'comprehension', 'for'])\n",
    "plt.legend()"
   ]
  },
  {
   "cell_type": "code",
   "execution_count": null,
   "id": "fab7f2a9",
   "metadata": {},
   "outputs": [],
   "source": []
  }
 ],
 "metadata": {
  "kernelspec": {
   "display_name": "Python 3 (ipykernel)",
   "language": "python",
   "name": "python3"
  },
  "language_info": {
   "codemirror_mode": {
    "name": "ipython",
    "version": 3
   },
   "file_extension": ".py",
   "mimetype": "text/x-python",
   "name": "python",
   "nbconvert_exporter": "python",
   "pygments_lexer": "ipython3",
   "version": "3.9.7"
  }
 },
 "nbformat": 4,
 "nbformat_minor": 5
}
