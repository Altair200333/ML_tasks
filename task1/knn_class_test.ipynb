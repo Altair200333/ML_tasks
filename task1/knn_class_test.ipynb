{
 "cells": [
  {
   "cell_type": "code",
   "execution_count": 18,
   "metadata": {},
   "outputs": [
    {
     "name": "stdout",
     "output_type": "stream",
     "text": [
      "The autoreload extension is already loaded. To reload it, use:\n",
      "  %reload_ext autoreload\n"
     ]
    }
   ],
   "source": [
    "from sklearn.datasets import load_iris\n",
    "import matplotlib.pyplot as plt\n",
    "from mpl_toolkits.mplot3d import Axes3D\n",
    "from sklearn import datasets\n",
    "from sklearn.decomposition import PCA\n",
    "from sklearn.model_selection import train_test_split\n",
    "from knn_weights import *\n",
    "from matplotlib.colors import ListedColormap\n",
    "\n",
    "from space_metric import *\n",
    "from knn_plot import *\n",
    "from knn_tests import *\n",
    "from knn_weights import *\n",
    "\n",
    "import matplotlib.pyplot as plt\n",
    "import pandas as pd\n",
    "from sklearn import datasets\n",
    "from pandas.plotting import scatter_matrix\n",
    "import seaborn as sns\n",
    "from knn_classifier_class import *\n",
    "\n",
    "%matplotlib inline\n",
    "\n",
    "%load_ext autoreload\n",
    "%autoreload 2"
   ]
  },
  {
   "cell_type": "code",
   "execution_count": 19,
   "metadata": {},
   "outputs": [],
   "source": [
    "iris = datasets.load_iris()\n",
    "\n",
    "X = iris.data\n",
    "y = iris.target\n",
    "\n",
    "X_train, X_test, y_train, y_test = train_test_split(X, y, test_size=.4, random_state=41)"
   ]
  },
  {
   "cell_type": "code",
   "execution_count": 20,
   "metadata": {},
   "outputs": [],
   "source": [
    "knn_classifier = KnnPowerClassifier(get_dst_metric(2), triangular_window, 100, 30)"
   ]
  },
  {
   "cell_type": "code",
   "execution_count": 21,
   "metadata": {},
   "outputs": [],
   "source": [
    "knn_classifier.fit(X_train, y_train)"
   ]
  },
  {
   "cell_type": "code",
   "execution_count": 22,
   "metadata": {},
   "outputs": [],
   "source": [
    "prediction = knn_classifier.predict(X_test)"
   ]
  },
  {
   "cell_type": "code",
   "execution_count": 23,
   "metadata": {},
   "outputs": [],
   "source": [
    "def test_knn(x_test, y_test):\n",
    "    prediction = knn_classifier.predict(x_test)\n",
    "    accuracy = compute_accuracy(prediction, y_test)\n",
    "    print(accuracy)"
   ]
  },
  {
   "cell_type": "code",
   "execution_count": 24,
   "metadata": {},
   "outputs": [
    {
     "name": "stdout",
     "output_type": "stream",
     "text": [
      "1.0\n",
      "1.0\n"
     ]
    }
   ],
   "source": [
    "test_knn(X_test, y_test)\n",
    "test_knn(X_test, y_test)"
   ]
  },
  {
   "cell_type": "code",
   "execution_count": 25,
   "metadata": {},
   "outputs": [
    {
     "name": "stdout",
     "output_type": "stream",
     "text": [
      "1.0\n",
      "1.0\n"
     ]
    }
   ],
   "source": [
    "knn_classifier = KnnPowerClassifier(get_dst_metric(2), triangular_window, 100, 30)\n",
    "knn_classifier.fit(X_train, y_train)\n",
    "prediction = knn_classifier.predict(X_test)\n",
    "accuracy = compute_accuracy(prediction, y_test)\n",
    "print(accuracy)\n",
    "\n",
    "knn_classifier.reduce()\n",
    "\n",
    "prediction = knn_classifier.predict(X_test)\n",
    "accuracy = compute_accuracy(prediction, y_test)\n",
    "print(accuracy)\n"
   ]
  },
  {
   "cell_type": "code",
   "execution_count": 30,
   "metadata": {},
   "outputs": [
    {
     "name": "stdout",
     "output_type": "stream",
     "text": [
      "1.0\n",
      "1.0\n"
     ]
    }
   ],
   "source": [
    "knn_classifier = KnnPowerClassifier(get_dst_metric(2), triangular_window, 100, 30)\n",
    "knn_classifier.fit(X_train, y_train)\n",
    "prediction = knn_classifier.predict(X_test)\n",
    "accuracy = compute_accuracy(prediction, y_test)\n",
    "print(accuracy)\n",
    "\n",
    "knn_classifier.reduce()\n",
    "\n",
    "prediction = knn_classifier.predict(X_test)\n",
    "accuracy = compute_accuracy(prediction, y_test)\n",
    "print(accuracy)"
   ]
  },
  {
   "cell_type": "code",
   "execution_count": 36,
   "metadata": {},
   "outputs": [],
   "source": [
    "accuracy_no_reduce = []\n",
    "accuracy_reduce = []\n",
    "\n",
    "for i in range(10):\n",
    "    X_shuffled, y_shuffled = shuffle(X_train, y_train)\n",
    "    knn_classifier = KnnPowerClassifier(get_dst_metric(2), triangular_window, 100, 10)\n",
    "    knn_classifier.fit(X_shuffled, y_shuffled)\n",
    "    \n",
    "    prediction = knn_classifier.predict(X_test)\n",
    "    accuracy = compute_accuracy(prediction, y_test)\n",
    "    accuracy_no_reduce.append(accuracy)\n",
    "    \n",
    "    knn_classifier.reduce()\n",
    "\n",
    "    prediction = knn_classifier.predict(X_test)\n",
    "    accuracy = compute_accuracy(prediction, y_test)\n",
    "    accuracy_reduce.append(accuracy)"
   ]
  },
  {
   "cell_type": "code",
   "execution_count": 34,
   "metadata": {},
   "outputs": [
    {
     "data": {
      "image/png": "[encoded data removed]",
      "text/plain": [
       "<Figure size 648x432 with 1 Axes>"
      ]
     },
     "metadata": {
      "needs_background": "light"
     },
     "output_type": "display_data"
    }
   ],
   "source": [
    "plt.rcParams['figure.figsize'] = [9, 6]\n",
    "\n",
    "plt.plot(accuracy_no_reduce, label='no reduce')\n",
    "plt.plot(accuracy_reduce, label='reduce')\n",
    "\n",
    "plt.legend()\n",
    "plt.grid()\n",
    "plt.show()"
   ]
  },
  {
   "cell_type": "code",
   "execution_count": null,
   "metadata": {},
   "outputs": [],
   "source": []
  }
 ],
 "metadata": {
  "interpreter": {
   "hash": "0d083ba42aae9f9d11237e0be732a28f2bf1430ce107b8104c51f88075f06857"
  },
  "kernelspec": {
   "display_name": "Python 3.9.7 64-bit",
   "name": "python3"
  },
  "language_info": {
   "codemirror_mode": {
    "name": "ipython",
    "version": 3
   },
   "file_extension": ".py",
   "mimetype": "text/x-python",
   "name": "python",
   "nbconvert_exporter": "python",
   "pygments_lexer": "ipython3",
   "version": "3.9.7"
  },
  "orig_nbformat": 4
 },
 "nbformat": 4,
 "nbformat_minor": 2
}
