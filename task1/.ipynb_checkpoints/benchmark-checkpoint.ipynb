{
 "cells": [
  {
   "cell_type": "code",
   "execution_count": 34,
   "id": "d493d9dc",
   "metadata": {},
   "outputs": [
    {
     "name": "stdout",
     "output_type": "stream",
     "text": [
      "The autoreload extension is already loaded. To reload it, use:\n",
      "  %reload_ext autoreload\n"
     ]
    }
   ],
   "source": [
    "import numpy as np\n",
    "import seaborn as sns\n",
    "import matplotlib.pyplot as plt\n",
    "\n",
    "%matplotlib inline\n",
    "\n",
    "%load_ext autoreload\n",
    "%autoreload 2"
   ]
  },
  {
   "cell_type": "code",
   "execution_count": 35,
   "id": "b9ec577f",
   "metadata": {},
   "outputs": [],
   "source": [
    "n = 100000\n",
    "\n",
    "def run_map(n):\n",
    "    return list(map(lambda x: x**2, np.arange(n)))\n",
    "\n",
    "def run_comprehend(n):\n",
    "    return [x**2 for x in np.arange(n)]\n",
    "\n",
    "def run_for(n):\n",
    "    res = []\n",
    "    for x in np.arange(n):\n",
    "        res.append(x**2)\n",
    "    return res"
   ]
  },
  {
   "cell_type": "code",
   "execution_count": 36,
   "id": "e8a6d0a4",
   "metadata": {},
   "outputs": [
    {
     "name": "stdout",
     "output_type": "stream",
     "text": [
      "Wall time: 20.9 ms\n"
     ]
    }
   ],
   "source": [
    "%%time\n",
    "res = run_map(n)"
   ]
  },
  {
   "cell_type": "code",
   "execution_count": 37,
   "id": "1db04d4e",
   "metadata": {},
   "outputs": [
    {
     "name": "stdout",
     "output_type": "stream",
     "text": [
      "Wall time: 15 ms\n"
     ]
    }
   ],
   "source": [
    "%%time\n",
    "res = run_comprehend(n)"
   ]
  },
  {
   "cell_type": "code",
   "execution_count": 38,
   "id": "9acd7d53",
   "metadata": {},
   "outputs": [
    {
     "name": "stdout",
     "output_type": "stream",
     "text": [
      "Wall time: 18 ms\n"
     ]
    }
   ],
   "source": [
    "%%time\n",
    "res = run_for(n)"
   ]
  },
  {
   "cell_type": "code",
   "execution_count": 39,
   "id": "75135f28",
   "metadata": {},
   "outputs": [],
   "source": [
    "from timeit import default_timer as timer\n",
    "\n",
    "def run_bench(runner, runs, n):\n",
    "    measurements = []\n",
    "    for i in range(runs):\n",
    "        start = timer()\n",
    "        res = runner(n)\n",
    "        end = timer()\n",
    "        measurements.append(end - start)\n",
    "    return measurements"
   ]
  },
  {
   "cell_type": "code",
   "execution_count": 54,
   "id": "3a1e790f",
   "metadata": {},
   "outputs": [],
   "source": [
    "#sns.histplot(data=run_bench(run_map, 200, n))\n",
    "map_times = run_bench(run_map, 500, n)\n",
    "compr_times = run_bench(run_comprehend, 500, n)\n",
    "for_times = run_bench(run_for, 500, n)"
   ]
  },
  {
   "cell_type": "code",
   "execution_count": 55,
   "id": "f7cdbdc0",
   "metadata": {},
   "outputs": [
    {
     "data": {
      "text/plain": [
       "<matplotlib.legend.Legend at 0x14a388c3cd0>"
      ]
     },
     "execution_count": 55,
     "metadata": {},
     "output_type": "execute_result"
    },
    {
     "data": {
      "image/png": "[encoded data removed]",
      "text/plain": [
       "<Figure size 432x288 with 1 Axes>"
      ]
     },
     "metadata": {
      "needs_background": "light"
     },
     "output_type": "display_data"
    }
   ],
   "source": [
    "fig, ax = plt.subplots()\n",
    "#sns.histplot(map_times, ax=ax)\n",
    "#sns.histplot(compr_times, ax=ax)\n",
    "#sns.histplot(for_times, ax=ax)\n",
    "plt.hist([map_times, compr_times, for_times], color=['r','b', 'g'], alpha=0.4, label=['map', 'comprehension', 'for'])\n",
    "plt.legend()"
   ]
  },
  {
   "cell_type": "code",
   "execution_count": null,
   "id": "5be99e8e",
   "metadata": {},
   "outputs": [],
   "source": []
  }
 ],
 "metadata": {
  "kernelspec": {
   "display_name": "Python 3 (ipykernel)",
   "language": "python",
   "name": "python3"
  },
  "language_info": {
   "codemirror_mode": {
    "name": "ipython",
    "version": 3
   },
   "file_extension": ".py",
   "mimetype": "text/x-python",
   "name": "python",
   "nbconvert_exporter": "python",
   "pygments_lexer": "ipython3",
   "version": "3.9.7"
  }
 },
 "nbformat": 4,
 "nbformat_minor": 5
}
